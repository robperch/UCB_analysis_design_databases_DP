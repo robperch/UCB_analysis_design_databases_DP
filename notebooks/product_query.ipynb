{
 "cells": [
  {
   "cell_type": "markdown",
   "metadata": {
    "deletable": false,
    "editable": false,
    "id": "d7Zacsiv-CKM"
   },
   "source": [
    "# Create a NoSQL Database using PyMongo & MongoDB Queries \n"
   ]
  },
  {
   "cell_type": "markdown",
   "metadata": {
    "deletable": false,
    "editable": false,
    "id": "1xYooaaJ-CKP"
   },
   "source": [
    "- MongoDB is a schema-free, document-oriented NoSQL database written in C++. \n",
    "\n",
    "- A record in MongoDB is a document, which is a data structure composed of field and value pairs. MongoDB documents are encoded in JSON objects (similar to Python dictionnaries), which allows a great flexibility and scaling potential. The values of fields may include other documents, arrays, and arrays of documents.\n",
    "\n",
    "- What about queries? MongoDB uses a RESTful API. To retrieve certain documents from a db collection, a query document is created containing the fields that the desired documents should match.\n",
    "\n",
    "\n",
    "In this lab, we will create and query a MongoDB database using a python connector, the PyMongo library. \n",
    "\n",
    "[[Link to MongoDB Official Documentation]](https://docs.mongodb.com/manual/introduction/) <br>\n",
    "[[Link to PyMongo Tutorial on W3School]](https://www.w3schools.com/python/python_mongodb_getstarted.asp) <br>\n",
    "\n",
    "---"
   ]
  },
  {
   "cell_type": "markdown",
   "metadata": {
    "deletable": false,
    "editable": false,
    "id": "6UgmggBM-CKP"
   },
   "source": [
    "## 1/ MongoDB python connector installer - PyMongo library"
   ]
  },
  {
   "cell_type": "code",
   "execution_count": 1,
   "metadata": {
    "id": "Z19kUy8E-CKQ",
    "outputId": "40934347-68a2-4b4b-da4b-2cfa7e15d54e"
   },
   "outputs": [
    {
     "name": "stdout",
     "output_type": "stream",
     "text": [
      "Collecting pymongo\n",
      "  Downloading pymongo-4.3.3-cp38-cp38-win_amd64.whl (382 kB)\n",
      "Collecting dnspython<3.0.0,>=1.16.0\n",
      "  Downloading dnspython-2.3.0-py3-none-any.whl (283 kB)\n",
      "Installing collected packages: dnspython, pymongo\n",
      "Successfully installed dnspython-2.3.0 pymongo-4.3.3\n"
     ]
    }
   ],
   "source": [
    "! pip install pymongo"
   ]
  },
  {
   "cell_type": "code",
   "execution_count": 97,
   "metadata": {
    "id": "uBttC4Mb-CKR"
   },
   "outputs": [],
   "source": [
    "import pymongo\n",
    "import pprint\n",
    "import json\n",
    "import warnings\n",
    "import pandas as pd \n",
    "warnings.filterwarnings('ignore')"
   ]
  },
  {
   "cell_type": "markdown",
   "metadata": {
    "deletable": false,
    "editable": false,
    "id": "-_bL6Be8-CKR"
   },
   "source": [
    "## 2/ Create MongoDB database"
   ]
  },
  {
   "cell_type": "code",
   "execution_count": 107,
   "metadata": {
    "id": "ECYU-WDM-CKS",
    "outputId": "c23ac558-8155-49fa-f5c8-c353e0a23c08"
   },
   "outputs": [],
   "source": [
    "df_products = pd.DataFrame(data = {\n",
    "    'ProductID': ['001', '002', '003', '004', '005', '006', '007', '008', '009', '010'],\n",
    "    'Category': ['Dresses', 'Jeans', 'Tops', 'Shorts', 'Shirts', 'Jackets', 'Sweatshirts', 'Sweaters', 'Footwear', 'Jackets'],\n",
    "    'StyleName': ['Floral Maxi Dress', 'Slim Fit Jeans', 'Crop Top', 'High-Waisted Shorts', 'Polo Shirt', 'Denim Jacket', 'Hoodie', 'Sweater Dress', 'Ankle Boots', 'Leather Jacket'],\n",
    "    'CollectionName': ['Rebecca Minkoff', 'Calvin Klein', 'Alexander Wang', 'Levi\\'s', 'Lacoste', 'Levi\\'s', 'Champion', 'Missoni', 'Stuart Weitzman', 'Schott NYC']\n",
    "})"
   ]
  },
  {
   "cell_type": "code",
   "execution_count": 108,
   "metadata": {
    "id": "LjZPErKS-CKS",
    "outputId": "e24068e9-3396-4785-fdab-7fa17b9f1e77"
   },
   "outputs": [
    {
     "data": {
      "text/plain": [
       "[{'ProductID': '001',\n",
       "  'Category': 'Dresses',\n",
       "  'StyleName': 'Floral Maxi Dress',\n",
       "  'CollectionName': 'Rebecca Minkoff'},\n",
       " {'ProductID': '002',\n",
       "  'Category': 'Jeans',\n",
       "  'StyleName': 'Slim Fit Jeans',\n",
       "  'CollectionName': 'Calvin Klein'},\n",
       " {'ProductID': '003',\n",
       "  'Category': 'Tops',\n",
       "  'StyleName': 'Crop Top',\n",
       "  'CollectionName': 'Alexander Wang'},\n",
       " {'ProductID': '004',\n",
       "  'Category': 'Shorts',\n",
       "  'StyleName': 'High-Waisted Shorts',\n",
       "  'CollectionName': \"Levi's\"},\n",
       " {'ProductID': '005',\n",
       "  'Category': 'Shirts',\n",
       "  'StyleName': 'Polo Shirt',\n",
       "  'CollectionName': 'Lacoste'},\n",
       " {'ProductID': '006',\n",
       "  'Category': 'Jackets',\n",
       "  'StyleName': 'Denim Jacket',\n",
       "  'CollectionName': \"Levi's\"},\n",
       " {'ProductID': '007',\n",
       "  'Category': 'Sweatshirts',\n",
       "  'StyleName': 'Hoodie',\n",
       "  'CollectionName': 'Champion'},\n",
       " {'ProductID': '008',\n",
       "  'Category': 'Sweaters',\n",
       "  'StyleName': 'Sweater Dress',\n",
       "  'CollectionName': 'Missoni'},\n",
       " {'ProductID': '009',\n",
       "  'Category': 'Footwear',\n",
       "  'StyleName': 'Ankle Boots',\n",
       "  'CollectionName': 'Stuart Weitzman'},\n",
       " {'ProductID': '010',\n",
       "  'Category': 'Jackets',\n",
       "  'StyleName': 'Leather Jacket',\n",
       "  'CollectionName': 'Schott NYC'}]"
      ]
     },
     "execution_count": 108,
     "metadata": {},
     "output_type": "execute_result"
    }
   ],
   "source": [
    "products_dict = df_products.to_dict('records')\n",
    "products_dict"
   ]
  },
  {
   "cell_type": "code",
   "execution_count": 109,
   "metadata": {
    "id": "LjZPErKS-CKS",
    "outputId": "e24068e9-3396-4785-fdab-7fa17b9f1e77"
   },
   "outputs": [
    {
     "data": {
      "text/plain": [
       "<pymongo.results.InsertManyResult at 0x19ab5bd9c70>"
      ]
     },
     "execution_count": 109,
     "metadata": {},
     "output_type": "execute_result"
    }
   ],
   "source": [
    "products = db[\"products\"]\n",
    "products.insert_many(products_dict)"
   ]
  },
  {
   "cell_type": "markdown",
   "metadata": {},
   "source": [
    "## 3/ MongoDB Queries"
   ]
  },
  {
   "cell_type": "markdown",
   "metadata": {},
   "source": [
    "#### QUERY 1: Find the Product from Levi's"
   ]
  },
  {
   "cell_type": "code",
   "execution_count": 112,
   "metadata": {
    "id": "LjZPErKS-CKS",
    "outputId": "e24068e9-3396-4785-fdab-7fa17b9f1e77"
   },
   "outputs": [
    {
     "data": {
      "text/html": [
       "<div>\n",
       "<style scoped>\n",
       "    .dataframe tbody tr th:only-of-type {\n",
       "        vertical-align: middle;\n",
       "    }\n",
       "\n",
       "    .dataframe tbody tr th {\n",
       "        vertical-align: top;\n",
       "    }\n",
       "\n",
       "    .dataframe thead th {\n",
       "        text-align: right;\n",
       "    }\n",
       "</style>\n",
       "<table border=\"1\" class=\"dataframe\">\n",
       "  <thead>\n",
       "    <tr style=\"text-align: right;\">\n",
       "      <th></th>\n",
       "      <th>_id</th>\n",
       "      <th>ProductID</th>\n",
       "      <th>Category</th>\n",
       "      <th>StyleName</th>\n",
       "      <th>CollectionName</th>\n",
       "    </tr>\n",
       "  </thead>\n",
       "  <tbody>\n",
       "    <tr>\n",
       "      <th>0</th>\n",
       "      <td>644dc36daec40f0bf6d11299</td>\n",
       "      <td>004</td>\n",
       "      <td>Shorts</td>\n",
       "      <td>High-Waisted Shorts</td>\n",
       "      <td>Levi's</td>\n",
       "    </tr>\n",
       "    <tr>\n",
       "      <th>1</th>\n",
       "      <td>644dc36daec40f0bf6d1129b</td>\n",
       "      <td>006</td>\n",
       "      <td>Jackets</td>\n",
       "      <td>Denim Jacket</td>\n",
       "      <td>Levi's</td>\n",
       "    </tr>\n",
       "  </tbody>\n",
       "</table>\n",
       "</div>"
      ],
      "text/plain": [
       "                        _id ProductID Category            StyleName  \\\n",
       "0  644dc36daec40f0bf6d11299       004   Shorts  High-Waisted Shorts   \n",
       "1  644dc36daec40f0bf6d1129b       006  Jackets         Denim Jacket   \n",
       "\n",
       "  CollectionName  \n",
       "0         Levi's  \n",
       "1         Levi's  "
      ]
     },
     "execution_count": 112,
     "metadata": {},
     "output_type": "execute_result"
    }
   ],
   "source": [
    "query_1 = db.products.find({'CollectionName' : 'Levi\\'s'} ,\n",
    "                            {'ProductID': 1, 'Category': 1, 'StyleName': 1,\"CollectionName\":1}\n",
    "                            )\n",
    " \n",
    "MongoDB_to_DataFrame(query_1) "
   ]
  },
  {
   "cell_type": "markdown",
   "metadata": {
    "deletable": false,
    "editable": false,
    "id": "FcwFaryT-CKY"
   },
   "source": [
    "## 3/ MongoDB Queries I"
   ]
  },
  {
   "cell_type": "code",
   "execution_count": 111,
   "metadata": {
    "id": "Az_sEKlq-CKY"
   },
   "outputs": [],
   "source": [
    "def MongoDB_to_DataFrame(query):\n",
    "    ls_results = []\n",
    "    for doc in query :\n",
    "        ls_results.append(doc)\n",
    "    return pd.DataFrame.from_dict(ls_results)"
   ]
  },
  {
   "cell_type": "markdown",
   "metadata": {
    "id": "_6bfviSz-CKY"
   },
   "source": [
    "#### QUERY 1:  `SELECT * FROM customers`\n",
    "\n",
    "---"
   ]
  },
  {
   "cell_type": "code",
   "execution_count": 27,
   "metadata": {
    "id": "y5FJUoal-CKY",
    "outputId": "8ad45919-a422-43c9-d007-0bf7eb8a6713"
   },
   "outputs": [
    {
     "data": {
      "text/html": [
       "<div>\n",
       "<style scoped>\n",
       "    .dataframe tbody tr th:only-of-type {\n",
       "        vertical-align: middle;\n",
       "    }\n",
       "\n",
       "    .dataframe tbody tr th {\n",
       "        vertical-align: top;\n",
       "    }\n",
       "\n",
       "    .dataframe thead th {\n",
       "        text-align: right;\n",
       "    }\n",
       "</style>\n",
       "<table border=\"1\" class=\"dataframe\">\n",
       "  <thead>\n",
       "    <tr style=\"text-align: right;\">\n",
       "      <th></th>\n",
       "      <th>_id</th>\n",
       "      <th>customer_id</th>\n",
       "      <th>first_name</th>\n",
       "      <th>last_name</th>\n",
       "      <th>email</th>\n",
       "      <th>phone</th>\n",
       "    </tr>\n",
       "  </thead>\n",
       "  <tbody>\n",
       "    <tr>\n",
       "      <th>0</th>\n",
       "      <td>644da279aec40f0bf6d1125d</td>\n",
       "      <td>10497</td>\n",
       "      <td>Nic</td>\n",
       "      <td>Raboy</td>\n",
       "      <td>nic@test.com</td>\n",
       "      <td>510-229-0612</td>\n",
       "    </tr>\n",
       "    <tr>\n",
       "      <th>1</th>\n",
       "      <td>644da279aec40f0bf6d1125e</td>\n",
       "      <td>23922</td>\n",
       "      <td>Matt</td>\n",
       "      <td>Groves</td>\n",
       "      <td>matt@test.com</td>\n",
       "      <td>NaN</td>\n",
       "    </tr>\n",
       "    <tr>\n",
       "      <th>2</th>\n",
       "      <td>644da279aec40f0bf6d1125f</td>\n",
       "      <td>33927</td>\n",
       "      <td>Arun</td>\n",
       "      <td>Gupta</td>\n",
       "      <td>arun@test.com</td>\n",
       "      <td>510-149-9782</td>\n",
       "    </tr>\n",
       "    <tr>\n",
       "      <th>3</th>\n",
       "      <td>644da279aec40f0bf6d11260</td>\n",
       "      <td>43736</td>\n",
       "      <td>Hod</td>\n",
       "      <td>Greeley</td>\n",
       "      <td>hod@test.com</td>\n",
       "      <td>510-718-3340</td>\n",
       "    </tr>\n",
       "  </tbody>\n",
       "</table>\n",
       "</div>"
      ],
      "text/plain": [
       "                        _id  customer_id first_name last_name          email  \\\n",
       "0  644da279aec40f0bf6d1125d        10497        Nic     Raboy   nic@test.com   \n",
       "1  644da279aec40f0bf6d1125e        23922       Matt    Groves  matt@test.com   \n",
       "2  644da279aec40f0bf6d1125f        33927       Arun     Gupta  arun@test.com   \n",
       "3  644da279aec40f0bf6d11260        43736        Hod   Greeley   hod@test.com   \n",
       "\n",
       "          phone  \n",
       "0  510-229-0612  \n",
       "1           NaN  \n",
       "2  510-149-9782  \n",
       "3  510-718-3340  "
      ]
     },
     "execution_count": 27,
     "metadata": {},
     "output_type": "execute_result"
    }
   ],
   "source": [
    "query_1 = db.customers.find()\n",
    "MongoDB_to_DataFrame(query_1)"
   ]
  },
  {
   "cell_type": "markdown",
   "metadata": {
    "id": "jZolmci2-CKY"
   },
   "source": [
    "#### QUERY 2: `SELECT _id, customer_id, first_name, last_name FROM customers`\n",
    "\n",
    "---"
   ]
  },
  {
   "cell_type": "code",
   "execution_count": 28,
   "metadata": {
    "id": "rh9OTaaO-CKY",
    "outputId": "429c118b-4e0d-4a78-d282-3fa85f5c7424"
   },
   "outputs": [
    {
     "data": {
      "text/html": [
       "<div>\n",
       "<style scoped>\n",
       "    .dataframe tbody tr th:only-of-type {\n",
       "        vertical-align: middle;\n",
       "    }\n",
       "\n",
       "    .dataframe tbody tr th {\n",
       "        vertical-align: top;\n",
       "    }\n",
       "\n",
       "    .dataframe thead th {\n",
       "        text-align: right;\n",
       "    }\n",
       "</style>\n",
       "<table border=\"1\" class=\"dataframe\">\n",
       "  <thead>\n",
       "    <tr style=\"text-align: right;\">\n",
       "      <th></th>\n",
       "      <th>_id</th>\n",
       "      <th>customer_id</th>\n",
       "      <th>first_name</th>\n",
       "      <th>last_name</th>\n",
       "    </tr>\n",
       "  </thead>\n",
       "  <tbody>\n",
       "    <tr>\n",
       "      <th>0</th>\n",
       "      <td>644da279aec40f0bf6d1125d</td>\n",
       "      <td>10497</td>\n",
       "      <td>Nic</td>\n",
       "      <td>Raboy</td>\n",
       "    </tr>\n",
       "    <tr>\n",
       "      <th>1</th>\n",
       "      <td>644da279aec40f0bf6d1125e</td>\n",
       "      <td>23922</td>\n",
       "      <td>Matt</td>\n",
       "      <td>Groves</td>\n",
       "    </tr>\n",
       "    <tr>\n",
       "      <th>2</th>\n",
       "      <td>644da279aec40f0bf6d1125f</td>\n",
       "      <td>33927</td>\n",
       "      <td>Arun</td>\n",
       "      <td>Gupta</td>\n",
       "    </tr>\n",
       "    <tr>\n",
       "      <th>3</th>\n",
       "      <td>644da279aec40f0bf6d11260</td>\n",
       "      <td>43736</td>\n",
       "      <td>Hod</td>\n",
       "      <td>Greeley</td>\n",
       "    </tr>\n",
       "  </tbody>\n",
       "</table>\n",
       "</div>"
      ],
      "text/plain": [
       "                        _id  customer_id first_name last_name\n",
       "0  644da279aec40f0bf6d1125d        10497        Nic     Raboy\n",
       "1  644da279aec40f0bf6d1125e        23922       Matt    Groves\n",
       "2  644da279aec40f0bf6d1125f        33927       Arun     Gupta\n",
       "3  644da279aec40f0bf6d11260        43736        Hod   Greeley"
      ]
     },
     "execution_count": 28,
     "metadata": {},
     "output_type": "execute_result"
    }
   ],
   "source": [
    "query_2 = db.customers.find({},\n",
    "                            {'customer_id': 1, 'first_name': 1, 'last_name': 1}\n",
    "                           )\n",
    "MongoDB_to_DataFrame(query_2)"
   ]
  },
  {
   "cell_type": "markdown",
   "metadata": {
    "id": "wWMtWWR5-CKY"
   },
   "source": [
    "#### QUERY 2b:  `SELECT customer_id, first_name, last_name FROM customers`\n",
    "\n",
    "---"
   ]
  },
  {
   "cell_type": "code",
   "execution_count": 80,
   "metadata": {
    "id": "iv_qKlbV-CKY",
    "outputId": "a45e393e-825d-47cb-ba03-7c52ee5458b9"
   },
   "outputs": [
    {
     "data": {
      "text/html": [
       "<div>\n",
       "<style scoped>\n",
       "    .dataframe tbody tr th:only-of-type {\n",
       "        vertical-align: middle;\n",
       "    }\n",
       "\n",
       "    .dataframe tbody tr th {\n",
       "        vertical-align: top;\n",
       "    }\n",
       "\n",
       "    .dataframe thead th {\n",
       "        text-align: right;\n",
       "    }\n",
       "</style>\n",
       "<table border=\"1\" class=\"dataframe\">\n",
       "  <thead>\n",
       "    <tr style=\"text-align: right;\">\n",
       "      <th></th>\n",
       "      <th>customer_id</th>\n",
       "      <th>first_name</th>\n",
       "      <th>last_name</th>\n",
       "    </tr>\n",
       "  </thead>\n",
       "  <tbody>\n",
       "    <tr>\n",
       "      <th>0</th>\n",
       "      <td>10497</td>\n",
       "      <td>Nic</td>\n",
       "      <td>Raboy</td>\n",
       "    </tr>\n",
       "    <tr>\n",
       "      <th>1</th>\n",
       "      <td>23922</td>\n",
       "      <td>Matt</td>\n",
       "      <td>Groves</td>\n",
       "    </tr>\n",
       "    <tr>\n",
       "      <th>2</th>\n",
       "      <td>33927</td>\n",
       "      <td>Arun</td>\n",
       "      <td>Gupta</td>\n",
       "    </tr>\n",
       "    <tr>\n",
       "      <th>3</th>\n",
       "      <td>43736</td>\n",
       "      <td>Hod</td>\n",
       "      <td>Greeley</td>\n",
       "    </tr>\n",
       "  </tbody>\n",
       "</table>\n",
       "</div>"
      ],
      "text/plain": [
       "   customer_id first_name last_name\n",
       "0        10497        Nic     Raboy\n",
       "1        23922       Matt    Groves\n",
       "2        33927       Arun     Gupta\n",
       "3        43736        Hod   Greeley"
      ]
     },
     "execution_count": 80,
     "metadata": {},
     "output_type": "execute_result"
    }
   ],
   "source": [
    "query_2b = db.customers.find({},\n",
    "                            {'customer_id': 1, 'first_name': 1, 'last_name': 1, \"_id\" : 0}\n",
    "                            ) \n",
    "MongoDB_to_DataFrame(query_2b) "
   ]
  },
  {
   "cell_type": "markdown",
   "metadata": {
    "id": "kI3JIVJM-CKZ"
   },
   "source": [
    "#### Exercise n°1:  `SELECT game_name, price FROM games`\n",
    "\n",
    "---"
   ]
  },
  {
   "cell_type": "code",
   "execution_count": 81,
   "metadata": {
    "id": "m88BRsKV-CKZ",
    "outputId": "3aa9014e-d80e-49ea-e38e-8c9515ef4d57"
   },
   "outputs": [
    {
     "data": {
      "text/html": [
       "<div>\n",
       "<style scoped>\n",
       "    .dataframe tbody tr th:only-of-type {\n",
       "        vertical-align: middle;\n",
       "    }\n",
       "\n",
       "    .dataframe tbody tr th {\n",
       "        vertical-align: top;\n",
       "    }\n",
       "\n",
       "    .dataframe thead th {\n",
       "        text-align: right;\n",
       "    }\n",
       "</style>\n",
       "<table border=\"1\" class=\"dataframe\">\n",
       "  <thead>\n",
       "    <tr style=\"text-align: right;\">\n",
       "      <th></th>\n",
       "      <th>game_name</th>\n",
       "      <th>price</th>\n",
       "    </tr>\n",
       "  </thead>\n",
       "  <tbody>\n",
       "    <tr>\n",
       "      <th>0</th>\n",
       "      <td>Pokemon Red</td>\n",
       "      <td>29.99</td>\n",
       "    </tr>\n",
       "    <tr>\n",
       "      <th>1</th>\n",
       "      <td>Dake Soul Red III</td>\n",
       "      <td>59.99</td>\n",
       "    </tr>\n",
       "    <tr>\n",
       "      <th>2</th>\n",
       "      <td>RayMan 4</td>\n",
       "      <td>59.99</td>\n",
       "    </tr>\n",
       "    <tr>\n",
       "      <th>3</th>\n",
       "      <td>Super Smash Bros</td>\n",
       "      <td>49.99</td>\n",
       "    </tr>\n",
       "  </tbody>\n",
       "</table>\n",
       "</div>"
      ],
      "text/plain": [
       "           game_name  price\n",
       "0        Pokemon Red  29.99\n",
       "1  Dake Soul Red III  59.99\n",
       "2           RayMan 4  59.99\n",
       "3   Super Smash Bros  49.99"
      ]
     },
     "execution_count": 81,
     "metadata": {},
     "output_type": "execute_result"
    }
   ],
   "source": [
    "exercise_1 = db.games.find({}, {'game_name':1, 'price':1, \"_id\":0} )  \n",
    "MongoDB_to_DataFrame(exercise_1) "
   ]
  },
  {
   "cell_type": "markdown",
   "metadata": {
    "id": "GvhJD4X2-CKZ"
   },
   "source": [
    "####  QUERY 3:  `SELECT * FROM customers WHERE  phone = 510-229-0612`\n",
    "\n",
    "---"
   ]
  },
  {
   "cell_type": "code",
   "execution_count": 82,
   "metadata": {
    "id": "p5oZUkUI-CKZ",
    "outputId": "96800c51-3ecc-4285-ed56-00af7880a938"
   },
   "outputs": [
    {
     "data": {
      "text/html": [
       "<div>\n",
       "<style scoped>\n",
       "    .dataframe tbody tr th:only-of-type {\n",
       "        vertical-align: middle;\n",
       "    }\n",
       "\n",
       "    .dataframe tbody tr th {\n",
       "        vertical-align: top;\n",
       "    }\n",
       "\n",
       "    .dataframe thead th {\n",
       "        text-align: right;\n",
       "    }\n",
       "</style>\n",
       "<table border=\"1\" class=\"dataframe\">\n",
       "  <thead>\n",
       "    <tr style=\"text-align: right;\">\n",
       "      <th></th>\n",
       "      <th>_id</th>\n",
       "      <th>customer_id</th>\n",
       "      <th>first_name</th>\n",
       "      <th>last_name</th>\n",
       "      <th>email</th>\n",
       "      <th>phone</th>\n",
       "    </tr>\n",
       "  </thead>\n",
       "  <tbody>\n",
       "    <tr>\n",
       "      <th>0</th>\n",
       "      <td>6441b6c8722d9fe9367d34cf</td>\n",
       "      <td>10497</td>\n",
       "      <td>Nic</td>\n",
       "      <td>Raboy</td>\n",
       "      <td>nic@test.com</td>\n",
       "      <td>510-229-0612</td>\n",
       "    </tr>\n",
       "  </tbody>\n",
       "</table>\n",
       "</div>"
      ],
      "text/plain": [
       "                        _id  customer_id first_name last_name         email  \\\n",
       "0  6441b6c8722d9fe9367d34cf        10497        Nic     Raboy  nic@test.com   \n",
       "\n",
       "          phone  \n",
       "0  510-229-0612  "
      ]
     },
     "execution_count": 82,
     "metadata": {},
     "output_type": "execute_result"
    }
   ],
   "source": [
    "query_3 = db.customers.find({\"phone\": \"510-229-0612\"})\n",
    "MongoDB_to_DataFrame(query_3)"
   ]
  },
  {
   "cell_type": "markdown",
   "metadata": {
    "id": "UJ2mPNb5-CKZ"
   },
   "source": [
    "####  QUERY 4:  `SELECT customer_id, email, phone FROM customers WHERE phone = 510-229-0612`\n",
    "\n",
    "---"
   ]
  },
  {
   "cell_type": "code",
   "execution_count": 83,
   "metadata": {
    "id": "cR-QPyxq-CKZ",
    "outputId": "b621aa25-14f3-4c49-cad0-e76444079738"
   },
   "outputs": [
    {
     "data": {
      "text/html": [
       "<div>\n",
       "<style scoped>\n",
       "    .dataframe tbody tr th:only-of-type {\n",
       "        vertical-align: middle;\n",
       "    }\n",
       "\n",
       "    .dataframe tbody tr th {\n",
       "        vertical-align: top;\n",
       "    }\n",
       "\n",
       "    .dataframe thead th {\n",
       "        text-align: right;\n",
       "    }\n",
       "</style>\n",
       "<table border=\"1\" class=\"dataframe\">\n",
       "  <thead>\n",
       "    <tr style=\"text-align: right;\">\n",
       "      <th></th>\n",
       "      <th>customer_id</th>\n",
       "      <th>email</th>\n",
       "      <th>phone</th>\n",
       "    </tr>\n",
       "  </thead>\n",
       "  <tbody>\n",
       "    <tr>\n",
       "      <th>0</th>\n",
       "      <td>10497</td>\n",
       "      <td>nic@test.com</td>\n",
       "      <td>510-229-0612</td>\n",
       "    </tr>\n",
       "  </tbody>\n",
       "</table>\n",
       "</div>"
      ],
      "text/plain": [
       "   customer_id         email         phone\n",
       "0        10497  nic@test.com  510-229-0612"
      ]
     },
     "execution_count": 83,
     "metadata": {},
     "output_type": "execute_result"
    }
   ],
   "source": [
    "query_4 = db.customers.find({\"phone\": \"510-229-0612\"},\n",
    "                            {'customer_id': 1, 'email': 1, 'phone': 1, \"_id\" : 0}\n",
    "                           ) \n",
    "MongoDB_to_DataFrame(query_4)"
   ]
  },
  {
   "cell_type": "markdown",
   "metadata": {
    "id": "c9HB1N1T-CKZ"
   },
   "source": [
    "####  QUERY 4b:  `SELECT customer_id, email, phone FROM customers WHERE phone != 510-229-0612`\n",
    "\n",
    "---"
   ]
  },
  {
   "cell_type": "code",
   "execution_count": 84,
   "metadata": {
    "id": "tx4zc88_-CKZ",
    "outputId": "349860ff-5e14-41b2-c1dc-a32e510947d4"
   },
   "outputs": [
    {
     "data": {
      "text/html": [
       "<div>\n",
       "<style scoped>\n",
       "    .dataframe tbody tr th:only-of-type {\n",
       "        vertical-align: middle;\n",
       "    }\n",
       "\n",
       "    .dataframe tbody tr th {\n",
       "        vertical-align: top;\n",
       "    }\n",
       "\n",
       "    .dataframe thead th {\n",
       "        text-align: right;\n",
       "    }\n",
       "</style>\n",
       "<table border=\"1\" class=\"dataframe\">\n",
       "  <thead>\n",
       "    <tr style=\"text-align: right;\">\n",
       "      <th></th>\n",
       "      <th>customer_id</th>\n",
       "      <th>email</th>\n",
       "      <th>phone</th>\n",
       "    </tr>\n",
       "  </thead>\n",
       "  <tbody>\n",
       "    <tr>\n",
       "      <th>0</th>\n",
       "      <td>23922</td>\n",
       "      <td>matt@test.com</td>\n",
       "      <td>NaN</td>\n",
       "    </tr>\n",
       "    <tr>\n",
       "      <th>1</th>\n",
       "      <td>33927</td>\n",
       "      <td>arun@test.com</td>\n",
       "      <td>510-149-9782</td>\n",
       "    </tr>\n",
       "    <tr>\n",
       "      <th>2</th>\n",
       "      <td>43736</td>\n",
       "      <td>hod@test.com</td>\n",
       "      <td>510-718-3340</td>\n",
       "    </tr>\n",
       "  </tbody>\n",
       "</table>\n",
       "</div>"
      ],
      "text/plain": [
       "   customer_id          email         phone\n",
       "0        23922  matt@test.com           NaN\n",
       "1        33927  arun@test.com  510-149-9782\n",
       "2        43736   hod@test.com  510-718-3340"
      ]
     },
     "execution_count": 84,
     "metadata": {},
     "output_type": "execute_result"
    }
   ],
   "source": [
    "query_4b = db.customers.find({\"phone\": {'$ne': \"510-229-0612\"}},\n",
    "                            {'customer_id': 1, 'email': 1, 'phone': 1, \"_id\" : 0}\n",
    "                           )\n",
    "MongoDB_to_DataFrame(query_4b) "
   ]
  },
  {
   "cell_type": "markdown",
   "metadata": {
    "id": "G-l6ioIt-CKZ"
   },
   "source": [
    "####  QUERY 4c:  `SELECT customer_id, email, phone FROM customers WHERE phone != 510-229-0612 AND phone IS NOT NULL`\n",
    "\n",
    "---"
   ]
  },
  {
   "cell_type": "code",
   "execution_count": null,
   "metadata": {
    "id": "jLE4ihLE-CKZ",
    "outputId": "e6a5e27d-4018-4aee-af03-d1fd0d4f7351"
   },
   "outputs": [
    {
     "data": {
      "text/html": [
       "<div>\n",
       "<style scoped>\n",
       "    .dataframe tbody tr th:only-of-type {\n",
       "        vertical-align: middle;\n",
       "    }\n",
       "\n",
       "    .dataframe tbody tr th {\n",
       "        vertical-align: top;\n",
       "    }\n",
       "\n",
       "    .dataframe thead th {\n",
       "        text-align: right;\n",
       "    }\n",
       "</style>\n",
       "<table border=\"1\" class=\"dataframe\">\n",
       "  <thead>\n",
       "    <tr style=\"text-align: right;\">\n",
       "      <th></th>\n",
       "      <th>customer_id</th>\n",
       "      <th>email</th>\n",
       "      <th>phone</th>\n",
       "    </tr>\n",
       "  </thead>\n",
       "  <tbody>\n",
       "    <tr>\n",
       "      <th>0</th>\n",
       "      <td>33927</td>\n",
       "      <td>arun@test.com</td>\n",
       "      <td>510-149-9782</td>\n",
       "    </tr>\n",
       "    <tr>\n",
       "      <th>1</th>\n",
       "      <td>43736</td>\n",
       "      <td>hod@test.com</td>\n",
       "      <td>510-718-3340</td>\n",
       "    </tr>\n",
       "  </tbody>\n",
       "</table>\n",
       "</div>"
      ],
      "text/plain": [
       "   customer_id          email         phone\n",
       "0        33927  arun@test.com  510-149-9782\n",
       "1        43736   hod@test.com  510-718-3340"
      ]
     },
     "execution_count": 58,
     "metadata": {},
     "output_type": "execute_result"
    }
   ],
   "source": [
    "query_4c = db.customers.find({\"phone\": {'$ne': \"510-229-0612\",'$exists': True}},\n",
    "                             {'customer_id': 1, 'email': 1, 'phone': 1, \"_id\" : 0}\n",
    "                            )\n",
    "MongoDB_to_DataFrame(query_4c) "
   ]
  },
  {
   "cell_type": "markdown",
   "metadata": {
    "id": "P44ihNtD-CKZ"
   },
   "source": [
    "####  Exercise n°2:  `SELECT order_id, customer_id, game_id FROM orders WHERE person_id = 10497 AND game_id = 12`\n",
    "\n",
    "---"
   ]
  },
  {
   "cell_type": "code",
   "execution_count": 85,
   "metadata": {
    "id": "ZdRqMft6-CKZ",
    "outputId": "824c5bb7-31eb-4cc8-c367-55780750b57f"
   },
   "outputs": [
    {
     "data": {
      "text/html": [
       "<div>\n",
       "<style scoped>\n",
       "    .dataframe tbody tr th:only-of-type {\n",
       "        vertical-align: middle;\n",
       "    }\n",
       "\n",
       "    .dataframe tbody tr th {\n",
       "        vertical-align: top;\n",
       "    }\n",
       "\n",
       "    .dataframe thead th {\n",
       "        text-align: right;\n",
       "    }\n",
       "</style>\n",
       "<table border=\"1\" class=\"dataframe\">\n",
       "  <thead>\n",
       "    <tr style=\"text-align: right;\">\n",
       "      <th></th>\n",
       "      <th>order_number</th>\n",
       "      <th>customer_id</th>\n",
       "      <th>game_id</th>\n",
       "    </tr>\n",
       "  </thead>\n",
       "  <tbody>\n",
       "    <tr>\n",
       "      <th>0</th>\n",
       "      <td>1234</td>\n",
       "      <td>10497</td>\n",
       "      <td>12</td>\n",
       "    </tr>\n",
       "  </tbody>\n",
       "</table>\n",
       "</div>"
      ],
      "text/plain": [
       "   order_number  customer_id  game_id\n",
       "0          1234        10497       12"
      ]
     },
     "execution_count": 85,
     "metadata": {},
     "output_type": "execute_result"
    }
   ],
   "source": [
    "exercise_2 = db.orders.find({'game_id' : 12, 'customer_id' : 10497},\n",
    "                           {'order_number':1, 'customer_id' :1, 'game_id':1,  \"_id\" : 0}\n",
    "                          )\n",
    "MongoDB_to_DataFrame(exercise_2) "
   ]
  },
  {
   "cell_type": "markdown",
   "metadata": {
    "id": "LywOmF_N-CKZ"
   },
   "source": [
    "####  Query 5:  `SELECT order_id, customer_id, game_id FROM orders WHERE person_id = 10497 OR game_id = 12`\n",
    "\n",
    "---"
   ]
  },
  {
   "cell_type": "code",
   "execution_count": 86,
   "metadata": {
    "id": "U-LPEOos-CKa",
    "outputId": "3f4de611-8908-4c75-8ff7-fb9d54bd4a30"
   },
   "outputs": [
    {
     "data": {
      "text/html": [
       "<div>\n",
       "<style scoped>\n",
       "    .dataframe tbody tr th:only-of-type {\n",
       "        vertical-align: middle;\n",
       "    }\n",
       "\n",
       "    .dataframe tbody tr th {\n",
       "        vertical-align: top;\n",
       "    }\n",
       "\n",
       "    .dataframe thead th {\n",
       "        text-align: right;\n",
       "    }\n",
       "</style>\n",
       "<table border=\"1\" class=\"dataframe\">\n",
       "  <thead>\n",
       "    <tr style=\"text-align: right;\">\n",
       "      <th></th>\n",
       "      <th>order_number</th>\n",
       "      <th>customer_id</th>\n",
       "      <th>game_id</th>\n",
       "    </tr>\n",
       "  </thead>\n",
       "  <tbody>\n",
       "    <tr>\n",
       "      <th>0</th>\n",
       "      <td>1234</td>\n",
       "      <td>10497</td>\n",
       "      <td>11</td>\n",
       "    </tr>\n",
       "    <tr>\n",
       "      <th>1</th>\n",
       "      <td>1234</td>\n",
       "      <td>10497</td>\n",
       "      <td>12</td>\n",
       "    </tr>\n",
       "  </tbody>\n",
       "</table>\n",
       "</div>"
      ],
      "text/plain": [
       "   order_number  customer_id  game_id\n",
       "0          1234        10497       11\n",
       "1          1234        10497       12"
      ]
     },
     "execution_count": 86,
     "metadata": {},
     "output_type": "execute_result"
    }
   ],
   "source": [
    "query_5 = db.orders.find({'$or': [{'game_id' : 12},{'customer_id' : 10497}] },\n",
    "                            {'order_number': 1, 'customer_id': 1, 'game_id': 1, \"_id\" : 0}\n",
    "                            )\n",
    "MongoDB_to_DataFrame(query_5) "
   ]
  },
  {
   "cell_type": "markdown",
   "metadata": {
    "id": "wlwxNO_N-CKa"
   },
   "source": [
    "####  Query 6:  `SELECT game_name, price FROM games WHERE price > 40`\n",
    "\n",
    "---"
   ]
  },
  {
   "cell_type": "code",
   "execution_count": 87,
   "metadata": {
    "id": "oR2qDVmT-CKa",
    "outputId": "afe2f4e9-4e69-4719-abf1-f04429d740fa"
   },
   "outputs": [
    {
     "data": {
      "text/html": [
       "<div>\n",
       "<style scoped>\n",
       "    .dataframe tbody tr th:only-of-type {\n",
       "        vertical-align: middle;\n",
       "    }\n",
       "\n",
       "    .dataframe tbody tr th {\n",
       "        vertical-align: top;\n",
       "    }\n",
       "\n",
       "    .dataframe thead th {\n",
       "        text-align: right;\n",
       "    }\n",
       "</style>\n",
       "<table border=\"1\" class=\"dataframe\">\n",
       "  <thead>\n",
       "    <tr style=\"text-align: right;\">\n",
       "      <th></th>\n",
       "      <th>game_id</th>\n",
       "      <th>game_name</th>\n",
       "      <th>price</th>\n",
       "    </tr>\n",
       "  </thead>\n",
       "  <tbody>\n",
       "    <tr>\n",
       "      <th>0</th>\n",
       "      <td>11</td>\n",
       "      <td>Pokemon Red</td>\n",
       "      <td>29.99</td>\n",
       "    </tr>\n",
       "    <tr>\n",
       "      <th>1</th>\n",
       "      <td>12</td>\n",
       "      <td>Dake Soul Red III</td>\n",
       "      <td>59.99</td>\n",
       "    </tr>\n",
       "    <tr>\n",
       "      <th>2</th>\n",
       "      <td>13</td>\n",
       "      <td>RayMan 4</td>\n",
       "      <td>59.99</td>\n",
       "    </tr>\n",
       "    <tr>\n",
       "      <th>3</th>\n",
       "      <td>14</td>\n",
       "      <td>Super Smash Bros</td>\n",
       "      <td>49.99</td>\n",
       "    </tr>\n",
       "  </tbody>\n",
       "</table>\n",
       "</div>"
      ],
      "text/plain": [
       "   game_id          game_name  price\n",
       "0       11        Pokemon Red  29.99\n",
       "1       12  Dake Soul Red III  59.99\n",
       "2       13           RayMan 4  59.99\n",
       "3       14   Super Smash Bros  49.99"
      ]
     },
     "execution_count": 87,
     "metadata": {},
     "output_type": "execute_result"
    }
   ],
   "source": [
    "df_games"
   ]
  },
  {
   "cell_type": "code",
   "execution_count": 88,
   "metadata": {
    "id": "Y9kl-3Tu-CKa",
    "outputId": "248c1dbf-e1ec-4834-ac27-eedfa45b74e1"
   },
   "outputs": [
    {
     "data": {
      "text/html": [
       "<div>\n",
       "<style scoped>\n",
       "    .dataframe tbody tr th:only-of-type {\n",
       "        vertical-align: middle;\n",
       "    }\n",
       "\n",
       "    .dataframe tbody tr th {\n",
       "        vertical-align: top;\n",
       "    }\n",
       "\n",
       "    .dataframe thead th {\n",
       "        text-align: right;\n",
       "    }\n",
       "</style>\n",
       "<table border=\"1\" class=\"dataframe\">\n",
       "  <thead>\n",
       "    <tr style=\"text-align: right;\">\n",
       "      <th></th>\n",
       "      <th>game_name</th>\n",
       "      <th>price</th>\n",
       "    </tr>\n",
       "  </thead>\n",
       "  <tbody>\n",
       "    <tr>\n",
       "      <th>0</th>\n",
       "      <td>Dake Soul Red III</td>\n",
       "      <td>59.99</td>\n",
       "    </tr>\n",
       "    <tr>\n",
       "      <th>1</th>\n",
       "      <td>RayMan 4</td>\n",
       "      <td>59.99</td>\n",
       "    </tr>\n",
       "    <tr>\n",
       "      <th>2</th>\n",
       "      <td>Super Smash Bros</td>\n",
       "      <td>49.99</td>\n",
       "    </tr>\n",
       "  </tbody>\n",
       "</table>\n",
       "</div>"
      ],
      "text/plain": [
       "           game_name  price\n",
       "0  Dake Soul Red III  59.99\n",
       "1           RayMan 4  59.99\n",
       "2   Super Smash Bros  49.99"
      ]
     },
     "execution_count": 88,
     "metadata": {},
     "output_type": "execute_result"
    }
   ],
   "source": [
    "query_6 = db.games.find({'price' : {'$gt' : 40}},\n",
    "                        {'game_name': 1, 'price': 1, \"_id\" : 0}\n",
    "                       )\n",
    "MongoDB_to_DataFrame(query_6) "
   ]
  },
  {
   "cell_type": "markdown",
   "metadata": {
    "deletable": false,
    "editable": false,
    "id": "lNwYCTK3-CKa"
   },
   "source": [
    "### MongoDB Comparison Operators\n",
    "\n",
    "- \\$eq : Matches values that are equal to a specified value.\n",
    "- \\$gt : Matches values that are greater than a specified value.\n",
    "- \\$gte : Matches values that are greater than or equal to a specified value.\n",
    "- \\$in : Matches any of the values specified in an array.\n",
    "- \\$lt : Matches values that are less than a specified value.\n",
    "- \\$lte : Matches values that are less than or equal to a specified value.\n",
    "- \\$ne : Matches all values that are not equal to a specified value.\n",
    "- \\$nin : Matches none of the values specified in an array.\n",
    "\n",
    "@MongoDB Official Documentation : https://docs.mongodb.com/manual/reference/operator/query-comparison/"
   ]
  },
  {
   "cell_type": "markdown",
   "metadata": {
    "id": "8IQ8Mh58-CKa"
   },
   "source": [
    "####  Query 7:  `SELECT game_name, price FROM games WHERE price < 50 AND price > 40`\n",
    "\n",
    "---"
   ]
  },
  {
   "cell_type": "code",
   "execution_count": 89,
   "metadata": {
    "id": "rvB3lR32-CKa",
    "outputId": "eaac698c-2327-4c7b-c89e-c89990f27c25"
   },
   "outputs": [
    {
     "data": {
      "text/html": [
       "<div>\n",
       "<style scoped>\n",
       "    .dataframe tbody tr th:only-of-type {\n",
       "        vertical-align: middle;\n",
       "    }\n",
       "\n",
       "    .dataframe tbody tr th {\n",
       "        vertical-align: top;\n",
       "    }\n",
       "\n",
       "    .dataframe thead th {\n",
       "        text-align: right;\n",
       "    }\n",
       "</style>\n",
       "<table border=\"1\" class=\"dataframe\">\n",
       "  <thead>\n",
       "    <tr style=\"text-align: right;\">\n",
       "      <th></th>\n",
       "      <th>game_name</th>\n",
       "      <th>price</th>\n",
       "    </tr>\n",
       "  </thead>\n",
       "  <tbody>\n",
       "    <tr>\n",
       "      <th>0</th>\n",
       "      <td>Super Smash Bros</td>\n",
       "      <td>49.99</td>\n",
       "    </tr>\n",
       "  </tbody>\n",
       "</table>\n",
       "</div>"
      ],
      "text/plain": [
       "          game_name  price\n",
       "0  Super Smash Bros  49.99"
      ]
     },
     "execution_count": 89,
     "metadata": {},
     "output_type": "execute_result"
    }
   ],
   "source": [
    "query_7 = db.games.find({'price' : {'$gt' : 40, '$lt' : 50}},\n",
    "                        {'game_name': 1, 'price': 1, \"_id\" : 0}\n",
    "                       ) \n",
    "MongoDB_to_DataFrame(query_7) "
   ]
  },
  {
   "cell_type": "markdown",
   "metadata": {
    "id": "KzKlmDDV-CKa"
   },
   "source": [
    "####  Query 8: `SELECT customer_id, last_name FROM customers ORDER BY last_name ASC`\n",
    "\n",
    "---"
   ]
  },
  {
   "cell_type": "code",
   "execution_count": 90,
   "metadata": {
    "id": "VAVYlfBI-CKa",
    "outputId": "5d941b54-4c61-48f5-ca09-48efd04b40ef"
   },
   "outputs": [
    {
     "data": {
      "text/html": [
       "<div>\n",
       "<style scoped>\n",
       "    .dataframe tbody tr th:only-of-type {\n",
       "        vertical-align: middle;\n",
       "    }\n",
       "\n",
       "    .dataframe tbody tr th {\n",
       "        vertical-align: top;\n",
       "    }\n",
       "\n",
       "    .dataframe thead th {\n",
       "        text-align: right;\n",
       "    }\n",
       "</style>\n",
       "<table border=\"1\" class=\"dataframe\">\n",
       "  <thead>\n",
       "    <tr style=\"text-align: right;\">\n",
       "      <th></th>\n",
       "      <th>_id</th>\n",
       "      <th>customer_id</th>\n",
       "      <th>first_name</th>\n",
       "      <th>last_name</th>\n",
       "      <th>email</th>\n",
       "      <th>phone</th>\n",
       "    </tr>\n",
       "  </thead>\n",
       "  <tbody>\n",
       "    <tr>\n",
       "      <th>0</th>\n",
       "      <td>6441b6c8722d9fe9367d34d2</td>\n",
       "      <td>43736</td>\n",
       "      <td>Hod</td>\n",
       "      <td>Greeley</td>\n",
       "      <td>hod@test.com</td>\n",
       "      <td>510-718-3340</td>\n",
       "    </tr>\n",
       "    <tr>\n",
       "      <th>1</th>\n",
       "      <td>6441b6c8722d9fe9367d34d0</td>\n",
       "      <td>23922</td>\n",
       "      <td>Matt</td>\n",
       "      <td>Groves</td>\n",
       "      <td>matt@test.com</td>\n",
       "      <td>NaN</td>\n",
       "    </tr>\n",
       "    <tr>\n",
       "      <th>2</th>\n",
       "      <td>6441b6c8722d9fe9367d34d1</td>\n",
       "      <td>33927</td>\n",
       "      <td>Arun</td>\n",
       "      <td>Gupta</td>\n",
       "      <td>arun@test.com</td>\n",
       "      <td>510-149-9782</td>\n",
       "    </tr>\n",
       "    <tr>\n",
       "      <th>3</th>\n",
       "      <td>6441b6c8722d9fe9367d34cf</td>\n",
       "      <td>10497</td>\n",
       "      <td>Nic</td>\n",
       "      <td>Raboy</td>\n",
       "      <td>nic@test.com</td>\n",
       "      <td>510-229-0612</td>\n",
       "    </tr>\n",
       "  </tbody>\n",
       "</table>\n",
       "</div>"
      ],
      "text/plain": [
       "                        _id  customer_id first_name last_name          email  \\\n",
       "0  6441b6c8722d9fe9367d34d2        43736        Hod   Greeley   hod@test.com   \n",
       "1  6441b6c8722d9fe9367d34d0        23922       Matt    Groves  matt@test.com   \n",
       "2  6441b6c8722d9fe9367d34d1        33927       Arun     Gupta  arun@test.com   \n",
       "3  6441b6c8722d9fe9367d34cf        10497        Nic     Raboy   nic@test.com   \n",
       "\n",
       "          phone  \n",
       "0  510-718-3340  \n",
       "1           NaN  \n",
       "2  510-149-9782  \n",
       "3  510-229-0612  "
      ]
     },
     "execution_count": 90,
     "metadata": {},
     "output_type": "execute_result"
    }
   ],
   "source": [
    "query_8 = db.customers.find().sort([('last_name',1)])  # Heads-up: MongoDB documentation deprecated on .sort() method!\n",
    "MongoDB_to_DataFrame(query_8) "
   ]
  },
  {
   "cell_type": "markdown",
   "metadata": {
    "id": "MKEW3jBj-CKa"
   },
   "source": [
    "####  Query 9: `SELECT COUNT(phone) FROM customers`\n",
    "\n",
    "---"
   ]
  },
  {
   "cell_type": "code",
   "execution_count": 91,
   "metadata": {
    "id": "-KsV4_nn-CKa",
    "outputId": "9f81b2db-434d-4eea-bee8-8a9627f07682"
   },
   "outputs": [
    {
     "data": {
      "text/plain": [
       "3"
      ]
     },
     "execution_count": 91,
     "metadata": {},
     "output_type": "execute_result"
    }
   ],
   "source": [
    "db.customers.count_documents({'phone':{'$exists': True}})"
   ]
  },
  {
   "cell_type": "markdown",
   "metadata": {
    "id": "i-ofYCOd-CKa"
   },
   "source": [
    "####  Query 10: `SELECT COUNT(*) FROM orders WHERE quantity > = 2`\n",
    "\n",
    "--- "
   ]
  },
  {
   "cell_type": "code",
   "execution_count": 92,
   "metadata": {
    "id": "7g0UCK4r-CKb",
    "outputId": "20dd44f0-d071-46a3-abb3-9684f404acdc"
   },
   "outputs": [
    {
     "data": {
      "text/plain": [
       "1"
      ]
     },
     "execution_count": 92,
     "metadata": {},
     "output_type": "execute_result"
    }
   ],
   "source": [
    "db.orders.count_documents({'quantity': {'$gt': 1}}) "
   ]
  },
  {
   "cell_type": "markdown",
   "metadata": {
    "id": "s-Q7oC3o-CKb"
   },
   "source": [
    "####  Query 11: `SELECT DISTINCT(order_number) FROM orders`\n",
    "\n",
    "--- "
   ]
  },
  {
   "cell_type": "code",
   "execution_count": 93,
   "metadata": {
    "id": "2HuBqHJi-CKb",
    "outputId": "aa5fb7b7-6a9f-43ab-e0b9-0b7343fd3a0b"
   },
   "outputs": [
    {
     "data": {
      "text/html": [
       "<div>\n",
       "<style scoped>\n",
       "    .dataframe tbody tr th:only-of-type {\n",
       "        vertical-align: middle;\n",
       "    }\n",
       "\n",
       "    .dataframe tbody tr th {\n",
       "        vertical-align: top;\n",
       "    }\n",
       "\n",
       "    .dataframe thead th {\n",
       "        text-align: right;\n",
       "    }\n",
       "</style>\n",
       "<table border=\"1\" class=\"dataframe\">\n",
       "  <thead>\n",
       "    <tr style=\"text-align: right;\">\n",
       "      <th></th>\n",
       "      <th>_id</th>\n",
       "    </tr>\n",
       "  </thead>\n",
       "  <tbody>\n",
       "    <tr>\n",
       "      <th>0</th>\n",
       "      <td>1234</td>\n",
       "    </tr>\n",
       "    <tr>\n",
       "      <th>1</th>\n",
       "      <td>9876</td>\n",
       "    </tr>\n",
       "    <tr>\n",
       "      <th>2</th>\n",
       "      <td>5467</td>\n",
       "    </tr>\n",
       "  </tbody>\n",
       "</table>\n",
       "</div>"
      ],
      "text/plain": [
       "    _id\n",
       "0  1234\n",
       "1  9876\n",
       "2  5467"
      ]
     },
     "execution_count": 93,
     "metadata": {},
     "output_type": "execute_result"
    }
   ],
   "source": [
    "query_11 = db.orders.aggregate([{'$group':{'_id' : \"$order_number\"}}])\n",
    "MongoDB_to_DataFrame(query_11)"
   ]
  },
  {
   "cell_type": "markdown",
   "metadata": {
    "id": "HgAYN-qq-CKb"
   },
   "source": [
    "####  Query 12: `SELECT avg(price) FROM games`\n",
    "\n",
    "---"
   ]
  },
  {
   "cell_type": "code",
   "execution_count": 94,
   "metadata": {
    "id": "tgegoJ2M-CKb",
    "outputId": "1fc596e3-5a96-42ad-bedd-f7c1044e120f"
   },
   "outputs": [
    {
     "data": {
      "text/html": [
       "<div>\n",
       "<style scoped>\n",
       "    .dataframe tbody tr th:only-of-type {\n",
       "        vertical-align: middle;\n",
       "    }\n",
       "\n",
       "    .dataframe tbody tr th {\n",
       "        vertical-align: top;\n",
       "    }\n",
       "\n",
       "    .dataframe thead th {\n",
       "        text-align: right;\n",
       "    }\n",
       "</style>\n",
       "<table border=\"1\" class=\"dataframe\">\n",
       "  <thead>\n",
       "    <tr style=\"text-align: right;\">\n",
       "      <th></th>\n",
       "      <th>_id</th>\n",
       "      <th>average_order_price</th>\n",
       "    </tr>\n",
       "  </thead>\n",
       "  <tbody>\n",
       "    <tr>\n",
       "      <th>0</th>\n",
       "      <td>0</td>\n",
       "      <td>49.99</td>\n",
       "    </tr>\n",
       "  </tbody>\n",
       "</table>\n",
       "</div>"
      ],
      "text/plain": [
       "   _id  average_order_price\n",
       "0    0                49.99"
      ]
     },
     "execution_count": 94,
     "metadata": {},
     "output_type": "execute_result"
    }
   ],
   "source": [
    "query_12 = db.games.aggregate([{'$group' : {\"_id\" : 0, \"average_order_price\" : {\"$avg\" : \"$price\"}}}]) \n",
    "MongoDB_to_DataFrame(query_12)                              "
   ]
  },
  {
   "cell_type": "markdown",
   "metadata": {
    "id": "i0R_F9er-CKb"
   },
   "source": [
    "####  Exercise n°3: `Select the lastest customer who enrolled in our DB, assuming customer_id are given in increasing order`\n",
    "\n",
    "---"
   ]
  },
  {
   "cell_type": "code",
   "execution_count": 95,
   "metadata": {
    "id": "PkZvUH6f-CKb",
    "outputId": "923644d2-f312-442d-8688-8d02281f81d2"
   },
   "outputs": [
    {
     "data": {
      "text/html": [
       "<div>\n",
       "<style scoped>\n",
       "    .dataframe tbody tr th:only-of-type {\n",
       "        vertical-align: middle;\n",
       "    }\n",
       "\n",
       "    .dataframe tbody tr th {\n",
       "        vertical-align: top;\n",
       "    }\n",
       "\n",
       "    .dataframe thead th {\n",
       "        text-align: right;\n",
       "    }\n",
       "</style>\n",
       "<table border=\"1\" class=\"dataframe\">\n",
       "  <thead>\n",
       "    <tr style=\"text-align: right;\">\n",
       "      <th></th>\n",
       "      <th>_id</th>\n",
       "      <th>lastest_customer</th>\n",
       "    </tr>\n",
       "  </thead>\n",
       "  <tbody>\n",
       "    <tr>\n",
       "      <th>0</th>\n",
       "      <td>0</td>\n",
       "      <td>43736</td>\n",
       "    </tr>\n",
       "  </tbody>\n",
       "</table>\n",
       "</div>"
      ],
      "text/plain": [
       "   _id  lastest_customer\n",
       "0    0             43736"
      ]
     },
     "execution_count": 95,
     "metadata": {},
     "output_type": "execute_result"
    }
   ],
   "source": [
    "exercise_3 = db.customers.aggregate([{'$group' : { \"_id\":0, \"lastest_customer\" : {'$max': '$customer_id' }}}]) \n",
    "MongoDB_to_DataFrame(exercise_3) "
   ]
  },
  {
   "cell_type": "markdown",
   "metadata": {
    "id": "wdA4uE2c-CKb"
   },
   "source": [
    "####  Query 13: `SELECT COUNT(order_number) as num_orders_1234 FROM orders WHERE customer_ID = 1234`\n",
    "\n",
    "---"
   ]
  },
  {
   "cell_type": "code",
   "execution_count": 96,
   "metadata": {
    "id": "AY4x1XEj-CKb",
    "outputId": "259c6d8d-12df-4dc4-e045-7adbf08bd87c"
   },
   "outputs": [
    {
     "data": {
      "text/html": [
       "<div>\n",
       "<style scoped>\n",
       "    .dataframe tbody tr th:only-of-type {\n",
       "        vertical-align: middle;\n",
       "    }\n",
       "\n",
       "    .dataframe tbody tr th {\n",
       "        vertical-align: top;\n",
       "    }\n",
       "\n",
       "    .dataframe thead th {\n",
       "        text-align: right;\n",
       "    }\n",
       "</style>\n",
       "<table border=\"1\" class=\"dataframe\">\n",
       "  <thead>\n",
       "    <tr style=\"text-align: right;\">\n",
       "      <th></th>\n",
       "      <th>num_orders_1234</th>\n",
       "    </tr>\n",
       "  </thead>\n",
       "  <tbody>\n",
       "    <tr>\n",
       "      <th>0</th>\n",
       "      <td>2</td>\n",
       "    </tr>\n",
       "  </tbody>\n",
       "</table>\n",
       "</div>"
      ],
      "text/plain": [
       "   num_orders_1234\n",
       "0                2"
      ]
     },
     "execution_count": 96,
     "metadata": {},
     "output_type": "execute_result"
    }
   ],
   "source": [
    "query_13 = db.orders.aggregate([\n",
    "    # find the interesting document (filtering on an attribute)\n",
    "    {\"$match\" : {\"order_number\" : {\"$eq\" : 1234}}\n",
    "    },\n",
    "    # aggregating method \n",
    "    {\"$count\" : \"num_orders_1234\"}\n",
    "]) \n",
    "\n",
    "MongoDB_to_DataFrame(query_13)"
   ]
  },
  {
   "cell_type": "markdown",
   "metadata": {
    "id": "ZMiUvvKD-CKb"
   },
   "source": [
    "####  Query 14: `SELECT order_number, COUNT(DISTINCT game_id) FROM orders GROUP BY order_number`\n",
    "\n",
    "--- "
   ]
  },
  {
   "cell_type": "code",
   "execution_count": 97,
   "metadata": {
    "id": "qVn47deP-CKb",
    "outputId": "f80d6a74-5998-4dae-dc8d-0440e2c74046"
   },
   "outputs": [
    {
     "data": {
      "text/html": [
       "<div>\n",
       "<style scoped>\n",
       "    .dataframe tbody tr th:only-of-type {\n",
       "        vertical-align: middle;\n",
       "    }\n",
       "\n",
       "    .dataframe tbody tr th {\n",
       "        vertical-align: top;\n",
       "    }\n",
       "\n",
       "    .dataframe thead th {\n",
       "        text-align: right;\n",
       "    }\n",
       "</style>\n",
       "<table border=\"1\" class=\"dataframe\">\n",
       "  <thead>\n",
       "    <tr style=\"text-align: right;\">\n",
       "      <th></th>\n",
       "      <th>_id</th>\n",
       "      <th>game_id</th>\n",
       "    </tr>\n",
       "  </thead>\n",
       "  <tbody>\n",
       "    <tr>\n",
       "      <th>0</th>\n",
       "      <td>5467</td>\n",
       "      <td>1</td>\n",
       "    </tr>\n",
       "    <tr>\n",
       "      <th>1</th>\n",
       "      <td>1234</td>\n",
       "      <td>2</td>\n",
       "    </tr>\n",
       "    <tr>\n",
       "      <th>2</th>\n",
       "      <td>9876</td>\n",
       "      <td>1</td>\n",
       "    </tr>\n",
       "  </tbody>\n",
       "</table>\n",
       "</div>"
      ],
      "text/plain": [
       "    _id  game_id\n",
       "0  5467        1\n",
       "1  1234        2\n",
       "2  9876        1"
      ]
     },
     "execution_count": 97,
     "metadata": {},
     "output_type": "execute_result"
    }
   ],
   "source": [
    "query_14 = db.orders.aggregate([{\"$group\":{\"_id\": \"$order_number\", \"game_id\": {\"$sum\":1}}}])\n",
    "\n",
    "MongoDB_to_DataFrame(query_14)"
   ]
  },
  {
   "cell_type": "markdown",
   "metadata": {
    "id": "l_74PVjU-CKb"
   },
   "source": [
    "####  Query 15: `Basic visualization - Game prices distribution`\n",
    "\n",
    "--- "
   ]
  },
  {
   "cell_type": "code",
   "execution_count": 98,
   "metadata": {
    "id": "pSrRzrwg-CKb",
    "outputId": "c2a4ff57-0f3d-4682-d4e1-daca81a72fa5"
   },
   "outputs": [
    {
     "data": {
      "text/html": [
       "<div>\n",
       "<style scoped>\n",
       "    .dataframe tbody tr th:only-of-type {\n",
       "        vertical-align: middle;\n",
       "    }\n",
       "\n",
       "    .dataframe tbody tr th {\n",
       "        vertical-align: top;\n",
       "    }\n",
       "\n",
       "    .dataframe thead th {\n",
       "        text-align: right;\n",
       "    }\n",
       "</style>\n",
       "<table border=\"1\" class=\"dataframe\">\n",
       "  <thead>\n",
       "    <tr style=\"text-align: right;\">\n",
       "      <th></th>\n",
       "      <th>_id</th>\n",
       "      <th>count</th>\n",
       "      <th>average_price</th>\n",
       "    </tr>\n",
       "  </thead>\n",
       "  <tbody>\n",
       "    <tr>\n",
       "      <th>0</th>\n",
       "      <td>20</td>\n",
       "      <td>1</td>\n",
       "      <td>29.99</td>\n",
       "    </tr>\n",
       "    <tr>\n",
       "      <th>1</th>\n",
       "      <td>40</td>\n",
       "      <td>1</td>\n",
       "      <td>49.99</td>\n",
       "    </tr>\n",
       "    <tr>\n",
       "      <th>2</th>\n",
       "      <td>50</td>\n",
       "      <td>2</td>\n",
       "      <td>59.99</td>\n",
       "    </tr>\n",
       "  </tbody>\n",
       "</table>\n",
       "</div>"
      ],
      "text/plain": [
       "   _id  count  average_price\n",
       "0   20      1          29.99\n",
       "1   40      1          49.99\n",
       "2   50      2          59.99"
      ]
     },
     "execution_count": 98,
     "metadata": {},
     "output_type": "execute_result"
    }
   ],
   "source": [
    "query_15 = db.games.aggregate([\n",
    "    {\"$bucket\" : {\"groupBy\" : \"$price\",\n",
    "                  \"boundaries\" : [0,20,30,40,50,60],\n",
    "                  \"default\" : \"Other\",\n",
    "                  \"output\" : {\"count\" : { \"$sum\" : 1},\n",
    "                              \"average_price\" : { \"$avg\" :\"$price\" }} \n",
    "            \n",
    "                 }\n",
    "    }])\n",
    "df_result_Q15 = MongoDB_to_DataFrame(query_15)\n",
    "df_result_Q15"
   ]
  },
  {
   "cell_type": "code",
   "execution_count": 99,
   "metadata": {
    "id": "Xyu2z-fK-CKc",
    "outputId": "6bce87e8-7889-4895-9330-bb9adc5e5451"
   },
   "outputs": [
    {
     "data": {
      "text/plain": [
       "Text(0, 0.5, 'Game buckets')"
      ]
     },
     "execution_count": 99,
     "metadata": {},
     "output_type": "execute_result"
    },
    {
     "data": {
      "image/png": "[encoded data removed]",
      "text/plain": [
       "<Figure size 640x480 with 1 Axes>"
      ]
     },
     "metadata": {},
     "output_type": "display_data"
    }
   ],
   "source": [
    "import matplotlib.pyplot as plt\n",
    "ax = df_result_Q15[['count','average_price']].groupby(['average_price']).sum().plot(kind='pie', y='count', shadow = True, title='Games price distribution')\n",
    "ax.set_ylabel(\"Game buckets\")"
   ]
  },
  {
   "cell_type": "markdown",
   "metadata": {
    "deletable": false,
    "editable": false,
    "id": "El-KNP-5-CKc"
   },
   "source": [
    "### Additional resources for MongoDB basic queries: \n",
    "\n",
    "[More MongoDB functions](https://www.unityjdbc.com/mongojdbc/mongosqltranslate.php) <br>\n",
    "[Automated SQL to MongoDB query convertor (only works for basic queries!)](https://www.site24x7.com/tools/sql-to-mongodb.html) <br>\n",
    "[SQL to MongoDB Official Mapping Chart](https://docs.mongodb.com/manual/reference/sql-comparison/) <br>"
   ]
  },
  {
   "cell_type": "markdown",
   "metadata": {
    "deletable": false,
    "editable": false,
    "id": "qlNgMbko-CKc"
   },
   "source": [
    "## 4/ MongoDB Advanced Queries - Joins"
   ]
  },
  {
   "cell_type": "markdown",
   "metadata": {
    "id": "rdFdEFbh-CKc"
   },
   "source": [
    "####  Query 15: How much did each order cost?\n",
    "`SELECT o.order_number, SUM(o.quantity*g.price) as order_price`\n",
    "\n",
    "`FROM orders o LEFT JOIN games g on g.game_id = o.game_id`\n",
    "\n",
    "`GROUP BY order_number`\n",
    "\n",
    "`ORDER BY order_number ASC`\n",
    "\n",
    "--- "
   ]
  },
  {
   "cell_type": "code",
   "execution_count": 100,
   "metadata": {
    "id": "-3gYQMXH-CKc",
    "outputId": "6b9931cf-5152-4b28-cf0f-88955b7a29f8"
   },
   "outputs": [
    {
     "data": {
      "text/html": [
       "<div>\n",
       "<style scoped>\n",
       "    .dataframe tbody tr th:only-of-type {\n",
       "        vertical-align: middle;\n",
       "    }\n",
       "\n",
       "    .dataframe tbody tr th {\n",
       "        vertical-align: top;\n",
       "    }\n",
       "\n",
       "    .dataframe thead th {\n",
       "        text-align: right;\n",
       "    }\n",
       "</style>\n",
       "<table border=\"1\" class=\"dataframe\">\n",
       "  <thead>\n",
       "    <tr style=\"text-align: right;\">\n",
       "      <th></th>\n",
       "      <th>order_number</th>\n",
       "      <th>date</th>\n",
       "      <th>customer_id</th>\n",
       "      <th>game_id</th>\n",
       "      <th>quantity</th>\n",
       "    </tr>\n",
       "  </thead>\n",
       "  <tbody>\n",
       "    <tr>\n",
       "      <th>0</th>\n",
       "      <td>1234</td>\n",
       "      <td>07/08/2016</td>\n",
       "      <td>10497</td>\n",
       "      <td>11</td>\n",
       "      <td>1</td>\n",
       "    </tr>\n",
       "    <tr>\n",
       "      <th>1</th>\n",
       "      <td>1234</td>\n",
       "      <td>07/08/2016</td>\n",
       "      <td>10497</td>\n",
       "      <td>12</td>\n",
       "      <td>1</td>\n",
       "    </tr>\n",
       "    <tr>\n",
       "      <th>2</th>\n",
       "      <td>9876</td>\n",
       "      <td>07/12/2016</td>\n",
       "      <td>23922</td>\n",
       "      <td>14</td>\n",
       "      <td>2</td>\n",
       "    </tr>\n",
       "    <tr>\n",
       "      <th>3</th>\n",
       "      <td>5467</td>\n",
       "      <td>07/20/2016</td>\n",
       "      <td>33927</td>\n",
       "      <td>13</td>\n",
       "      <td>1</td>\n",
       "    </tr>\n",
       "  </tbody>\n",
       "</table>\n",
       "</div>"
      ],
      "text/plain": [
       "   order_number        date  customer_id  game_id  quantity\n",
       "0          1234  07/08/2016        10497       11         1\n",
       "1          1234  07/08/2016        10497       12         1\n",
       "2          9876  07/12/2016        23922       14         2\n",
       "3          5467  07/20/2016        33927       13         1"
      ]
     },
     "execution_count": 100,
     "metadata": {},
     "output_type": "execute_result"
    }
   ],
   "source": [
    "df_orders"
   ]
  },
  {
   "cell_type": "markdown",
   "metadata": {
    "deletable": false,
    "editable": false,
    "id": "AkMTgHYu-CKc"
   },
   "source": [
    "### Method n°1: embedded documents for one-to-few relationships"
   ]
  },
  {
   "cell_type": "code",
   "execution_count": 101,
   "metadata": {
    "id": "xbOF8vNS-CKc",
    "outputId": "7070369b-0c0a-4252-e28d-660c3cc67686"
   },
   "outputs": [
    {
     "data": {
      "text/html": [
       "<div>\n",
       "<style scoped>\n",
       "    .dataframe tbody tr th:only-of-type {\n",
       "        vertical-align: middle;\n",
       "    }\n",
       "\n",
       "    .dataframe tbody tr th {\n",
       "        vertical-align: top;\n",
       "    }\n",
       "\n",
       "    .dataframe thead th {\n",
       "        text-align: right;\n",
       "    }\n",
       "</style>\n",
       "<table border=\"1\" class=\"dataframe\">\n",
       "  <thead>\n",
       "    <tr style=\"text-align: right;\">\n",
       "      <th></th>\n",
       "      <th>order_number</th>\n",
       "      <th>date</th>\n",
       "      <th>customer</th>\n",
       "      <th>game</th>\n",
       "      <th>quantity</th>\n",
       "    </tr>\n",
       "  </thead>\n",
       "  <tbody>\n",
       "    <tr>\n",
       "      <th>0</th>\n",
       "      <td>1234</td>\n",
       "      <td>07/08/2016</td>\n",
       "      <td>{'customer_id': 10497, 'first_name': 'Nic', 'l...</td>\n",
       "      <td>{'game_id': 11, 'game_name': 'Pokemon Red', 'p...</td>\n",
       "      <td>1</td>\n",
       "    </tr>\n",
       "    <tr>\n",
       "      <th>1</th>\n",
       "      <td>1234</td>\n",
       "      <td>07/08/2016</td>\n",
       "      <td>{'customer_id': 10497, 'first_name': 'Nic', 'l...</td>\n",
       "      <td>{'game_id': 12, 'game_name': 'Dake Soul Red II...</td>\n",
       "      <td>1</td>\n",
       "    </tr>\n",
       "    <tr>\n",
       "      <th>2</th>\n",
       "      <td>9876</td>\n",
       "      <td>07/12/2016</td>\n",
       "      <td>{'customer_id': 23922, 'first_name': 'Matt', '...</td>\n",
       "      <td>{'game_id': 14, 'game_name': 'Super Smash Bros...</td>\n",
       "      <td>2</td>\n",
       "    </tr>\n",
       "    <tr>\n",
       "      <th>3</th>\n",
       "      <td>5467</td>\n",
       "      <td>07/20/2016</td>\n",
       "      <td>{'customer_id': 33927, 'first_name': 'Arun', '...</td>\n",
       "      <td>{'game_id': 13, 'game_name': 'RayMan 4', 'pric...</td>\n",
       "      <td>1</td>\n",
       "    </tr>\n",
       "  </tbody>\n",
       "</table>\n",
       "</div>"
      ],
      "text/plain": [
       "   order_number        date  \\\n",
       "0          1234  07/08/2016   \n",
       "1          1234  07/08/2016   \n",
       "2          9876  07/12/2016   \n",
       "3          5467  07/20/2016   \n",
       "\n",
       "                                            customer  \\\n",
       "0  {'customer_id': 10497, 'first_name': 'Nic', 'l...   \n",
       "1  {'customer_id': 10497, 'first_name': 'Nic', 'l...   \n",
       "2  {'customer_id': 23922, 'first_name': 'Matt', '...   \n",
       "3  {'customer_id': 33927, 'first_name': 'Arun', '...   \n",
       "\n",
       "                                                game  quantity  \n",
       "0  {'game_id': 11, 'game_name': 'Pokemon Red', 'p...         1  \n",
       "1  {'game_id': 12, 'game_name': 'Dake Soul Red II...         1  \n",
       "2  {'game_id': 14, 'game_name': 'Super Smash Bros...         2  \n",
       "3  {'game_id': 13, 'game_name': 'RayMan 4', 'pric...         1  "
      ]
     },
     "execution_count": 101,
     "metadata": {},
     "output_type": "execute_result"
    }
   ],
   "source": [
    "### Create a unique order dataframe with the games and customers information embedded (nested dictionnaries)\n",
    "\n",
    "df_orders_embedded = pd.DataFrame(data = {'order_number': [1234, 1234, 9876, 5467],\n",
    "                                          'date' : ['07/08/2016', '07/08/2016', '07/12/2016', '07/20/2016'],\n",
    "                                          'customer' : [\n",
    "                                                        {'customer_id': 10497,'first_name': 'Nic','last_name': 'Raboy','email': 'nic@test.com','phone': '510-229-0612'},\n",
    "                                                        {'customer_id': 10497,'first_name': 'Nic','last_name': 'Raboy','email': 'nic@test.com','phone': '510-229-0612'},\n",
    "                                                        {'customer_id': 23922,'first_name': 'Matt','last_name': 'Groves','email': 'matt@test.com'},\n",
    "                                                        {'customer_id': 33927,'first_name': 'Arun','last_name': 'Gupta','email': 'arun@test.com','phone': '510-149-9782'}\n",
    "                                          ],\n",
    "                                          'game' : [\n",
    "                                                    {'game_id': 11,'game_name': 'Pokemon Red','price': 29.99},\n",
    "                                                    {'game_id': 12,'game_name': 'Dake Soul Red III','price': 59.99},\n",
    "                                                    {'game_id': 14,'game_name': 'Super Smash Bros','price': 49.99},\n",
    "                                                    {'game_id': 13,'game_name': 'RayMan 4','price': 59.99}\n",
    "                                          ],\n",
    "                                          'quantity' : [1, 1, 2, 1],\n",
    "                                })\n",
    "\n",
    "df_orders_embedded.head()"
   ]
  },
  {
   "cell_type": "code",
   "execution_count": 102,
   "metadata": {
    "id": "II6tLrCp-CKc",
    "outputId": "188314a2-924d-4e41-feb3-4cf416ebcf7a"
   },
   "outputs": [
    {
     "data": {
      "text/plain": [
       "{'_id': ObjectId('6441b809722d9fe9367d34e3'),\n",
       " 'order_number': 1234,\n",
       " 'date': '07/08/2016',\n",
       " 'customer': {'customer_id': 10497,\n",
       "  'first_name': 'Nic',\n",
       "  'last_name': 'Raboy',\n",
       "  'email': 'nic@test.com',\n",
       "  'phone': '510-229-0612'},\n",
       " 'game': {'game_id': 11, 'game_name': 'Pokemon Red', 'price': 29.99},\n",
       " 'quantity': 1}"
      ]
     },
     "execution_count": 102,
     "metadata": {},
     "output_type": "execute_result"
    }
   ],
   "source": [
    "embedded_orders_dict = df_orders_embedded.to_dict('records')\n",
    "embedded_orders = db[\"embedded_orders\"]\n",
    "embedded_orders.insert_many(embedded_orders_dict)\n",
    "embedded_orders.find_one() "
   ]
  },
  {
   "cell_type": "code",
   "execution_count": 103,
   "metadata": {
    "id": "P-B9tzlh-CKc",
    "outputId": "4a8da507-d694-4b49-f230-ff1ab7ccc90d"
   },
   "outputs": [
    {
     "name": "stdout",
     "output_type": "stream",
     "text": [
      "['orders', 'embedded_orders', 'customers', 'games']\n"
     ]
    }
   ],
   "source": [
    "print(db.list_collection_names()) "
   ]
  },
  {
   "cell_type": "code",
   "execution_count": 104,
   "metadata": {
    "id": "NEfy_uKN-CKc",
    "outputId": "e4a0b6c5-4183-40ca-b72e-45efdce5f1f5"
   },
   "outputs": [
    {
     "data": {
      "text/html": [
       "<div>\n",
       "<style scoped>\n",
       "    .dataframe tbody tr th:only-of-type {\n",
       "        vertical-align: middle;\n",
       "    }\n",
       "\n",
       "    .dataframe tbody tr th {\n",
       "        vertical-align: top;\n",
       "    }\n",
       "\n",
       "    .dataframe thead th {\n",
       "        text-align: right;\n",
       "    }\n",
       "</style>\n",
       "<table border=\"1\" class=\"dataframe\">\n",
       "  <thead>\n",
       "    <tr style=\"text-align: right;\">\n",
       "      <th></th>\n",
       "      <th>_id</th>\n",
       "      <th>total_price</th>\n",
       "    </tr>\n",
       "  </thead>\n",
       "  <tbody>\n",
       "    <tr>\n",
       "      <th>0</th>\n",
       "      <td>1234</td>\n",
       "      <td>89.98</td>\n",
       "    </tr>\n",
       "    <tr>\n",
       "      <th>1</th>\n",
       "      <td>5467</td>\n",
       "      <td>59.99</td>\n",
       "    </tr>\n",
       "    <tr>\n",
       "      <th>2</th>\n",
       "      <td>9876</td>\n",
       "      <td>99.98</td>\n",
       "    </tr>\n",
       "  </tbody>\n",
       "</table>\n",
       "</div>"
      ],
      "text/plain": [
       "    _id  total_price\n",
       "0  1234        89.98\n",
       "1  5467        59.99\n",
       "2  9876        99.98"
      ]
     },
     "execution_count": 104,
     "metadata": {},
     "output_type": "execute_result"
    }
   ],
   "source": [
    "query_15_M1 =  db.embedded_orders.aggregate(\n",
    "    [{'$group':\n",
    "      {'_id': \"$order_number\",\n",
    "       'total_price':{'$sum': { '$multiply': [ \"$game.price\", \"$quantity\" ]}}}\n",
    "     },\n",
    "     {'$sort':{\"_id\":1}}                                     \n",
    "    ])\n",
    "\n",
    "M1_results = MongoDB_to_DataFrame(query_15_M1)\n",
    "M1_results"
   ]
  },
  {
   "cell_type": "markdown",
   "metadata": {
    "deletable": false,
    "editable": false,
    "id": "xizxlop0-CKc"
   },
   "source": [
    "### Method n°2: $lookup function for one-to-many relationships"
   ]
  },
  {
   "cell_type": "code",
   "execution_count": 105,
   "metadata": {
    "id": "NX-TwdI2-CKc",
    "outputId": "9e9456d3-ac2c-4847-e722-26a392732949"
   },
   "outputs": [
    {
     "data": {
      "text/html": [
       "<div>\n",
       "<style scoped>\n",
       "    .dataframe tbody tr th:only-of-type {\n",
       "        vertical-align: middle;\n",
       "    }\n",
       "\n",
       "    .dataframe tbody tr th {\n",
       "        vertical-align: top;\n",
       "    }\n",
       "\n",
       "    .dataframe thead th {\n",
       "        text-align: right;\n",
       "    }\n",
       "</style>\n",
       "<table border=\"1\" class=\"dataframe\">\n",
       "  <thead>\n",
       "    <tr style=\"text-align: right;\">\n",
       "      <th></th>\n",
       "      <th>_id</th>\n",
       "      <th>order_number</th>\n",
       "      <th>date</th>\n",
       "      <th>customer_id</th>\n",
       "      <th>game_id</th>\n",
       "      <th>quantity</th>\n",
       "      <th>game_info</th>\n",
       "    </tr>\n",
       "  </thead>\n",
       "  <tbody>\n",
       "    <tr>\n",
       "      <th>0</th>\n",
       "      <td>6441b706722d9fe9367d34df</td>\n",
       "      <td>1234</td>\n",
       "      <td>07/08/2016</td>\n",
       "      <td>10497</td>\n",
       "      <td>11</td>\n",
       "      <td>1</td>\n",
       "      <td>[{'_id': 6441b705722d9fe9367d34db, 'game_id': ...</td>\n",
       "    </tr>\n",
       "    <tr>\n",
       "      <th>1</th>\n",
       "      <td>6441b706722d9fe9367d34e0</td>\n",
       "      <td>1234</td>\n",
       "      <td>07/08/2016</td>\n",
       "      <td>10497</td>\n",
       "      <td>12</td>\n",
       "      <td>1</td>\n",
       "      <td>[{'_id': 6441b705722d9fe9367d34dc, 'game_id': ...</td>\n",
       "    </tr>\n",
       "    <tr>\n",
       "      <th>2</th>\n",
       "      <td>6441b706722d9fe9367d34e1</td>\n",
       "      <td>9876</td>\n",
       "      <td>07/12/2016</td>\n",
       "      <td>23922</td>\n",
       "      <td>14</td>\n",
       "      <td>2</td>\n",
       "      <td>[{'_id': 6441b705722d9fe9367d34de, 'game_id': ...</td>\n",
       "    </tr>\n",
       "    <tr>\n",
       "      <th>3</th>\n",
       "      <td>6441b706722d9fe9367d34e2</td>\n",
       "      <td>5467</td>\n",
       "      <td>07/20/2016</td>\n",
       "      <td>33927</td>\n",
       "      <td>13</td>\n",
       "      <td>1</td>\n",
       "      <td>[{'_id': 6441b705722d9fe9367d34dd, 'game_id': ...</td>\n",
       "    </tr>\n",
       "  </tbody>\n",
       "</table>\n",
       "</div>"
      ],
      "text/plain": [
       "                        _id  order_number        date  customer_id  game_id  \\\n",
       "0  6441b706722d9fe9367d34df          1234  07/08/2016        10497       11   \n",
       "1  6441b706722d9fe9367d34e0          1234  07/08/2016        10497       12   \n",
       "2  6441b706722d9fe9367d34e1          9876  07/12/2016        23922       14   \n",
       "3  6441b706722d9fe9367d34e2          5467  07/20/2016        33927       13   \n",
       "\n",
       "   quantity                                          game_info  \n",
       "0         1  [{'_id': 6441b705722d9fe9367d34db, 'game_id': ...  \n",
       "1         1  [{'_id': 6441b705722d9fe9367d34dc, 'game_id': ...  \n",
       "2         2  [{'_id': 6441b705722d9fe9367d34de, 'game_id': ...  \n",
       "3         1  [{'_id': 6441b705722d9fe9367d34dd, 'game_id': ...  "
      ]
     },
     "execution_count": 105,
     "metadata": {},
     "output_type": "execute_result"
    }
   ],
   "source": [
    "query_15_M21 = db.orders.aggregate([\n",
    "   {\n",
    "     '$lookup':\n",
    "       {\n",
    "         'from': \"games\",             # table you want to join to the parent table\n",
    "         'localField': \"game_id\",     # join attribute from the parent table\n",
    "         'foreignField': \"game_id\",   # join attribute from the joined table (the table in the \"from\" field above)\n",
    "         'as': \"game_info\"            # name you want to give to the embedded dictionary output by the $lookup method\n",
    "       }\n",
    "  } \n",
    "])\n",
    "MongoDB_to_DataFrame(query_15_M21)"
   ]
  },
  {
   "cell_type": "code",
   "execution_count": null,
   "metadata": {
    "id": "Tsb-ggnH-CKc",
    "outputId": "ce1f0246-0840-4d33-8dc4-7407cabb80d3"
   },
   "outputs": [
    {
     "data": {
      "text/html": [
       "<div>\n",
       "<style scoped>\n",
       "    .dataframe tbody tr th:only-of-type {\n",
       "        vertical-align: middle;\n",
       "    }\n",
       "\n",
       "    .dataframe tbody tr th {\n",
       "        vertical-align: top;\n",
       "    }\n",
       "\n",
       "    .dataframe thead th {\n",
       "        text-align: right;\n",
       "    }\n",
       "</style>\n",
       "<table border=\"1\" class=\"dataframe\">\n",
       "  <thead>\n",
       "    <tr style=\"text-align: right;\">\n",
       "      <th></th>\n",
       "      <th>_id</th>\n",
       "      <th>order_number</th>\n",
       "      <th>date</th>\n",
       "      <th>customer_id</th>\n",
       "      <th>game_id</th>\n",
       "      <th>quantity</th>\n",
       "      <th>game_info</th>\n",
       "    </tr>\n",
       "  </thead>\n",
       "  <tbody>\n",
       "    <tr>\n",
       "      <th>0</th>\n",
       "      <td>6262e8316616b35169253977</td>\n",
       "      <td>1234</td>\n",
       "      <td>07/08/2016</td>\n",
       "      <td>10497</td>\n",
       "      <td>11</td>\n",
       "      <td>1</td>\n",
       "      <td>{'_id': 6262e82e6616b35169253973, 'game_id': 1...</td>\n",
       "    </tr>\n",
       "    <tr>\n",
       "      <th>1</th>\n",
       "      <td>6262e8316616b35169253978</td>\n",
       "      <td>1234</td>\n",
       "      <td>07/08/2016</td>\n",
       "      <td>10497</td>\n",
       "      <td>12</td>\n",
       "      <td>1</td>\n",
       "      <td>{'_id': 6262e82e6616b35169253974, 'game_id': 1...</td>\n",
       "    </tr>\n",
       "    <tr>\n",
       "      <th>2</th>\n",
       "      <td>6262e8316616b35169253979</td>\n",
       "      <td>9876</td>\n",
       "      <td>07/12/2016</td>\n",
       "      <td>23922</td>\n",
       "      <td>14</td>\n",
       "      <td>2</td>\n",
       "      <td>{'_id': 6262e82e6616b35169253976, 'game_id': 1...</td>\n",
       "    </tr>\n",
       "    <tr>\n",
       "      <th>3</th>\n",
       "      <td>6262e8316616b3516925397a</td>\n",
       "      <td>5467</td>\n",
       "      <td>07/20/2016</td>\n",
       "      <td>33927</td>\n",
       "      <td>13</td>\n",
       "      <td>1</td>\n",
       "      <td>{'_id': 6262e82e6616b35169253975, 'game_id': 1...</td>\n",
       "    </tr>\n",
       "  </tbody>\n",
       "</table>\n",
       "</div>"
      ],
      "text/plain": [
       "                        _id  order_number        date  customer_id  game_id  \\\n",
       "0  6262e8316616b35169253977          1234  07/08/2016        10497       11   \n",
       "1  6262e8316616b35169253978          1234  07/08/2016        10497       12   \n",
       "2  6262e8316616b35169253979          9876  07/12/2016        23922       14   \n",
       "3  6262e8316616b3516925397a          5467  07/20/2016        33927       13   \n",
       "\n",
       "   quantity                                          game_info  \n",
       "0         1  {'_id': 6262e82e6616b35169253973, 'game_id': 1...  \n",
       "1         1  {'_id': 6262e82e6616b35169253974, 'game_id': 1...  \n",
       "2         2  {'_id': 6262e82e6616b35169253976, 'game_id': 1...  \n",
       "3         1  {'_id': 6262e82e6616b35169253975, 'game_id': 1...  "
      ]
     },
     "execution_count": 80,
     "metadata": {},
     "output_type": "execute_result"
    }
   ],
   "source": [
    "query_15_M22 =  db.orders.aggregate([\n",
    "   {\n",
    "     '$lookup':\n",
    "       {\n",
    "         'from': \"games\",             \n",
    "         'localField': \"game_id\",     \n",
    "         'foreignField': \"game_id\",   \n",
    "         'as': \"game_info\"            \n",
    "       }\n",
    "  },\n",
    "    {'$unwind': { 'path': \"$game_info\", 'preserveNullAndEmptyArrays': True}}    # enable the embedded dictionary attributes to be accessed in the query \n",
    "])\n",
    "MongoDB_to_DataFrame(query_15_M22)"
   ]
  },
  {
   "cell_type": "code",
   "execution_count": null,
   "metadata": {
    "id": "4m6PDt4a-CKd",
    "outputId": "44fea593-9b53-4e03-8079-6c7f78be6e4f"
   },
   "outputs": [
    {
     "data": {
      "text/html": [
       "<div>\n",
       "<style scoped>\n",
       "    .dataframe tbody tr th:only-of-type {\n",
       "        vertical-align: middle;\n",
       "    }\n",
       "\n",
       "    .dataframe tbody tr th {\n",
       "        vertical-align: top;\n",
       "    }\n",
       "\n",
       "    .dataframe thead th {\n",
       "        text-align: right;\n",
       "    }\n",
       "</style>\n",
       "<table border=\"1\" class=\"dataframe\">\n",
       "  <thead>\n",
       "    <tr style=\"text-align: right;\">\n",
       "      <th></th>\n",
       "      <th>_id</th>\n",
       "      <th>total_price</th>\n",
       "    </tr>\n",
       "  </thead>\n",
       "  <tbody>\n",
       "    <tr>\n",
       "      <th>0</th>\n",
       "      <td>1234</td>\n",
       "      <td>89.98</td>\n",
       "    </tr>\n",
       "    <tr>\n",
       "      <th>1</th>\n",
       "      <td>5467</td>\n",
       "      <td>59.99</td>\n",
       "    </tr>\n",
       "    <tr>\n",
       "      <th>2</th>\n",
       "      <td>9876</td>\n",
       "      <td>99.98</td>\n",
       "    </tr>\n",
       "  </tbody>\n",
       "</table>\n",
       "</div>"
      ],
      "text/plain": [
       "    _id  total_price\n",
       "0  1234        89.98\n",
       "1  5467        59.99\n",
       "2  9876        99.98"
      ]
     },
     "execution_count": 81,
     "metadata": {},
     "output_type": "execute_result"
    }
   ],
   "source": [
    "query_15_M23 =  db.orders.aggregate([\n",
    "   {\n",
    "     '$lookup':\n",
    "       {\n",
    "         'from': \"games\",\n",
    "         'localField': \"game_id\",\n",
    "         'foreignField': \"game_id\",\n",
    "         'as': \"game_info\"\n",
    "       }\n",
    "  },\n",
    "    {'$unwind': { 'path': \"$game_info\", 'preserveNullAndEmptyArrays': True}},\n",
    "    {'$group':\n",
    "      {\n",
    "       '_id': \"$order_number\",\n",
    "       'total_price':{'$sum': { '$multiply': [ \"$game_info.price\", \"$quantity\" ]}}  # use $joined_table_name.attribute_name to call an attribute from a joined table\n",
    "      }\n",
    "    },\n",
    "    {'$sort':{\"_id\":1}}\n",
    "])\n",
    "M2_results = MongoDB_to_DataFrame(query_15_M23)\n",
    "M2_results"
   ]
  },
  {
   "cell_type": "code",
   "execution_count": null,
   "metadata": {
    "id": "N13t54OQ-CKd",
    "outputId": "3a68efa6-4c9d-424d-bdc2-41812bda8464"
   },
   "outputs": [
    {
     "data": {
      "text/plain": [
       "True"
      ]
     },
     "execution_count": 82,
     "metadata": {},
     "output_type": "execute_result"
    }
   ],
   "source": [
    "## Sanity check : do method n°1 and method n°2 give the same result? \n",
    "M2_results.equals(M1_results) "
   ]
  },
  {
   "cell_type": "markdown",
   "metadata": {
    "deletable": false,
    "editable": false,
    "id": "aJY5u8e5-CKd"
   },
   "source": [
    "###  To embed or not to embed, that is the question...\n"
   ]
  },
  {
   "cell_type": "code",
   "execution_count": null,
   "metadata": {
    "id": "TnEqQ85Q-CKd",
    "outputId": "772362c7-07c6-48b1-994a-56fc4d638738"
   },
   "outputs": [
    {
     "data": {
      "text/html": [
       "<div>\n",
       "<style scoped>\n",
       "    .dataframe tbody tr th:only-of-type {\n",
       "        vertical-align: middle;\n",
       "    }\n",
       "\n",
       "    .dataframe tbody tr th {\n",
       "        vertical-align: top;\n",
       "    }\n",
       "\n",
       "    .dataframe thead th {\n",
       "        text-align: right;\n",
       "    }\n",
       "</style>\n",
       "<table border=\"1\" class=\"dataframe\">\n",
       "  <thead>\n",
       "    <tr style=\"text-align: right;\">\n",
       "      <th></th>\n",
       "      <th>customer_id</th>\n",
       "      <th>first_name</th>\n",
       "      <th>last_name</th>\n",
       "      <th>email</th>\n",
       "      <th>phone</th>\n",
       "    </tr>\n",
       "  </thead>\n",
       "  <tbody>\n",
       "    <tr>\n",
       "      <th>0</th>\n",
       "      <td>10497</td>\n",
       "      <td>Nic</td>\n",
       "      <td>Raboy</td>\n",
       "      <td>nic@test.com</td>\n",
       "      <td>510-229-0612</td>\n",
       "    </tr>\n",
       "    <tr>\n",
       "      <th>1</th>\n",
       "      <td>23922</td>\n",
       "      <td>Matt</td>\n",
       "      <td>Groves</td>\n",
       "      <td>matt@test.com</td>\n",
       "      <td>NaN</td>\n",
       "    </tr>\n",
       "    <tr>\n",
       "      <th>2</th>\n",
       "      <td>33927</td>\n",
       "      <td>Arun</td>\n",
       "      <td>Gupta</td>\n",
       "      <td>arun@test.com</td>\n",
       "      <td>510-149-9782</td>\n",
       "    </tr>\n",
       "    <tr>\n",
       "      <th>3</th>\n",
       "      <td>43736</td>\n",
       "      <td>Hod</td>\n",
       "      <td>Greeley</td>\n",
       "      <td>hod@test.com</td>\n",
       "      <td>510-718-3340</td>\n",
       "    </tr>\n",
       "  </tbody>\n",
       "</table>\n",
       "</div>"
      ],
      "text/plain": [
       "   customer_id first_name last_name          email         phone\n",
       "0        10497        Nic     Raboy   nic@test.com  510-229-0612\n",
       "1        23922       Matt    Groves  matt@test.com           NaN\n",
       "2        33927       Arun     Gupta  arun@test.com  510-149-9782\n",
       "3        43736        Hod   Greeley   hod@test.com  510-718-3340"
      ]
     },
     "execution_count": 94,
     "metadata": {},
     "output_type": "execute_result"
    }
   ],
   "source": [
    "df_customers"
   ]
  },
  {
   "cell_type": "code",
   "execution_count": null,
   "metadata": {
    "id": "JkHzExPG-CKd",
    "outputId": "bbb553c1-7182-4126-b988-38867d583010"
   },
   "outputs": [
    {
     "data": {
      "text/html": [
       "<div>\n",
       "<style scoped>\n",
       "    .dataframe tbody tr th:only-of-type {\n",
       "        vertical-align: middle;\n",
       "    }\n",
       "\n",
       "    .dataframe tbody tr th {\n",
       "        vertical-align: top;\n",
       "    }\n",
       "\n",
       "    .dataframe thead th {\n",
       "        text-align: right;\n",
       "    }\n",
       "</style>\n",
       "<table border=\"1\" class=\"dataframe\">\n",
       "  <thead>\n",
       "    <tr style=\"text-align: right;\">\n",
       "      <th></th>\n",
       "      <th>order_number</th>\n",
       "      <th>date</th>\n",
       "      <th>customer_id</th>\n",
       "      <th>game_id</th>\n",
       "      <th>quantity</th>\n",
       "    </tr>\n",
       "  </thead>\n",
       "  <tbody>\n",
       "    <tr>\n",
       "      <th>0</th>\n",
       "      <td>1234</td>\n",
       "      <td>07/08/2016</td>\n",
       "      <td>10497</td>\n",
       "      <td>11</td>\n",
       "      <td>1</td>\n",
       "    </tr>\n",
       "    <tr>\n",
       "      <th>1</th>\n",
       "      <td>1234</td>\n",
       "      <td>07/08/2016</td>\n",
       "      <td>10497</td>\n",
       "      <td>12</td>\n",
       "      <td>1</td>\n",
       "    </tr>\n",
       "    <tr>\n",
       "      <th>2</th>\n",
       "      <td>9876</td>\n",
       "      <td>07/12/2016</td>\n",
       "      <td>23922</td>\n",
       "      <td>14</td>\n",
       "      <td>2</td>\n",
       "    </tr>\n",
       "    <tr>\n",
       "      <th>3</th>\n",
       "      <td>5467</td>\n",
       "      <td>07/20/2016</td>\n",
       "      <td>33927</td>\n",
       "      <td>13</td>\n",
       "      <td>1</td>\n",
       "    </tr>\n",
       "  </tbody>\n",
       "</table>\n",
       "</div>"
      ],
      "text/plain": [
       "   order_number        date  customer_id  game_id  quantity\n",
       "0          1234  07/08/2016        10497       11         1\n",
       "1          1234  07/08/2016        10497       12         1\n",
       "2          9876  07/12/2016        23922       14         2\n",
       "3          5467  07/20/2016        33927       13         1"
      ]
     },
     "execution_count": 95,
     "metadata": {},
     "output_type": "execute_result"
    }
   ],
   "source": [
    "df_orders"
   ]
  },
  {
   "cell_type": "markdown",
   "metadata": {
    "id": "pLcusigK-CKd"
   },
   "source": [
    "#### Example 16: `Who placed an order with more than 1 quantity?` \n",
    "\n",
    "Retrieve their email and phone numbers as their identifier, as well as the order number and order date. "
   ]
  },
  {
   "cell_type": "code",
   "execution_count": null,
   "metadata": {
    "id": "9XAWBJ6o-CKd",
    "outputId": "b153cba8-e370-464b-abb0-8b4427d9e68a"
   },
   "outputs": [
    {
     "data": {
      "text/html": [
       "<div>\n",
       "<style scoped>\n",
       "    .dataframe tbody tr th:only-of-type {\n",
       "        vertical-align: middle;\n",
       "    }\n",
       "\n",
       "    .dataframe tbody tr th {\n",
       "        vertical-align: top;\n",
       "    }\n",
       "\n",
       "    .dataframe thead th {\n",
       "        text-align: right;\n",
       "    }\n",
       "</style>\n",
       "<table border=\"1\" class=\"dataframe\">\n",
       "  <thead>\n",
       "    <tr style=\"text-align: right;\">\n",
       "      <th></th>\n",
       "      <th>quantity</th>\n",
       "      <th>email</th>\n",
       "    </tr>\n",
       "  </thead>\n",
       "  <tbody>\n",
       "    <tr>\n",
       "      <th>0</th>\n",
       "      <td>2</td>\n",
       "      <td>matt@test.com</td>\n",
       "    </tr>\n",
       "  </tbody>\n",
       "</table>\n",
       "</div>"
      ],
      "text/plain": [
       "   quantity          email\n",
       "0         2  matt@test.com"
      ]
     },
     "execution_count": 123,
     "metadata": {},
     "output_type": "execute_result"
    }
   ],
   "source": [
    "query_16 =  db.orders.aggregate([\n",
    "   {\n",
    "     '$lookup':\n",
    "       {\n",
    "         'from': \"customers\" ,\n",
    "         'localField': \"customer_id\" ,\n",
    "         'foreignField': \"customer_id\" ,\n",
    "         'as': \"customer_info\"\n",
    "       }\n",
    "   },\n",
    "    \n",
    "    {'$unwind': { 'path': \"$customer_info\" , 'preserveNullAndEmptyArrays': True}},\n",
    "    \n",
    "    {'$project': {\"_id\": 0,\n",
    "                  \"quantity\": \"$quantity\",\n",
    "                  \"email\": \"$customer_info.email\",\n",
    "                  \"phone\": \"$customer_info.phone\"}},\n",
    "    \n",
    "    {\"$match\" : {\"quantity\" : {\"$gt\" : 1}}}\n",
    "    ]) \n",
    "\n",
    "MongoDB_to_DataFrame(query_16) "
   ]
  },
  {
   "cell_type": "markdown",
   "metadata": {
    "id": "x_2u9g42-CKd"
   },
   "source": [
    "####  Example 17: `Who placed an order with date after 10th July 2016?` \n",
    "\n",
    "Retrieve their email and phone numbers as their identifier, as well as the order number and order date. "
   ]
  },
  {
   "cell_type": "code",
   "execution_count": null,
   "metadata": {
    "id": "X8-_ZgZB-CKd",
    "outputId": "3c39cf0c-4f7c-4adf-9fc5-acbfb6ad4a00"
   },
   "outputs": [
    {
     "data": {
      "text/html": [
       "<div>\n",
       "<style scoped>\n",
       "    .dataframe tbody tr th:only-of-type {\n",
       "        vertical-align: middle;\n",
       "    }\n",
       "\n",
       "    .dataframe tbody tr th {\n",
       "        vertical-align: top;\n",
       "    }\n",
       "\n",
       "    .dataframe thead th {\n",
       "        text-align: right;\n",
       "    }\n",
       "</style>\n",
       "<table border=\"1\" class=\"dataframe\">\n",
       "  <thead>\n",
       "    <tr style=\"text-align: right;\">\n",
       "      <th></th>\n",
       "      <th>date</th>\n",
       "      <th>email</th>\n",
       "      <th>phone</th>\n",
       "    </tr>\n",
       "  </thead>\n",
       "  <tbody>\n",
       "    <tr>\n",
       "      <th>0</th>\n",
       "      <td>07/12/2016</td>\n",
       "      <td>matt@test.com</td>\n",
       "      <td>NaN</td>\n",
       "    </tr>\n",
       "    <tr>\n",
       "      <th>1</th>\n",
       "      <td>07/20/2016</td>\n",
       "      <td>arun@test.com</td>\n",
       "      <td>510-149-9782</td>\n",
       "    </tr>\n",
       "  </tbody>\n",
       "</table>\n",
       "</div>"
      ],
      "text/plain": [
       "         date          email         phone\n",
       "0  07/12/2016  matt@test.com           NaN\n",
       "1  07/20/2016  arun@test.com  510-149-9782"
      ]
     },
     "execution_count": 124,
     "metadata": {},
     "output_type": "execute_result"
    }
   ],
   "source": [
    "query_17 =  db.orders.aggregate([\n",
    "   {\n",
    "     '$lookup':\n",
    "       {\n",
    "         'from': \"customers\" ,\n",
    "         'localField': \"customer_id\" ,\n",
    "         'foreignField': \"customer_id\" ,\n",
    "         'as': \"customer_info\"\n",
    "       }\n",
    "   },\n",
    "    \n",
    "    {'$unwind': { 'path': \"$customer_info\" , 'preserveNullAndEmptyArrays': True}},\n",
    "    \n",
    "    {'$project': {\"_id\": 0,\n",
    "                  \"date\": \"$date\",\n",
    "                  \"email\": \"$customer_info.email\",\n",
    "                  \"phone\": \"$customer_info.phone\"}},\n",
    "    \n",
    "    {\"$match\" : {\"date\" : {\"$gte\" : '07/10/2016'}}}\n",
    "    ]) \n",
    "\n",
    "MongoDB_to_DataFrame(query_17) "
   ]
  },
  {
   "cell_type": "markdown",
   "metadata": {
    "id": "ylppAVoM-CKd"
   },
   "source": [
    "###  Exercice 4: Who placed an order containing the \"RayMan 4\" game?\n",
    "\n",
    "`SELECT g.game_name as game, CONCAT(c.first_name, \" \", c.last_name)  as customer_full_name,` \n",
    "\n",
    "`FROM orders o LEFT JOIN games g on g.game_id = o.game_id LEFT JOIN customers c on c.customer_id = o.customer_id`\n",
    "\n",
    "`WHERE g.game_name = \"RayMan 4\"` \n",
    "\n",
    "--- "
   ]
  },
  {
   "cell_type": "code",
   "execution_count": null,
   "metadata": {
    "id": "uYMpTTTy-CKd",
    "outputId": "40e0e19f-069a-400e-e183-3b6f3457870a"
   },
   "outputs": [
    {
     "data": {
      "text/html": [
       "<div>\n",
       "<style scoped>\n",
       "    .dataframe tbody tr th:only-of-type {\n",
       "        vertical-align: middle;\n",
       "    }\n",
       "\n",
       "    .dataframe tbody tr th {\n",
       "        vertical-align: top;\n",
       "    }\n",
       "\n",
       "    .dataframe thead th {\n",
       "        text-align: right;\n",
       "    }\n",
       "</style>\n",
       "<table border=\"1\" class=\"dataframe\">\n",
       "  <thead>\n",
       "    <tr style=\"text-align: right;\">\n",
       "      <th></th>\n",
       "      <th>game</th>\n",
       "      <th>customer_full_name</th>\n",
       "      <th>total_price</th>\n",
       "    </tr>\n",
       "  </thead>\n",
       "  <tbody>\n",
       "    <tr>\n",
       "      <th>0</th>\n",
       "      <td>RayMan 4</td>\n",
       "      <td>Arun Gupta</td>\n",
       "      <td>59.99</td>\n",
       "    </tr>\n",
       "  </tbody>\n",
       "</table>\n",
       "</div>"
      ],
      "text/plain": [
       "       game customer_full_name  total_price\n",
       "0  RayMan 4         Arun Gupta        59.99"
      ]
     },
     "execution_count": 92,
     "metadata": {},
     "output_type": "execute_result"
    }
   ],
   "source": [
    "ex_4 =  db.orders.aggregate([\n",
    "   {\n",
    "     '$lookup':\n",
    "       {\n",
    "         'from': \"customers\",\n",
    "         'localField': \"customer_id\",\n",
    "         'foreignField': \"customer_id\",\n",
    "         'as': \"customer_info\"\n",
    "       }\n",
    "   },\n",
    "    {\n",
    "     '$lookup':\n",
    "       {\n",
    "         'from': \"games\",\n",
    "         'localField': \"game_id\",\n",
    "         'foreignField': \"game_id\",\n",
    "         'as': \"game_info\"\n",
    "       }\n",
    "   },\n",
    "    \n",
    "    {'$unwind': { 'path': \"$customer_info\", 'preserveNullAndEmptyArrays': True}},\n",
    "    {'$unwind': { 'path': \"$game_info\", 'preserveNullAndEmptyArrays': True}},\n",
    "    \n",
    "    ## Use $project operator : it passes along the documents with the requested fields \n",
    "    ## to the next stage in the pipeline. The specified fields can be existing fields \n",
    "    ## from the input documents or newly computed fields --> similar to pi projector! \n",
    "    \n",
    "    {'$project': {\"_id\": 0,\n",
    "                  \"game\" : \"$game_info.game_name\",\n",
    "                  'customer_full_name': {'$concat': [\"$customer_info.first_name\", \" \", \"$customer_info.last_name\"]},\n",
    "                  }},\n",
    "    \n",
    "    ## Use $match operator to filter the rows (similar to select (sigma) operator in RA!)\n",
    "    {\"$match\" : {\"game\" : {\"$eq\" : 'RayMan 4'}}}\n",
    "    \n",
    "    ]) \n",
    "\n",
    "MongoDB_to_DataFrame(ex4) "
   ]
  },
  {
   "cell_type": "markdown",
   "metadata": {
    "deletable": false,
    "editable": false,
    "id": "PcuCjFBn-CKd"
   },
   "source": [
    "## Appendix - Discussion on primary keys"
   ]
  },
  {
   "cell_type": "markdown",
   "metadata": {
    "deletable": false,
    "editable": false,
    "id": "Olb8QDmR-CKe"
   },
   "source": [
    "- MongoDB is a NoSQL database : there is no concept of tables or no direct support of foreign keys, primary keys or identifying relationships. \n",
    "\n",
    "\n",
    "- Mongodb is not build on ACID properties but CAP theorem: it encourages to put relevant data into a single collection rather than putting into multiple collections and then map those multiple collections using foreign keys. \n",
    "\n",
    "\n",
    "- Remember that each document doesn't have any field (NoSQL equivalent of a SQL attribute/column) strictly required. To uniquely identify each document and be able to access it efficiently in the distributed databases, MongoDB generates a unique id for each document in the collection (the Object ID hashed key). This unique identifier can be modified by the DB designer to be a certain attribute from the collection: this attribute will act like a primary key. "
   ]
  },
  {
   "cell_type": "code",
   "execution_count": null,
   "metadata": {
    "id": "9xC-T7Sj-CKe",
    "outputId": "da52ab47-1a2d-4d46-e95d-24de37417fe0"
   },
   "outputs": [
    {
     "data": {
      "text/html": [
       "<div>\n",
       "<style scoped>\n",
       "    .dataframe tbody tr th:only-of-type {\n",
       "        vertical-align: middle;\n",
       "    }\n",
       "\n",
       "    .dataframe tbody tr th {\n",
       "        vertical-align: top;\n",
       "    }\n",
       "\n",
       "    .dataframe thead th {\n",
       "        text-align: right;\n",
       "    }\n",
       "</style>\n",
       "<table border=\"1\" class=\"dataframe\">\n",
       "  <thead>\n",
       "    <tr style=\"text-align: right;\">\n",
       "      <th></th>\n",
       "      <th>_id</th>\n",
       "      <th>game_name</th>\n",
       "      <th>price</th>\n",
       "    </tr>\n",
       "  </thead>\n",
       "  <tbody>\n",
       "    <tr>\n",
       "      <th>0</th>\n",
       "      <td>11</td>\n",
       "      <td>Pokemon Red</td>\n",
       "      <td>29.99</td>\n",
       "    </tr>\n",
       "    <tr>\n",
       "      <th>1</th>\n",
       "      <td>12</td>\n",
       "      <td>Dake Soul Red III</td>\n",
       "      <td>59.99</td>\n",
       "    </tr>\n",
       "    <tr>\n",
       "      <th>2</th>\n",
       "      <td>13</td>\n",
       "      <td>RayMan 4</td>\n",
       "      <td>59.99</td>\n",
       "    </tr>\n",
       "    <tr>\n",
       "      <th>3</th>\n",
       "      <td>14</td>\n",
       "      <td>Super Smash Bros</td>\n",
       "      <td>49.99</td>\n",
       "    </tr>\n",
       "  </tbody>\n",
       "</table>\n",
       "</div>"
      ],
      "text/plain": [
       "   _id          game_name  price\n",
       "0   11        Pokemon Red  29.99\n",
       "1   12  Dake Soul Red III  59.99\n",
       "2   13           RayMan 4  59.99\n",
       "3   14   Super Smash Bros  49.99"
      ]
     },
     "execution_count": 85,
     "metadata": {},
     "output_type": "execute_result"
    }
   ],
   "source": [
    "df_games_V2 = pd.DataFrame(data = {'_id': [11, 12, 13, 14],  #call your primary key _id\n",
    "                                   'game_name': ['Pokemon Red', 'Dake Soul Red III', 'RayMan 4', 'Super Smash Bros'],\n",
    "                                   'price' : [29.99, 59.99, 59.99, 49.99]\n",
    "                                  })\n",
    "df_games_V2.head()"
   ]
  },
  {
   "cell_type": "code",
   "execution_count": null,
   "metadata": {
    "id": "LL-3pBfE-CKe",
    "outputId": "82fe7836-fa4d-4374-d891-9166bd725a8e"
   },
   "outputs": [
    {
     "data": {
      "text/html": [
       "<div>\n",
       "<style scoped>\n",
       "    .dataframe tbody tr th:only-of-type {\n",
       "        vertical-align: middle;\n",
       "    }\n",
       "\n",
       "    .dataframe tbody tr th {\n",
       "        vertical-align: top;\n",
       "    }\n",
       "\n",
       "    .dataframe thead th {\n",
       "        text-align: right;\n",
       "    }\n",
       "</style>\n",
       "<table border=\"1\" class=\"dataframe\">\n",
       "  <thead>\n",
       "    <tr style=\"text-align: right;\">\n",
       "      <th></th>\n",
       "      <th>game_id</th>\n",
       "      <th>game_name</th>\n",
       "      <th>price</th>\n",
       "    </tr>\n",
       "  </thead>\n",
       "  <tbody>\n",
       "    <tr>\n",
       "      <th>0</th>\n",
       "      <td>11</td>\n",
       "      <td>Pokemon Red</td>\n",
       "      <td>29.99</td>\n",
       "    </tr>\n",
       "    <tr>\n",
       "      <th>1</th>\n",
       "      <td>12</td>\n",
       "      <td>Dake Soul Red III</td>\n",
       "      <td>59.99</td>\n",
       "    </tr>\n",
       "    <tr>\n",
       "      <th>2</th>\n",
       "      <td>13</td>\n",
       "      <td>RayMan 4</td>\n",
       "      <td>59.99</td>\n",
       "    </tr>\n",
       "    <tr>\n",
       "      <th>3</th>\n",
       "      <td>14</td>\n",
       "      <td>Super Smash Bros</td>\n",
       "      <td>49.99</td>\n",
       "    </tr>\n",
       "  </tbody>\n",
       "</table>\n",
       "</div>"
      ],
      "text/plain": [
       "   game_id          game_name  price\n",
       "0       11        Pokemon Red  29.99\n",
       "1       12  Dake Soul Red III  59.99\n",
       "2       13           RayMan 4  59.99\n",
       "3       14   Super Smash Bros  49.99"
      ]
     },
     "execution_count": 86,
     "metadata": {},
     "output_type": "execute_result"
    }
   ],
   "source": [
    "df_games"
   ]
  },
  {
   "cell_type": "code",
   "execution_count": null,
   "metadata": {
    "id": "D5nlY59d-CKe",
    "outputId": "8160bf71-8984-4d7c-bddf-7a922985a2a5"
   },
   "outputs": [
    {
     "data": {
      "text/plain": [
       "{'_id': 11, 'game_name': 'Pokemon Red', 'price': 29.99}"
      ]
     },
     "execution_count": 87,
     "metadata": {},
     "output_type": "execute_result"
    }
   ],
   "source": [
    "games_dict_V2 = df_games_V2.to_dict('records')\n",
    "games_V2 = db[\"games_V2\"]\n",
    "games_V2.insert_many(games_dict_V2) \n",
    "db.games_V2.find_one()"
   ]
  },
  {
   "cell_type": "code",
   "execution_count": null,
   "metadata": {
    "id": "RX94CSPW-CKe",
    "outputId": "b469cdd6-cf28-4e96-deec-144e096a9bf4"
   },
   "outputs": [
    {
     "data": {
      "text/plain": [
       "{'_id': ObjectId('6262e82e6616b35169253973'),\n",
       " 'game_id': 11,\n",
       " 'game_name': 'Pokemon Red',\n",
       " 'price': 29.99}"
      ]
     },
     "execution_count": 88,
     "metadata": {},
     "output_type": "execute_result"
    }
   ],
   "source": [
    "db.games.find_one()"
   ]
  },
  {
   "cell_type": "code",
   "execution_count": null,
   "metadata": {
    "id": "M4Ms9ntI-CKe",
    "outputId": "a48a04b6-16fd-4ce1-9b5f-0d7938012c90"
   },
   "outputs": [
    {
     "data": {
      "text/html": [
       "<div>\n",
       "<style scoped>\n",
       "    .dataframe tbody tr th:only-of-type {\n",
       "        vertical-align: middle;\n",
       "    }\n",
       "\n",
       "    .dataframe tbody tr th {\n",
       "        vertical-align: top;\n",
       "    }\n",
       "\n",
       "    .dataframe thead th {\n",
       "        text-align: right;\n",
       "    }\n",
       "</style>\n",
       "<table border=\"1\" class=\"dataframe\">\n",
       "  <thead>\n",
       "    <tr style=\"text-align: right;\">\n",
       "      <th></th>\n",
       "      <th>_id</th>\n",
       "      <th>game_name</th>\n",
       "      <th>price</th>\n",
       "    </tr>\n",
       "  </thead>\n",
       "  <tbody>\n",
       "    <tr>\n",
       "      <th>0</th>\n",
       "      <td>11</td>\n",
       "      <td>Pokemon Red</td>\n",
       "      <td>29.99</td>\n",
       "    </tr>\n",
       "    <tr>\n",
       "      <th>1</th>\n",
       "      <td>12</td>\n",
       "      <td>Dake Soul Red III</td>\n",
       "      <td>59.99</td>\n",
       "    </tr>\n",
       "    <tr>\n",
       "      <th>2</th>\n",
       "      <td>13</td>\n",
       "      <td>RayMan 4</td>\n",
       "      <td>59.99</td>\n",
       "    </tr>\n",
       "    <tr>\n",
       "      <th>3</th>\n",
       "      <td>14</td>\n",
       "      <td>Super Smash Bros</td>\n",
       "      <td>49.99</td>\n",
       "    </tr>\n",
       "  </tbody>\n",
       "</table>\n",
       "</div>"
      ],
      "text/plain": [
       "   _id          game_name  price\n",
       "0   11        Pokemon Red  29.99\n",
       "1   12  Dake Soul Red III  59.99\n",
       "2   13           RayMan 4  59.99\n",
       "3   14   Super Smash Bros  49.99"
      ]
     },
     "execution_count": 89,
     "metadata": {},
     "output_type": "execute_result"
    }
   ],
   "source": [
    "query_V2 = db.games_V2.find({},\n",
    "                            {'game_name': 1, 'price': 1}\n",
    "                           ) \n",
    "MongoDB_to_DataFrame(query_V2)"
   ]
  },
  {
   "cell_type": "code",
   "execution_count": null,
   "metadata": {
    "id": "-gjQjdBM-CKe",
    "outputId": "eba1fbaa-a898-451d-d2fd-fb36be9d4828"
   },
   "outputs": [
    {
     "data": {
      "text/html": [
       "<div>\n",
       "<style scoped>\n",
       "    .dataframe tbody tr th:only-of-type {\n",
       "        vertical-align: middle;\n",
       "    }\n",
       "\n",
       "    .dataframe tbody tr th {\n",
       "        vertical-align: top;\n",
       "    }\n",
       "\n",
       "    .dataframe thead th {\n",
       "        text-align: right;\n",
       "    }\n",
       "</style>\n",
       "<table border=\"1\" class=\"dataframe\">\n",
       "  <thead>\n",
       "    <tr style=\"text-align: right;\">\n",
       "      <th></th>\n",
       "      <th>_id</th>\n",
       "      <th>game_name</th>\n",
       "      <th>price</th>\n",
       "    </tr>\n",
       "  </thead>\n",
       "  <tbody>\n",
       "    <tr>\n",
       "      <th>0</th>\n",
       "      <td>6262e82e6616b35169253973</td>\n",
       "      <td>Pokemon Red</td>\n",
       "      <td>29.99</td>\n",
       "    </tr>\n",
       "    <tr>\n",
       "      <th>1</th>\n",
       "      <td>6262e82e6616b35169253974</td>\n",
       "      <td>Dake Soul Red III</td>\n",
       "      <td>59.99</td>\n",
       "    </tr>\n",
       "    <tr>\n",
       "      <th>2</th>\n",
       "      <td>6262e82e6616b35169253975</td>\n",
       "      <td>RayMan 4</td>\n",
       "      <td>59.99</td>\n",
       "    </tr>\n",
       "    <tr>\n",
       "      <th>3</th>\n",
       "      <td>6262e82e6616b35169253976</td>\n",
       "      <td>Super Smash Bros</td>\n",
       "      <td>49.99</td>\n",
       "    </tr>\n",
       "  </tbody>\n",
       "</table>\n",
       "</div>"
      ],
      "text/plain": [
       "                        _id          game_name  price\n",
       "0  6262e82e6616b35169253973        Pokemon Red  29.99\n",
       "1  6262e82e6616b35169253974  Dake Soul Red III  59.99\n",
       "2  6262e82e6616b35169253975           RayMan 4  59.99\n",
       "3  6262e82e6616b35169253976   Super Smash Bros  49.99"
      ]
     },
     "execution_count": 90,
     "metadata": {},
     "output_type": "execute_result"
    }
   ],
   "source": [
    "query_V1 = db.games.find({},\n",
    "                            {'game_name': 1, 'price': 1}\n",
    "                           ) \n",
    "MongoDB_to_DataFrame(query_V1)"
   ]
  },
  {
   "cell_type": "code",
   "execution_count": null,
   "metadata": {
    "id": "cpimSrpd-CKe"
   },
   "outputs": [],
   "source": [
    "#db.games_V2.drop()"
   ]
  },
  {
   "cell_type": "markdown",
   "metadata": {
    "deletable": false,
    "editable": false,
    "id": "RPfExnj1-CKe"
   },
   "source": [
    "### Additional resources: \n",
    "\n",
    "[MongoDB documentation on MDB database design rules](https://www.mongodb.com/blog/post/6-rules-of-thumb-for-mongodb-schema-design-part-1) <br>\n",
    "[What is MongoDB _Object id_ and how to use it](https://orangematter.solarwinds.com/2019/12/22/what-is-mongodbs-id-field-and-how-to-use-it/) <br>"
   ]
  },
  {
   "cell_type": "code",
   "execution_count": null,
   "metadata": {
    "id": "o7ojubd2-CKe"
   },
   "outputs": [],
   "source": []
  }
 ],
 "metadata": {
  "celltoolbar": "Éditer les Méta-Données",
  "colab": {
   "name": "Lab12Final (1).ipynb",
   "provenance": []
  },
  "kernelspec": {
   "display_name": "Python 3",
   "language": "python",
   "name": "python3"
  },
  "language_info": {
   "codemirror_mode": {
    "name": "ipython",
    "version": 3
   },
   "file_extension": ".py",
   "mimetype": "text/x-python",
   "name": "python",
   "nbconvert_exporter": "python",
   "pygments_lexer": "ipython3",
   "version": "3.8.5"
  }
 },
 "nbformat": 4,
 "nbformat_minor": 4
}
