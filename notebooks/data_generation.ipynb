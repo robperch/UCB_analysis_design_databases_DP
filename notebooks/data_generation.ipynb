{
 "cells": [
  {
   "cell_type": "markdown",
   "id": "82c1d7a8-d74e-45e1-8937-264331e6d38a",
   "metadata": {},
   "source": [
    "# Data Generation\n",
    "- Notebook created to generate artificial related to the Design Project (DP)"
   ]
  },
  {
   "cell_type": "markdown",
   "id": "a39b9c02-bb43-4f69-a257-19541952f364",
   "metadata": {},
   "source": [
    "---"
   ]
  },
  {
   "cell_type": "markdown",
   "id": "4154f37d-fde6-4cef-8617-114a3a2d7d8e",
   "metadata": {},
   "source": [
    "# "
   ]
  },
  {
   "cell_type": "markdown",
   "id": "07f35b20-b39d-4768-aa72-f4e4c32ca0e0",
   "metadata": {
    "tags": []
   },
   "source": [
    "# Imports"
   ]
  },
  {
   "cell_type": "markdown",
   "id": "a98dbaa6-17e1-4b79-93f0-d142aedd0037",
   "metadata": {},
   "source": [
    "#### Standard library imports"
   ]
  },
  {
   "cell_type": "code",
   "execution_count": 1,
   "id": "63099808-51cd-453c-976a-f3060b8650aa",
   "metadata": {
    "execution": {
     "iopub.execute_input": "2023-05-01T02:50:50.875886Z",
     "iopub.status.busy": "2023-05-01T02:50:50.875245Z",
     "iopub.status.idle": "2023-05-01T02:50:50.890906Z",
     "shell.execute_reply": "2023-05-01T02:50:50.888233Z",
     "shell.execute_reply.started": "2023-05-01T02:50:50.875793Z"
    },
    "tags": []
   },
   "outputs": [],
   "source": [
    "import sys\n",
    "sys.path.append(\"../\")\n",
    "import os\n",
    "import uuid\n",
    "import random"
   ]
  },
  {
   "cell_type": "markdown",
   "id": "b94ec94d-0d78-4ec3-a21c-353ccf52eec6",
   "metadata": {},
   "source": [
    "#### Third party imports"
   ]
  },
  {
   "cell_type": "code",
   "execution_count": 2,
   "id": "9e4989d0-ba3a-41cf-8ccb-44cade842a03",
   "metadata": {
    "execution": {
     "iopub.execute_input": "2023-05-01T02:50:50.894785Z",
     "iopub.status.busy": "2023-05-01T02:50:50.893651Z",
     "iopub.status.idle": "2023-05-01T02:50:50.912865Z",
     "shell.execute_reply": "2023-05-01T02:50:50.911787Z",
     "shell.execute_reply.started": "2023-05-01T02:50:50.894730Z"
    },
    "tags": []
   },
   "outputs": [],
   "source": [
    "import pydbgen\n",
    "from pydbgen import pydbgen"
   ]
  },
  {
   "cell_type": "markdown",
   "id": "48755fa3-cba0-4508-9df2-18d50f60551b",
   "metadata": {},
   "source": [
    "#### Local application imports"
   ]
  },
  {
   "cell_type": "code",
   "execution_count": 3,
   "id": "a62e34a6-dea0-48d6-a3bc-c5dcdcdb1718",
   "metadata": {
    "execution": {
     "iopub.execute_input": "2023-05-01T02:50:50.915021Z",
     "iopub.status.busy": "2023-05-01T02:50:50.914286Z",
     "iopub.status.idle": "2023-05-01T02:50:52.161104Z",
     "shell.execute_reply": "2023-05-01T02:50:52.160009Z",
     "shell.execute_reply.started": "2023-05-01T02:50:50.914985Z"
    },
    "tags": []
   },
   "outputs": [],
   "source": [
    "%load_ext autoreload\n",
    "%autoreload 2\n",
    "\n",
    "from pkg_dir.config import *\n",
    "from pkg_dir.src.utils import *\n",
    "from pkg_dir.src.functions import *\n",
    "from pkg_dir.src.parameters import *"
   ]
  },
  {
   "cell_type": "markdown",
   "id": "537c00bd-4e53-4d22-a646-2c46725afdce",
   "metadata": {
    "tags": []
   },
   "source": [
    "###"
   ]
  },
  {
   "cell_type": "markdown",
   "id": "86ca7f09-0e42-473f-91fe-825145c0bb28",
   "metadata": {
    "tags": []
   },
   "source": [
    "# Setting parameters"
   ]
  },
  {
   "cell_type": "code",
   "execution_count": 6,
   "id": "913a26b3-e2d2-47c0-9304-6c94c76ad8b0",
   "metadata": {
    "execution": {
     "iopub.execute_input": "2023-05-01T02:51:08.806749Z",
     "iopub.status.busy": "2023-05-01T02:51:08.806299Z",
     "iopub.status.idle": "2023-05-01T02:51:08.844775Z",
     "shell.execute_reply": "2023-05-01T02:51:08.843516Z",
     "shell.execute_reply.started": "2023-05-01T02:51:08.806711Z"
    },
    "tags": []
   },
   "outputs": [],
   "source": [
    "entries = 30\n",
    "no_products = 25"
   ]
  },
  {
   "cell_type": "markdown",
   "id": "248dbc5e-e423-4aef-96c3-e97de6a15c7e",
   "metadata": {
    "tags": []
   },
   "source": [
    "###"
   ]
  },
  {
   "cell_type": "markdown",
   "id": "98a49411-0a9b-400b-9ce1-2c8e0847c3b2",
   "metadata": {
    "tags": []
   },
   "source": [
    "# Initializing `pydb` object"
   ]
  },
  {
   "cell_type": "code",
   "execution_count": 4,
   "id": "6f928c4b-2b22-47af-82fb-1fc128eac9f9",
   "metadata": {
    "execution": {
     "iopub.execute_input": "2023-05-01T02:50:59.005312Z",
     "iopub.status.busy": "2023-05-01T02:50:59.004822Z",
     "iopub.status.idle": "2023-05-01T02:50:59.231276Z",
     "shell.execute_reply": "2023-05-01T02:50:59.230387Z",
     "shell.execute_reply.started": "2023-05-01T02:50:59.005281Z"
    }
   },
   "outputs": [],
   "source": [
    "myDB = pydbgen.pydb()"
   ]
  },
  {
   "cell_type": "markdown",
   "id": "4586bc2a-5c01-496c-a143-dddd3cdb40bf",
   "metadata": {
    "tags": []
   },
   "source": [
    "###"
   ]
  },
  {
   "cell_type": "markdown",
   "id": "f7583dc2-8e70-4947-86a5-c3f35ca428b9",
   "metadata": {
    "tags": []
   },
   "source": [
    "# Generating data with pydf"
   ]
  },
  {
   "cell_type": "code",
   "execution_count": 13,
   "id": "53ad93c0-7ac0-40fb-8aa7-dd4b321c2c97",
   "metadata": {
    "execution": {
     "iopub.execute_input": "2023-05-01T02:53:42.925118Z",
     "iopub.status.busy": "2023-05-01T02:53:42.924697Z",
     "iopub.status.idle": "2023-05-01T02:53:42.965419Z",
     "shell.execute_reply": "2023-05-01T02:53:42.964324Z",
     "shell.execute_reply.started": "2023-05-01T02:53:42.925083Z"
    },
    "tags": []
   },
   "outputs": [],
   "source": [
    "df = myDB.gen_dataframe(\n",
    "    entries, \n",
    "    [\n",
    "        # 'Inv_ID', ## Inv_ID\n",
    "        # 'Prod_ID', ## Prod_ID\n",
    "        # 'Item_condition', ## Item_condition\n",
    "        # 'SizeColor', ## SizeColor\n",
    "        # 'List_Price', ## List_Price\n",
    "        # 'date', ## Signed_Date\n",
    "        'physical address', ## Signed_Date\n",
    "        # 'Purchase_ID', ## Purchase_ID\n",
    "        # 'Boutique', ## Boutique\n",
    "        # 'Appraiser_ID', ## Appraiser_ID\n",
    "        # 'Consignor_ID', ## Consignor_ID\n",
    "        # 'Commission_Rate', ## Commission_Rate\n",
    "        # 'Discount', ## Discount\n",
    "    ]\n",
    ")"
   ]
  },
  {
   "cell_type": "markdown",
   "id": "aff5dbb5-8c8b-40be-8658-cc0a11de1832",
   "metadata": {
    "tags": []
   },
   "source": [
    "###"
   ]
  },
  {
   "cell_type": "markdown",
   "id": "6ac9fb4a-3b6d-4b67-b885-490aa5aee1b5",
   "metadata": {},
   "source": [
    "# Generating additional data"
   ]
  },
  {
   "cell_type": "markdown",
   "id": "ab353b28-f15b-4ff2-a10d-ab0bde311ec4",
   "metadata": {},
   "source": [
    "#### `Prod_ID`"
   ]
  },
  {
   "cell_type": "code",
   "execution_count": 12,
   "id": "0acaecef-3da8-4d5c-a4b0-8761eab76123",
   "metadata": {
    "execution": {
     "iopub.execute_input": "2023-05-01T02:52:42.747936Z",
     "iopub.status.busy": "2023-05-01T02:52:42.747519Z",
     "iopub.status.idle": "2023-05-01T02:52:42.788842Z",
     "shell.execute_reply": "2023-05-01T02:52:42.787557Z",
     "shell.execute_reply.started": "2023-05-01T02:52:42.747899Z"
    },
    "scrolled": true,
    "tags": []
   },
   "outputs": [
    {
     "data": {
      "text/plain": [
       "[8,\n",
       " 3,\n",
       " 6,\n",
       " 20,\n",
       " 9,\n",
       " 6,\n",
       " 7,\n",
       " 15,\n",
       " 11,\n",
       " 25,\n",
       " 13,\n",
       " 7,\n",
       " 3,\n",
       " 5,\n",
       " 5,\n",
       " 18,\n",
       " 3,\n",
       " 19,\n",
       " 22,\n",
       " 24,\n",
       " 22,\n",
       " 4,\n",
       " 22,\n",
       " 2,\n",
       " 17,\n",
       " 12,\n",
       " 9,\n",
       " 10,\n",
       " 11,\n",
       " 9]"
      ]
     },
     "execution_count": 12,
     "metadata": {},
     "output_type": "execute_result"
    }
   ],
   "source": [
    "[random.randint(1, no_products) for val in range(0, entries)]"
   ]
  },
  {
   "cell_type": "markdown",
   "id": "9296e967-a6cf-494f-8808-1911f1388cab",
   "metadata": {},
   "source": [
    "## "
   ]
  },
  {
   "cell_type": "markdown",
   "id": "9c81c597-5949-4e3f-a1ba-7f9349b2d62b",
   "metadata": {},
   "source": [
    "# Generate data for NoSQL database"
   ]
  },
  {
   "cell_type": "markdown",
   "id": "0216b6eb-82e0-4bb7-9735-5a4b4ed40d7e",
   "metadata": {
    "tags": []
   },
   "source": [
    "##### `person`"
   ]
  },
  {
   "cell_type": "code",
   "execution_count": 15,
   "id": "a34436a0-1df4-444f-bb58-d0ce71c68e64",
   "metadata": {
    "execution": {
     "iopub.execute_input": "2023-05-01T03:14:47.658564Z",
     "iopub.status.busy": "2023-05-01T03:14:47.657546Z",
     "iopub.status.idle": "2023-05-01T03:14:47.757050Z",
     "shell.execute_reply": "2023-05-01T03:14:47.754566Z",
     "shell.execute_reply.started": "2023-05-01T03:14:47.658453Z"
    }
   },
   "outputs": [
    {
     "data": {
      "text/plain": [
       "{'Employee_ID': 1,\n",
       " 'SSN': 123,\n",
       " 'Store': 1,\n",
       " 'Union': 1,\n",
       " 'Working_Days': ['M', 'W']}"
      ]
     },
     "execution_count": 15,
     "metadata": {},
     "output_type": "execute_result"
    }
   ],
   "source": [
    "## Employee\n",
    "{\n",
    "    'Employee_ID': 1,\n",
    "    'SSN': 123,\n",
    "    'Store': 1,\n",
    "    'Union': 1,\n",
    "    'Working_Days': [\n",
    "        'M',\n",
    "        'W',\n",
    "    ],\n",
    "    \n",
    "    'Appraiser': 1,\n",
    "    'Store_staff': 1,\n",
    "}"
   ]
  },
  {
   "cell_type": "code",
   "execution_count": 16,
   "id": "6324ba6b-cfce-4f5b-9b52-b50a18bccc23",
   "metadata": {
    "execution": {
     "iopub.execute_input": "2023-05-01T03:18:40.944761Z",
     "iopub.status.busy": "2023-05-01T03:18:40.944346Z",
     "iopub.status.idle": "2023-05-01T03:18:40.986331Z",
     "shell.execute_reply": "2023-05-01T03:18:40.985307Z",
     "shell.execute_reply.started": "2023-05-01T03:18:40.944727Z"
    },
    "tags": []
   },
   "outputs": [
    {
     "data": {
      "text/plain": [
       "{'Consignor_ID': 1, 'Bank_Acct_No': 987}"
      ]
     },
     "execution_count": 16,
     "metadata": {},
     "output_type": "execute_result"
    }
   ],
   "source": [
    "## Consignor\n",
    "{\n",
    "    'Consignor_ID': 1,\n",
    "    'Bank_Acct_No': 987,\n",
    "}"
   ]
  },
  {
   "cell_type": "code",
   "execution_count": 15,
   "id": "06e204e1-700a-4dca-af9b-c83fc9806865",
   "metadata": {
    "execution": {
     "iopub.execute_input": "2023-05-01T03:14:47.658564Z",
     "iopub.status.busy": "2023-05-01T03:14:47.657546Z",
     "iopub.status.idle": "2023-05-01T03:14:47.757050Z",
     "shell.execute_reply": "2023-05-01T03:14:47.754566Z",
     "shell.execute_reply.started": "2023-05-01T03:14:47.658453Z"
    }
   },
   "outputs": [
    {
     "data": {
      "text/plain": [
       "{'Employee_ID': 1,\n",
       " 'SSN': 123,\n",
       " 'Store': 1,\n",
       " 'Union': 1,\n",
       " 'Working_Days': ['M', 'W']}"
      ]
     },
     "execution_count": 15,
     "metadata": {},
     "output_type": "execute_result"
    }
   ],
   "source": [
    "## Customer\n",
    "{\n",
    "    'Customer_ID': 1,\n",
    "    'Membership': 543,\n",
    "}"
   ]
  },
  {
   "cell_type": "code",
   "execution_count": 15,
   "id": "e904a402-f5dd-40b1-8e41-0d50b31c4891",
   "metadata": {
    "execution": {
     "iopub.execute_input": "2023-05-01T03:14:47.658564Z",
     "iopub.status.busy": "2023-05-01T03:14:47.657546Z",
     "iopub.status.idle": "2023-05-01T03:14:47.757050Z",
     "shell.execute_reply": "2023-05-01T03:14:47.754566Z",
     "shell.execute_reply.started": "2023-05-01T03:14:47.658453Z"
    }
   },
   "outputs": [
    {
     "data": {
      "text/plain": [
       "{'Employee_ID': 1,\n",
       " 'SSN': 123,\n",
       " 'Store': 1,\n",
       " 'Union': 1,\n",
       " 'Working_Days': ['M', 'W']}"
      ]
     },
     "execution_count": 15,
     "metadata": {},
     "output_type": "execute_result"
    }
   ],
   "source": [
    "## Designer\n",
    "{\n",
    "    'Designer_ID': 1,\n",
    "}"
   ]
  },
  {
   "cell_type": "markdown",
   "id": "6a1ece0f-e742-45db-87f0-064dec4305db",
   "metadata": {},
   "source": [
    "##### `product`"
   ]
  },
  {
   "cell_type": "code",
   "execution_count": null,
   "id": "b671090a-b32e-4d11-a1f8-bab4f19f7a85",
   "metadata": {},
   "outputs": [],
   "source": [
    "## Style\n",
    "[\n",
    "    'newbie',\n",
    "]"
   ]
  },
  {
   "cell_type": "markdown",
   "id": "592f0a4f-5bbd-46ba-a00d-34859e1572ab",
   "metadata": {
    "tags": []
   },
   "source": [
    "###"
   ]
  },
  {
   "cell_type": "markdown",
   "id": "784be4db-1c06-43e0-a4da-86b1bbcde318",
   "metadata": {},
   "source": [
    "# *Notes*"
   ]
  },
  {
   "cell_type": "markdown",
   "id": "b34c662c-f724-412f-86d7-75647d9b5448",
   "metadata": {},
   "source": [
    "---"
   ]
  },
  {
   "cell_type": "markdown",
   "id": "168089c7-257b-4b61-9a65-803e32753196",
   "metadata": {},
   "source": [
    "---"
   ]
  }
 ],
 "metadata": {
  "kernelspec": {
   "display_name": "Python 3 (ipykernel)",
   "language": "python",
   "name": "python3"
  },
  "language_info": {
   "codemirror_mode": {
    "name": "ipython",
    "version": 3
   },
   "file_extension": ".py",
   "mimetype": "text/x-python",
   "name": "python",
   "nbconvert_exporter": "python",
   "pygments_lexer": "ipython3",
   "version": "3.9.1"
  },
  "toc-autonumbering": true
 },
 "nbformat": 4,
 "nbformat_minor": 5
}
