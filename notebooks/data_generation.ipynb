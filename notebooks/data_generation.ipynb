{
 "cells": [
  {
   "cell_type": "markdown",
   "id": "82c1d7a8-d74e-45e1-8937-264331e6d38a",
   "metadata": {},
   "source": [
    "# Data Generation\n",
    "- Notebook created to generate artificial related to the Design Project (DP)"
   ]
  },
  {
   "cell_type": "markdown",
   "id": "a39b9c02-bb43-4f69-a257-19541952f364",
   "metadata": {},
   "source": [
    "---"
   ]
  },
  {
   "cell_type": "markdown",
   "id": "4154f37d-fde6-4cef-8617-114a3a2d7d8e",
   "metadata": {},
   "source": [
    "# "
   ]
  },
  {
   "cell_type": "markdown",
   "id": "07f35b20-b39d-4768-aa72-f4e4c32ca0e0",
   "metadata": {
    "tags": []
   },
   "source": [
    "# Imports"
   ]
  },
  {
   "cell_type": "markdown",
   "id": "a98dbaa6-17e1-4b79-93f0-d142aedd0037",
   "metadata": {},
   "source": [
    "#### Standard library imports"
   ]
  },
  {
   "cell_type": "code",
   "execution_count": 13,
   "id": "63099808-51cd-453c-976a-f3060b8650aa",
   "metadata": {
    "execution": {
     "iopub.execute_input": "2023-04-24T04:13:35.634126Z",
     "iopub.status.busy": "2023-04-24T04:13:35.629241Z",
     "iopub.status.idle": "2023-04-24T04:13:35.729402Z",
     "shell.execute_reply": "2023-04-24T04:13:35.728114Z",
     "shell.execute_reply.started": "2023-04-24T04:13:35.634035Z"
    },
    "tags": []
   },
   "outputs": [],
   "source": [
    "import sys\n",
    "sys.path.append(\"../\")\n",
    "import os\n",
    "import uuid\n",
    "import random"
   ]
  },
  {
   "cell_type": "markdown",
   "id": "b94ec94d-0d78-4ec3-a21c-353ccf52eec6",
   "metadata": {},
   "source": [
    "#### Third party imports"
   ]
  },
  {
   "cell_type": "code",
   "execution_count": 12,
   "id": "9e4989d0-ba3a-41cf-8ccb-44cade842a03",
   "metadata": {
    "execution": {
     "iopub.execute_input": "2023-04-24T04:08:37.602267Z",
     "iopub.status.busy": "2023-04-24T04:08:37.597775Z",
     "iopub.status.idle": "2023-04-24T04:08:37.686456Z",
     "shell.execute_reply": "2023-04-24T04:08:37.685173Z",
     "shell.execute_reply.started": "2023-04-24T04:08:37.602182Z"
    },
    "tags": []
   },
   "outputs": [],
   "source": [
    "import pydbgen\n",
    "from pydbgen import pydbgen"
   ]
  },
  {
   "cell_type": "markdown",
   "id": "48755fa3-cba0-4508-9df2-18d50f60551b",
   "metadata": {},
   "source": [
    "#### Local application imports"
   ]
  },
  {
   "cell_type": "code",
   "execution_count": 3,
   "id": "a62e34a6-dea0-48d6-a3bc-c5dcdcdb1718",
   "metadata": {
    "execution": {
     "iopub.execute_input": "2023-04-24T03:55:22.607981Z",
     "iopub.status.busy": "2023-04-24T03:55:22.607459Z",
     "iopub.status.idle": "2023-04-24T03:55:23.738373Z",
     "shell.execute_reply": "2023-04-24T03:55:23.737350Z",
     "shell.execute_reply.started": "2023-04-24T03:55:22.607947Z"
    },
    "tags": []
   },
   "outputs": [],
   "source": [
    "%load_ext autoreload\n",
    "%autoreload 2\n",
    "\n",
    "from pkg_dir.config import *\n",
    "from pkg_dir.src.utils import *\n",
    "from pkg_dir.src.functions import *\n",
    "from pkg_dir.src.parameters import *"
   ]
  },
  {
   "cell_type": "markdown",
   "id": "537c00bd-4e53-4d22-a646-2c46725afdce",
   "metadata": {
    "tags": []
   },
   "source": [
    "###"
   ]
  },
  {
   "cell_type": "markdown",
   "id": "86ca7f09-0e42-473f-91fe-825145c0bb28",
   "metadata": {
    "tags": []
   },
   "source": [
    "# Setting parameters"
   ]
  },
  {
   "cell_type": "code",
   "execution_count": 20,
   "id": "913a26b3-e2d2-47c0-9304-6c94c76ad8b0",
   "metadata": {
    "execution": {
     "iopub.execute_input": "2023-04-24T04:19:30.638122Z",
     "iopub.status.busy": "2023-04-24T04:19:30.636928Z",
     "iopub.status.idle": "2023-04-24T04:19:30.686467Z",
     "shell.execute_reply": "2023-04-24T04:19:30.685482Z",
     "shell.execute_reply.started": "2023-04-24T04:19:30.638084Z"
    },
    "tags": []
   },
   "outputs": [],
   "source": [
    "entries = 30\n",
    "no_products = 25"
   ]
  },
  {
   "cell_type": "markdown",
   "id": "248dbc5e-e423-4aef-96c3-e97de6a15c7e",
   "metadata": {
    "tags": []
   },
   "source": [
    "###"
   ]
  },
  {
   "cell_type": "markdown",
   "id": "98a49411-0a9b-400b-9ce1-2c8e0847c3b2",
   "metadata": {
    "jp-MarkdownHeadingCollapsed": true,
    "tags": []
   },
   "source": [
    "# Initializing `pydb` object"
   ]
  },
  {
   "cell_type": "code",
   "execution_count": 4,
   "id": "6f928c4b-2b22-47af-82fb-1fc128eac9f9",
   "metadata": {
    "execution": {
     "iopub.execute_input": "2023-04-24T03:55:23.741573Z",
     "iopub.status.busy": "2023-04-24T03:55:23.741084Z",
     "iopub.status.idle": "2023-04-24T03:55:23.894922Z",
     "shell.execute_reply": "2023-04-24T03:55:23.894074Z",
     "shell.execute_reply.started": "2023-04-24T03:55:23.741543Z"
    }
   },
   "outputs": [],
   "source": [
    "myDB = pydbgen.pydb()"
   ]
  },
  {
   "cell_type": "markdown",
   "id": "4586bc2a-5c01-496c-a143-dddd3cdb40bf",
   "metadata": {
    "tags": []
   },
   "source": [
    "###"
   ]
  },
  {
   "cell_type": "markdown",
   "id": "f7583dc2-8e70-4947-86a5-c3f35ca428b9",
   "metadata": {
    "tags": []
   },
   "source": [
    "# Generating data with pydf"
   ]
  },
  {
   "cell_type": "code",
   "execution_count": 24,
   "id": "53ad93c0-7ac0-40fb-8aa7-dd4b321c2c97",
   "metadata": {
    "execution": {
     "iopub.execute_input": "2023-04-24T04:29:30.971338Z",
     "iopub.status.busy": "2023-04-24T04:29:30.963882Z",
     "iopub.status.idle": "2023-04-24T04:29:31.170421Z",
     "shell.execute_reply": "2023-04-24T04:29:31.169279Z",
     "shell.execute_reply.started": "2023-04-24T04:29:30.971241Z"
    },
    "tags": []
   },
   "outputs": [],
   "source": [
    "df = myDB.gen_dataframe(\n",
    "    entries, \n",
    "    [\n",
    "        # 'Inv_ID', ## Inv_ID\n",
    "        # 'Prod_ID', ## Prod_ID\n",
    "        # 'Item_condition', ## Item_condition\n",
    "        # 'SizeColor', ## SizeColor\n",
    "        # 'List_Price', ## List_Price\n",
    "        # 'date', ## Signed_Date\n",
    "        'physical address', ## Signed_Date\n",
    "        # 'Purchase_ID', ## Purchase_ID\n",
    "        # 'Boutique', ## Boutique\n",
    "        # 'Appraiser_ID', ## Appraiser_ID\n",
    "        # 'Consignor_ID', ## Consignor_ID\n",
    "        # 'Commission_Rate', ## Commission_Rate\n",
    "        # 'Discount', ## Discount\n",
    "    ]\n",
    ")"
   ]
  },
  {
   "cell_type": "code",
   "execution_count": 23,
   "id": "e582242b-52bf-48a0-81a5-0edd9859700a",
   "metadata": {
    "execution": {
     "iopub.execute_input": "2023-04-24T04:19:46.804932Z",
     "iopub.status.busy": "2023-04-24T04:19:46.804510Z",
     "iopub.status.idle": "2023-04-24T04:19:46.894905Z",
     "shell.execute_reply": "2023-04-24T04:19:46.894013Z",
     "shell.execute_reply.started": "2023-04-24T04:19:46.804895Z"
    }
   },
   "outputs": [],
   "source": [
    "df.to_csv('x.csv')"
   ]
  },
  {
   "cell_type": "markdown",
   "id": "aff5dbb5-8c8b-40be-8658-cc0a11de1832",
   "metadata": {
    "tags": []
   },
   "source": [
    "###"
   ]
  },
  {
   "cell_type": "markdown",
   "id": "6ac9fb4a-3b6d-4b67-b885-490aa5aee1b5",
   "metadata": {},
   "source": [
    "# Generating additional data"
   ]
  },
  {
   "cell_type": "markdown",
   "id": "ab353b28-f15b-4ff2-a10d-ab0bde311ec4",
   "metadata": {},
   "source": [
    "#### `Prod_ID`"
   ]
  },
  {
   "cell_type": "code",
   "execution_count": null,
   "id": "949e4c64-1888-4374-b6ba-4c28cf85e556",
   "metadata": {},
   "outputs": [],
   "source": [
    "random.randint(1, no_products)"
   ]
  },
  {
   "cell_type": "code",
   "execution_count": null,
   "id": "0acaecef-3da8-4d5c-a4b0-8761eab76123",
   "metadata": {},
   "outputs": [],
   "source": [
    "[random.randint(1, no_products) for val in range(0, entries)]"
   ]
  },
  {
   "cell_type": "code",
   "execution_count": null,
   "id": "26fc307c-f03d-4506-b548-b9335c95900c",
   "metadata": {},
   "outputs": [],
   "source": []
  },
  {
   "cell_type": "raw",
   "id": "541aa577-8076-4e3f-867e-baa44d04d7fa",
   "metadata": {},
   "source": [
    "2443 Sierra Nevada Road, Mammoth Lakes CA 93546\n",
    "915 Sacramento Street, Bakersfield CA 93305\n",
    "1300 Lemos Lane, Fremont CA 94539\n",
    "6214 Herzog Street, Oakland CA 94608\n",
    "1238 Roanwood Way, Concord CA 94521\n",
    "25538 Calaroga Avenue, Hayward CA 94545\n",
    "2313 Vegas Avenue, Castro Valley CA 94546\n",
    "1732 27th Avenue, Oakland CA 94601\n",
    "6420 Via Baron, Rancho Palos Verdes CA 90275\n",
    "19 Heritage, Oakland CA 94605\n",
    "6925 Lariat Lane, Castro Valley CA 94552\n",
    "125 John Street, Santa Cruz CA 95060\n",
    "3835 Oakes Drive, Hayward CA 94542\n",
    "36043 Soapberry Commons, Fremont CA 94536\n",
    "5805 Armada Drive, Carlsbad CA 92008\n",
    "18789 Crane Avenue, Castro Valley CA 94546\n",
    "4016 Doane Street, Fremont CA 94538\n",
    "6244 Sun River Drive, Sacramento CA 95824\n",
    "136 Acacia Drive, Blue Lake CA 95525\n",
    "918 Cheryl Ann Circle, Hayward CA 94544\n",
    "21950 Arnold Center Road, Carson CA 90810\n",
    "10881 Northforde Drive, Cupertino CA 95014\n",
    "330 Michell Court, Livermore CA 94551\n",
    "3377 Sandstone Court, Pleasanton CA 94588\n",
    "2755 Country Drive, Fremont CA 94536\n",
    "424 Callan Avenue, San Leandro CA 94577\n",
    "849 East Victoria Street, Carson CA 90746\n",
    "970 Old Oak Road, Livermore CA 94550\n",
    "4438 Maine Avenue, Baldwin Park CA 91706\n",
    "2042 High Street, Oakland CA 94601"
   ]
  },
  {
   "cell_type": "markdown",
   "id": "e80ed482-2b9e-4965-8382-9b32ea1f5f48",
   "metadata": {},
   "source": []
  },
  {
   "cell_type": "code",
   "execution_count": null,
   "id": "398eeb99-c2ad-4fac-9446-51c9eb53d1e0",
   "metadata": {},
   "outputs": [],
   "source": [
    "['']"
   ]
  },
  {
   "cell_type": "code",
   "execution_count": 23,
   "id": "2e7bb307-da8d-41bd-b2fe-56f0b346b350",
   "metadata": {
    "execution": {
     "iopub.execute_input": "2023-04-24T04:19:46.804932Z",
     "iopub.status.busy": "2023-04-24T04:19:46.804510Z",
     "iopub.status.idle": "2023-04-24T04:19:46.894905Z",
     "shell.execute_reply": "2023-04-24T04:19:46.894013Z",
     "shell.execute_reply.started": "2023-04-24T04:19:46.804895Z"
    }
   },
   "outputs": [],
   "source": [
    "df.to_csv('x.csv')"
   ]
  },
  {
   "cell_type": "code",
   "execution_count": null,
   "id": "20f8dd17-f7d9-4a6a-81da-57b68ff0fc84",
   "metadata": {},
   "outputs": [],
   "source": []
  },
  {
   "cell_type": "markdown",
   "id": "9296e967-a6cf-494f-8808-1911f1388cab",
   "metadata": {},
   "source": [
    "## "
   ]
  },
  {
   "cell_type": "markdown",
   "id": "784be4db-1c06-43e0-a4da-86b1bbcde318",
   "metadata": {},
   "source": [
    "# *Notes*"
   ]
  },
  {
   "cell_type": "markdown",
   "id": "b34c662c-f724-412f-86d7-75647d9b5448",
   "metadata": {},
   "source": [
    "---"
   ]
  },
  {
   "cell_type": "markdown",
   "id": "168089c7-257b-4b61-9a65-803e32753196",
   "metadata": {},
   "source": [
    "---"
   ]
  }
 ],
 "metadata": {
  "kernelspec": {
   "display_name": "Python 3 (ipykernel)",
   "language": "python",
   "name": "python3"
  },
  "language_info": {
   "codemirror_mode": {
    "name": "ipython",
    "version": 3
   },
   "file_extension": ".py",
   "mimetype": "text/x-python",
   "name": "python",
   "nbconvert_exporter": "python",
   "pygments_lexer": "ipython3",
   "version": "3.9.1"
  },
  "toc-autonumbering": true
 },
 "nbformat": 4,
 "nbformat_minor": 5
}
