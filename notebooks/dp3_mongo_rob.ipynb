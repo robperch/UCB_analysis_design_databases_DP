{
 "cells": [
  {
   "cell_type": "markdown",
   "id": "82c1d7a8-d74e-45e1-8937-264331e6d38a",
   "metadata": {},
   "source": [
    "# Interacting with Mongo Atlas\n",
    "- Notebook designed to specifically work with data related to collection `person`\n",
    "---\n",
    "---"
   ]
  },
  {
   "cell_type": "markdown",
   "id": "4154f37d-fde6-4cef-8617-114a3a2d7d8e",
   "metadata": {
    "tags": []
   },
   "source": [
    "# Imports"
   ]
  },
  {
   "cell_type": "markdown",
   "id": "a98dbaa6-17e1-4b79-93f0-d142aedd0037",
   "metadata": {},
   "source": [
    "#### Standard library imports"
   ]
  },
  {
   "cell_type": "code",
   "execution_count": 1,
   "id": "63099808-51cd-453c-976a-f3060b8650aa",
   "metadata": {
    "execution": {
     "iopub.execute_input": "2023-05-02T01:03:24.894431Z",
     "iopub.status.busy": "2023-05-02T01:03:24.893840Z",
     "iopub.status.idle": "2023-05-02T01:03:24.906204Z",
     "shell.execute_reply": "2023-05-02T01:03:24.905132Z",
     "shell.execute_reply.started": "2023-05-02T01:03:24.894328Z"
    },
    "tags": []
   },
   "outputs": [],
   "source": [
    "import sys\n",
    "sys.path.append(\"../\")\n",
    "import os\n",
    "import json"
   ]
  },
  {
   "cell_type": "markdown",
   "id": "b94ec94d-0d78-4ec3-a21c-353ccf52eec6",
   "metadata": {},
   "source": [
    "#### Third party imports"
   ]
  },
  {
   "cell_type": "code",
   "execution_count": 2,
   "id": "9e4989d0-ba3a-41cf-8ccb-44cade842a03",
   "metadata": {
    "execution": {
     "iopub.execute_input": "2023-05-02T01:03:24.909151Z",
     "iopub.status.busy": "2023-05-02T01:03:24.908610Z",
     "iopub.status.idle": "2023-05-02T01:03:25.519651Z",
     "shell.execute_reply": "2023-05-02T01:03:25.518699Z",
     "shell.execute_reply.started": "2023-05-02T01:03:24.909113Z"
    },
    "tags": []
   },
   "outputs": [],
   "source": [
    "import pandas as pd"
   ]
  },
  {
   "cell_type": "markdown",
   "id": "48755fa3-cba0-4508-9df2-18d50f60551b",
   "metadata": {},
   "source": [
    "#### Local application imports"
   ]
  },
  {
   "cell_type": "code",
   "execution_count": 3,
   "id": "a62e34a6-dea0-48d6-a3bc-c5dcdcdb1718",
   "metadata": {
    "execution": {
     "iopub.execute_input": "2023-05-02T01:03:25.521736Z",
     "iopub.status.busy": "2023-05-02T01:03:25.521212Z",
     "iopub.status.idle": "2023-05-02T01:03:26.213465Z",
     "shell.execute_reply": "2023-05-02T01:03:26.212375Z",
     "shell.execute_reply.started": "2023-05-02T01:03:25.521704Z"
    },
    "tags": []
   },
   "outputs": [],
   "source": [
    "%load_ext autoreload\n",
    "%autoreload 2\n",
    "\n",
    "from pkg_dir.config import *\n",
    "from pkg_dir.src.utils import *\n",
    "from pkg_dir.src.functions import *\n",
    "from pkg_dir.src.parameters import *"
   ]
  },
  {
   "cell_type": "markdown",
   "id": "6c6f38a8-f008-416b-9273-c48840d8160d",
   "metadata": {},
   "source": [
    "### "
   ]
  },
  {
   "cell_type": "markdown",
   "id": "7b7caa8e-e910-45a8-a0e3-dc6bb79130bf",
   "metadata": {},
   "source": [
    "# Getting data"
   ]
  },
  {
   "cell_type": "markdown",
   "id": "9445e361-4120-4028-a12c-b7e7bd2b9905",
   "metadata": {},
   "source": [
    "#### Preparing data from local source"
   ]
  },
  {
   "cell_type": "code",
   "execution_count": 4,
   "id": "954278d3-1dd5-4007-9c5d-9e5dd42dd66a",
   "metadata": {
    "execution": {
     "iopub.execute_input": "2023-05-02T01:03:30.517111Z",
     "iopub.status.busy": "2023-05-02T01:03:30.516701Z",
     "iopub.status.idle": "2023-05-02T01:03:30.559047Z",
     "shell.execute_reply": "2023-05-02T01:03:30.558003Z",
     "shell.execute_reply.started": "2023-05-02T01:03:30.517080Z"
    },
    "tags": []
   },
   "outputs": [],
   "source": [
    "## Online purchases data\n",
    "path = '../pkg_dir/data/person.csv'\n",
    "df_pers = pd.read_csv(path)\n",
    "json_pers = df_pers.to_dict('records')"
   ]
  },
  {
   "cell_type": "code",
   "execution_count": 5,
   "id": "322bb4e8-20c9-4639-ae96-69d9d914b066",
   "metadata": {
    "execution": {
     "iopub.execute_input": "2023-05-02T01:03:34.838511Z",
     "iopub.status.busy": "2023-05-02T01:03:34.837716Z",
     "iopub.status.idle": "2023-05-02T01:03:34.877668Z",
     "shell.execute_reply": "2023-05-02T01:03:34.876584Z",
     "shell.execute_reply.started": "2023-05-02T01:03:34.838475Z"
    },
    "scrolled": true,
    "tags": []
   },
   "outputs": [],
   "source": [
    "## Converting all the `Subclass` fields to json\n",
    "for js in json_pers:\n",
    "    js['Subclass'] = json.loads(js['Subclass'])"
   ]
  },
  {
   "cell_type": "markdown",
   "id": "9d8bf160-c679-4a09-8a07-d59429749dcb",
   "metadata": {},
   "source": [
    "### "
   ]
  },
  {
   "cell_type": "markdown",
   "id": "c71978e9-58ba-4fa4-bf5f-428da4976a68",
   "metadata": {},
   "source": [
    "# Database setup"
   ]
  },
  {
   "cell_type": "code",
   "execution_count": 6,
   "id": "a34f2737-cb0d-4e44-b3ff-9ef56c0a0d04",
   "metadata": {
    "execution": {
     "iopub.execute_input": "2023-05-02T01:03:51.173310Z",
     "iopub.status.busy": "2023-05-02T01:03:51.172819Z",
     "iopub.status.idle": "2023-05-02T01:03:52.285155Z",
     "shell.execute_reply": "2023-05-02T01:03:52.284141Z",
     "shell.execute_reply.started": "2023-05-02T01:03:51.173276Z"
    },
    "tags": []
   },
   "outputs": [
    {
     "name": "stdout",
     "output_type": "stream",
     "text": [
      "Pinged your deployment. You successfully connected to MongoDB!\n"
     ]
    }
   ],
   "source": [
    "## Cluster's client\n",
    "mdb_client = create_and_test_mongodb_conn()"
   ]
  },
  {
   "cell_type": "code",
   "execution_count": 7,
   "id": "71244912-acd0-43b3-995f-27fd6b64173c",
   "metadata": {
    "execution": {
     "iopub.execute_input": "2023-05-02T01:03:52.287562Z",
     "iopub.status.busy": "2023-05-02T01:03:52.287008Z",
     "iopub.status.idle": "2023-05-02T01:03:52.326645Z",
     "shell.execute_reply": "2023-05-02T01:03:52.325643Z",
     "shell.execute_reply.started": "2023-05-02T01:03:52.287527Z"
    },
    "tags": []
   },
   "outputs": [],
   "source": [
    "## Creating/selecting database\n",
    "mdb = mdb_client['beans_boutique_db']"
   ]
  },
  {
   "cell_type": "code",
   "execution_count": 8,
   "id": "68d80a04-54c4-40f4-afb3-a59c12662377",
   "metadata": {
    "execution": {
     "iopub.execute_input": "2023-05-02T01:03:52.328706Z",
     "iopub.status.busy": "2023-05-02T01:03:52.328286Z",
     "iopub.status.idle": "2023-05-02T01:03:52.372950Z",
     "shell.execute_reply": "2023-05-02T01:03:52.371346Z",
     "shell.execute_reply.started": "2023-05-02T01:03:52.328676Z"
    },
    "tags": []
   },
   "outputs": [],
   "source": [
    "## Creating/selecting collections\n",
    "mdb_coll_pers = mdb['person']\n",
    "mdb_coll_prod = mdb['product']"
   ]
  },
  {
   "cell_type": "markdown",
   "id": "7cca64eb-c102-4076-ae9a-a8e210c02bda",
   "metadata": {},
   "source": [
    "### "
   ]
  },
  {
   "cell_type": "markdown",
   "id": "bd30ec61-1166-48f8-8772-68848deeabff",
   "metadata": {},
   "source": [
    "# Entries upload"
   ]
  },
  {
   "cell_type": "code",
   "execution_count": 12,
   "id": "c5cc45c8-d9b0-4255-8729-383f2def9af0",
   "metadata": {
    "execution": {
     "iopub.execute_input": "2023-05-02T01:04:08.365986Z",
     "iopub.status.busy": "2023-05-02T01:04:08.365562Z",
     "iopub.status.idle": "2023-05-02T01:04:08.611170Z",
     "shell.execute_reply": "2023-05-02T01:04:08.610167Z",
     "shell.execute_reply.started": "2023-05-02T01:04:08.365953Z"
    },
    "tags": []
   },
   "outputs": [
    {
     "data": {
      "text/plain": [
       "<pymongo.results.InsertManyResult at 0x1107f55e0>"
      ]
     },
     "execution_count": 12,
     "metadata": {},
     "output_type": "execute_result"
    }
   ],
   "source": [
    "mdb_coll_pers.insert_many(json_pers)"
   ]
  },
  {
   "cell_type": "markdown",
   "id": "58b57c83-ba12-4ce0-a0f2-08a748f1d356",
   "metadata": {},
   "source": [
    "### "
   ]
  },
  {
   "cell_type": "markdown",
   "id": "d533fe5d-c902-4259-97ee-672d6f2363c6",
   "metadata": {},
   "source": [
    "# Data queries"
   ]
  },
  {
   "cell_type": "markdown",
   "id": "f490276a-632b-4345-a30c-099f2eb44fa2",
   "metadata": {
    "jp-MarkdownHeadingCollapsed": true,
    "tags": []
   },
   "source": [
    "##### Query 1: testing query on nested field\n",
    "- Finding consignor with ID equal to 9"
   ]
  },
  {
   "cell_type": "code",
   "execution_count": 20,
   "id": "3f77c711-5cc5-4915-a6b1-7c702d622c70",
   "metadata": {
    "execution": {
     "iopub.execute_input": "2023-05-02T01:14:51.624490Z",
     "iopub.status.busy": "2023-05-02T01:14:51.624041Z",
     "iopub.status.idle": "2023-05-02T01:14:51.662393Z",
     "shell.execute_reply": "2023-05-02T01:14:51.661364Z",
     "shell.execute_reply.started": "2023-05-02T01:14:51.624455Z"
    },
    "tags": []
   },
   "outputs": [],
   "source": [
    "q1 = {\n",
    "  'Subclass.Consignor.Consignor_ID': 9\n",
    "}"
   ]
  },
  {
   "cell_type": "code",
   "execution_count": 21,
   "id": "b925be9c-0320-41d9-ab46-cde22be944df",
   "metadata": {
    "execution": {
     "iopub.execute_input": "2023-05-02T01:14:51.665542Z",
     "iopub.status.busy": "2023-05-02T01:14:51.664866Z",
     "iopub.status.idle": "2023-05-02T01:14:51.796799Z",
     "shell.execute_reply": "2023-05-02T01:14:51.795847Z",
     "shell.execute_reply.started": "2023-05-02T01:14:51.665489Z"
    },
    "tags": []
   },
   "outputs": [
    {
     "data": {
      "text/plain": [
       "{'_id': ObjectId('64506188a071c96ae9396d27'),\n",
       " 'PID': 5,\n",
       " 'FName': 'Jack',\n",
       " 'MI': 'T',\n",
       " 'LName': 'Mendez',\n",
       " 'Address': 'Milvia 433 Berkeley CA',\n",
       " 'Email_Addr': 'jt@gmail.com',\n",
       " 'Phone': '673-374-3453',\n",
       " 'Subclass': {'Employee': {},\n",
       "  'Consignor': {'Consignor_ID': 9, 'Bank_Acct_No': 3822},\n",
       "  'Customer': {},\n",
       "  'Designer': {}}}"
      ]
     },
     "execution_count": 21,
     "metadata": {},
     "output_type": "execute_result"
    }
   ],
   "source": [
    "mdb_coll_pers.find(q1)[0]"
   ]
  },
  {
   "cell_type": "markdown",
   "id": "ec991f88-7f3e-4cfd-87c8-5acca44f8bef",
   "metadata": {
    "jp-MarkdownHeadingCollapsed": true,
    "tags": []
   },
   "source": [
    "##### Query 2: test query on nested list\n",
    "- Find employers that work on Wednesdays"
   ]
  },
  {
   "cell_type": "code",
   "execution_count": 13,
   "id": "1729c6b7-c396-4717-8e0c-2b8a946e0119",
   "metadata": {
    "execution": {
     "iopub.execute_input": "2023-05-02T01:13:12.446665Z",
     "iopub.status.busy": "2023-05-02T01:13:12.446174Z",
     "iopub.status.idle": "2023-05-02T01:13:12.484711Z",
     "shell.execute_reply": "2023-05-02T01:13:12.483689Z",
     "shell.execute_reply.started": "2023-05-02T01:13:12.446625Z"
    },
    "tags": []
   },
   "outputs": [],
   "source": [
    "q2 = {\n",
    "  'Subclass.Employee.Working_Days': 'W'\n",
    "}"
   ]
  },
  {
   "cell_type": "code",
   "execution_count": 26,
   "id": "295ca5c5-f060-457b-96a6-f5790b49f356",
   "metadata": {
    "execution": {
     "iopub.execute_input": "2023-05-02T01:17:22.437281Z",
     "iopub.status.busy": "2023-05-02T01:17:22.436847Z",
     "iopub.status.idle": "2023-05-02T01:17:22.566412Z",
     "shell.execute_reply": "2023-05-02T01:17:22.565386Z",
     "shell.execute_reply.started": "2023-05-02T01:17:22.437248Z"
    },
    "scrolled": true,
    "tags": []
   },
   "outputs": [
    {
     "data": {
      "text/plain": [
       "{'_id': ObjectId('64506188a071c96ae9396d23'),\n",
       " 'PID': 1,\n",
       " 'FName': 'John',\n",
       " 'MI': 'R',\n",
       " 'LName': 'Graft',\n",
       " 'Address': 'Milvia 234 Berkeley CA',\n",
       " 'Email_Addr': 'jrg@me.com',\n",
       " 'Phone': nan,\n",
       " 'Subclass': {'Employee': {'Employee_ID': '1',\n",
       "   'SSN': '123',\n",
       "   'Store': '1',\n",
       "   'Union': '1',\n",
       "   'Working_Days': ['M', 'W'],\n",
       "   'Appraiser': '1',\n",
       "   'Store_staff': '1'},\n",
       "  'Consignor': {},\n",
       "  'Customer': {'Customer_ID': '1', 'Membership': '543'},\n",
       "  'Designer': {}}}"
      ]
     },
     "metadata": {},
     "output_type": "display_data"
    },
    {
     "data": {
      "text/plain": [
       "{'_id': ObjectId('64506188a071c96ae9396d24'),\n",
       " 'PID': 2,\n",
       " 'FName': 'Raul',\n",
       " 'MI': 'G',\n",
       " 'LName': 'Hernandez',\n",
       " 'Address': 'Shattuck 444 Berkeley CA',\n",
       " 'Email_Addr': 'rgh@gmail.com',\n",
       " 'Phone': '673-374-3722',\n",
       " 'Subclass': {'Employee': {'Employee_ID': 2,\n",
       "   'SSN': 124,\n",
       "   'Store': 2,\n",
       "   'Union': 2,\n",
       "   'Working_Days': ['M', 'W'],\n",
       "   'Appraiser': 2,\n",
       "   'Store_staff': 2},\n",
       "  'Consignor': {},\n",
       "  'Customer': {},\n",
       "  'Designer': {}}}"
      ]
     },
     "metadata": {},
     "output_type": "display_data"
    }
   ],
   "source": [
    "for q_result in mdb_coll_pers.find(q2):\n",
    "    display(q_result)"
   ]
  },
  {
   "cell_type": "markdown",
   "id": "365801b3-3e5e-448f-86ca-f2df3f9b250d",
   "metadata": {
    "jp-MarkdownHeadingCollapsed": true,
    "tags": []
   },
   "source": [
    "##### Query 3: test query to find non empty fields\n",
    "- Finding all the designers in the database"
   ]
  },
  {
   "cell_type": "code",
   "execution_count": 30,
   "id": "56700d7c-de8e-4c43-b9aa-c95d1da883ce",
   "metadata": {
    "execution": {
     "iopub.execute_input": "2023-05-02T01:24:17.685796Z",
     "iopub.status.busy": "2023-05-02T01:24:17.685067Z",
     "iopub.status.idle": "2023-05-02T01:24:17.723469Z",
     "shell.execute_reply": "2023-05-02T01:24:17.722388Z",
     "shell.execute_reply.started": "2023-05-02T01:24:17.685733Z"
    },
    "tags": []
   },
   "outputs": [],
   "source": [
    "q3 = {\n",
    "  'Subclass.Designer': {\n",
    "      '$gt': {}\n",
    "  }\n",
    "}"
   ]
  },
  {
   "cell_type": "code",
   "execution_count": 31,
   "id": "1dfe721a-8b45-42fc-bb01-a2c8f94e6559",
   "metadata": {
    "execution": {
     "iopub.execute_input": "2023-05-02T01:24:17.859357Z",
     "iopub.status.busy": "2023-05-02T01:24:17.858909Z",
     "iopub.status.idle": "2023-05-02T01:24:17.988729Z",
     "shell.execute_reply": "2023-05-02T01:24:17.987708Z",
     "shell.execute_reply.started": "2023-05-02T01:24:17.859322Z"
    },
    "scrolled": true,
    "tags": []
   },
   "outputs": [
    {
     "data": {
      "text/plain": [
       "{'_id': ObjectId('64506188a071c96ae9396d26'),\n",
       " 'PID': 4,\n",
       " 'FName': 'Albert',\n",
       " 'MI': 'E',\n",
       " 'LName': 'Spivak',\n",
       " 'Address': nan,\n",
       " 'Email_Addr': nan,\n",
       " 'Phone': nan,\n",
       " 'Subclass': {'Employee': {},\n",
       "  'Consignor': {},\n",
       "  'Customer': {},\n",
       "  'Designer': {'Designer_ID': 4}}}"
      ]
     },
     "metadata": {},
     "output_type": "display_data"
    },
    {
     "data": {
      "text/plain": [
       "{'_id': ObjectId('64506188a071c96ae9396d28'),\n",
       " 'PID': 6,\n",
       " 'FName': 'John',\n",
       " 'MI': 'Z',\n",
       " 'LName': 'Holz',\n",
       " 'Address': 'Milvia 452 Berkeley CA',\n",
       " 'Email_Addr': nan,\n",
       " 'Phone': nan,\n",
       " 'Subclass': {'Employee': {'Employee_ID': 9,\n",
       "   'SSN': 123423,\n",
       "   'Store': 3,\n",
       "   'Union': 1,\n",
       "   'Working_Days': ['M', 'F'],\n",
       "   'Appraiser': 7,\n",
       "   'Store_staff': 7},\n",
       "  'Consignor': {},\n",
       "  'Customer': {'Customer_ID': 45, 'Membership': 5456323},\n",
       "  'Designer': {'Designer_ID': 47}}}"
      ]
     },
     "metadata": {},
     "output_type": "display_data"
    }
   ],
   "source": [
    "for q_result in mdb_coll_pers.find(q3):\n",
    "    display(q_result)"
   ]
  },
  {
   "cell_type": "markdown",
   "id": "7702eae6-5b3a-4211-b1df-0eaf679d74ce",
   "metadata": {},
   "source": [
    "##### Query 4: find all employees that are also customers"
   ]
  },
  {
   "cell_type": "code",
   "execution_count": 32,
   "id": "2ec368ca-d9ce-47c3-971a-4534caec8c30",
   "metadata": {
    "execution": {
     "iopub.execute_input": "2023-05-02T01:27:09.648095Z",
     "iopub.status.busy": "2023-05-02T01:27:09.647551Z",
     "iopub.status.idle": "2023-05-02T01:27:09.686568Z",
     "shell.execute_reply": "2023-05-02T01:27:09.685420Z",
     "shell.execute_reply.started": "2023-05-02T01:27:09.648060Z"
    },
    "tags": []
   },
   "outputs": [],
   "source": [
    "q4 = {\n",
    "  'Subclass.Employee': {\n",
    "      '$gt': {}\n",
    "  },\n",
    "  'Subclass.Customer': {\n",
    "      '$gt': {}\n",
    "  },\n",
    "}"
   ]
  },
  {
   "cell_type": "code",
   "execution_count": 33,
   "id": "5e7d6873-9008-4edb-8d2e-7b565554a79b",
   "metadata": {
    "execution": {
     "iopub.execute_input": "2023-05-02T01:27:14.085480Z",
     "iopub.status.busy": "2023-05-02T01:27:14.084960Z",
     "iopub.status.idle": "2023-05-02T01:27:14.309549Z",
     "shell.execute_reply": "2023-05-02T01:27:14.308603Z",
     "shell.execute_reply.started": "2023-05-02T01:27:14.085444Z"
    },
    "scrolled": true,
    "tags": []
   },
   "outputs": [
    {
     "data": {
      "text/plain": [
       "{'_id': ObjectId('64506188a071c96ae9396d23'),\n",
       " 'PID': 1,\n",
       " 'FName': 'John',\n",
       " 'MI': 'R',\n",
       " 'LName': 'Graft',\n",
       " 'Address': 'Milvia 234 Berkeley CA',\n",
       " 'Email_Addr': 'jrg@me.com',\n",
       " 'Phone': nan,\n",
       " 'Subclass': {'Employee': {'Employee_ID': '1',\n",
       "   'SSN': '123',\n",
       "   'Store': '1',\n",
       "   'Union': '1',\n",
       "   'Working_Days': ['M', 'W'],\n",
       "   'Appraiser': '1',\n",
       "   'Store_staff': '1'},\n",
       "  'Consignor': {},\n",
       "  'Customer': {'Customer_ID': '1', 'Membership': '543'},\n",
       "  'Designer': {}}}"
      ]
     },
     "metadata": {},
     "output_type": "display_data"
    },
    {
     "data": {
      "text/plain": [
       "{'_id': ObjectId('64506188a071c96ae9396d25'),\n",
       " 'PID': 3,\n",
       " 'FName': 'Don',\n",
       " 'MI': 'D',\n",
       " 'LName': 'Perez',\n",
       " 'Address': 'Shattuck 434 Berkeley CA',\n",
       " 'Email_Addr': 'don@yahoo.com',\n",
       " 'Phone': nan,\n",
       " 'Subclass': {'Employee': {'Employee_ID': 3,\n",
       "   'SSN': 1245,\n",
       "   'Store': 1,\n",
       "   'Union': 1,\n",
       "   'Working_Days': ['F', 'T'],\n",
       "   'Appraiser': 3,\n",
       "   'Store_staff': 3},\n",
       "  'Consignor': {},\n",
       "  'Customer': {'Customer_ID': 2, 'Membership': 998},\n",
       "  'Designer': {}}}"
      ]
     },
     "metadata": {},
     "output_type": "display_data"
    },
    {
     "data": {
      "text/plain": [
       "{'_id': ObjectId('64506188a071c96ae9396d28'),\n",
       " 'PID': 6,\n",
       " 'FName': 'John',\n",
       " 'MI': 'Z',\n",
       " 'LName': 'Holz',\n",
       " 'Address': 'Milvia 452 Berkeley CA',\n",
       " 'Email_Addr': nan,\n",
       " 'Phone': nan,\n",
       " 'Subclass': {'Employee': {'Employee_ID': 9,\n",
       "   'SSN': 123423,\n",
       "   'Store': 3,\n",
       "   'Union': 1,\n",
       "   'Working_Days': ['M', 'F'],\n",
       "   'Appraiser': 7,\n",
       "   'Store_staff': 7},\n",
       "  'Consignor': {},\n",
       "  'Customer': {'Customer_ID': 45, 'Membership': 5456323},\n",
       "  'Designer': {'Designer_ID': 47}}}"
      ]
     },
     "metadata": {},
     "output_type": "display_data"
    }
   ],
   "source": [
    "for q_result in mdb_coll_pers.find(q4):\n",
    "    display(q_result)"
   ]
  },
  {
   "cell_type": "markdown",
   "id": "87347c9f-c0a6-472d-a5aa-876f06ad1ee2",
   "metadata": {},
   "source": [
    "### "
   ]
  },
  {
   "cell_type": "markdown",
   "id": "7049a6c2-9856-4d9e-a59a-76a39e4f9630",
   "metadata": {},
   "source": [
    "# Database cleaning"
   ]
  },
  {
   "cell_type": "markdown",
   "id": "460fa0ea-6dcb-4055-b924-ed64af61089f",
   "metadata": {},
   "source": [
    "##### Dropping collections"
   ]
  },
  {
   "cell_type": "code",
   "execution_count": 9,
   "id": "8664ff88-d4b1-49c3-9864-9bc91f460c14",
   "metadata": {
    "execution": {
     "iopub.execute_input": "2023-05-02T01:04:03.468184Z",
     "iopub.status.busy": "2023-05-02T01:04:03.467776Z",
     "iopub.status.idle": "2023-05-02T01:04:03.607765Z",
     "shell.execute_reply": "2023-05-02T01:04:03.606894Z",
     "shell.execute_reply.started": "2023-05-02T01:04:03.468153Z"
    },
    "tags": []
   },
   "outputs": [
    {
     "data": {
      "text/plain": [
       "['person', 'online_purchase_data', 'product', 'inventory']"
      ]
     },
     "execution_count": 9,
     "metadata": {},
     "output_type": "execute_result"
    }
   ],
   "source": [
    "mdb.list_collection_names()"
   ]
  },
  {
   "cell_type": "code",
   "execution_count": 10,
   "id": "178de128-5482-4c79-90d9-2171ab2fbf47",
   "metadata": {
    "execution": {
     "iopub.execute_input": "2023-05-02T01:04:03.771708Z",
     "iopub.status.busy": "2023-05-02T01:04:03.771223Z",
     "iopub.status.idle": "2023-05-02T01:04:03.922507Z",
     "shell.execute_reply": "2023-05-02T01:04:03.921421Z",
     "shell.execute_reply.started": "2023-05-02T01:04:03.771671Z"
    }
   },
   "outputs": [],
   "source": [
    "mdb_coll_pers.drop()"
   ]
  },
  {
   "cell_type": "code",
   "execution_count": 11,
   "id": "ac5279d1-0cc9-4c74-a525-3a195aeb25b6",
   "metadata": {
    "execution": {
     "iopub.execute_input": "2023-05-02T01:04:03.925101Z",
     "iopub.status.busy": "2023-05-02T01:04:03.924701Z",
     "iopub.status.idle": "2023-05-02T01:04:04.049558Z",
     "shell.execute_reply": "2023-05-02T01:04:04.048716Z",
     "shell.execute_reply.started": "2023-05-02T01:04:03.925071Z"
    },
    "tags": []
   },
   "outputs": [
    {
     "data": {
      "text/plain": [
       "['online_purchase_data', 'product', 'inventory']"
      ]
     },
     "execution_count": 11,
     "metadata": {},
     "output_type": "execute_result"
    }
   ],
   "source": [
    "mdb.list_collection_names()"
   ]
  },
  {
   "cell_type": "markdown",
   "id": "442876b2-590c-4eec-b50b-b05c7559a676",
   "metadata": {},
   "source": [
    "##### Cleaning database "
   ]
  },
  {
   "cell_type": "code",
   "execution_count": null,
   "id": "e1b453c7-a08e-4c34-9d4c-ed3bda0e757c",
   "metadata": {
    "tags": []
   },
   "outputs": [],
   "source": [
    "print(mdb_client.list_database_names())"
   ]
  },
  {
   "cell_type": "code",
   "execution_count": null,
   "id": "87933384-3b94-4e0c-83d9-22b8009f2750",
   "metadata": {},
   "outputs": [],
   "source": [
    "mdb_client.drop_database('beans_boutique_db')"
   ]
  },
  {
   "cell_type": "code",
   "execution_count": null,
   "id": "2ae579dd-780b-4b56-b426-a177ca476703",
   "metadata": {
    "tags": []
   },
   "outputs": [],
   "source": [
    "print(mdb_client.list_database_names())"
   ]
  },
  {
   "cell_type": "markdown",
   "id": "f9eeaac2-a536-45c7-9239-6919dcfbae4c",
   "metadata": {},
   "source": [
    "### "
   ]
  },
  {
   "cell_type": "markdown",
   "id": "d2e754c0-d0a9-4384-b988-8e11c48af2f0",
   "metadata": {},
   "source": [
    "# Header"
   ]
  },
  {
   "cell_type": "markdown",
   "id": "91ccca2a-efa4-49ca-8671-6a1e64764362",
   "metadata": {},
   "source": [
    "### "
   ]
  },
  {
   "cell_type": "markdown",
   "id": "784be4db-1c06-43e0-a4da-86b1bbcde318",
   "metadata": {},
   "source": [
    "# *Notes*"
   ]
  },
  {
   "cell_type": "markdown",
   "id": "b34c662c-f724-412f-86d7-75647d9b5448",
   "metadata": {},
   "source": [
    "---"
   ]
  },
  {
   "cell_type": "markdown",
   "id": "168089c7-257b-4b61-9a65-803e32753196",
   "metadata": {},
   "source": [
    "---"
   ]
  }
 ],
 "metadata": {
  "kernelspec": {
   "display_name": "Python 3 (ipykernel)",
   "language": "python",
   "name": "python3"
  },
  "language_info": {
   "codemirror_mode": {
    "name": "ipython",
    "version": 3
   },
   "file_extension": ".py",
   "mimetype": "text/x-python",
   "name": "python",
   "nbconvert_exporter": "python",
   "pygments_lexer": "ipython3",
   "version": "3.9.1"
  },
  "toc-autonumbering": true
 },
 "nbformat": 4,
 "nbformat_minor": 5
}
