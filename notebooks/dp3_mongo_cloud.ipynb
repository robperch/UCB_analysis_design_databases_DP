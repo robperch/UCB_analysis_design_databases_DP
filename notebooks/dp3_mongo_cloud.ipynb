{
 "cells": [
  {
   "cell_type": "markdown",
   "id": "82c1d7a8-d74e-45e1-8937-264331e6d38a",
   "metadata": {},
   "source": [
    "# Interacting with Mongo Atlas\n",
    "---\n",
    "---"
   ]
  },
  {
   "cell_type": "markdown",
   "id": "4154f37d-fde6-4cef-8617-114a3a2d7d8e",
   "metadata": {
    "tags": []
   },
   "source": [
    "# Imports"
   ]
  },
  {
   "cell_type": "markdown",
   "id": "a98dbaa6-17e1-4b79-93f0-d142aedd0037",
   "metadata": {},
   "source": [
    "#### Standard library imports"
   ]
  },
  {
   "cell_type": "code",
   "execution_count": 1,
   "id": "63099808-51cd-453c-976a-f3060b8650aa",
   "metadata": {
    "execution": {
     "iopub.execute_input": "2023-05-01T01:15:29.197869Z",
     "iopub.status.busy": "2023-05-01T01:15:29.197378Z",
     "iopub.status.idle": "2023-05-01T01:15:29.208031Z",
     "shell.execute_reply": "2023-05-01T01:15:29.207149Z",
     "shell.execute_reply.started": "2023-05-01T01:15:29.197778Z"
    },
    "jupyter": {
     "source_hidden": true
    }
   },
   "outputs": [],
   "source": [
    "import sys\n",
    "sys.path.append(\"../\")\n",
    "\n",
    "import os"
   ]
  },
  {
   "cell_type": "markdown",
   "id": "b94ec94d-0d78-4ec3-a21c-353ccf52eec6",
   "metadata": {},
   "source": [
    "#### Third party imports"
   ]
  },
  {
   "cell_type": "code",
   "execution_count": 2,
   "id": "9e4989d0-ba3a-41cf-8ccb-44cade842a03",
   "metadata": {
    "execution": {
     "iopub.execute_input": "2023-05-01T01:15:29.210875Z",
     "iopub.status.busy": "2023-05-01T01:15:29.210521Z",
     "iopub.status.idle": "2023-05-01T01:15:29.861270Z",
     "shell.execute_reply": "2023-05-01T01:15:29.860441Z",
     "shell.execute_reply.started": "2023-05-01T01:15:29.210847Z"
    },
    "jupyter": {
     "source_hidden": true
    }
   },
   "outputs": [],
   "source": [
    "import pandas as pd"
   ]
  },
  {
   "cell_type": "markdown",
   "id": "48755fa3-cba0-4508-9df2-18d50f60551b",
   "metadata": {},
   "source": [
    "#### Local application imports"
   ]
  },
  {
   "cell_type": "code",
   "execution_count": 3,
   "id": "a62e34a6-dea0-48d6-a3bc-c5dcdcdb1718",
   "metadata": {
    "execution": {
     "iopub.execute_input": "2023-05-01T01:15:29.863093Z",
     "iopub.status.busy": "2023-05-01T01:15:29.862387Z",
     "iopub.status.idle": "2023-05-01T01:15:30.581846Z",
     "shell.execute_reply": "2023-05-01T01:15:30.581014Z",
     "shell.execute_reply.started": "2023-05-01T01:15:29.863057Z"
    },
    "jupyter": {
     "source_hidden": true
    },
    "tags": []
   },
   "outputs": [],
   "source": [
    "%load_ext autoreload\n",
    "%autoreload 2\n",
    "\n",
    "from pkg_dir.config import *\n",
    "from pkg_dir.src.utils import *\n",
    "from pkg_dir.src.functions import *\n",
    "from pkg_dir.src.parameters import *"
   ]
  },
  {
   "cell_type": "markdown",
   "id": "6c6f38a8-f008-416b-9273-c48840d8160d",
   "metadata": {},
   "source": [
    "### "
   ]
  },
  {
   "cell_type": "markdown",
   "id": "7b7caa8e-e910-45a8-a0e3-dc6bb79130bf",
   "metadata": {},
   "source": [
    "# Getting data"
   ]
  },
  {
   "cell_type": "markdown",
   "id": "9445e361-4120-4028-a12c-b7e7bd2b9905",
   "metadata": {},
   "source": [
    "#### Preparing data from local source"
   ]
  },
  {
   "cell_type": "code",
   "execution_count": 4,
   "id": "f04e6c8c-327c-4412-9edc-8ebd8d1888a9",
   "metadata": {
    "execution": {
     "iopub.execute_input": "2023-05-01T01:15:36.698987Z",
     "iopub.status.busy": "2023-05-01T01:15:36.698562Z",
     "iopub.status.idle": "2023-05-01T01:15:36.741118Z",
     "shell.execute_reply": "2023-05-01T01:15:36.740297Z",
     "shell.execute_reply.started": "2023-05-01T01:15:36.698954Z"
    },
    "scrolled": true,
    "tags": []
   },
   "outputs": [],
   "source": [
    "## Inventory data\n",
    "path = '../pkg_dir/data/inventory_data.csv'\n",
    "df_inv = pd.read_csv(path)\n",
    "json_inv = df_inv.to_dict('records')"
   ]
  },
  {
   "cell_type": "code",
   "execution_count": 5,
   "id": "438b14e5-333a-4cb2-bda0-3e9e5df24ed2",
   "metadata": {
    "execution": {
     "iopub.execute_input": "2023-05-01T01:15:36.888575Z",
     "iopub.status.busy": "2023-05-01T01:15:36.888173Z",
     "iopub.status.idle": "2023-05-01T01:15:36.930034Z",
     "shell.execute_reply": "2023-05-01T01:15:36.928574Z",
     "shell.execute_reply.started": "2023-05-01T01:15:36.888546Z"
    },
    "scrolled": true,
    "tags": []
   },
   "outputs": [],
   "source": [
    "## Online purchases data\n",
    "path = '../pkg_dir/data/online_purchase_data.csv'\n",
    "df_op = pd.read_csv(path)\n",
    "json_op = df_op.to_dict('records')"
   ]
  },
  {
   "cell_type": "markdown",
   "id": "9d8bf160-c679-4a09-8a07-d59429749dcb",
   "metadata": {},
   "source": [
    "### "
   ]
  },
  {
   "cell_type": "markdown",
   "id": "c71978e9-58ba-4fa4-bf5f-428da4976a68",
   "metadata": {},
   "source": [
    "# Database setup"
   ]
  },
  {
   "cell_type": "code",
   "execution_count": 7,
   "id": "a34f2737-cb0d-4e44-b3ff-9ef56c0a0d04",
   "metadata": {
    "execution": {
     "iopub.execute_input": "2023-05-01T01:17:37.166020Z",
     "iopub.status.busy": "2023-05-01T01:17:37.165067Z",
     "iopub.status.idle": "2023-05-01T01:17:38.910309Z",
     "shell.execute_reply": "2023-05-01T01:17:38.909274Z",
     "shell.execute_reply.started": "2023-05-01T01:17:37.165965Z"
    },
    "tags": []
   },
   "outputs": [
    {
     "name": "stdout",
     "output_type": "stream",
     "text": [
      "Pinged your deployment. You successfully connected to MongoDB!\n"
     ]
    }
   ],
   "source": [
    "## Cluster's client\n",
    "mdb_client = create_and_test_mongodb_conn()"
   ]
  },
  {
   "cell_type": "code",
   "execution_count": null,
   "id": "71244912-acd0-43b3-995f-27fd6b64173c",
   "metadata": {
    "tags": []
   },
   "outputs": [],
   "source": [
    "## Creating/selecting database\n",
    "mdb = mdb_client['beans_boutique_db']"
   ]
  },
  {
   "cell_type": "code",
   "execution_count": null,
   "id": "68d80a04-54c4-40f4-afb3-a59c12662377",
   "metadata": {
    "tags": []
   },
   "outputs": [],
   "source": [
    "## Creating/selecting collections\n",
    "mdb_collection_inv = mdb['inventory']\n",
    "mdb_collection_op = mdb['online_purchase_data']"
   ]
  },
  {
   "cell_type": "markdown",
   "id": "7cca64eb-c102-4076-ae9a-a8e210c02bda",
   "metadata": {},
   "source": [
    "### "
   ]
  },
  {
   "cell_type": "markdown",
   "id": "bd30ec61-1166-48f8-8772-68848deeabff",
   "metadata": {},
   "source": [
    "# Database setup"
   ]
  },
  {
   "cell_type": "code",
   "execution_count": null,
   "id": "c5cc45c8-d9b0-4255-8729-383f2def9af0",
   "metadata": {
    "tags": []
   },
   "outputs": [],
   "source": [
    "mdb_col_i.insert_many(ji)\n",
    "mdb_col_i.insert_many(ji)"
   ]
  },
  {
   "cell_type": "markdown",
   "id": "58b57c83-ba12-4ce0-a0f2-08a748f1d356",
   "metadata": {},
   "source": [
    "### "
   ]
  },
  {
   "cell_type": "markdown",
   "id": "d533fe5d-c902-4259-97ee-672d6f2363c6",
   "metadata": {},
   "source": [
    "# Header"
   ]
  },
  {
   "cell_type": "markdown",
   "id": "87347c9f-c0a6-472d-a5aa-876f06ad1ee2",
   "metadata": {},
   "source": [
    "### "
   ]
  },
  {
   "cell_type": "markdown",
   "id": "7049a6c2-9856-4d9e-a59a-76a39e4f9630",
   "metadata": {},
   "source": [
    "# Database removal"
   ]
  },
  {
   "cell_type": "code",
   "execution_count": 8,
   "id": "e1b453c7-a08e-4c34-9d4c-ed3bda0e757c",
   "metadata": {
    "execution": {
     "iopub.execute_input": "2023-05-01T01:19:08.603559Z",
     "iopub.status.busy": "2023-05-01T01:19:08.596114Z",
     "iopub.status.idle": "2023-05-01T01:19:08.805389Z",
     "shell.execute_reply": "2023-05-01T01:19:08.804161Z",
     "shell.execute_reply.started": "2023-05-01T01:19:08.603473Z"
    },
    "tags": []
   },
   "outputs": [
    {
     "name": "stdout",
     "output_type": "stream",
     "text": [
      "['admin', 'local']\n"
     ]
    }
   ],
   "source": [
    "print(mdb_client.list_database_names())"
   ]
  },
  {
   "cell_type": "code",
   "execution_count": null,
   "id": "87933384-3b94-4e0c-83d9-22b8009f2750",
   "metadata": {},
   "outputs": [],
   "source": [
    "mdb_client.drop_database('beans_boutique_db')"
   ]
  },
  {
   "cell_type": "markdown",
   "id": "f9eeaac2-a536-45c7-9239-6919dcfbae4c",
   "metadata": {},
   "source": [
    "### "
   ]
  },
  {
   "cell_type": "markdown",
   "id": "d2e754c0-d0a9-4384-b988-8e11c48af2f0",
   "metadata": {},
   "source": [
    "# Header"
   ]
  },
  {
   "cell_type": "markdown",
   "id": "91ccca2a-efa4-49ca-8671-6a1e64764362",
   "metadata": {},
   "source": [
    "### "
   ]
  },
  {
   "cell_type": "markdown",
   "id": "784be4db-1c06-43e0-a4da-86b1bbcde318",
   "metadata": {},
   "source": [
    "# *Notes*"
   ]
  },
  {
   "cell_type": "markdown",
   "id": "b34c662c-f724-412f-86d7-75647d9b5448",
   "metadata": {},
   "source": [
    "---"
   ]
  },
  {
   "cell_type": "markdown",
   "id": "168089c7-257b-4b61-9a65-803e32753196",
   "metadata": {},
   "source": [
    "---"
   ]
  }
 ],
 "metadata": {
  "kernelspec": {
   "display_name": "Python 3 (ipykernel)",
   "language": "python",
   "name": "python3"
  },
  "language_info": {
   "codemirror_mode": {
    "name": "ipython",
    "version": 3
   },
   "file_extension": ".py",
   "mimetype": "text/x-python",
   "name": "python",
   "nbconvert_exporter": "python",
   "pygments_lexer": "ipython3",
   "version": "3.9.1"
  },
  "toc-autonumbering": true
 },
 "nbformat": 4,
 "nbformat_minor": 5
}
