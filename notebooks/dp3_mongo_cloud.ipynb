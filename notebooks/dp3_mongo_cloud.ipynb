{
 "cells": [
  {
   "cell_type": "markdown",
   "id": "82c1d7a8-d74e-45e1-8937-264331e6d38a",
   "metadata": {},
   "source": [
    "# Interacting with Mongo Atlas\n",
    "---\n",
    "---"
   ]
  },
  {
   "cell_type": "markdown",
   "id": "4154f37d-fde6-4cef-8617-114a3a2d7d8e",
   "metadata": {
    "tags": []
   },
   "source": [
    "# Imports"
   ]
  },
  {
   "cell_type": "markdown",
   "id": "a98dbaa6-17e1-4b79-93f0-d142aedd0037",
   "metadata": {},
   "source": [
    "#### Standard library imports"
   ]
  },
  {
   "cell_type": "code",
   "execution_count": 1,
   "id": "63099808-51cd-453c-976a-f3060b8650aa",
   "metadata": {
    "execution": {
     "iopub.execute_input": "2023-05-01T01:28:56.868785Z",
     "iopub.status.busy": "2023-05-01T01:28:56.867936Z",
     "iopub.status.idle": "2023-05-01T01:28:56.881931Z",
     "shell.execute_reply": "2023-05-01T01:28:56.880826Z",
     "shell.execute_reply.started": "2023-05-01T01:28:56.868698Z"
    },
    "jupyter": {
     "source_hidden": true
    }
   },
   "outputs": [],
   "source": [
    "import sys\n",
    "sys.path.append(\"../\")\n",
    "\n",
    "import os"
   ]
  },
  {
   "cell_type": "markdown",
   "id": "b94ec94d-0d78-4ec3-a21c-353ccf52eec6",
   "metadata": {},
   "source": [
    "#### Third party imports"
   ]
  },
  {
   "cell_type": "code",
   "execution_count": 2,
   "id": "9e4989d0-ba3a-41cf-8ccb-44cade842a03",
   "metadata": {
    "execution": {
     "iopub.execute_input": "2023-05-01T01:28:56.883913Z",
     "iopub.status.busy": "2023-05-01T01:28:56.883189Z",
     "iopub.status.idle": "2023-05-01T01:28:57.504333Z",
     "shell.execute_reply": "2023-05-01T01:28:57.503463Z",
     "shell.execute_reply.started": "2023-05-01T01:28:56.883878Z"
    },
    "jupyter": {
     "source_hidden": true
    }
   },
   "outputs": [],
   "source": [
    "import pandas as pd"
   ]
  },
  {
   "cell_type": "markdown",
   "id": "48755fa3-cba0-4508-9df2-18d50f60551b",
   "metadata": {},
   "source": [
    "#### Local application imports"
   ]
  },
  {
   "cell_type": "code",
   "execution_count": 3,
   "id": "a62e34a6-dea0-48d6-a3bc-c5dcdcdb1718",
   "metadata": {
    "execution": {
     "iopub.execute_input": "2023-05-01T01:28:57.507896Z",
     "iopub.status.busy": "2023-05-01T01:28:57.507437Z",
     "iopub.status.idle": "2023-05-01T01:28:58.168638Z",
     "shell.execute_reply": "2023-05-01T01:28:58.167767Z",
     "shell.execute_reply.started": "2023-05-01T01:28:57.507863Z"
    },
    "jupyter": {
     "source_hidden": true
    },
    "tags": []
   },
   "outputs": [],
   "source": [
    "%load_ext autoreload\n",
    "%autoreload 2\n",
    "\n",
    "from pkg_dir.config import *\n",
    "from pkg_dir.src.utils import *\n",
    "from pkg_dir.src.functions import *\n",
    "from pkg_dir.src.parameters import *"
   ]
  },
  {
   "cell_type": "markdown",
   "id": "6c6f38a8-f008-416b-9273-c48840d8160d",
   "metadata": {},
   "source": [
    "### "
   ]
  },
  {
   "cell_type": "markdown",
   "id": "7b7caa8e-e910-45a8-a0e3-dc6bb79130bf",
   "metadata": {},
   "source": [
    "# Getting data"
   ]
  },
  {
   "cell_type": "markdown",
   "id": "9445e361-4120-4028-a12c-b7e7bd2b9905",
   "metadata": {},
   "source": [
    "#### Preparing data from local source"
   ]
  },
  {
   "cell_type": "code",
   "execution_count": 13,
   "id": "f04e6c8c-327c-4412-9edc-8ebd8d1888a9",
   "metadata": {
    "execution": {
     "iopub.execute_input": "2023-05-01T03:37:04.671313Z",
     "iopub.status.busy": "2023-05-01T03:37:04.670792Z",
     "iopub.status.idle": "2023-05-01T03:37:04.718838Z",
     "shell.execute_reply": "2023-05-01T03:37:04.717097Z",
     "shell.execute_reply.started": "2023-05-01T03:37:04.671282Z"
    },
    "scrolled": true,
    "tags": []
   },
   "outputs": [],
   "source": [
    "## Inventory data\n",
    "path = '../pkg_dir/data/product.csv'\n",
    "df_prod = pd.read_csv(path)\n",
    "json_prod = df_prod.to_dict('records')"
   ]
  },
  {
   "cell_type": "code",
   "execution_count": 14,
   "id": "438b14e5-333a-4cb2-bda0-3e9e5df24ed2",
   "metadata": {
    "execution": {
     "iopub.execute_input": "2023-05-01T03:37:04.722344Z",
     "iopub.status.busy": "2023-05-01T03:37:04.721957Z",
     "iopub.status.idle": "2023-05-01T03:37:04.778570Z",
     "shell.execute_reply": "2023-05-01T03:37:04.776607Z",
     "shell.execute_reply.started": "2023-05-01T03:37:04.722303Z"
    },
    "scrolled": true,
    "tags": []
   },
   "outputs": [],
   "source": [
    "## Online purchases data\n",
    "path = '../pkg_dir/data/person.csv'\n",
    "df_pers = pd.read_csv(path)\n",
    "json_pers = df_pers.to_dict('records')"
   ]
  },
  {
   "cell_type": "markdown",
   "id": "9d8bf160-c679-4a09-8a07-d59429749dcb",
   "metadata": {},
   "source": [
    "### "
   ]
  },
  {
   "cell_type": "markdown",
   "id": "c71978e9-58ba-4fa4-bf5f-428da4976a68",
   "metadata": {},
   "source": [
    "# Database setup"
   ]
  },
  {
   "cell_type": "code",
   "execution_count": 15,
   "id": "a34f2737-cb0d-4e44-b3ff-9ef56c0a0d04",
   "metadata": {
    "execution": {
     "iopub.execute_input": "2023-05-01T03:37:08.122402Z",
     "iopub.status.busy": "2023-05-01T03:37:08.121986Z",
     "iopub.status.idle": "2023-05-01T03:37:09.276094Z",
     "shell.execute_reply": "2023-05-01T03:37:09.274297Z",
     "shell.execute_reply.started": "2023-05-01T03:37:08.122367Z"
    },
    "tags": []
   },
   "outputs": [
    {
     "name": "stdout",
     "output_type": "stream",
     "text": [
      "Pinged your deployment. You successfully connected to MongoDB!\n"
     ]
    }
   ],
   "source": [
    "## Cluster's client\n",
    "mdb_client = create_and_test_mongodb_conn()"
   ]
  },
  {
   "cell_type": "code",
   "execution_count": 17,
   "id": "71244912-acd0-43b3-995f-27fd6b64173c",
   "metadata": {
    "execution": {
     "iopub.execute_input": "2023-05-01T03:37:43.947645Z",
     "iopub.status.busy": "2023-05-01T03:37:43.947207Z",
     "iopub.status.idle": "2023-05-01T03:37:43.984714Z",
     "shell.execute_reply": "2023-05-01T03:37:43.983747Z",
     "shell.execute_reply.started": "2023-05-01T03:37:43.947607Z"
    },
    "tags": []
   },
   "outputs": [],
   "source": [
    "## Creating/selecting database\n",
    "mdb = mdb_client['beans_boutique_db']"
   ]
  },
  {
   "cell_type": "code",
   "execution_count": 18,
   "id": "68d80a04-54c4-40f4-afb3-a59c12662377",
   "metadata": {
    "execution": {
     "iopub.execute_input": "2023-05-01T03:37:44.128245Z",
     "iopub.status.busy": "2023-05-01T03:37:44.127820Z",
     "iopub.status.idle": "2023-05-01T03:37:44.167632Z",
     "shell.execute_reply": "2023-05-01T03:37:44.166405Z",
     "shell.execute_reply.started": "2023-05-01T03:37:44.128214Z"
    },
    "tags": []
   },
   "outputs": [],
   "source": [
    "## Creating/selecting collections\n",
    "mdb_collection_pers = mdb['person']\n",
    "mdb_collection_prod = mdb['product']"
   ]
  },
  {
   "cell_type": "markdown",
   "id": "7cca64eb-c102-4076-ae9a-a8e210c02bda",
   "metadata": {},
   "source": [
    "### "
   ]
  },
  {
   "cell_type": "markdown",
   "id": "bd30ec61-1166-48f8-8772-68848deeabff",
   "metadata": {},
   "source": [
    "# Entries upload"
   ]
  },
  {
   "cell_type": "code",
   "execution_count": 19,
   "id": "c5cc45c8-d9b0-4255-8729-383f2def9af0",
   "metadata": {
    "execution": {
     "iopub.execute_input": "2023-05-01T03:38:15.614974Z",
     "iopub.status.busy": "2023-05-01T03:38:15.614538Z",
     "iopub.status.idle": "2023-05-01T03:38:15.984228Z",
     "shell.execute_reply": "2023-05-01T03:38:15.983374Z",
     "shell.execute_reply.started": "2023-05-01T03:38:15.614937Z"
    },
    "tags": []
   },
   "outputs": [
    {
     "data": {
      "text/plain": [
       "<pymongo.results.InsertManyResult at 0x11cc8ea00>"
      ]
     },
     "execution_count": 19,
     "metadata": {},
     "output_type": "execute_result"
    }
   ],
   "source": [
    "mdb_collection_pers.insert_many(json_pers)\n",
    "mdb_collection_prod.insert_many(json_prod)"
   ]
  },
  {
   "cell_type": "markdown",
   "id": "58b57c83-ba12-4ce0-a0f2-08a748f1d356",
   "metadata": {},
   "source": [
    "### "
   ]
  },
  {
   "cell_type": "markdown",
   "id": "d533fe5d-c902-4259-97ee-672d6f2363c6",
   "metadata": {},
   "source": [
    "# Data queries"
   ]
  },
  {
   "cell_type": "markdown",
   "id": "f490276a-632b-4345-a30c-099f2eb44fa2",
   "metadata": {},
   "source": [
    "##### Query 1"
   ]
  },
  {
   "cell_type": "markdown",
   "id": "3f99f5dd-a5f8-4858-898c-1c49db020d9a",
   "metadata": {},
   "source": [
    "##### Query 2"
   ]
  },
  {
   "cell_type": "markdown",
   "id": "87347c9f-c0a6-472d-a5aa-876f06ad1ee2",
   "metadata": {},
   "source": [
    "### "
   ]
  },
  {
   "cell_type": "markdown",
   "id": "7049a6c2-9856-4d9e-a59a-76a39e4f9630",
   "metadata": {},
   "source": [
    "# Database removal"
   ]
  },
  {
   "cell_type": "code",
   "execution_count": 21,
   "id": "e1b453c7-a08e-4c34-9d4c-ed3bda0e757c",
   "metadata": {
    "execution": {
     "iopub.execute_input": "2023-05-01T03:38:36.329960Z",
     "iopub.status.busy": "2023-05-01T03:38:36.329514Z",
     "iopub.status.idle": "2023-05-01T03:38:36.458363Z",
     "shell.execute_reply": "2023-05-01T03:38:36.457273Z",
     "shell.execute_reply.started": "2023-05-01T03:38:36.329924Z"
    },
    "tags": []
   },
   "outputs": [
    {
     "name": "stdout",
     "output_type": "stream",
     "text": [
      "['beans_boutique_db', 'admin', 'local']\n"
     ]
    }
   ],
   "source": [
    "print(mdb_client.list_database_names())"
   ]
  },
  {
   "cell_type": "code",
   "execution_count": null,
   "id": "87933384-3b94-4e0c-83d9-22b8009f2750",
   "metadata": {},
   "outputs": [],
   "source": [
    "mdb_client.drop_database('beans_boutique_db')"
   ]
  },
  {
   "cell_type": "code",
   "execution_count": 11,
   "id": "2ae579dd-780b-4b56-b426-a177ca476703",
   "metadata": {
    "execution": {
     "iopub.execute_input": "2023-05-01T01:30:25.363310Z",
     "iopub.status.busy": "2023-05-01T01:30:25.362879Z",
     "iopub.status.idle": "2023-05-01T01:30:25.573263Z",
     "shell.execute_reply": "2023-05-01T01:30:25.572394Z",
     "shell.execute_reply.started": "2023-05-01T01:30:25.363273Z"
    },
    "tags": []
   },
   "outputs": [
    {
     "name": "stdout",
     "output_type": "stream",
     "text": [
      "['beans_boutique_db', 'admin', 'local']\n"
     ]
    }
   ],
   "source": [
    "print(mdb_client.list_database_names())"
   ]
  },
  {
   "cell_type": "markdown",
   "id": "f9eeaac2-a536-45c7-9239-6919dcfbae4c",
   "metadata": {},
   "source": [
    "### "
   ]
  },
  {
   "cell_type": "markdown",
   "id": "d2e754c0-d0a9-4384-b988-8e11c48af2f0",
   "metadata": {},
   "source": [
    "# Header"
   ]
  },
  {
   "cell_type": "markdown",
   "id": "91ccca2a-efa4-49ca-8671-6a1e64764362",
   "metadata": {},
   "source": [
    "### "
   ]
  },
  {
   "cell_type": "markdown",
   "id": "784be4db-1c06-43e0-a4da-86b1bbcde318",
   "metadata": {},
   "source": [
    "# *Notes*"
   ]
  },
  {
   "cell_type": "markdown",
   "id": "b34c662c-f724-412f-86d7-75647d9b5448",
   "metadata": {},
   "source": [
    "---"
   ]
  },
  {
   "cell_type": "markdown",
   "id": "168089c7-257b-4b61-9a65-803e32753196",
   "metadata": {},
   "source": [
    "---"
   ]
  }
 ],
 "metadata": {
  "kernelspec": {
   "display_name": "Python 3 (ipykernel)",
   "language": "python",
   "name": "python3"
  },
  "language_info": {
   "codemirror_mode": {
    "name": "ipython",
    "version": 3
   },
   "file_extension": ".py",
   "mimetype": "text/x-python",
   "name": "python",
   "nbconvert_exporter": "python",
   "pygments_lexer": "ipython3",
   "version": "3.9.1"
  },
  "toc-autonumbering": true
 },
 "nbformat": 4,
 "nbformat_minor": 5
}
