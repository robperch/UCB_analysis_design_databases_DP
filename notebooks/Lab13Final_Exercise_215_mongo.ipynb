{
  "cells": [
    {
      "cell_type": "markdown",
      "metadata": {
        "deletable": false,
        "editable": false,
        "id": "d6QQzRXnGg_8"
      },
      "source": [
        "- MongoDB is a schema-free, document-oriented NoSQL database written in C++. \n",
        "\n",
        "- A record in MongoDB is a document, which is a data structure composed of field and value pairs. MongoDB documents are encoded in JSON objects (similar to Python dictionnaries), which allows a great flexibility and scaling potential. The values of fields may include other documents, arrays, and arrays of documents.\n",
        "\n",
        "- What about queries? MongoDB uses a RESTful API. To retrieve certain documents from a db collection, a query document is created containing the fields that the desired documents should match.\n",
        "\n",
        "\n",
        "In this lab, we will create and query a MongoDB database using a python connector, the PyMongo library. \n",
        "\n",
        "[[Link to MongoDB Official Documentation]](https://docs.mongodb.com/manual/introduction/) <br>\n",
        "[[Link to PyMongo Tutorial on W3School]](https://www.w3schools.com/python/python_mongodb_getstarted.asp) <br>\n",
        "\n",
        "---"
      ]
    },
    {
      "cell_type": "markdown",
      "metadata": {
        "deletable": false,
        "editable": false,
        "id": "Kw34iwepGg_9"
      },
      "source": [
        "## 1/ MongoDB python connector installer - PyMongo library"
      ]
    },
    {
      "cell_type": "code",
      "execution_count": null,
      "metadata": {
        "id": "PDiNpxn6Gg_9",
        "outputId": "cbc3adac-12ee-467c-e002-fc859754c906"
      },
      "outputs": [
        {
          "name": "stdout",
          "output_type": "stream",
          "text": [
            "Requirement already satisfied: pymongo in /Users/sanjliagarwal/opt/anaconda3/lib/python3.8/site-packages (4.1.1)\r\n"
          ]
        }
      ],
      "source": [
        "! pip install pymongo"
      ]
    },
    {
      "cell_type": "code",
      "execution_count": null,
      "metadata": {
        "id": "34VMx0-WGg__"
      },
      "outputs": [],
      "source": [
        "import pymongo\n",
        "import pprint\n",
        "import json\n",
        "import warnings\n",
        "import pandas as pd \n",
        "warnings.filterwarnings('ignore')"
      ]
    },
    {
      "cell_type": "markdown",
      "metadata": {
        "deletable": false,
        "editable": false,
        "id": "dPbMf2E6Gg__"
      },
      "source": [
        "## 2/ Create MongoDB database"
      ]
    },
    {
      "cell_type": "markdown",
      "metadata": {
        "deletable": false,
        "editable": false,
        "id": "Z_CEA5RiGg__"
      },
      "source": [
        "![Capture%20d%E2%80%99e%CC%81cran%202021-04-09%20a%CC%80%2011.15.45.png](attachment:Capture%20d%E2%80%99e%CC%81cran%202021-04-09%20a%CC%80%2011.15.45.png)\n",
        "![Capture%20d%E2%80%99e%CC%81cran%202021-04-09%20a%CC%80%2011.15.51.png](attachment:Capture%20d%E2%80%99e%CC%81cran%202021-04-09%20a%CC%80%2011.15.51.png)"
      ]
    },
    {
      "cell_type": "code",
      "execution_count": null,
      "metadata": {
        "id": "4H06hWH9GhAA",
        "outputId": "c10ead7a-787f-4cbc-fb7b-85da3abc5922"
      },
      "outputs": [
        {
          "data": {
            "text/html": [
              "<div>\n",
              "<style scoped>\n",
              "    .dataframe tbody tr th:only-of-type {\n",
              "        vertical-align: middle;\n",
              "    }\n",
              "\n",
              "    .dataframe tbody tr th {\n",
              "        vertical-align: top;\n",
              "    }\n",
              "\n",
              "    .dataframe thead th {\n",
              "        text-align: right;\n",
              "    }\n",
              "</style>\n",
              "<table border=\"1\" class=\"dataframe\">\n",
              "  <thead>\n",
              "    <tr style=\"text-align: right;\">\n",
              "      <th></th>\n",
              "      <th>customer_id</th>\n",
              "      <th>first_name</th>\n",
              "      <th>last_name</th>\n",
              "      <th>email</th>\n",
              "      <th>phone</th>\n",
              "    </tr>\n",
              "  </thead>\n",
              "  <tbody>\n",
              "    <tr>\n",
              "      <th>0</th>\n",
              "      <td>10497</td>\n",
              "      <td>Nic</td>\n",
              "      <td>Raboy</td>\n",
              "      <td>nic@test.com</td>\n",
              "      <td>510-229-0612</td>\n",
              "    </tr>\n",
              "    <tr>\n",
              "      <th>1</th>\n",
              "      <td>23922</td>\n",
              "      <td>Matt</td>\n",
              "      <td>Groves</td>\n",
              "      <td>matt@test.com</td>\n",
              "      <td>NaN</td>\n",
              "    </tr>\n",
              "    <tr>\n",
              "      <th>2</th>\n",
              "      <td>33927</td>\n",
              "      <td>Arun</td>\n",
              "      <td>Gupta</td>\n",
              "      <td>arun@test.com</td>\n",
              "      <td>510-149-9782</td>\n",
              "    </tr>\n",
              "    <tr>\n",
              "      <th>3</th>\n",
              "      <td>43736</td>\n",
              "      <td>Hod</td>\n",
              "      <td>Greeley</td>\n",
              "      <td>hod@test.com</td>\n",
              "      <td>510-718-3340</td>\n",
              "    </tr>\n",
              "  </tbody>\n",
              "</table>\n",
              "</div>"
            ],
            "text/plain": [
              "   customer_id first_name last_name          email         phone\n",
              "0        10497        Nic     Raboy   nic@test.com  510-229-0612\n",
              "1        23922       Matt    Groves  matt@test.com           NaN\n",
              "2        33927       Arun     Gupta  arun@test.com  510-149-9782\n",
              "3        43736        Hod   Greeley   hod@test.com  510-718-3340"
            ]
          },
          "execution_count": 3,
          "metadata": {},
          "output_type": "execute_result"
        }
      ],
      "source": [
        "df_customers = pd.DataFrame(data = {'customer_id': [10497, 23922, 33927, 43736],\n",
        "                                    'first_name': ['Nic', 'Matt', 'Arun', 'Hod'],\n",
        "                                    'last_name' : ['Raboy', 'Groves', 'Gupta', 'Greeley'],\n",
        "                                    'email' : ['nic@test.com', 'matt@test.com', 'arun@test.com', 'hod@test.com'],\n",
        "                                    'phone' : ['510-229-0612', 'NaN', '510-149-9782', '510-718-3340']\n",
        "                                     })\n",
        "df_customers.head() "
      ]
    },
    {
      "cell_type": "code",
      "execution_count": null,
      "metadata": {
        "id": "gdMgiFVrGhAB",
        "outputId": "a6d1ef51-a73b-4381-9bb8-0414bffc04a6"
      },
      "outputs": [
        {
          "data": {
            "text/plain": [
              "[{'customer_id': 10497,\n",
              "  'first_name': 'Nic',\n",
              "  'last_name': 'Raboy',\n",
              "  'email': 'nic@test.com',\n",
              "  'phone': '510-229-0612'},\n",
              " {'customer_id': 23922,\n",
              "  'first_name': 'Matt',\n",
              "  'last_name': 'Groves',\n",
              "  'email': 'matt@test.com',\n",
              "  'phone': 'NaN'},\n",
              " {'customer_id': 33927,\n",
              "  'first_name': 'Arun',\n",
              "  'last_name': 'Gupta',\n",
              "  'email': 'arun@test.com',\n",
              "  'phone': '510-149-9782'},\n",
              " {'customer_id': 43736,\n",
              "  'first_name': 'Hod',\n",
              "  'last_name': 'Greeley',\n",
              "  'email': 'hod@test.com',\n",
              "  'phone': '510-718-3340'}]"
            ]
          },
          "execution_count": 4,
          "metadata": {},
          "output_type": "execute_result"
        }
      ],
      "source": [
        "customers_dict = df_customers.to_dict('records')\n",
        "customers_dict"
      ]
    },
    {
      "cell_type": "code",
      "execution_count": null,
      "metadata": {
        "id": "-y3TmrQfGhAC",
        "outputId": "65ebcd5a-9c0f-46e4-e680-8e1f735476f7"
      },
      "outputs": [
        {
          "data": {
            "text/plain": [
              "[{'customer_id': 10497,\n",
              "  'first_name': 'Nic',\n",
              "  'last_name': 'Raboy',\n",
              "  'email': 'nic@test.com',\n",
              "  'phone': '510-229-0612'},\n",
              " {'customer_id': 23922,\n",
              "  'first_name': 'Matt',\n",
              "  'last_name': 'Groves',\n",
              "  'email': 'matt@test.com'},\n",
              " {'customer_id': 33927,\n",
              "  'first_name': 'Arun',\n",
              "  'last_name': 'Gupta',\n",
              "  'email': 'arun@test.com',\n",
              "  'phone': '510-149-9782'},\n",
              " {'customer_id': 43736,\n",
              "  'first_name': 'Hod',\n",
              "  'last_name': 'Greeley',\n",
              "  'email': 'hod@test.com',\n",
              "  'phone': '510-718-3340'}]"
            ]
          },
          "execution_count": 5,
          "metadata": {},
          "output_type": "execute_result"
        }
      ],
      "source": [
        "nosql_customers_dict = []\n",
        "for index, customer in enumerate(customers_dict):\n",
        "    nosql_customers_dict.append(customer)\n",
        "    if customer['phone'] == 'NaN' :\n",
        "        del nosql_customers_dict[index]['phone']\n",
        "nosql_customers_dict"
      ]
    },
    {
      "cell_type": "code",
      "execution_count": null,
      "metadata": {
        "id": "FpfoF0pIGhAC"
      },
      "outputs": [],
      "source": [
        "with open('customers.json', 'w') as outfile_customers:\n",
        "    json.dump(nosql_customers_dict, outfile_customers)"
      ]
    },
    {
      "cell_type": "code",
      "execution_count": null,
      "metadata": {
        "id": "G_VhMyCeGhAC",
        "outputId": "4c0161b9-7067-451b-ee56-d13cbab0dc42"
      },
      "outputs": [
        {
          "data": {
            "text/plain": [
              "[{'customer_id': 10497,\n",
              "  'first_name': 'Nic',\n",
              "  'last_name': 'Raboy',\n",
              "  'email': 'nic@test.com',\n",
              "  'phone': '510-229-0612'},\n",
              " {'customer_id': 23922,\n",
              "  'first_name': 'Matt',\n",
              "  'last_name': 'Groves',\n",
              "  'email': 'matt@test.com'},\n",
              " {'customer_id': 33927,\n",
              "  'first_name': 'Arun',\n",
              "  'last_name': 'Gupta',\n",
              "  'email': 'arun@test.com',\n",
              "  'phone': '510-149-9782'},\n",
              " {'customer_id': 43736,\n",
              "  'first_name': 'Hod',\n",
              "  'last_name': 'Greeley',\n",
              "  'email': 'hod@test.com',\n",
              "  'phone': '510-718-3340'}]"
            ]
          },
          "execution_count": 24,
          "metadata": {},
          "output_type": "execute_result"
        }
      ],
      "source": [
        "with open('customers.json') as input_customers:\n",
        "    customers_data = json.load(input_customers)\n",
        "customers_data "
      ]
    },
    {
      "cell_type": "code",
      "execution_count": null,
      "metadata": {
        "id": "fpCyszrQGhAD"
      },
      "outputs": [],
      "source": [
        "myclient = pymongo.MongoClient('mongodb://localhost:27017')\n",
        "db = myclient[\"game_database\"] "
      ]
    },
    {
      "cell_type": "code",
      "execution_count": null,
      "metadata": {
        "id": "ckhHEs02GhAD"
      },
      "outputs": [],
      "source": [
        "#myclient.drop_database(\"game_database\")"
      ]
    },
    {
      "cell_type": "code",
      "execution_count": null,
      "metadata": {
        "id": "fpSeilMxGhAD",
        "outputId": "32e229d3-8fac-4aba-856d-4425532fabde"
      },
      "outputs": [
        {
          "name": "stdout",
          "output_type": "stream",
          "text": [
            "['admin', 'config', 'local']\n"
          ]
        }
      ],
      "source": [
        "print(myclient.list_database_names())"
      ]
    },
    {
      "cell_type": "code",
      "execution_count": null,
      "metadata": {
        "id": "mbbYpz3kGhAE"
      },
      "outputs": [],
      "source": [
        "customers = db[\"customers\"]"
      ]
    },
    {
      "cell_type": "code",
      "execution_count": null,
      "metadata": {
        "id": "iPLmhYBuGhAE",
        "outputId": "d5b181ae-0894-4dee-9958-b0292bc953e7"
      },
      "outputs": [
        {
          "name": "stdout",
          "output_type": "stream",
          "text": [
            "[]\n"
          ]
        }
      ],
      "source": [
        "print(db.list_collection_names())"
      ]
    },
    {
      "cell_type": "code",
      "execution_count": null,
      "metadata": {
        "id": "beyJcnk8GhAE",
        "outputId": "f0ea15a6-4957-4dfb-8b56-05cff474ee31"
      },
      "outputs": [
        {
          "data": {
            "text/plain": [
              "<pymongo.results.InsertManyResult at 0x7f865819dd90>"
            ]
          },
          "execution_count": 37,
          "metadata": {},
          "output_type": "execute_result"
        }
      ],
      "source": [
        "customers.insert_many(customers_data)  #collection.insert_many(json,list of dictionaries)"
      ]
    },
    {
      "cell_type": "code",
      "execution_count": null,
      "metadata": {
        "id": "91-fEUdxGhAE",
        "outputId": "d75a78f6-1d7b-45c1-9839-a3c015bf3c17"
      },
      "outputs": [
        {
          "name": "stdout",
          "output_type": "stream",
          "text": [
            "['admin', 'config', 'game_database', 'local']\n"
          ]
        }
      ],
      "source": [
        "print(myclient.list_database_names())"
      ]
    },
    {
      "cell_type": "code",
      "execution_count": null,
      "metadata": {
        "id": "LnwwB-Z8GhAF",
        "outputId": "5e27fb69-cd95-4bde-eeeb-473e92c41bca"
      },
      "outputs": [
        {
          "name": "stdout",
          "output_type": "stream",
          "text": [
            "['customers']\n"
          ]
        }
      ],
      "source": [
        "print(db.list_collection_names())"
      ]
    },
    {
      "cell_type": "code",
      "execution_count": null,
      "metadata": {
        "id": "mBWhsVx8GhAF",
        "outputId": "5b7ef6e1-7fae-4800-e15a-2b8d2041dfda"
      },
      "outputs": [
        {
          "data": {
            "text/plain": [
              "{'_id': ObjectId('6262e4116616b3516925396f'),\n",
              " 'customer_id': 10497,\n",
              " 'first_name': 'Nic',\n",
              " 'last_name': 'Raboy',\n",
              " 'email': 'nic@test.com',\n",
              " 'phone': '510-229-0612'}"
            ]
          },
          "execution_count": 40,
          "metadata": {},
          "output_type": "execute_result"
        }
      ],
      "source": [
        "customers.find_one()"
      ]
    },
    {
      "cell_type": "code",
      "execution_count": null,
      "metadata": {
        "id": "NEA5Id4QGhAF"
      },
      "outputs": [],
      "source": [
        "#customers.drop() "
      ]
    },
    {
      "cell_type": "code",
      "execution_count": null,
      "metadata": {
        "id": "rjclKteCGhAF",
        "outputId": "acf5b7ac-0449-43fb-c914-33c21e899e99"
      },
      "outputs": [
        {
          "data": {
            "text/html": [
              "<div>\n",
              "<style scoped>\n",
              "    .dataframe tbody tr th:only-of-type {\n",
              "        vertical-align: middle;\n",
              "    }\n",
              "\n",
              "    .dataframe tbody tr th {\n",
              "        vertical-align: top;\n",
              "    }\n",
              "\n",
              "    .dataframe thead th {\n",
              "        text-align: right;\n",
              "    }\n",
              "</style>\n",
              "<table border=\"1\" class=\"dataframe\">\n",
              "  <thead>\n",
              "    <tr style=\"text-align: right;\">\n",
              "      <th></th>\n",
              "      <th>game_id</th>\n",
              "      <th>game_name</th>\n",
              "      <th>price</th>\n",
              "    </tr>\n",
              "  </thead>\n",
              "  <tbody>\n",
              "    <tr>\n",
              "      <th>0</th>\n",
              "      <td>11</td>\n",
              "      <td>Pokemon Red</td>\n",
              "      <td>29.99</td>\n",
              "    </tr>\n",
              "    <tr>\n",
              "      <th>1</th>\n",
              "      <td>12</td>\n",
              "      <td>Dake Soul Red III</td>\n",
              "      <td>59.99</td>\n",
              "    </tr>\n",
              "    <tr>\n",
              "      <th>2</th>\n",
              "      <td>13</td>\n",
              "      <td>RayMan 4</td>\n",
              "      <td>59.99</td>\n",
              "    </tr>\n",
              "    <tr>\n",
              "      <th>3</th>\n",
              "      <td>14</td>\n",
              "      <td>Super Smash Bros</td>\n",
              "      <td>49.99</td>\n",
              "    </tr>\n",
              "  </tbody>\n",
              "</table>\n",
              "</div>"
            ],
            "text/plain": [
              "   game_id          game_name  price\n",
              "0       11        Pokemon Red  29.99\n",
              "1       12  Dake Soul Red III  59.99\n",
              "2       13           RayMan 4  59.99\n",
              "3       14   Super Smash Bros  49.99"
            ]
          },
          "execution_count": 41,
          "metadata": {},
          "output_type": "execute_result"
        }
      ],
      "source": [
        "df_games = pd.DataFrame(data = {'game_id': [11, 12, 13, 14],\n",
        "                             'game_name': ['Pokemon Red', 'Dake Soul Red III', 'RayMan 4', 'Super Smash Bros'],\n",
        "                             'price' : [29.99, 59.99, 59.99, 49.99]\n",
        "                             })\n",
        "df_games.head() "
      ]
    },
    {
      "cell_type": "code",
      "execution_count": null,
      "metadata": {
        "id": "Mq5aCPz0GhAG",
        "outputId": "7816c79d-2f78-4f95-cdfd-37e4a61e9778"
      },
      "outputs": [
        {
          "data": {
            "text/plain": [
              "[{'game_id': 11, 'game_name': 'Pokemon Red', 'price': 29.99},\n",
              " {'game_id': 12, 'game_name': 'Dake Soul Red III', 'price': 59.99},\n",
              " {'game_id': 13, 'game_name': 'RayMan 4', 'price': 59.99},\n",
              " {'game_id': 14, 'game_name': 'Super Smash Bros', 'price': 49.99}]"
            ]
          },
          "execution_count": 42,
          "metadata": {},
          "output_type": "execute_result"
        }
      ],
      "source": [
        "games_dict = df_games.to_dict('records')\n",
        "games_dict"
      ]
    },
    {
      "cell_type": "code",
      "execution_count": null,
      "metadata": {
        "id": "CXRikJ_FGhAG",
        "outputId": "21adc6fa-ae2a-432f-aae6-eb15a65882db"
      },
      "outputs": [
        {
          "data": {
            "text/plain": [
              "<pymongo.results.InsertManyResult at 0x7f8628020cd0>"
            ]
          },
          "execution_count": 43,
          "metadata": {},
          "output_type": "execute_result"
        }
      ],
      "source": [
        "games = db[\"games\"]\n",
        "games.insert_many(games_dict)"
      ]
    },
    {
      "cell_type": "code",
      "execution_count": null,
      "metadata": {
        "id": "FJIyxXK2GhAG",
        "outputId": "074a686e-a6c9-43ca-fcd8-494c7c93a341"
      },
      "outputs": [
        {
          "data": {
            "text/plain": [
              "{'_id': ObjectId('6262e82e6616b35169253973'),\n",
              " 'game_id': 11,\n",
              " 'game_name': 'Pokemon Red',\n",
              " 'price': 29.99}"
            ]
          },
          "execution_count": 44,
          "metadata": {},
          "output_type": "execute_result"
        }
      ],
      "source": [
        "games.find_one()"
      ]
    },
    {
      "cell_type": "code",
      "execution_count": null,
      "metadata": {
        "id": "_BQaY7G8GhAG",
        "outputId": "5a3d16a0-60c9-4224-c3bf-825705148e11"
      },
      "outputs": [
        {
          "data": {
            "text/html": [
              "<div>\n",
              "<style scoped>\n",
              "    .dataframe tbody tr th:only-of-type {\n",
              "        vertical-align: middle;\n",
              "    }\n",
              "\n",
              "    .dataframe tbody tr th {\n",
              "        vertical-align: top;\n",
              "    }\n",
              "\n",
              "    .dataframe thead th {\n",
              "        text-align: right;\n",
              "    }\n",
              "</style>\n",
              "<table border=\"1\" class=\"dataframe\">\n",
              "  <thead>\n",
              "    <tr style=\"text-align: right;\">\n",
              "      <th></th>\n",
              "      <th>order_number</th>\n",
              "      <th>date</th>\n",
              "      <th>customer_id</th>\n",
              "      <th>game_id</th>\n",
              "      <th>quantity</th>\n",
              "    </tr>\n",
              "  </thead>\n",
              "  <tbody>\n",
              "    <tr>\n",
              "      <th>0</th>\n",
              "      <td>1234</td>\n",
              "      <td>07/08/2016</td>\n",
              "      <td>10497</td>\n",
              "      <td>11</td>\n",
              "      <td>1</td>\n",
              "    </tr>\n",
              "    <tr>\n",
              "      <th>1</th>\n",
              "      <td>1234</td>\n",
              "      <td>07/08/2016</td>\n",
              "      <td>10497</td>\n",
              "      <td>12</td>\n",
              "      <td>1</td>\n",
              "    </tr>\n",
              "    <tr>\n",
              "      <th>2</th>\n",
              "      <td>9876</td>\n",
              "      <td>07/12/2016</td>\n",
              "      <td>23922</td>\n",
              "      <td>14</td>\n",
              "      <td>2</td>\n",
              "    </tr>\n",
              "    <tr>\n",
              "      <th>3</th>\n",
              "      <td>5467</td>\n",
              "      <td>07/20/2016</td>\n",
              "      <td>33927</td>\n",
              "      <td>13</td>\n",
              "      <td>1</td>\n",
              "    </tr>\n",
              "  </tbody>\n",
              "</table>\n",
              "</div>"
            ],
            "text/plain": [
              "   order_number        date  customer_id  game_id  quantity\n",
              "0          1234  07/08/2016        10497       11         1\n",
              "1          1234  07/08/2016        10497       12         1\n",
              "2          9876  07/12/2016        23922       14         2\n",
              "3          5467  07/20/2016        33927       13         1"
            ]
          },
          "execution_count": 45,
          "metadata": {},
          "output_type": "execute_result"
        }
      ],
      "source": [
        "df_orders = pd.DataFrame(data = {'order_number': [1234, 1234, 9876, 5467],\n",
        "                                 'date' : ['07/08/2016', '07/08/2016', '07/12/2016', '07/20/2016'],\n",
        "                                 'customer_id' : [10497, 10497, 23922, 33927],\n",
        "                                 'game_id' : [11, 12, 14, 13],\n",
        "                                 'quantity' : [1, 1, 2, 1],\n",
        "                                })\n",
        "\n",
        "df_orders.head()"
      ]
    },
    {
      "cell_type": "code",
      "execution_count": null,
      "metadata": {
        "id": "Ma6MtFkIGhAG",
        "outputId": "6996604c-ef6b-4240-8579-b005df4ffe70"
      },
      "outputs": [
        {
          "data": {
            "text/plain": [
              "{'_id': ObjectId('6262e8316616b35169253977'),\n",
              " 'order_number': 1234,\n",
              " 'date': '07/08/2016',\n",
              " 'customer_id': 10497,\n",
              " 'game_id': 11,\n",
              " 'quantity': 1}"
            ]
          },
          "execution_count": 46,
          "metadata": {},
          "output_type": "execute_result"
        }
      ],
      "source": [
        "orders_dict = df_orders.to_dict('records')\n",
        "orders = db[\"orders\"]\n",
        "orders.insert_many(orders_dict)\n",
        "orders.find_one() "
      ]
    },
    {
      "cell_type": "code",
      "execution_count": null,
      "metadata": {
        "id": "JDFlbDpSGhAG"
      },
      "outputs": [],
      "source": [
        "orders_collection = db.get_collection(\"orders\")\n"
      ]
    },
    {
      "cell_type": "code",
      "execution_count": null,
      "metadata": {
        "id": "Ip4yG4EwGhAG",
        "outputId": "ad3d14fa-0b50-469e-a72b-ae64f11e387e"
      },
      "outputs": [
        {
          "data": {
            "text/plain": [
              "Collection(Database(MongoClient(host=['localhost:27017'], document_class=dict, tz_aware=False, connect=True), 'game_database'), 'orders')"
            ]
          },
          "execution_count": 48,
          "metadata": {},
          "output_type": "execute_result"
        }
      ],
      "source": [
        "orders_collection"
      ]
    },
    {
      "cell_type": "code",
      "execution_count": null,
      "metadata": {
        "id": "IXebV0hvGhAG",
        "outputId": "2e9f2a17-b9c6-4d27-ed3f-f25f95c3c5a6"
      },
      "outputs": [
        {
          "name": "stdout",
          "output_type": "stream",
          "text": [
            "['games', 'customers', 'orders']\n"
          ]
        }
      ],
      "source": [
        "print(db.list_collection_names())"
      ]
    },
    {
      "cell_type": "markdown",
      "metadata": {
        "deletable": false,
        "editable": false,
        "id": "tWKpM3OQGhAH"
      },
      "source": [
        "## 3/ MongoDB Queries I"
      ]
    },
    {
      "cell_type": "code",
      "execution_count": null,
      "metadata": {
        "id": "L5G3fF1SGhAH"
      },
      "outputs": [],
      "source": [
        "def MongoDB_to_DataFrame(query):\n",
        "    ls_results = []\n",
        "    for doc in query :\n",
        "        ls_results.append(doc)\n",
        "    return pd.DataFrame.from_dict(ls_results)"
      ]
    },
    {
      "cell_type": "markdown",
      "metadata": {
        "id": "XG0NtSnpGhAH"
      },
      "source": [
        "#### QUERY 1:  `SELECT * FROM customers`\n",
        "\n",
        "---"
      ]
    },
    {
      "cell_type": "code",
      "execution_count": null,
      "metadata": {
        "id": "EYKOveQiGhAH",
        "outputId": "591dcbe1-1e27-4a9a-bb10-e3ecc7ca741a"
      },
      "outputs": [
        {
          "data": {
            "text/html": [
              "<div>\n",
              "<style scoped>\n",
              "    .dataframe tbody tr th:only-of-type {\n",
              "        vertical-align: middle;\n",
              "    }\n",
              "\n",
              "    .dataframe tbody tr th {\n",
              "        vertical-align: top;\n",
              "    }\n",
              "\n",
              "    .dataframe thead th {\n",
              "        text-align: right;\n",
              "    }\n",
              "</style>\n",
              "<table border=\"1\" class=\"dataframe\">\n",
              "  <thead>\n",
              "    <tr style=\"text-align: right;\">\n",
              "      <th></th>\n",
              "      <th>_id</th>\n",
              "      <th>customer_id</th>\n",
              "      <th>first_name</th>\n",
              "      <th>last_name</th>\n",
              "      <th>email</th>\n",
              "      <th>phone</th>\n",
              "    </tr>\n",
              "  </thead>\n",
              "  <tbody>\n",
              "    <tr>\n",
              "      <th>0</th>\n",
              "      <td>6262e4116616b3516925396f</td>\n",
              "      <td>10497</td>\n",
              "      <td>Nic</td>\n",
              "      <td>Raboy</td>\n",
              "      <td>nic@test.com</td>\n",
              "      <td>510-229-0612</td>\n",
              "    </tr>\n",
              "    <tr>\n",
              "      <th>1</th>\n",
              "      <td>6262e4116616b35169253970</td>\n",
              "      <td>23922</td>\n",
              "      <td>Matt</td>\n",
              "      <td>Groves</td>\n",
              "      <td>matt@test.com</td>\n",
              "      <td>NaN</td>\n",
              "    </tr>\n",
              "    <tr>\n",
              "      <th>2</th>\n",
              "      <td>6262e4116616b35169253971</td>\n",
              "      <td>33927</td>\n",
              "      <td>Arun</td>\n",
              "      <td>Gupta</td>\n",
              "      <td>arun@test.com</td>\n",
              "      <td>510-149-9782</td>\n",
              "    </tr>\n",
              "    <tr>\n",
              "      <th>3</th>\n",
              "      <td>6262e4116616b35169253972</td>\n",
              "      <td>43736</td>\n",
              "      <td>Hod</td>\n",
              "      <td>Greeley</td>\n",
              "      <td>hod@test.com</td>\n",
              "      <td>510-718-3340</td>\n",
              "    </tr>\n",
              "  </tbody>\n",
              "</table>\n",
              "</div>"
            ],
            "text/plain": [
              "                        _id  customer_id first_name last_name          email  \\\n",
              "0  6262e4116616b3516925396f        10497        Nic     Raboy   nic@test.com   \n",
              "1  6262e4116616b35169253970        23922       Matt    Groves  matt@test.com   \n",
              "2  6262e4116616b35169253971        33927       Arun     Gupta  arun@test.com   \n",
              "3  6262e4116616b35169253972        43736        Hod   Greeley   hod@test.com   \n",
              "\n",
              "          phone  \n",
              "0  510-229-0612  \n",
              "1           NaN  \n",
              "2  510-149-9782  \n",
              "3  510-718-3340  "
            ]
          },
          "execution_count": 51,
          "metadata": {},
          "output_type": "execute_result"
        }
      ],
      "source": [
        "query_1 = db.customers.find()\n",
        "MongoDB_to_DataFrame(query_1)"
      ]
    },
    {
      "cell_type": "markdown",
      "metadata": {
        "id": "w0aV3j0NGhAH"
      },
      "source": [
        "#### QUERY 2: `SELECT _id, customer_id, first_name, last_name FROM customers`\n",
        "\n",
        "---"
      ]
    },
    {
      "cell_type": "code",
      "execution_count": null,
      "metadata": {
        "id": "7oYiIH37GhAH",
        "outputId": "cfbf5497-7d95-4bd3-d7fa-7c0a088485b5"
      },
      "outputs": [
        {
          "data": {
            "text/html": [
              "<div>\n",
              "<style scoped>\n",
              "    .dataframe tbody tr th:only-of-type {\n",
              "        vertical-align: middle;\n",
              "    }\n",
              "\n",
              "    .dataframe tbody tr th {\n",
              "        vertical-align: top;\n",
              "    }\n",
              "\n",
              "    .dataframe thead th {\n",
              "        text-align: right;\n",
              "    }\n",
              "</style>\n",
              "<table border=\"1\" class=\"dataframe\">\n",
              "  <thead>\n",
              "    <tr style=\"text-align: right;\">\n",
              "      <th></th>\n",
              "      <th>_id</th>\n",
              "      <th>customer_id</th>\n",
              "      <th>first_name</th>\n",
              "      <th>last_name</th>\n",
              "    </tr>\n",
              "  </thead>\n",
              "  <tbody>\n",
              "    <tr>\n",
              "      <th>0</th>\n",
              "      <td>6262e4116616b3516925396f</td>\n",
              "      <td>10497</td>\n",
              "      <td>Nic</td>\n",
              "      <td>Raboy</td>\n",
              "    </tr>\n",
              "    <tr>\n",
              "      <th>1</th>\n",
              "      <td>6262e4116616b35169253970</td>\n",
              "      <td>23922</td>\n",
              "      <td>Matt</td>\n",
              "      <td>Groves</td>\n",
              "    </tr>\n",
              "    <tr>\n",
              "      <th>2</th>\n",
              "      <td>6262e4116616b35169253971</td>\n",
              "      <td>33927</td>\n",
              "      <td>Arun</td>\n",
              "      <td>Gupta</td>\n",
              "    </tr>\n",
              "    <tr>\n",
              "      <th>3</th>\n",
              "      <td>6262e4116616b35169253972</td>\n",
              "      <td>43736</td>\n",
              "      <td>Hod</td>\n",
              "      <td>Greeley</td>\n",
              "    </tr>\n",
              "  </tbody>\n",
              "</table>\n",
              "</div>"
            ],
            "text/plain": [
              "                        _id  customer_id first_name last_name\n",
              "0  6262e4116616b3516925396f        10497        Nic     Raboy\n",
              "1  6262e4116616b35169253970        23922       Matt    Groves\n",
              "2  6262e4116616b35169253971        33927       Arun     Gupta\n",
              "3  6262e4116616b35169253972        43736        Hod   Greeley"
            ]
          },
          "execution_count": 52,
          "metadata": {},
          "output_type": "execute_result"
        }
      ],
      "source": [
        "query_2 = db.customers.find({},\n",
        "                            {'customer_id': 1, 'first_name': 1, 'last_name': 1}\n",
        "                           )\n",
        "MongoDB_to_DataFrame(query_2)"
      ]
    },
    {
      "cell_type": "markdown",
      "metadata": {
        "id": "Rx3Ili6tGhAH"
      },
      "source": [
        "#### QUERY 2b:  `SELECT customer_id, first_name, last_name FROM customers`\n",
        "\n",
        "---"
      ]
    },
    {
      "cell_type": "code",
      "execution_count": null,
      "metadata": {
        "id": "MKWmN5FnGhAH",
        "outputId": "5d7e3b69-b783-4983-c525-853b7b3a361d"
      },
      "outputs": [
        {
          "data": {
            "text/html": [
              "<div>\n",
              "<style scoped>\n",
              "    .dataframe tbody tr th:only-of-type {\n",
              "        vertical-align: middle;\n",
              "    }\n",
              "\n",
              "    .dataframe tbody tr th {\n",
              "        vertical-align: top;\n",
              "    }\n",
              "\n",
              "    .dataframe thead th {\n",
              "        text-align: right;\n",
              "    }\n",
              "</style>\n",
              "<table border=\"1\" class=\"dataframe\">\n",
              "  <thead>\n",
              "    <tr style=\"text-align: right;\">\n",
              "      <th></th>\n",
              "      <th>customer_id</th>\n",
              "      <th>first_name</th>\n",
              "      <th>last_name</th>\n",
              "    </tr>\n",
              "  </thead>\n",
              "  <tbody>\n",
              "    <tr>\n",
              "      <th>0</th>\n",
              "      <td>10497</td>\n",
              "      <td>Nic</td>\n",
              "      <td>Raboy</td>\n",
              "    </tr>\n",
              "    <tr>\n",
              "      <th>1</th>\n",
              "      <td>23922</td>\n",
              "      <td>Matt</td>\n",
              "      <td>Groves</td>\n",
              "    </tr>\n",
              "    <tr>\n",
              "      <th>2</th>\n",
              "      <td>33927</td>\n",
              "      <td>Arun</td>\n",
              "      <td>Gupta</td>\n",
              "    </tr>\n",
              "    <tr>\n",
              "      <th>3</th>\n",
              "      <td>43736</td>\n",
              "      <td>Hod</td>\n",
              "      <td>Greeley</td>\n",
              "    </tr>\n",
              "  </tbody>\n",
              "</table>\n",
              "</div>"
            ],
            "text/plain": [
              "   customer_id first_name last_name\n",
              "0        10497        Nic     Raboy\n",
              "1        23922       Matt    Groves\n",
              "2        33927       Arun     Gupta\n",
              "3        43736        Hod   Greeley"
            ]
          },
          "execution_count": 53,
          "metadata": {},
          "output_type": "execute_result"
        }
      ],
      "source": [
        "query_2b = db.customers.find({},\n",
        "                            {'customer_id': 1, 'first_name': 1, 'last_name': 1, \"_id\" : 0}\n",
        "                            ) \n",
        "MongoDB_to_DataFrame(query_2b) "
      ]
    },
    {
      "cell_type": "markdown",
      "metadata": {
        "id": "AVguubrnGhAH"
      },
      "source": [
        "#### Exercise n°1:  `SELECT game_name, price FROM games`\n",
        "\n",
        "---"
      ]
    },
    {
      "cell_type": "code",
      "execution_count": null,
      "metadata": {
        "id": "nDN0aPP-GhAI",
        "outputId": "787028d0-7c17-49d4-d35a-1f00d607d738"
      },
      "outputs": [
        {
          "data": {
            "text/html": [
              "<div>\n",
              "<style scoped>\n",
              "    .dataframe tbody tr th:only-of-type {\n",
              "        vertical-align: middle;\n",
              "    }\n",
              "\n",
              "    .dataframe tbody tr th {\n",
              "        vertical-align: top;\n",
              "    }\n",
              "\n",
              "    .dataframe thead th {\n",
              "        text-align: right;\n",
              "    }\n",
              "</style>\n",
              "<table border=\"1\" class=\"dataframe\">\n",
              "  <thead>\n",
              "    <tr style=\"text-align: right;\">\n",
              "      <th></th>\n",
              "      <th>game_name</th>\n",
              "      <th>price</th>\n",
              "    </tr>\n",
              "  </thead>\n",
              "  <tbody>\n",
              "    <tr>\n",
              "      <th>0</th>\n",
              "      <td>Pokemon Red</td>\n",
              "      <td>29.99</td>\n",
              "    </tr>\n",
              "    <tr>\n",
              "      <th>1</th>\n",
              "      <td>Dake Soul Red III</td>\n",
              "      <td>59.99</td>\n",
              "    </tr>\n",
              "    <tr>\n",
              "      <th>2</th>\n",
              "      <td>RayMan 4</td>\n",
              "      <td>59.99</td>\n",
              "    </tr>\n",
              "    <tr>\n",
              "      <th>3</th>\n",
              "      <td>Super Smash Bros</td>\n",
              "      <td>49.99</td>\n",
              "    </tr>\n",
              "  </tbody>\n",
              "</table>\n",
              "</div>"
            ],
            "text/plain": [
              "           game_name  price\n",
              "0        Pokemon Red  29.99\n",
              "1  Dake Soul Red III  59.99\n",
              "2           RayMan 4  59.99\n",
              "3   Super Smash Bros  49.99"
            ]
          },
          "execution_count": 54,
          "metadata": {},
          "output_type": "execute_result"
        }
      ],
      "source": [
        "exercise_1 = ...\n",
        "MongoDB_to_DataFrame(exercise_1) "
      ]
    },
    {
      "cell_type": "markdown",
      "metadata": {
        "id": "JlhvD2yvGhAI"
      },
      "source": [
        "####  QUERY 3:  `SELECT * FROM customers WHERE  phone = 510-229-0612`\n",
        "\n",
        "---"
      ]
    },
    {
      "cell_type": "code",
      "execution_count": null,
      "metadata": {
        "id": "rDTiwQRpGhAI",
        "outputId": "c060c323-ac96-45b3-bdee-f1b40b6a7d47"
      },
      "outputs": [
        {
          "data": {
            "text/html": [
              "<div>\n",
              "<style scoped>\n",
              "    .dataframe tbody tr th:only-of-type {\n",
              "        vertical-align: middle;\n",
              "    }\n",
              "\n",
              "    .dataframe tbody tr th {\n",
              "        vertical-align: top;\n",
              "    }\n",
              "\n",
              "    .dataframe thead th {\n",
              "        text-align: right;\n",
              "    }\n",
              "</style>\n",
              "<table border=\"1\" class=\"dataframe\">\n",
              "  <thead>\n",
              "    <tr style=\"text-align: right;\">\n",
              "      <th></th>\n",
              "      <th>_id</th>\n",
              "      <th>customer_id</th>\n",
              "      <th>first_name</th>\n",
              "      <th>last_name</th>\n",
              "      <th>email</th>\n",
              "      <th>phone</th>\n",
              "    </tr>\n",
              "  </thead>\n",
              "  <tbody>\n",
              "    <tr>\n",
              "      <th>0</th>\n",
              "      <td>6262e4116616b3516925396f</td>\n",
              "      <td>10497</td>\n",
              "      <td>Nic</td>\n",
              "      <td>Raboy</td>\n",
              "      <td>nic@test.com</td>\n",
              "      <td>510-229-0612</td>\n",
              "    </tr>\n",
              "  </tbody>\n",
              "</table>\n",
              "</div>"
            ],
            "text/plain": [
              "                        _id  customer_id first_name last_name         email  \\\n",
              "0  6262e4116616b3516925396f        10497        Nic     Raboy  nic@test.com   \n",
              "\n",
              "          phone  \n",
              "0  510-229-0612  "
            ]
          },
          "execution_count": 55,
          "metadata": {},
          "output_type": "execute_result"
        }
      ],
      "source": [
        "query_3 = db.customers.find({\"phone\": \"510-229-0612\"})\n",
        "MongoDB_to_DataFrame(query_3)"
      ]
    },
    {
      "cell_type": "markdown",
      "metadata": {
        "id": "xR6X8I7CGhAI"
      },
      "source": [
        "####  QUERY 4:  `SELECT customer_id, email, phone FROM customers WHERE phone = 510-229-0612`\n",
        "\n",
        "---"
      ]
    },
    {
      "cell_type": "code",
      "execution_count": null,
      "metadata": {
        "id": "Us2xCLwEGhAI",
        "outputId": "6b8e2bb5-a8d9-4e3c-c4bb-d3def6b0f95e"
      },
      "outputs": [
        {
          "data": {
            "text/html": [
              "<div>\n",
              "<style scoped>\n",
              "    .dataframe tbody tr th:only-of-type {\n",
              "        vertical-align: middle;\n",
              "    }\n",
              "\n",
              "    .dataframe tbody tr th {\n",
              "        vertical-align: top;\n",
              "    }\n",
              "\n",
              "    .dataframe thead th {\n",
              "        text-align: right;\n",
              "    }\n",
              "</style>\n",
              "<table border=\"1\" class=\"dataframe\">\n",
              "  <thead>\n",
              "    <tr style=\"text-align: right;\">\n",
              "      <th></th>\n",
              "      <th>customer_id</th>\n",
              "      <th>email</th>\n",
              "      <th>phone</th>\n",
              "    </tr>\n",
              "  </thead>\n",
              "  <tbody>\n",
              "    <tr>\n",
              "      <th>0</th>\n",
              "      <td>10497</td>\n",
              "      <td>nic@test.com</td>\n",
              "      <td>510-229-0612</td>\n",
              "    </tr>\n",
              "  </tbody>\n",
              "</table>\n",
              "</div>"
            ],
            "text/plain": [
              "   customer_id         email         phone\n",
              "0        10497  nic@test.com  510-229-0612"
            ]
          },
          "execution_count": 56,
          "metadata": {},
          "output_type": "execute_result"
        }
      ],
      "source": [
        "query_4 = db.customers.find({\"phone\": \"510-229-0612\"},\n",
        "                            {'customer_id': 1, 'email': 1, 'phone': 1, \"_id\" : 0}\n",
        "                           ) \n",
        "MongoDB_to_DataFrame(query_4)"
      ]
    },
    {
      "cell_type": "markdown",
      "metadata": {
        "id": "7D5TVRQbGhAI"
      },
      "source": [
        "####  QUERY 4b:  `SELECT customer_id, email, phone FROM customers WHERE phone != 510-229-0612`\n",
        "\n",
        "---"
      ]
    },
    {
      "cell_type": "code",
      "execution_count": null,
      "metadata": {
        "id": "GamWjHcOGhAI",
        "outputId": "a02f9daa-c6cf-41e7-d51f-989e0b93a499"
      },
      "outputs": [
        {
          "data": {
            "text/html": [
              "<div>\n",
              "<style scoped>\n",
              "    .dataframe tbody tr th:only-of-type {\n",
              "        vertical-align: middle;\n",
              "    }\n",
              "\n",
              "    .dataframe tbody tr th {\n",
              "        vertical-align: top;\n",
              "    }\n",
              "\n",
              "    .dataframe thead th {\n",
              "        text-align: right;\n",
              "    }\n",
              "</style>\n",
              "<table border=\"1\" class=\"dataframe\">\n",
              "  <thead>\n",
              "    <tr style=\"text-align: right;\">\n",
              "      <th></th>\n",
              "      <th>customer_id</th>\n",
              "      <th>email</th>\n",
              "      <th>phone</th>\n",
              "    </tr>\n",
              "  </thead>\n",
              "  <tbody>\n",
              "    <tr>\n",
              "      <th>0</th>\n",
              "      <td>23922</td>\n",
              "      <td>matt@test.com</td>\n",
              "      <td>NaN</td>\n",
              "    </tr>\n",
              "    <tr>\n",
              "      <th>1</th>\n",
              "      <td>33927</td>\n",
              "      <td>arun@test.com</td>\n",
              "      <td>510-149-9782</td>\n",
              "    </tr>\n",
              "    <tr>\n",
              "      <th>2</th>\n",
              "      <td>43736</td>\n",
              "      <td>hod@test.com</td>\n",
              "      <td>510-718-3340</td>\n",
              "    </tr>\n",
              "  </tbody>\n",
              "</table>\n",
              "</div>"
            ],
            "text/plain": [
              "   customer_id          email         phone\n",
              "0        23922  matt@test.com           NaN\n",
              "1        33927  arun@test.com  510-149-9782\n",
              "2        43736   hod@test.com  510-718-3340"
            ]
          },
          "execution_count": 57,
          "metadata": {},
          "output_type": "execute_result"
        }
      ],
      "source": [
        "query_4b = db.customers.find({\"phone\": {'$ne': \"510-229-0612\"}},\n",
        "                            {'customer_id': 1, 'email': 1, 'phone': 1, \"_id\" : 0}\n",
        "                           )\n",
        "MongoDB_to_DataFrame(query_4b) "
      ]
    },
    {
      "cell_type": "markdown",
      "metadata": {
        "id": "VPQYofVSGhAI"
      },
      "source": [
        "####  QUERY 4c:  `SELECT customer_id, email, phone FROM customers WHERE phone != 510-229-0612 AND phone IS NOT NULL`\n",
        "\n",
        "---"
      ]
    },
    {
      "cell_type": "code",
      "execution_count": null,
      "metadata": {
        "id": "VJhKj4A_GhAI",
        "outputId": "0fc063c7-5f9f-4e76-dbdb-ddfbabfbfb05"
      },
      "outputs": [
        {
          "data": {
            "text/html": [
              "<div>\n",
              "<style scoped>\n",
              "    .dataframe tbody tr th:only-of-type {\n",
              "        vertical-align: middle;\n",
              "    }\n",
              "\n",
              "    .dataframe tbody tr th {\n",
              "        vertical-align: top;\n",
              "    }\n",
              "\n",
              "    .dataframe thead th {\n",
              "        text-align: right;\n",
              "    }\n",
              "</style>\n",
              "<table border=\"1\" class=\"dataframe\">\n",
              "  <thead>\n",
              "    <tr style=\"text-align: right;\">\n",
              "      <th></th>\n",
              "      <th>customer_id</th>\n",
              "      <th>email</th>\n",
              "      <th>phone</th>\n",
              "    </tr>\n",
              "  </thead>\n",
              "  <tbody>\n",
              "    <tr>\n",
              "      <th>0</th>\n",
              "      <td>33927</td>\n",
              "      <td>arun@test.com</td>\n",
              "      <td>510-149-9782</td>\n",
              "    </tr>\n",
              "    <tr>\n",
              "      <th>1</th>\n",
              "      <td>43736</td>\n",
              "      <td>hod@test.com</td>\n",
              "      <td>510-718-3340</td>\n",
              "    </tr>\n",
              "  </tbody>\n",
              "</table>\n",
              "</div>"
            ],
            "text/plain": [
              "   customer_id          email         phone\n",
              "0        33927  arun@test.com  510-149-9782\n",
              "1        43736   hod@test.com  510-718-3340"
            ]
          },
          "execution_count": 58,
          "metadata": {},
          "output_type": "execute_result"
        }
      ],
      "source": [
        "query_4c = db.customers.find({\"phone\": {'$ne': \"510-229-0612\",'$exists': True}},\n",
        "                             {'customer_id': 1, 'email': 1, 'phone': 1, \"_id\" : 0}\n",
        "                            )\n",
        "MongoDB_to_DataFrame(query_4c) "
      ]
    },
    {
      "cell_type": "markdown",
      "metadata": {
        "id": "cqw728NsGhAI"
      },
      "source": [
        "####  Exercise n°2:  `SELECT order_id, customer_id, game_id FROM orders WHERE person_id = 10497 AND game_id = 12`\n",
        "\n",
        "---"
      ]
    },
    {
      "cell_type": "code",
      "execution_count": null,
      "metadata": {
        "id": "Hr9gx-DxGhAI",
        "outputId": "fc4bdfcc-fea5-4700-9308-301bec061bf4"
      },
      "outputs": [
        {
          "data": {
            "text/html": [
              "<div>\n",
              "<style scoped>\n",
              "    .dataframe tbody tr th:only-of-type {\n",
              "        vertical-align: middle;\n",
              "    }\n",
              "\n",
              "    .dataframe tbody tr th {\n",
              "        vertical-align: top;\n",
              "    }\n",
              "\n",
              "    .dataframe thead th {\n",
              "        text-align: right;\n",
              "    }\n",
              "</style>\n",
              "<table border=\"1\" class=\"dataframe\">\n",
              "  <thead>\n",
              "    <tr style=\"text-align: right;\">\n",
              "      <th></th>\n",
              "      <th>order_number</th>\n",
              "      <th>customer_id</th>\n",
              "      <th>game_id</th>\n",
              "    </tr>\n",
              "  </thead>\n",
              "  <tbody>\n",
              "    <tr>\n",
              "      <th>0</th>\n",
              "      <td>1234</td>\n",
              "      <td>10497</td>\n",
              "      <td>12</td>\n",
              "    </tr>\n",
              "  </tbody>\n",
              "</table>\n",
              "</div>"
            ],
            "text/plain": [
              "   order_number  customer_id  game_id\n",
              "0          1234        10497       12"
            ]
          },
          "execution_count": 59,
          "metadata": {},
          "output_type": "execute_result"
        }
      ],
      "source": [
        "exercise_2 = ...\n",
        "MongoDB_to_DataFrame(exercise_2) "
      ]
    },
    {
      "cell_type": "markdown",
      "metadata": {
        "id": "yqyxocPWGhAJ"
      },
      "source": [
        "####  Query 5:  `SELECT order_id, customer_id, game_id FROM orders WHERE person_id = 10497 OR game_id = 12`\n",
        "\n",
        "---"
      ]
    },
    {
      "cell_type": "code",
      "execution_count": null,
      "metadata": {
        "id": "q0T7ngPVGhAJ",
        "outputId": "d3a83f46-a6a4-4350-e312-ea6cc0fbeb5a"
      },
      "outputs": [
        {
          "data": {
            "text/html": [
              "<div>\n",
              "<style scoped>\n",
              "    .dataframe tbody tr th:only-of-type {\n",
              "        vertical-align: middle;\n",
              "    }\n",
              "\n",
              "    .dataframe tbody tr th {\n",
              "        vertical-align: top;\n",
              "    }\n",
              "\n",
              "    .dataframe thead th {\n",
              "        text-align: right;\n",
              "    }\n",
              "</style>\n",
              "<table border=\"1\" class=\"dataframe\">\n",
              "  <thead>\n",
              "    <tr style=\"text-align: right;\">\n",
              "      <th></th>\n",
              "      <th>order_number</th>\n",
              "      <th>customer_id</th>\n",
              "      <th>game_id</th>\n",
              "    </tr>\n",
              "  </thead>\n",
              "  <tbody>\n",
              "    <tr>\n",
              "      <th>0</th>\n",
              "      <td>1234</td>\n",
              "      <td>10497</td>\n",
              "      <td>11</td>\n",
              "    </tr>\n",
              "    <tr>\n",
              "      <th>1</th>\n",
              "      <td>1234</td>\n",
              "      <td>10497</td>\n",
              "      <td>12</td>\n",
              "    </tr>\n",
              "  </tbody>\n",
              "</table>\n",
              "</div>"
            ],
            "text/plain": [
              "   order_number  customer_id  game_id\n",
              "0          1234        10497       11\n",
              "1          1234        10497       12"
            ]
          },
          "execution_count": 60,
          "metadata": {},
          "output_type": "execute_result"
        }
      ],
      "source": [
        "query_5 = db.orders.find({'$or': [{'game_id' : 12},{'customer_id' : 10497}] },\n",
        "                            {'order_number': 1, 'customer_id': 1, 'game_id': 1, \"_id\" : 0}\n",
        "                            )\n",
        "MongoDB_to_DataFrame(query_5) "
      ]
    },
    {
      "cell_type": "markdown",
      "metadata": {
        "id": "KbTUSw7uGhAJ"
      },
      "source": [
        "####  Query 6:  `SELECT game_name, price FROM games WHERE price > 40`\n",
        "\n",
        "---"
      ]
    },
    {
      "cell_type": "code",
      "execution_count": null,
      "metadata": {
        "id": "Ar6e8kg5GhAJ",
        "outputId": "15b54036-8b01-4453-ba83-e43bde178f49"
      },
      "outputs": [
        {
          "data": {
            "text/html": [
              "<div>\n",
              "<style scoped>\n",
              "    .dataframe tbody tr th:only-of-type {\n",
              "        vertical-align: middle;\n",
              "    }\n",
              "\n",
              "    .dataframe tbody tr th {\n",
              "        vertical-align: top;\n",
              "    }\n",
              "\n",
              "    .dataframe thead th {\n",
              "        text-align: right;\n",
              "    }\n",
              "</style>\n",
              "<table border=\"1\" class=\"dataframe\">\n",
              "  <thead>\n",
              "    <tr style=\"text-align: right;\">\n",
              "      <th></th>\n",
              "      <th>game_id</th>\n",
              "      <th>game_name</th>\n",
              "      <th>price</th>\n",
              "    </tr>\n",
              "  </thead>\n",
              "  <tbody>\n",
              "    <tr>\n",
              "      <th>0</th>\n",
              "      <td>11</td>\n",
              "      <td>Pokemon Red</td>\n",
              "      <td>29.99</td>\n",
              "    </tr>\n",
              "    <tr>\n",
              "      <th>1</th>\n",
              "      <td>12</td>\n",
              "      <td>Dake Soul Red III</td>\n",
              "      <td>59.99</td>\n",
              "    </tr>\n",
              "    <tr>\n",
              "      <th>2</th>\n",
              "      <td>13</td>\n",
              "      <td>RayMan 4</td>\n",
              "      <td>59.99</td>\n",
              "    </tr>\n",
              "    <tr>\n",
              "      <th>3</th>\n",
              "      <td>14</td>\n",
              "      <td>Super Smash Bros</td>\n",
              "      <td>49.99</td>\n",
              "    </tr>\n",
              "  </tbody>\n",
              "</table>\n",
              "</div>"
            ],
            "text/plain": [
              "   game_id          game_name  price\n",
              "0       11        Pokemon Red  29.99\n",
              "1       12  Dake Soul Red III  59.99\n",
              "2       13           RayMan 4  59.99\n",
              "3       14   Super Smash Bros  49.99"
            ]
          },
          "execution_count": 61,
          "metadata": {},
          "output_type": "execute_result"
        }
      ],
      "source": [
        "df_games"
      ]
    },
    {
      "cell_type": "code",
      "execution_count": null,
      "metadata": {
        "id": "RRYPReI9GhAJ",
        "outputId": "0b8d0472-a97c-4ed3-90c6-8d915419bb1b"
      },
      "outputs": [
        {
          "data": {
            "text/html": [
              "<div>\n",
              "<style scoped>\n",
              "    .dataframe tbody tr th:only-of-type {\n",
              "        vertical-align: middle;\n",
              "    }\n",
              "\n",
              "    .dataframe tbody tr th {\n",
              "        vertical-align: top;\n",
              "    }\n",
              "\n",
              "    .dataframe thead th {\n",
              "        text-align: right;\n",
              "    }\n",
              "</style>\n",
              "<table border=\"1\" class=\"dataframe\">\n",
              "  <thead>\n",
              "    <tr style=\"text-align: right;\">\n",
              "      <th></th>\n",
              "      <th>game_name</th>\n",
              "      <th>price</th>\n",
              "    </tr>\n",
              "  </thead>\n",
              "  <tbody>\n",
              "    <tr>\n",
              "      <th>0</th>\n",
              "      <td>Dake Soul Red III</td>\n",
              "      <td>59.99</td>\n",
              "    </tr>\n",
              "    <tr>\n",
              "      <th>1</th>\n",
              "      <td>RayMan 4</td>\n",
              "      <td>59.99</td>\n",
              "    </tr>\n",
              "    <tr>\n",
              "      <th>2</th>\n",
              "      <td>Super Smash Bros</td>\n",
              "      <td>49.99</td>\n",
              "    </tr>\n",
              "  </tbody>\n",
              "</table>\n",
              "</div>"
            ],
            "text/plain": [
              "           game_name  price\n",
              "0  Dake Soul Red III  59.99\n",
              "1           RayMan 4  59.99\n",
              "2   Super Smash Bros  49.99"
            ]
          },
          "execution_count": 62,
          "metadata": {},
          "output_type": "execute_result"
        }
      ],
      "source": [
        "query_6 = db.games.find({'price' : {'$gt' : 40}},\n",
        "                        {'game_name': 1, 'price': 1, \"_id\" : 0}\n",
        "                       )\n",
        "MongoDB_to_DataFrame(query_6) "
      ]
    },
    {
      "cell_type": "markdown",
      "metadata": {
        "deletable": false,
        "editable": false,
        "id": "idbKFf2fGhAJ"
      },
      "source": [
        "### MongoDB Comparison Operators\n",
        "\n",
        "- \\$eq : Matches values that are equal to a specified value.\n",
        "- \\$gt : Matches values that are greater than a specified value.\n",
        "- \\$gte : Matches values that are greater than or equal to a specified value.\n",
        "- \\$in : Matches any of the values specified in an array.\n",
        "- \\$lt : Matches values that are less than a specified value.\n",
        "- \\$lte : Matches values that are less than or equal to a specified value.\n",
        "- \\$ne : Matches all values that are not equal to a specified value.\n",
        "- \\$nin : Matches none of the values specified in an array.\n",
        "\n",
        "@MongoDB Official Documentation : https://docs.mongodb.com/manual/reference/operator/query-comparison/"
      ]
    },
    {
      "cell_type": "markdown",
      "metadata": {
        "id": "W-w0He76GhAJ"
      },
      "source": [
        "####  Query 7:  `SELECT game_name, price FROM games WHERE price < 50 AND price > 40`\n",
        "\n",
        "---"
      ]
    },
    {
      "cell_type": "code",
      "execution_count": null,
      "metadata": {
        "id": "alyxWDBvGhAJ",
        "outputId": "6e22a0f2-44b6-400f-8806-2da88275c0ce"
      },
      "outputs": [
        {
          "data": {
            "text/html": [
              "<div>\n",
              "<style scoped>\n",
              "    .dataframe tbody tr th:only-of-type {\n",
              "        vertical-align: middle;\n",
              "    }\n",
              "\n",
              "    .dataframe tbody tr th {\n",
              "        vertical-align: top;\n",
              "    }\n",
              "\n",
              "    .dataframe thead th {\n",
              "        text-align: right;\n",
              "    }\n",
              "</style>\n",
              "<table border=\"1\" class=\"dataframe\">\n",
              "  <thead>\n",
              "    <tr style=\"text-align: right;\">\n",
              "      <th></th>\n",
              "      <th>game_name</th>\n",
              "      <th>price</th>\n",
              "    </tr>\n",
              "  </thead>\n",
              "  <tbody>\n",
              "    <tr>\n",
              "      <th>0</th>\n",
              "      <td>Super Smash Bros</td>\n",
              "      <td>49.99</td>\n",
              "    </tr>\n",
              "  </tbody>\n",
              "</table>\n",
              "</div>"
            ],
            "text/plain": [
              "          game_name  price\n",
              "0  Super Smash Bros  49.99"
            ]
          },
          "execution_count": 63,
          "metadata": {},
          "output_type": "execute_result"
        }
      ],
      "source": [
        "query_7 = db.games.find({'price' : {'$gt' : 40, '$lt' : 50}},\n",
        "                        {'game_name': 1, 'price': 1, \"_id\" : 0}\n",
        "                       ) \n",
        "MongoDB_to_DataFrame(query_7) "
      ]
    },
    {
      "cell_type": "markdown",
      "metadata": {
        "id": "6bKQ14jeGhAJ"
      },
      "source": [
        "####  Query 8: `SELECT customer_id, last_name FROM customers ORDER BY last_name ASC`\n",
        "\n",
        "---"
      ]
    },
    {
      "cell_type": "code",
      "execution_count": null,
      "metadata": {
        "id": "_FfVeSmsGhAJ",
        "outputId": "217db35c-564f-4fbf-975f-c9a4312f3ba2"
      },
      "outputs": [
        {
          "data": {
            "text/html": [
              "<div>\n",
              "<style scoped>\n",
              "    .dataframe tbody tr th:only-of-type {\n",
              "        vertical-align: middle;\n",
              "    }\n",
              "\n",
              "    .dataframe tbody tr th {\n",
              "        vertical-align: top;\n",
              "    }\n",
              "\n",
              "    .dataframe thead th {\n",
              "        text-align: right;\n",
              "    }\n",
              "</style>\n",
              "<table border=\"1\" class=\"dataframe\">\n",
              "  <thead>\n",
              "    <tr style=\"text-align: right;\">\n",
              "      <th></th>\n",
              "      <th>_id</th>\n",
              "      <th>customer_id</th>\n",
              "      <th>first_name</th>\n",
              "      <th>last_name</th>\n",
              "      <th>email</th>\n",
              "      <th>phone</th>\n",
              "    </tr>\n",
              "  </thead>\n",
              "  <tbody>\n",
              "    <tr>\n",
              "      <th>0</th>\n",
              "      <td>6262e4116616b35169253972</td>\n",
              "      <td>43736</td>\n",
              "      <td>Hod</td>\n",
              "      <td>Greeley</td>\n",
              "      <td>hod@test.com</td>\n",
              "      <td>510-718-3340</td>\n",
              "    </tr>\n",
              "    <tr>\n",
              "      <th>1</th>\n",
              "      <td>6262e4116616b35169253970</td>\n",
              "      <td>23922</td>\n",
              "      <td>Matt</td>\n",
              "      <td>Groves</td>\n",
              "      <td>matt@test.com</td>\n",
              "      <td>NaN</td>\n",
              "    </tr>\n",
              "    <tr>\n",
              "      <th>2</th>\n",
              "      <td>6262e4116616b35169253971</td>\n",
              "      <td>33927</td>\n",
              "      <td>Arun</td>\n",
              "      <td>Gupta</td>\n",
              "      <td>arun@test.com</td>\n",
              "      <td>510-149-9782</td>\n",
              "    </tr>\n",
              "    <tr>\n",
              "      <th>3</th>\n",
              "      <td>6262e4116616b3516925396f</td>\n",
              "      <td>10497</td>\n",
              "      <td>Nic</td>\n",
              "      <td>Raboy</td>\n",
              "      <td>nic@test.com</td>\n",
              "      <td>510-229-0612</td>\n",
              "    </tr>\n",
              "  </tbody>\n",
              "</table>\n",
              "</div>"
            ],
            "text/plain": [
              "                        _id  customer_id first_name last_name          email  \\\n",
              "0  6262e4116616b35169253972        43736        Hod   Greeley   hod@test.com   \n",
              "1  6262e4116616b35169253970        23922       Matt    Groves  matt@test.com   \n",
              "2  6262e4116616b35169253971        33927       Arun     Gupta  arun@test.com   \n",
              "3  6262e4116616b3516925396f        10497        Nic     Raboy   nic@test.com   \n",
              "\n",
              "          phone  \n",
              "0  510-718-3340  \n",
              "1           NaN  \n",
              "2  510-149-9782  \n",
              "3  510-229-0612  "
            ]
          },
          "execution_count": 64,
          "metadata": {},
          "output_type": "execute_result"
        }
      ],
      "source": [
        "query_8 = db.customers.find().sort([('last_name',1)])  # Heads-up: MongoDB documentation deprecated on .sort() method!\n",
        "MongoDB_to_DataFrame(query_8) "
      ]
    },
    {
      "cell_type": "markdown",
      "metadata": {
        "id": "aAlr7o5YGhAJ"
      },
      "source": [
        "####  Query 9: `SELECT COUNT(phone) FROM customers`\n",
        "\n",
        "---"
      ]
    },
    {
      "cell_type": "code",
      "execution_count": null,
      "metadata": {
        "id": "p13ovHAfGhAK",
        "outputId": "c1e6f9bd-e8d8-4eca-b09f-8e1be317c191"
      },
      "outputs": [
        {
          "data": {
            "text/plain": [
              "3"
            ]
          },
          "execution_count": 65,
          "metadata": {},
          "output_type": "execute_result"
        }
      ],
      "source": [
        "db.customers.count_documents({'phone':{'$exists': True}})"
      ]
    },
    {
      "cell_type": "markdown",
      "metadata": {
        "id": "mzjFqeiOGhAK"
      },
      "source": [
        "####  Query 10: `SELECT COUNT(*) FROM orders WHERE quantity > = 2`\n",
        "\n",
        "--- "
      ]
    },
    {
      "cell_type": "code",
      "execution_count": null,
      "metadata": {
        "id": "j61ZPfVPGhAK",
        "outputId": "b54aa513-ab8b-4bb2-a3f8-1701941b216a"
      },
      "outputs": [
        {
          "data": {
            "text/plain": [
              "1"
            ]
          },
          "execution_count": 66,
          "metadata": {},
          "output_type": "execute_result"
        }
      ],
      "source": [
        "db.orders.count_documents({'quantity': {'$gt': 1}}) "
      ]
    },
    {
      "cell_type": "markdown",
      "metadata": {
        "id": "HJuPSz19GhAK"
      },
      "source": [
        "####  Query 11: `SELECT DISTINCT(order_number) FROM orders`\n",
        "\n",
        "--- "
      ]
    },
    {
      "cell_type": "code",
      "execution_count": null,
      "metadata": {
        "id": "H2xcJGCrGhAK",
        "outputId": "c851bac6-8b0b-46b9-c14f-e21f5bd346d2"
      },
      "outputs": [
        {
          "data": {
            "text/html": [
              "<div>\n",
              "<style scoped>\n",
              "    .dataframe tbody tr th:only-of-type {\n",
              "        vertical-align: middle;\n",
              "    }\n",
              "\n",
              "    .dataframe tbody tr th {\n",
              "        vertical-align: top;\n",
              "    }\n",
              "\n",
              "    .dataframe thead th {\n",
              "        text-align: right;\n",
              "    }\n",
              "</style>\n",
              "<table border=\"1\" class=\"dataframe\">\n",
              "  <thead>\n",
              "    <tr style=\"text-align: right;\">\n",
              "      <th></th>\n",
              "      <th>_id</th>\n",
              "    </tr>\n",
              "  </thead>\n",
              "  <tbody>\n",
              "    <tr>\n",
              "      <th>0</th>\n",
              "      <td>9876</td>\n",
              "    </tr>\n",
              "    <tr>\n",
              "      <th>1</th>\n",
              "      <td>5467</td>\n",
              "    </tr>\n",
              "    <tr>\n",
              "      <th>2</th>\n",
              "      <td>1234</td>\n",
              "    </tr>\n",
              "  </tbody>\n",
              "</table>\n",
              "</div>"
            ],
            "text/plain": [
              "    _id\n",
              "0  9876\n",
              "1  5467\n",
              "2  1234"
            ]
          },
          "execution_count": 67,
          "metadata": {},
          "output_type": "execute_result"
        }
      ],
      "source": [
        "query_11 = db.orders.aggregate([{'$group':{'_id' : \"$order_number\"}}])\n",
        "MongoDB_to_DataFrame(query_11)"
      ]
    },
    {
      "cell_type": "markdown",
      "metadata": {
        "id": "nkGbEUu_GhAK"
      },
      "source": [
        "####  Query 12: `SELECT avg(price) FROM games`\n",
        "\n",
        "---"
      ]
    },
    {
      "cell_type": "code",
      "execution_count": null,
      "metadata": {
        "id": "-2W9Jfo0GhAK",
        "outputId": "55ce5952-c8ae-4caf-b8ae-5b7bab7bb881"
      },
      "outputs": [
        {
          "data": {
            "text/html": [
              "<div>\n",
              "<style scoped>\n",
              "    .dataframe tbody tr th:only-of-type {\n",
              "        vertical-align: middle;\n",
              "    }\n",
              "\n",
              "    .dataframe tbody tr th {\n",
              "        vertical-align: top;\n",
              "    }\n",
              "\n",
              "    .dataframe thead th {\n",
              "        text-align: right;\n",
              "    }\n",
              "</style>\n",
              "<table border=\"1\" class=\"dataframe\">\n",
              "  <thead>\n",
              "    <tr style=\"text-align: right;\">\n",
              "      <th></th>\n",
              "      <th>_id</th>\n",
              "      <th>average_order_price</th>\n",
              "    </tr>\n",
              "  </thead>\n",
              "  <tbody>\n",
              "    <tr>\n",
              "      <th>0</th>\n",
              "      <td>0</td>\n",
              "      <td>49.99</td>\n",
              "    </tr>\n",
              "  </tbody>\n",
              "</table>\n",
              "</div>"
            ],
            "text/plain": [
              "   _id  average_order_price\n",
              "0    0                49.99"
            ]
          },
          "execution_count": 68,
          "metadata": {},
          "output_type": "execute_result"
        }
      ],
      "source": [
        "query_12 = db.games.aggregate([{'$group' : {\"_id\" : 0, \"average_order_price\" : {\"$avg\" : \"$price\"}}}]) \n",
        "MongoDB_to_DataFrame(query_12)                              "
      ]
    },
    {
      "cell_type": "markdown",
      "metadata": {
        "id": "_NxGJOcaGhAK"
      },
      "source": [
        "####  Exercise n°3: `Select the lastest customer who enrolled in our DB, assuming customer_id are given in increasing order`\n",
        "\n",
        "---"
      ]
    },
    {
      "cell_type": "code",
      "execution_count": null,
      "metadata": {
        "id": "I7-OmwbyGhAK",
        "outputId": "7083f645-83eb-40a6-e6cd-32d20436b19f"
      },
      "outputs": [
        {
          "data": {
            "text/html": [
              "<div>\n",
              "<style scoped>\n",
              "    .dataframe tbody tr th:only-of-type {\n",
              "        vertical-align: middle;\n",
              "    }\n",
              "\n",
              "    .dataframe tbody tr th {\n",
              "        vertical-align: top;\n",
              "    }\n",
              "\n",
              "    .dataframe thead th {\n",
              "        text-align: right;\n",
              "    }\n",
              "</style>\n",
              "<table border=\"1\" class=\"dataframe\">\n",
              "  <thead>\n",
              "    <tr style=\"text-align: right;\">\n",
              "      <th></th>\n",
              "      <th>_id</th>\n",
              "      <th>lastest_customer</th>\n",
              "    </tr>\n",
              "  </thead>\n",
              "  <tbody>\n",
              "    <tr>\n",
              "      <th>0</th>\n",
              "      <td>0</td>\n",
              "      <td>43736</td>\n",
              "    </tr>\n",
              "  </tbody>\n",
              "</table>\n",
              "</div>"
            ],
            "text/plain": [
              "   _id  lastest_customer\n",
              "0    0             43736"
            ]
          },
          "execution_count": 69,
          "metadata": {},
          "output_type": "execute_result"
        }
      ],
      "source": [
        "exercise_3 = ...\n",
        "MongoDB_to_DataFrame(exercise_3) "
      ]
    },
    {
      "cell_type": "markdown",
      "metadata": {
        "id": "reZPIPXhGhAK"
      },
      "source": [
        "####  Query 13: `SELECT COUNT(order_number) as num_orders_1234 FROM orders WHERE customer_ID = 1234`\n",
        "\n",
        "---"
      ]
    },
    {
      "cell_type": "code",
      "execution_count": null,
      "metadata": {
        "id": "lRNOSRsmGhAK",
        "outputId": "84692d54-d88c-446c-f2c3-abb87577afd2"
      },
      "outputs": [
        {
          "data": {
            "text/html": [
              "<div>\n",
              "<style scoped>\n",
              "    .dataframe tbody tr th:only-of-type {\n",
              "        vertical-align: middle;\n",
              "    }\n",
              "\n",
              "    .dataframe tbody tr th {\n",
              "        vertical-align: top;\n",
              "    }\n",
              "\n",
              "    .dataframe thead th {\n",
              "        text-align: right;\n",
              "    }\n",
              "</style>\n",
              "<table border=\"1\" class=\"dataframe\">\n",
              "  <thead>\n",
              "    <tr style=\"text-align: right;\">\n",
              "      <th></th>\n",
              "      <th>num_orders_1234</th>\n",
              "    </tr>\n",
              "  </thead>\n",
              "  <tbody>\n",
              "    <tr>\n",
              "      <th>0</th>\n",
              "      <td>2</td>\n",
              "    </tr>\n",
              "  </tbody>\n",
              "</table>\n",
              "</div>"
            ],
            "text/plain": [
              "   num_orders_1234\n",
              "0                2"
            ]
          },
          "execution_count": 70,
          "metadata": {},
          "output_type": "execute_result"
        }
      ],
      "source": [
        "query_13 = db.orders.aggregate([\n",
        "    # find the interesting document (filtering on an attribute)\n",
        "    {\"$match\" : {\"order_number\" : {\"$eq\" : 1234}}\n",
        "    },\n",
        "    # aggregating method \n",
        "    {\"$count\" : \"num_orders_1234\"}\n",
        "]) \n",
        "\n",
        "MongoDB_to_DataFrame(query_13)"
      ]
    },
    {
      "cell_type": "markdown",
      "metadata": {
        "id": "0gv1l5tvGhAK"
      },
      "source": [
        "####  Query 14: `SELECT order_number, COUNT(DISTINCT game_id) FROM orders GROUP BY order_number`\n",
        "\n",
        "--- "
      ]
    },
    {
      "cell_type": "code",
      "execution_count": null,
      "metadata": {
        "id": "sWH7P_3-GhAL",
        "outputId": "a651c91b-aba3-4025-be44-208b37115576"
      },
      "outputs": [
        {
          "data": {
            "text/html": [
              "<div>\n",
              "<style scoped>\n",
              "    .dataframe tbody tr th:only-of-type {\n",
              "        vertical-align: middle;\n",
              "    }\n",
              "\n",
              "    .dataframe tbody tr th {\n",
              "        vertical-align: top;\n",
              "    }\n",
              "\n",
              "    .dataframe thead th {\n",
              "        text-align: right;\n",
              "    }\n",
              "</style>\n",
              "<table border=\"1\" class=\"dataframe\">\n",
              "  <thead>\n",
              "    <tr style=\"text-align: right;\">\n",
              "      <th></th>\n",
              "      <th>_id</th>\n",
              "      <th>game_id</th>\n",
              "    </tr>\n",
              "  </thead>\n",
              "  <tbody>\n",
              "    <tr>\n",
              "      <th>0</th>\n",
              "      <td>5467</td>\n",
              "      <td>1</td>\n",
              "    </tr>\n",
              "    <tr>\n",
              "      <th>1</th>\n",
              "      <td>1234</td>\n",
              "      <td>2</td>\n",
              "    </tr>\n",
              "    <tr>\n",
              "      <th>2</th>\n",
              "      <td>9876</td>\n",
              "      <td>1</td>\n",
              "    </tr>\n",
              "  </tbody>\n",
              "</table>\n",
              "</div>"
            ],
            "text/plain": [
              "    _id  game_id\n",
              "0  5467        1\n",
              "1  1234        2\n",
              "2  9876        1"
            ]
          },
          "execution_count": 71,
          "metadata": {},
          "output_type": "execute_result"
        }
      ],
      "source": [
        "query_14 = db.orders.aggregate([{\"$group\":{\"_id\": \"$order_number\", \"game_id\": {\"$sum\":1}}}])\n",
        "\n",
        "MongoDB_to_DataFrame(query_14)"
      ]
    },
    {
      "cell_type": "markdown",
      "metadata": {
        "id": "02Q51hMcGhAL"
      },
      "source": [
        "####  Query 15: `Basic visualization - Game prices distribution`\n",
        "\n",
        "--- "
      ]
    },
    {
      "cell_type": "code",
      "execution_count": null,
      "metadata": {
        "id": "zc7vRs8qGhAL",
        "outputId": "5dba9cd8-3a40-4eaa-8c2f-7fde8aa876e9"
      },
      "outputs": [
        {
          "data": {
            "text/html": [
              "<div>\n",
              "<style scoped>\n",
              "    .dataframe tbody tr th:only-of-type {\n",
              "        vertical-align: middle;\n",
              "    }\n",
              "\n",
              "    .dataframe tbody tr th {\n",
              "        vertical-align: top;\n",
              "    }\n",
              "\n",
              "    .dataframe thead th {\n",
              "        text-align: right;\n",
              "    }\n",
              "</style>\n",
              "<table border=\"1\" class=\"dataframe\">\n",
              "  <thead>\n",
              "    <tr style=\"text-align: right;\">\n",
              "      <th></th>\n",
              "      <th>_id</th>\n",
              "      <th>count</th>\n",
              "      <th>average_price</th>\n",
              "    </tr>\n",
              "  </thead>\n",
              "  <tbody>\n",
              "    <tr>\n",
              "      <th>0</th>\n",
              "      <td>20</td>\n",
              "      <td>1</td>\n",
              "      <td>29.99</td>\n",
              "    </tr>\n",
              "    <tr>\n",
              "      <th>1</th>\n",
              "      <td>40</td>\n",
              "      <td>1</td>\n",
              "      <td>49.99</td>\n",
              "    </tr>\n",
              "    <tr>\n",
              "      <th>2</th>\n",
              "      <td>50</td>\n",
              "      <td>2</td>\n",
              "      <td>59.99</td>\n",
              "    </tr>\n",
              "  </tbody>\n",
              "</table>\n",
              "</div>"
            ],
            "text/plain": [
              "   _id  count  average_price\n",
              "0   20      1          29.99\n",
              "1   40      1          49.99\n",
              "2   50      2          59.99"
            ]
          },
          "execution_count": 72,
          "metadata": {},
          "output_type": "execute_result"
        }
      ],
      "source": [
        "query_15 = db.games.aggregate([\n",
        "    {\"$bucket\" : {\"groupBy\" : \"$price\",\n",
        "                  \"boundaries\" : [0,20,30,40,50,60],\n",
        "                  \"default\" : \"Other\",\n",
        "                  \"output\" : {\"count\" : { \"$sum\" : 1},\n",
        "                              \"average_price\" : { \"$avg\" :\"$price\" }} \n",
        "            \n",
        "                 }\n",
        "    }])\n",
        "df_result_Q15 = MongoDB_to_DataFrame(query_15)\n",
        "df_result_Q15"
      ]
    },
    {
      "cell_type": "code",
      "execution_count": null,
      "metadata": {
        "id": "ARz2Aq1NGhAL",
        "outputId": "810375e0-bb07-4881-8850-dfc9f25aefe2"
      },
      "outputs": [
        {
          "data": {
            "text/plain": [
              "Text(0, 0.5, 'Game buckets')"
            ]
          },
          "execution_count": 73,
          "metadata": {},
          "output_type": "execute_result"
        },
        {
          "data": {
            "image/png": "[encoded data removed]",
            "text/plain": [
              "<Figure size 432x288 with 1 Axes>"
            ]
          },
          "metadata": {},
          "output_type": "display_data"
        }
      ],
      "source": [
        "import matplotlib.pyplot as plt\n",
        "ax = df_result_Q15[['count','average_price']].groupby(['average_price']).sum().plot(kind='pie', y='count', shadow = True, title='Games price distribution')\n",
        "ax.set_ylabel(\"Game buckets\")"
      ]
    },
    {
      "cell_type": "markdown",
      "metadata": {
        "deletable": false,
        "editable": false,
        "id": "AG3IyT1FGhAL"
      },
      "source": [
        "### Additional resources for MongoDB basic queries: \n",
        "\n",
        "[More MongoDB functions](https://www.unityjdbc.com/mongojdbc/mongosqltranslate.php) <br>\n",
        "[Automated SQL to MongoDB query convertor (only works for basic queries!)](https://www.site24x7.com/tools/sql-to-mongodb.html) <br>\n",
        "[SQL to MongoDB Official Mapping Chart](https://docs.mongodb.com/manual/reference/sql-comparison/) <br>"
      ]
    },
    {
      "cell_type": "markdown",
      "metadata": {
        "deletable": false,
        "editable": false,
        "id": "ZxSIWOyXGhAL"
      },
      "source": [
        "## 4/ MongoDB Advanced Queries - Joins"
      ]
    },
    {
      "cell_type": "markdown",
      "metadata": {
        "id": "FkaIi6dMGhAL"
      },
      "source": [
        "####  Query 15: How much did each order cost?\n",
        "`SELECT o.order_number, SUM(o.quantity*g.price) as order_price`\n",
        "\n",
        "`FROM orders o LEFT JOIN games g on g.game_id = o.game_id`\n",
        "\n",
        "`GROUP BY order_number`\n",
        "\n",
        "`ORDER BY order_number ASC`\n",
        "\n",
        "--- "
      ]
    },
    {
      "cell_type": "code",
      "execution_count": null,
      "metadata": {
        "id": "5Q6-kOfbGhAL",
        "outputId": "0407d5b7-5226-4b74-bc0b-68277468962c"
      },
      "outputs": [
        {
          "data": {
            "text/html": [
              "<div>\n",
              "<style scoped>\n",
              "    .dataframe tbody tr th:only-of-type {\n",
              "        vertical-align: middle;\n",
              "    }\n",
              "\n",
              "    .dataframe tbody tr th {\n",
              "        vertical-align: top;\n",
              "    }\n",
              "\n",
              "    .dataframe thead th {\n",
              "        text-align: right;\n",
              "    }\n",
              "</style>\n",
              "<table border=\"1\" class=\"dataframe\">\n",
              "  <thead>\n",
              "    <tr style=\"text-align: right;\">\n",
              "      <th></th>\n",
              "      <th>order_number</th>\n",
              "      <th>date</th>\n",
              "      <th>customer_id</th>\n",
              "      <th>game_id</th>\n",
              "      <th>quantity</th>\n",
              "    </tr>\n",
              "  </thead>\n",
              "  <tbody>\n",
              "    <tr>\n",
              "      <th>0</th>\n",
              "      <td>1234</td>\n",
              "      <td>07/08/2016</td>\n",
              "      <td>10497</td>\n",
              "      <td>11</td>\n",
              "      <td>1</td>\n",
              "    </tr>\n",
              "    <tr>\n",
              "      <th>1</th>\n",
              "      <td>1234</td>\n",
              "      <td>07/08/2016</td>\n",
              "      <td>10497</td>\n",
              "      <td>12</td>\n",
              "      <td>1</td>\n",
              "    </tr>\n",
              "    <tr>\n",
              "      <th>2</th>\n",
              "      <td>9876</td>\n",
              "      <td>07/12/2016</td>\n",
              "      <td>23922</td>\n",
              "      <td>14</td>\n",
              "      <td>2</td>\n",
              "    </tr>\n",
              "    <tr>\n",
              "      <th>3</th>\n",
              "      <td>5467</td>\n",
              "      <td>07/20/2016</td>\n",
              "      <td>33927</td>\n",
              "      <td>13</td>\n",
              "      <td>1</td>\n",
              "    </tr>\n",
              "  </tbody>\n",
              "</table>\n",
              "</div>"
            ],
            "text/plain": [
              "   order_number        date  customer_id  game_id  quantity\n",
              "0          1234  07/08/2016        10497       11         1\n",
              "1          1234  07/08/2016        10497       12         1\n",
              "2          9876  07/12/2016        23922       14         2\n",
              "3          5467  07/20/2016        33927       13         1"
            ]
          },
          "execution_count": 74,
          "metadata": {},
          "output_type": "execute_result"
        }
      ],
      "source": [
        "df_orders"
      ]
    },
    {
      "cell_type": "markdown",
      "metadata": {
        "deletable": false,
        "editable": false,
        "id": "3C0vd2JWGhAL"
      },
      "source": [
        "### Method n°1: embedded documents for one-to-few relationships"
      ]
    },
    {
      "cell_type": "code",
      "execution_count": null,
      "metadata": {
        "id": "tacY-o3qGhAL",
        "outputId": "dfaf0d6a-37c2-428e-d7b4-8985437f8813"
      },
      "outputs": [
        {
          "data": {
            "text/html": [
              "<div>\n",
              "<style scoped>\n",
              "    .dataframe tbody tr th:only-of-type {\n",
              "        vertical-align: middle;\n",
              "    }\n",
              "\n",
              "    .dataframe tbody tr th {\n",
              "        vertical-align: top;\n",
              "    }\n",
              "\n",
              "    .dataframe thead th {\n",
              "        text-align: right;\n",
              "    }\n",
              "</style>\n",
              "<table border=\"1\" class=\"dataframe\">\n",
              "  <thead>\n",
              "    <tr style=\"text-align: right;\">\n",
              "      <th></th>\n",
              "      <th>order_number</th>\n",
              "      <th>date</th>\n",
              "      <th>customer</th>\n",
              "      <th>game</th>\n",
              "      <th>quantity</th>\n",
              "    </tr>\n",
              "  </thead>\n",
              "  <tbody>\n",
              "    <tr>\n",
              "      <th>0</th>\n",
              "      <td>1234</td>\n",
              "      <td>07/08/2016</td>\n",
              "      <td>{'customer_id': 10497, 'first_name': 'Nic', 'l...</td>\n",
              "      <td>{'game_id': 11, 'game_name': 'Pokemon Red', 'p...</td>\n",
              "      <td>1</td>\n",
              "    </tr>\n",
              "    <tr>\n",
              "      <th>1</th>\n",
              "      <td>1234</td>\n",
              "      <td>07/08/2016</td>\n",
              "      <td>{'customer_id': 10497, 'first_name': 'Nic', 'l...</td>\n",
              "      <td>{'game_id': 12, 'game_name': 'Dake Soul Red II...</td>\n",
              "      <td>1</td>\n",
              "    </tr>\n",
              "    <tr>\n",
              "      <th>2</th>\n",
              "      <td>9876</td>\n",
              "      <td>07/12/2016</td>\n",
              "      <td>{'customer_id': 23922, 'first_name': 'Matt', '...</td>\n",
              "      <td>{'game_id': 14, 'game_name': 'Super Smash Bros...</td>\n",
              "      <td>2</td>\n",
              "    </tr>\n",
              "    <tr>\n",
              "      <th>3</th>\n",
              "      <td>5467</td>\n",
              "      <td>07/20/2016</td>\n",
              "      <td>{'customer_id': 33927, 'first_name': 'Arun', '...</td>\n",
              "      <td>{'game_id': 13, 'game_name': 'RayMan 4', 'pric...</td>\n",
              "      <td>1</td>\n",
              "    </tr>\n",
              "  </tbody>\n",
              "</table>\n",
              "</div>"
            ],
            "text/plain": [
              "   order_number        date  \\\n",
              "0          1234  07/08/2016   \n",
              "1          1234  07/08/2016   \n",
              "2          9876  07/12/2016   \n",
              "3          5467  07/20/2016   \n",
              "\n",
              "                                            customer  \\\n",
              "0  {'customer_id': 10497, 'first_name': 'Nic', 'l...   \n",
              "1  {'customer_id': 10497, 'first_name': 'Nic', 'l...   \n",
              "2  {'customer_id': 23922, 'first_name': 'Matt', '...   \n",
              "3  {'customer_id': 33927, 'first_name': 'Arun', '...   \n",
              "\n",
              "                                                game  quantity  \n",
              "0  {'game_id': 11, 'game_name': 'Pokemon Red', 'p...         1  \n",
              "1  {'game_id': 12, 'game_name': 'Dake Soul Red II...         1  \n",
              "2  {'game_id': 14, 'game_name': 'Super Smash Bros...         2  \n",
              "3  {'game_id': 13, 'game_name': 'RayMan 4', 'pric...         1  "
            ]
          },
          "execution_count": 75,
          "metadata": {},
          "output_type": "execute_result"
        }
      ],
      "source": [
        "### Create a unique order dataframe with the games and customers information embedded (nested dictionnaries)\n",
        "\n",
        "df_orders_embedded = pd.DataFrame(data = {'order_number': [1234, 1234, 9876, 5467],\n",
        "                                          'date' : ['07/08/2016', '07/08/2016', '07/12/2016', '07/20/2016'],\n",
        "                                          'customer' : [\n",
        "                                                        {'customer_id': 10497,'first_name': 'Nic','last_name': 'Raboy','email': 'nic@test.com','phone': '510-229-0612'},\n",
        "                                                        {'customer_id': 10497,'first_name': 'Nic','last_name': 'Raboy','email': 'nic@test.com','phone': '510-229-0612'},\n",
        "                                                        {'customer_id': 23922,'first_name': 'Matt','last_name': 'Groves','email': 'matt@test.com'},\n",
        "                                                        {'customer_id': 33927,'first_name': 'Arun','last_name': 'Gupta','email': 'arun@test.com','phone': '510-149-9782'}\n",
        "                                          ],\n",
        "                                          'game' : [\n",
        "                                                    {'game_id': 11,'game_name': 'Pokemon Red','price': 29.99},\n",
        "                                                    {'game_id': 12,'game_name': 'Dake Soul Red III','price': 59.99},\n",
        "                                                    {'game_id': 14,'game_name': 'Super Smash Bros','price': 49.99},\n",
        "                                                    {'game_id': 13,'game_name': 'RayMan 4','price': 59.99}\n",
        "                                          ],\n",
        "                                          'quantity' : [1, 1, 2, 1],\n",
        "                                })\n",
        "\n",
        "df_orders_embedded.head()"
      ]
    },
    {
      "cell_type": "code",
      "execution_count": null,
      "metadata": {
        "id": "9dHczBMjGhAL",
        "outputId": "4dc37802-8265-4592-e6aa-33b72e1f9bf5"
      },
      "outputs": [
        {
          "data": {
            "text/plain": [
              "{'_id': ObjectId('6262ea3e6616b3516925397b'),\n",
              " 'order_number': 1234,\n",
              " 'date': '07/08/2016',\n",
              " 'customer': {'customer_id': 10497,\n",
              "  'first_name': 'Nic',\n",
              "  'last_name': 'Raboy',\n",
              "  'email': 'nic@test.com',\n",
              "  'phone': '510-229-0612'},\n",
              " 'game': {'game_id': 11, 'game_name': 'Pokemon Red', 'price': 29.99},\n",
              " 'quantity': 1}"
            ]
          },
          "execution_count": 76,
          "metadata": {},
          "output_type": "execute_result"
        }
      ],
      "source": [
        "embedded_orders_dict = df_orders_embedded.to_dict('records')\n",
        "embedded_orders = db[\"embedded_orders\"]\n",
        "embedded_orders.insert_many(embedded_orders_dict)\n",
        "embedded_orders.find_one() "
      ]
    },
    {
      "cell_type": "code",
      "execution_count": null,
      "metadata": {
        "id": "5tJLPu6CGhAM",
        "outputId": "def4e5c7-f9f4-4a0e-90e1-a5b84b1f0cdd"
      },
      "outputs": [
        {
          "name": "stdout",
          "output_type": "stream",
          "text": [
            "['games', 'embedded_orders', 'customers', 'orders']\n"
          ]
        }
      ],
      "source": [
        "print(db.list_collection_names()) "
      ]
    },
    {
      "cell_type": "code",
      "execution_count": null,
      "metadata": {
        "id": "DqAAyNxBGhAM",
        "outputId": "7c62d104-cb49-4cc2-85ff-e7466d57462b"
      },
      "outputs": [
        {
          "data": {
            "text/html": [
              "<div>\n",
              "<style scoped>\n",
              "    .dataframe tbody tr th:only-of-type {\n",
              "        vertical-align: middle;\n",
              "    }\n",
              "\n",
              "    .dataframe tbody tr th {\n",
              "        vertical-align: top;\n",
              "    }\n",
              "\n",
              "    .dataframe thead th {\n",
              "        text-align: right;\n",
              "    }\n",
              "</style>\n",
              "<table border=\"1\" class=\"dataframe\">\n",
              "  <thead>\n",
              "    <tr style=\"text-align: right;\">\n",
              "      <th></th>\n",
              "      <th>_id</th>\n",
              "      <th>total_price</th>\n",
              "    </tr>\n",
              "  </thead>\n",
              "  <tbody>\n",
              "    <tr>\n",
              "      <th>0</th>\n",
              "      <td>1234</td>\n",
              "      <td>89.98</td>\n",
              "    </tr>\n",
              "    <tr>\n",
              "      <th>1</th>\n",
              "      <td>5467</td>\n",
              "      <td>59.99</td>\n",
              "    </tr>\n",
              "    <tr>\n",
              "      <th>2</th>\n",
              "      <td>9876</td>\n",
              "      <td>99.98</td>\n",
              "    </tr>\n",
              "  </tbody>\n",
              "</table>\n",
              "</div>"
            ],
            "text/plain": [
              "    _id  total_price\n",
              "0  1234        89.98\n",
              "1  5467        59.99\n",
              "2  9876        99.98"
            ]
          },
          "execution_count": 78,
          "metadata": {},
          "output_type": "execute_result"
        }
      ],
      "source": [
        "query_15_M1 =  db.embedded_orders.aggregate(\n",
        "    [{'$group':\n",
        "      {'_id': \"$order_number\",\n",
        "       'total_price':{'$sum': { '$multiply': [ \"$game.price\", \"$quantity\" ]}}}\n",
        "     },\n",
        "     {'$sort':{\"_id\":1}}                                     \n",
        "    ])\n",
        "\n",
        "M1_results = MongoDB_to_DataFrame(query_15_M1)\n",
        "M1_results"
      ]
    },
    {
      "cell_type": "markdown",
      "metadata": {
        "deletable": false,
        "editable": false,
        "id": "RJc1qz8_GhAM"
      },
      "source": [
        "### Method n°2: $lookup function for one-to-many relationships"
      ]
    },
    {
      "cell_type": "code",
      "execution_count": null,
      "metadata": {
        "id": "uFOX6qbwGhAM",
        "outputId": "43d9e5e3-4111-439c-a7e4-20fc16a4e4b6"
      },
      "outputs": [
        {
          "data": {
            "text/html": [
              "<div>\n",
              "<style scoped>\n",
              "    .dataframe tbody tr th:only-of-type {\n",
              "        vertical-align: middle;\n",
              "    }\n",
              "\n",
              "    .dataframe tbody tr th {\n",
              "        vertical-align: top;\n",
              "    }\n",
              "\n",
              "    .dataframe thead th {\n",
              "        text-align: right;\n",
              "    }\n",
              "</style>\n",
              "<table border=\"1\" class=\"dataframe\">\n",
              "  <thead>\n",
              "    <tr style=\"text-align: right;\">\n",
              "      <th></th>\n",
              "      <th>_id</th>\n",
              "      <th>order_number</th>\n",
              "      <th>date</th>\n",
              "      <th>customer_id</th>\n",
              "      <th>game_id</th>\n",
              "      <th>quantity</th>\n",
              "      <th>game_info</th>\n",
              "    </tr>\n",
              "  </thead>\n",
              "  <tbody>\n",
              "    <tr>\n",
              "      <th>0</th>\n",
              "      <td>6262e8316616b35169253977</td>\n",
              "      <td>1234</td>\n",
              "      <td>07/08/2016</td>\n",
              "      <td>10497</td>\n",
              "      <td>11</td>\n",
              "      <td>1</td>\n",
              "      <td>[{'_id': 6262e82e6616b35169253973, 'game_id': ...</td>\n",
              "    </tr>\n",
              "    <tr>\n",
              "      <th>1</th>\n",
              "      <td>6262e8316616b35169253978</td>\n",
              "      <td>1234</td>\n",
              "      <td>07/08/2016</td>\n",
              "      <td>10497</td>\n",
              "      <td>12</td>\n",
              "      <td>1</td>\n",
              "      <td>[{'_id': 6262e82e6616b35169253974, 'game_id': ...</td>\n",
              "    </tr>\n",
              "    <tr>\n",
              "      <th>2</th>\n",
              "      <td>6262e8316616b35169253979</td>\n",
              "      <td>9876</td>\n",
              "      <td>07/12/2016</td>\n",
              "      <td>23922</td>\n",
              "      <td>14</td>\n",
              "      <td>2</td>\n",
              "      <td>[{'_id': 6262e82e6616b35169253976, 'game_id': ...</td>\n",
              "    </tr>\n",
              "    <tr>\n",
              "      <th>3</th>\n",
              "      <td>6262e8316616b3516925397a</td>\n",
              "      <td>5467</td>\n",
              "      <td>07/20/2016</td>\n",
              "      <td>33927</td>\n",
              "      <td>13</td>\n",
              "      <td>1</td>\n",
              "      <td>[{'_id': 6262e82e6616b35169253975, 'game_id': ...</td>\n",
              "    </tr>\n",
              "  </tbody>\n",
              "</table>\n",
              "</div>"
            ],
            "text/plain": [
              "                        _id  order_number        date  customer_id  game_id  \\\n",
              "0  6262e8316616b35169253977          1234  07/08/2016        10497       11   \n",
              "1  6262e8316616b35169253978          1234  07/08/2016        10497       12   \n",
              "2  6262e8316616b35169253979          9876  07/12/2016        23922       14   \n",
              "3  6262e8316616b3516925397a          5467  07/20/2016        33927       13   \n",
              "\n",
              "   quantity                                          game_info  \n",
              "0         1  [{'_id': 6262e82e6616b35169253973, 'game_id': ...  \n",
              "1         1  [{'_id': 6262e82e6616b35169253974, 'game_id': ...  \n",
              "2         2  [{'_id': 6262e82e6616b35169253976, 'game_id': ...  \n",
              "3         1  [{'_id': 6262e82e6616b35169253975, 'game_id': ...  "
            ]
          },
          "execution_count": 79,
          "metadata": {},
          "output_type": "execute_result"
        }
      ],
      "source": [
        "query_15_M21 = db.orders.aggregate([\n",
        "   {\n",
        "     '$lookup':\n",
        "       {\n",
        "         'from': \"games\",             # table you want to join to the parent table\n",
        "         'localField': \"game_id\",     # join attribute from the parent table\n",
        "         'foreignField': \"game_id\",   # join attribute from the joined table (the table in the \"from\" field above)\n",
        "         'as': \"game_info\"            # name you want to give to the embedded dictionary output by the $lookup method\n",
        "       }\n",
        "  } \n",
        "])\n",
        "MongoDB_to_DataFrame(query_15_M21)"
      ]
    },
    {
      "cell_type": "code",
      "execution_count": null,
      "metadata": {
        "id": "QzYevHyuGhAM",
        "outputId": "71caea2b-3d8f-4f5a-9b19-90f15250a777"
      },
      "outputs": [
        {
          "data": {
            "text/html": [
              "<div>\n",
              "<style scoped>\n",
              "    .dataframe tbody tr th:only-of-type {\n",
              "        vertical-align: middle;\n",
              "    }\n",
              "\n",
              "    .dataframe tbody tr th {\n",
              "        vertical-align: top;\n",
              "    }\n",
              "\n",
              "    .dataframe thead th {\n",
              "        text-align: right;\n",
              "    }\n",
              "</style>\n",
              "<table border=\"1\" class=\"dataframe\">\n",
              "  <thead>\n",
              "    <tr style=\"text-align: right;\">\n",
              "      <th></th>\n",
              "      <th>_id</th>\n",
              "      <th>order_number</th>\n",
              "      <th>date</th>\n",
              "      <th>customer_id</th>\n",
              "      <th>game_id</th>\n",
              "      <th>quantity</th>\n",
              "      <th>game_info</th>\n",
              "    </tr>\n",
              "  </thead>\n",
              "  <tbody>\n",
              "    <tr>\n",
              "      <th>0</th>\n",
              "      <td>6262e8316616b35169253977</td>\n",
              "      <td>1234</td>\n",
              "      <td>07/08/2016</td>\n",
              "      <td>10497</td>\n",
              "      <td>11</td>\n",
              "      <td>1</td>\n",
              "      <td>{'_id': 6262e82e6616b35169253973, 'game_id': 1...</td>\n",
              "    </tr>\n",
              "    <tr>\n",
              "      <th>1</th>\n",
              "      <td>6262e8316616b35169253978</td>\n",
              "      <td>1234</td>\n",
              "      <td>07/08/2016</td>\n",
              "      <td>10497</td>\n",
              "      <td>12</td>\n",
              "      <td>1</td>\n",
              "      <td>{'_id': 6262e82e6616b35169253974, 'game_id': 1...</td>\n",
              "    </tr>\n",
              "    <tr>\n",
              "      <th>2</th>\n",
              "      <td>6262e8316616b35169253979</td>\n",
              "      <td>9876</td>\n",
              "      <td>07/12/2016</td>\n",
              "      <td>23922</td>\n",
              "      <td>14</td>\n",
              "      <td>2</td>\n",
              "      <td>{'_id': 6262e82e6616b35169253976, 'game_id': 1...</td>\n",
              "    </tr>\n",
              "    <tr>\n",
              "      <th>3</th>\n",
              "      <td>6262e8316616b3516925397a</td>\n",
              "      <td>5467</td>\n",
              "      <td>07/20/2016</td>\n",
              "      <td>33927</td>\n",
              "      <td>13</td>\n",
              "      <td>1</td>\n",
              "      <td>{'_id': 6262e82e6616b35169253975, 'game_id': 1...</td>\n",
              "    </tr>\n",
              "  </tbody>\n",
              "</table>\n",
              "</div>"
            ],
            "text/plain": [
              "                        _id  order_number        date  customer_id  game_id  \\\n",
              "0  6262e8316616b35169253977          1234  07/08/2016        10497       11   \n",
              "1  6262e8316616b35169253978          1234  07/08/2016        10497       12   \n",
              "2  6262e8316616b35169253979          9876  07/12/2016        23922       14   \n",
              "3  6262e8316616b3516925397a          5467  07/20/2016        33927       13   \n",
              "\n",
              "   quantity                                          game_info  \n",
              "0         1  {'_id': 6262e82e6616b35169253973, 'game_id': 1...  \n",
              "1         1  {'_id': 6262e82e6616b35169253974, 'game_id': 1...  \n",
              "2         2  {'_id': 6262e82e6616b35169253976, 'game_id': 1...  \n",
              "3         1  {'_id': 6262e82e6616b35169253975, 'game_id': 1...  "
            ]
          },
          "execution_count": 80,
          "metadata": {},
          "output_type": "execute_result"
        }
      ],
      "source": [
        "query_15_M22 =  db.orders.aggregate([\n",
        "   {\n",
        "     '$lookup':\n",
        "       {\n",
        "         'from': \"games\",             \n",
        "         'localField': \"game_id\",     \n",
        "         'foreignField': \"game_id\",   \n",
        "         'as': \"game_info\"            \n",
        "       }\n",
        "  },\n",
        "    {'$unwind': { 'path': \"$game_info\", 'preserveNullAndEmptyArrays': True}}    # enable the embedded dictionary attributes to be accessed in the query \n",
        "])\n",
        "MongoDB_to_DataFrame(query_15_M22)"
      ]
    },
    {
      "cell_type": "code",
      "execution_count": null,
      "metadata": {
        "id": "AvC-lBAWGhAM",
        "outputId": "6ab4e370-dce4-4f7d-c38f-5340d3437cad"
      },
      "outputs": [
        {
          "data": {
            "text/html": [
              "<div>\n",
              "<style scoped>\n",
              "    .dataframe tbody tr th:only-of-type {\n",
              "        vertical-align: middle;\n",
              "    }\n",
              "\n",
              "    .dataframe tbody tr th {\n",
              "        vertical-align: top;\n",
              "    }\n",
              "\n",
              "    .dataframe thead th {\n",
              "        text-align: right;\n",
              "    }\n",
              "</style>\n",
              "<table border=\"1\" class=\"dataframe\">\n",
              "  <thead>\n",
              "    <tr style=\"text-align: right;\">\n",
              "      <th></th>\n",
              "      <th>_id</th>\n",
              "      <th>total_price</th>\n",
              "    </tr>\n",
              "  </thead>\n",
              "  <tbody>\n",
              "    <tr>\n",
              "      <th>0</th>\n",
              "      <td>1234</td>\n",
              "      <td>89.98</td>\n",
              "    </tr>\n",
              "    <tr>\n",
              "      <th>1</th>\n",
              "      <td>5467</td>\n",
              "      <td>59.99</td>\n",
              "    </tr>\n",
              "    <tr>\n",
              "      <th>2</th>\n",
              "      <td>9876</td>\n",
              "      <td>99.98</td>\n",
              "    </tr>\n",
              "  </tbody>\n",
              "</table>\n",
              "</div>"
            ],
            "text/plain": [
              "    _id  total_price\n",
              "0  1234        89.98\n",
              "1  5467        59.99\n",
              "2  9876        99.98"
            ]
          },
          "execution_count": 81,
          "metadata": {},
          "output_type": "execute_result"
        }
      ],
      "source": [
        "query_15_M23 =  db.orders.aggregate([\n",
        "   {\n",
        "     '$lookup':\n",
        "       {\n",
        "         'from': \"games\",\n",
        "         'localField': \"game_id\",\n",
        "         'foreignField': \"game_id\",\n",
        "         'as': \"game_info\"\n",
        "       }\n",
        "  },\n",
        "    {'$unwind': { 'path': \"$game_info\", 'preserveNullAndEmptyArrays': True}},\n",
        "    {'$group':\n",
        "      {\n",
        "       '_id': \"$order_number\",\n",
        "       'total_price':{'$sum': { '$multiply': [ \"$game_info.price\", \"$quantity\" ]}}  # use $joined_table_name.attribute_name to call an attribute from a joined table\n",
        "      }\n",
        "    },\n",
        "    {'$sort':{\"_id\":1}}\n",
        "])\n",
        "M2_results = MongoDB_to_DataFrame(query_15_M23)\n",
        "M2_results"
      ]
    },
    {
      "cell_type": "code",
      "execution_count": null,
      "metadata": {
        "id": "f4YS7EQyGhAM",
        "outputId": "ef94ae75-b0b8-4c25-8f5a-f2e31d2c236c"
      },
      "outputs": [
        {
          "data": {
            "text/plain": [
              "True"
            ]
          },
          "execution_count": 82,
          "metadata": {},
          "output_type": "execute_result"
        }
      ],
      "source": [
        "## Sanity check : do method n°1 and method n°2 give the same result? \n",
        "M2_results.equals(M1_results) "
      ]
    },
    {
      "cell_type": "markdown",
      "metadata": {
        "deletable": false,
        "editable": false,
        "id": "MwoivoXKGhAM"
      },
      "source": [
        "###  To embed or not to embed, that is the question...\n",
        "\n",
        "![Capture%20d%E2%80%99e%CC%81cran%202021-04-23%20a%CC%80%2012.19.30.png](attachment:Capture%20d%E2%80%99e%CC%81cran%202021-04-23%20a%CC%80%2012.19.30.png)"
      ]
    },
    {
      "cell_type": "code",
      "execution_count": null,
      "metadata": {
        "id": "yL_MpxMYGhAM",
        "outputId": "c3797ece-e7de-4e30-e657-7ea578af2c56"
      },
      "outputs": [
        {
          "data": {
            "text/html": [
              "<div>\n",
              "<style scoped>\n",
              "    .dataframe tbody tr th:only-of-type {\n",
              "        vertical-align: middle;\n",
              "    }\n",
              "\n",
              "    .dataframe tbody tr th {\n",
              "        vertical-align: top;\n",
              "    }\n",
              "\n",
              "    .dataframe thead th {\n",
              "        text-align: right;\n",
              "    }\n",
              "</style>\n",
              "<table border=\"1\" class=\"dataframe\">\n",
              "  <thead>\n",
              "    <tr style=\"text-align: right;\">\n",
              "      <th></th>\n",
              "      <th>customer_id</th>\n",
              "      <th>first_name</th>\n",
              "      <th>last_name</th>\n",
              "      <th>email</th>\n",
              "      <th>phone</th>\n",
              "    </tr>\n",
              "  </thead>\n",
              "  <tbody>\n",
              "    <tr>\n",
              "      <th>0</th>\n",
              "      <td>10497</td>\n",
              "      <td>Nic</td>\n",
              "      <td>Raboy</td>\n",
              "      <td>nic@test.com</td>\n",
              "      <td>510-229-0612</td>\n",
              "    </tr>\n",
              "    <tr>\n",
              "      <th>1</th>\n",
              "      <td>23922</td>\n",
              "      <td>Matt</td>\n",
              "      <td>Groves</td>\n",
              "      <td>matt@test.com</td>\n",
              "      <td>NaN</td>\n",
              "    </tr>\n",
              "    <tr>\n",
              "      <th>2</th>\n",
              "      <td>33927</td>\n",
              "      <td>Arun</td>\n",
              "      <td>Gupta</td>\n",
              "      <td>arun@test.com</td>\n",
              "      <td>510-149-9782</td>\n",
              "    </tr>\n",
              "    <tr>\n",
              "      <th>3</th>\n",
              "      <td>43736</td>\n",
              "      <td>Hod</td>\n",
              "      <td>Greeley</td>\n",
              "      <td>hod@test.com</td>\n",
              "      <td>510-718-3340</td>\n",
              "    </tr>\n",
              "  </tbody>\n",
              "</table>\n",
              "</div>"
            ],
            "text/plain": [
              "   customer_id first_name last_name          email         phone\n",
              "0        10497        Nic     Raboy   nic@test.com  510-229-0612\n",
              "1        23922       Matt    Groves  matt@test.com           NaN\n",
              "2        33927       Arun     Gupta  arun@test.com  510-149-9782\n",
              "3        43736        Hod   Greeley   hod@test.com  510-718-3340"
            ]
          },
          "execution_count": 94,
          "metadata": {},
          "output_type": "execute_result"
        }
      ],
      "source": [
        "df_customers"
      ]
    },
    {
      "cell_type": "code",
      "execution_count": null,
      "metadata": {
        "id": "7dgcmQUHGhAM",
        "outputId": "531fe569-9175-47a3-9afe-ad6a4b315699"
      },
      "outputs": [
        {
          "data": {
            "text/html": [
              "<div>\n",
              "<style scoped>\n",
              "    .dataframe tbody tr th:only-of-type {\n",
              "        vertical-align: middle;\n",
              "    }\n",
              "\n",
              "    .dataframe tbody tr th {\n",
              "        vertical-align: top;\n",
              "    }\n",
              "\n",
              "    .dataframe thead th {\n",
              "        text-align: right;\n",
              "    }\n",
              "</style>\n",
              "<table border=\"1\" class=\"dataframe\">\n",
              "  <thead>\n",
              "    <tr style=\"text-align: right;\">\n",
              "      <th></th>\n",
              "      <th>order_number</th>\n",
              "      <th>date</th>\n",
              "      <th>customer_id</th>\n",
              "      <th>game_id</th>\n",
              "      <th>quantity</th>\n",
              "    </tr>\n",
              "  </thead>\n",
              "  <tbody>\n",
              "    <tr>\n",
              "      <th>0</th>\n",
              "      <td>1234</td>\n",
              "      <td>07/08/2016</td>\n",
              "      <td>10497</td>\n",
              "      <td>11</td>\n",
              "      <td>1</td>\n",
              "    </tr>\n",
              "    <tr>\n",
              "      <th>1</th>\n",
              "      <td>1234</td>\n",
              "      <td>07/08/2016</td>\n",
              "      <td>10497</td>\n",
              "      <td>12</td>\n",
              "      <td>1</td>\n",
              "    </tr>\n",
              "    <tr>\n",
              "      <th>2</th>\n",
              "      <td>9876</td>\n",
              "      <td>07/12/2016</td>\n",
              "      <td>23922</td>\n",
              "      <td>14</td>\n",
              "      <td>2</td>\n",
              "    </tr>\n",
              "    <tr>\n",
              "      <th>3</th>\n",
              "      <td>5467</td>\n",
              "      <td>07/20/2016</td>\n",
              "      <td>33927</td>\n",
              "      <td>13</td>\n",
              "      <td>1</td>\n",
              "    </tr>\n",
              "  </tbody>\n",
              "</table>\n",
              "</div>"
            ],
            "text/plain": [
              "   order_number        date  customer_id  game_id  quantity\n",
              "0          1234  07/08/2016        10497       11         1\n",
              "1          1234  07/08/2016        10497       12         1\n",
              "2          9876  07/12/2016        23922       14         2\n",
              "3          5467  07/20/2016        33927       13         1"
            ]
          },
          "execution_count": 95,
          "metadata": {},
          "output_type": "execute_result"
        }
      ],
      "source": [
        "df_orders"
      ]
    },
    {
      "cell_type": "markdown",
      "metadata": {
        "id": "pB-tC_lzGhAM"
      },
      "source": [
        "#### Example 16: `Who placed an order with more than 1 quantity?` \n",
        "\n",
        "Retrieve their email and phone numbers as their identifier, as well as the order number and order date. "
      ]
    },
    {
      "cell_type": "code",
      "execution_count": null,
      "metadata": {
        "id": "-MOY_SQHGhAN",
        "outputId": "b24419ba-abd1-4513-fbbd-d5368f8851f1"
      },
      "outputs": [
        {
          "data": {
            "text/html": [
              "<div>\n",
              "<style scoped>\n",
              "    .dataframe tbody tr th:only-of-type {\n",
              "        vertical-align: middle;\n",
              "    }\n",
              "\n",
              "    .dataframe tbody tr th {\n",
              "        vertical-align: top;\n",
              "    }\n",
              "\n",
              "    .dataframe thead th {\n",
              "        text-align: right;\n",
              "    }\n",
              "</style>\n",
              "<table border=\"1\" class=\"dataframe\">\n",
              "  <thead>\n",
              "    <tr style=\"text-align: right;\">\n",
              "      <th></th>\n",
              "      <th>quantity</th>\n",
              "      <th>email</th>\n",
              "    </tr>\n",
              "  </thead>\n",
              "  <tbody>\n",
              "    <tr>\n",
              "      <th>0</th>\n",
              "      <td>2</td>\n",
              "      <td>matt@test.com</td>\n",
              "    </tr>\n",
              "  </tbody>\n",
              "</table>\n",
              "</div>"
            ],
            "text/plain": [
              "   quantity          email\n",
              "0         2  matt@test.com"
            ]
          },
          "execution_count": 123,
          "metadata": {},
          "output_type": "execute_result"
        }
      ],
      "source": [
        "query_16 =  db.orders.aggregate([\n",
        "   {\n",
        "     '$lookup':\n",
        "       {\n",
        "         'from': \"customers\" ,\n",
        "         'localField': \"customer_id\" ,\n",
        "         'foreignField': \"customer_id\" ,\n",
        "         'as': \"customer_info\"\n",
        "       }\n",
        "   },\n",
        "    \n",
        "    {'$unwind': { 'path': \"$customer_info\" , 'preserveNullAndEmptyArrays': True}},\n",
        "    \n",
        "    {'$project': {\"_id\": 0,\n",
        "                  \"quantity\": \"$quantity\",\n",
        "                  \"email\": \"$customer_info.email\",\n",
        "                  \"phone\": \"$customer_info.phone\"}},\n",
        "    \n",
        "    {\"$match\" : {\"quantity\" : {\"$gt\" : 1}}}\n",
        "    ]) \n",
        "\n",
        "MongoDB_to_DataFrame(query_16) "
      ]
    },
    {
      "cell_type": "markdown",
      "metadata": {
        "id": "uXohOQq7GhAN"
      },
      "source": [
        "####  Example 17: `Who placed an order with date after 10th July 2016?` \n",
        "\n",
        "Retrieve their email and phone numbers as their identifier, as well as the order number and order date. "
      ]
    },
    {
      "cell_type": "code",
      "execution_count": null,
      "metadata": {
        "id": "-78knNiDGhAN",
        "outputId": "e2df9d23-7776-4b2b-96c7-5d61f91b0cb3"
      },
      "outputs": [
        {
          "data": {
            "text/html": [
              "<div>\n",
              "<style scoped>\n",
              "    .dataframe tbody tr th:only-of-type {\n",
              "        vertical-align: middle;\n",
              "    }\n",
              "\n",
              "    .dataframe tbody tr th {\n",
              "        vertical-align: top;\n",
              "    }\n",
              "\n",
              "    .dataframe thead th {\n",
              "        text-align: right;\n",
              "    }\n",
              "</style>\n",
              "<table border=\"1\" class=\"dataframe\">\n",
              "  <thead>\n",
              "    <tr style=\"text-align: right;\">\n",
              "      <th></th>\n",
              "      <th>date</th>\n",
              "      <th>email</th>\n",
              "      <th>phone</th>\n",
              "    </tr>\n",
              "  </thead>\n",
              "  <tbody>\n",
              "    <tr>\n",
              "      <th>0</th>\n",
              "      <td>07/12/2016</td>\n",
              "      <td>matt@test.com</td>\n",
              "      <td>NaN</td>\n",
              "    </tr>\n",
              "    <tr>\n",
              "      <th>1</th>\n",
              "      <td>07/20/2016</td>\n",
              "      <td>arun@test.com</td>\n",
              "      <td>510-149-9782</td>\n",
              "    </tr>\n",
              "  </tbody>\n",
              "</table>\n",
              "</div>"
            ],
            "text/plain": [
              "         date          email         phone\n",
              "0  07/12/2016  matt@test.com           NaN\n",
              "1  07/20/2016  arun@test.com  510-149-9782"
            ]
          },
          "execution_count": 124,
          "metadata": {},
          "output_type": "execute_result"
        }
      ],
      "source": [
        "query_17 =  db.orders.aggregate([\n",
        "   {\n",
        "     '$lookup':\n",
        "       {\n",
        "         'from': \"customers\" ,\n",
        "         'localField': \"customer_id\" ,\n",
        "         'foreignField': \"customer_id\" ,\n",
        "         'as': \"customer_info\"\n",
        "       }\n",
        "   },\n",
        "    ## Use $project operator : it passes along the documents with the requested fields \n",
        "    ## to the next stage in the pipeline. The specified fields can be existing fields \n",
        "    ## from the input documents or newly computed fields --> similar to pi projector! \n",
        "    \n",
        "    {'$unwind': { 'path': \"$customer_info\" , 'preserveNullAndEmptyArrays': True}},\n",
        "    \n",
        "    {'$project': {\"_id\": 0,\n",
        "                  \"date\": \"$date\",\n",
        "                  \"email\": \"$customer_info.email\",\n",
        "                  \"phone\": \"$customer_info.phone\"}},\n",
        "        ## Use $match operator to filter the rows (similar to select (sigma) operator in RA!)\n",
        "    {\"$match\" : {\"date\" : {\"$gte\" : '07/10/2016'}}}\n",
        "    ]) \n",
        "\n",
        "MongoDB_to_DataFrame(query_17) "
      ]
    },
    {
      "cell_type": "markdown",
      "metadata": {
        "id": "34lN5XLeGhAN"
      },
      "source": [
        "###  Exercice 4: Who placed an order containing the \"RayMan 4\" game?\n",
        "\n",
        "`SELECT g.game_name as game, CONCAT(c.first_name, \" \", c.last_name)  as customer_full_name,` \n",
        "\n",
        "`FROM orders o LEFT JOIN games g on g.game_id = o.game_id LEFT JOIN customers c on c.customer_id = o.customer_id`\n",
        "\n",
        "`WHERE g.game_name = \"RayMan 4\"` \n",
        "\n",
        "--- "
      ]
    },
    {
      "cell_type": "code",
      "execution_count": null,
      "metadata": {
        "id": "y4xIktebGhAN",
        "outputId": "2bac8e73-7066-4f0f-9c7d-83a96c7f6578"
      },
      "outputs": [
        {
          "data": {
            "text/html": [
              "<div>\n",
              "<style scoped>\n",
              "    .dataframe tbody tr th:only-of-type {\n",
              "        vertical-align: middle;\n",
              "    }\n",
              "\n",
              "    .dataframe tbody tr th {\n",
              "        vertical-align: top;\n",
              "    }\n",
              "\n",
              "    .dataframe thead th {\n",
              "        text-align: right;\n",
              "    }\n",
              "</style>\n",
              "<table border=\"1\" class=\"dataframe\">\n",
              "  <thead>\n",
              "    <tr style=\"text-align: right;\">\n",
              "      <th></th>\n",
              "      <th>game</th>\n",
              "      <th>customer_full_name</th>\n",
              "      <th>total_price</th>\n",
              "    </tr>\n",
              "  </thead>\n",
              "  <tbody>\n",
              "    <tr>\n",
              "      <th>0</th>\n",
              "      <td>RayMan 4</td>\n",
              "      <td>Arun Gupta</td>\n",
              "      <td>59.99</td>\n",
              "    </tr>\n",
              "  </tbody>\n",
              "</table>\n",
              "</div>"
            ],
            "text/plain": [
              "       game customer_full_name  total_price\n",
              "0  RayMan 4         Arun Gupta        59.99"
            ]
          },
          "execution_count": 92,
          "metadata": {},
          "output_type": "execute_result"
        }
      ],
      "source": [
        "ex_4 =  db.orders.aggregate([\n",
        "   {\n",
        "     '$lookup':\n",
        "       {\n",
        "         'from': ...\n",
        "         'localField': ...\n",
        "         'foreignField': ...\n",
        "         'as': ...\n",
        "       }\n",
        "   },\n",
        "    \n",
        "    {'$unwind': { 'path': ..., 'preserveNullAndEmptyArrays': True}},\n",
        "    \n",
        "    \n",
        "    {'$project': {\"_id\": ...,\n",
        "                 .......},\n",
        "    \n",
        "    {\"$match\" : ...}\n",
        "    \n",
        "    ]) \n",
        "\n",
        "MongoDB_to_DataFrame(ex4) "
      ]
    },
    {
      "cell_type": "markdown",
      "metadata": {
        "deletable": false,
        "editable": false,
        "id": "W9p8LpX5GhAN"
      },
      "source": [
        "## Appendix - Discussion on primary keys"
      ]
    },
    {
      "cell_type": "markdown",
      "metadata": {
        "deletable": false,
        "editable": false,
        "id": "Q_IebZ6bGhAN"
      },
      "source": [
        "- MongoDB is a NoSQL database : there is no concept of tables or no direct support of foreign keys, primary keys or identifying relationships. \n",
        "\n",
        "\n",
        "- Mongodb is not build on ACID properties but CAP theorem: it encourages to put relevant data into a single collection rather than putting into multiple collections and then map those multiple collections using foreign keys. \n",
        "\n",
        "\n",
        "- Remember that each document doesn't have any field (NoSQL equivalent of a SQL attribute/column) strictly required. To uniquely identify each document and be able to access it efficiently in the distributed databases, MongoDB generates a unique id for each document in the collection (the Object ID hashed key). This unique identifier can be modified by the DB designer to be a certain attribute from the collection: this attribute will act like a primary key. "
      ]
    },
    {
      "cell_type": "code",
      "execution_count": null,
      "metadata": {
        "id": "SSJ--1pMGhAN",
        "outputId": "960f925b-2332-46b6-bae5-7a06f0ea8b79"
      },
      "outputs": [
        {
          "data": {
            "text/html": [
              "<div>\n",
              "<style scoped>\n",
              "    .dataframe tbody tr th:only-of-type {\n",
              "        vertical-align: middle;\n",
              "    }\n",
              "\n",
              "    .dataframe tbody tr th {\n",
              "        vertical-align: top;\n",
              "    }\n",
              "\n",
              "    .dataframe thead th {\n",
              "        text-align: right;\n",
              "    }\n",
              "</style>\n",
              "<table border=\"1\" class=\"dataframe\">\n",
              "  <thead>\n",
              "    <tr style=\"text-align: right;\">\n",
              "      <th></th>\n",
              "      <th>_id</th>\n",
              "      <th>game_name</th>\n",
              "      <th>price</th>\n",
              "    </tr>\n",
              "  </thead>\n",
              "  <tbody>\n",
              "    <tr>\n",
              "      <th>0</th>\n",
              "      <td>11</td>\n",
              "      <td>Pokemon Red</td>\n",
              "      <td>29.99</td>\n",
              "    </tr>\n",
              "    <tr>\n",
              "      <th>1</th>\n",
              "      <td>12</td>\n",
              "      <td>Dake Soul Red III</td>\n",
              "      <td>59.99</td>\n",
              "    </tr>\n",
              "    <tr>\n",
              "      <th>2</th>\n",
              "      <td>13</td>\n",
              "      <td>RayMan 4</td>\n",
              "      <td>59.99</td>\n",
              "    </tr>\n",
              "    <tr>\n",
              "      <th>3</th>\n",
              "      <td>14</td>\n",
              "      <td>Super Smash Bros</td>\n",
              "      <td>49.99</td>\n",
              "    </tr>\n",
              "  </tbody>\n",
              "</table>\n",
              "</div>"
            ],
            "text/plain": [
              "   _id          game_name  price\n",
              "0   11        Pokemon Red  29.99\n",
              "1   12  Dake Soul Red III  59.99\n",
              "2   13           RayMan 4  59.99\n",
              "3   14   Super Smash Bros  49.99"
            ]
          },
          "execution_count": 85,
          "metadata": {},
          "output_type": "execute_result"
        }
      ],
      "source": [
        "df_games_V2 = pd.DataFrame(data = {'_id': [11, 12, 13, 14],  #call your primary key _id\n",
        "                                   'game_name': ['Pokemon Red', 'Dake Soul Red III', 'RayMan 4', 'Super Smash Bros'],\n",
        "                                   'price' : [29.99, 59.99, 59.99, 49.99]\n",
        "                                  })\n",
        "df_games_V2.head()"
      ]
    },
    {
      "cell_type": "code",
      "execution_count": null,
      "metadata": {
        "id": "s6PpazGzGhAN",
        "outputId": "bbe33d70-fea8-4efa-dd76-61245aae35f8"
      },
      "outputs": [
        {
          "data": {
            "text/html": [
              "<div>\n",
              "<style scoped>\n",
              "    .dataframe tbody tr th:only-of-type {\n",
              "        vertical-align: middle;\n",
              "    }\n",
              "\n",
              "    .dataframe tbody tr th {\n",
              "        vertical-align: top;\n",
              "    }\n",
              "\n",
              "    .dataframe thead th {\n",
              "        text-align: right;\n",
              "    }\n",
              "</style>\n",
              "<table border=\"1\" class=\"dataframe\">\n",
              "  <thead>\n",
              "    <tr style=\"text-align: right;\">\n",
              "      <th></th>\n",
              "      <th>game_id</th>\n",
              "      <th>game_name</th>\n",
              "      <th>price</th>\n",
              "    </tr>\n",
              "  </thead>\n",
              "  <tbody>\n",
              "    <tr>\n",
              "      <th>0</th>\n",
              "      <td>11</td>\n",
              "      <td>Pokemon Red</td>\n",
              "      <td>29.99</td>\n",
              "    </tr>\n",
              "    <tr>\n",
              "      <th>1</th>\n",
              "      <td>12</td>\n",
              "      <td>Dake Soul Red III</td>\n",
              "      <td>59.99</td>\n",
              "    </tr>\n",
              "    <tr>\n",
              "      <th>2</th>\n",
              "      <td>13</td>\n",
              "      <td>RayMan 4</td>\n",
              "      <td>59.99</td>\n",
              "    </tr>\n",
              "    <tr>\n",
              "      <th>3</th>\n",
              "      <td>14</td>\n",
              "      <td>Super Smash Bros</td>\n",
              "      <td>49.99</td>\n",
              "    </tr>\n",
              "  </tbody>\n",
              "</table>\n",
              "</div>"
            ],
            "text/plain": [
              "   game_id          game_name  price\n",
              "0       11        Pokemon Red  29.99\n",
              "1       12  Dake Soul Red III  59.99\n",
              "2       13           RayMan 4  59.99\n",
              "3       14   Super Smash Bros  49.99"
            ]
          },
          "execution_count": 86,
          "metadata": {},
          "output_type": "execute_result"
        }
      ],
      "source": [
        "df_games"
      ]
    },
    {
      "cell_type": "code",
      "execution_count": null,
      "metadata": {
        "id": "LpmpEKWEGhAO",
        "outputId": "234bf75c-f4d0-47ff-c939-22bf528f0055"
      },
      "outputs": [
        {
          "data": {
            "text/plain": [
              "{'_id': 11, 'game_name': 'Pokemon Red', 'price': 29.99}"
            ]
          },
          "execution_count": 87,
          "metadata": {},
          "output_type": "execute_result"
        }
      ],
      "source": [
        "games_dict_V2 = df_games_V2.to_dict('records')\n",
        "games_V2 = db[\"games_V2\"]\n",
        "games_V2.insert_many(games_dict_V2) \n",
        "db.games_V2.find_one()"
      ]
    },
    {
      "cell_type": "code",
      "execution_count": null,
      "metadata": {
        "id": "DlcI-Yc4GhAO",
        "outputId": "decc8545-4be3-44da-82a9-6f6341a0eeff"
      },
      "outputs": [
        {
          "data": {
            "text/plain": [
              "{'_id': ObjectId('6262e82e6616b35169253973'),\n",
              " 'game_id': 11,\n",
              " 'game_name': 'Pokemon Red',\n",
              " 'price': 29.99}"
            ]
          },
          "execution_count": 88,
          "metadata": {},
          "output_type": "execute_result"
        }
      ],
      "source": [
        "db.games.find_one()"
      ]
    },
    {
      "cell_type": "code",
      "execution_count": null,
      "metadata": {
        "id": "h4Ji794bGhAO",
        "outputId": "12149792-7247-4989-a462-a4d3ef5f6a3e"
      },
      "outputs": [
        {
          "data": {
            "text/html": [
              "<div>\n",
              "<style scoped>\n",
              "    .dataframe tbody tr th:only-of-type {\n",
              "        vertical-align: middle;\n",
              "    }\n",
              "\n",
              "    .dataframe tbody tr th {\n",
              "        vertical-align: top;\n",
              "    }\n",
              "\n",
              "    .dataframe thead th {\n",
              "        text-align: right;\n",
              "    }\n",
              "</style>\n",
              "<table border=\"1\" class=\"dataframe\">\n",
              "  <thead>\n",
              "    <tr style=\"text-align: right;\">\n",
              "      <th></th>\n",
              "      <th>_id</th>\n",
              "      <th>game_name</th>\n",
              "      <th>price</th>\n",
              "    </tr>\n",
              "  </thead>\n",
              "  <tbody>\n",
              "    <tr>\n",
              "      <th>0</th>\n",
              "      <td>11</td>\n",
              "      <td>Pokemon Red</td>\n",
              "      <td>29.99</td>\n",
              "    </tr>\n",
              "    <tr>\n",
              "      <th>1</th>\n",
              "      <td>12</td>\n",
              "      <td>Dake Soul Red III</td>\n",
              "      <td>59.99</td>\n",
              "    </tr>\n",
              "    <tr>\n",
              "      <th>2</th>\n",
              "      <td>13</td>\n",
              "      <td>RayMan 4</td>\n",
              "      <td>59.99</td>\n",
              "    </tr>\n",
              "    <tr>\n",
              "      <th>3</th>\n",
              "      <td>14</td>\n",
              "      <td>Super Smash Bros</td>\n",
              "      <td>49.99</td>\n",
              "    </tr>\n",
              "  </tbody>\n",
              "</table>\n",
              "</div>"
            ],
            "text/plain": [
              "   _id          game_name  price\n",
              "0   11        Pokemon Red  29.99\n",
              "1   12  Dake Soul Red III  59.99\n",
              "2   13           RayMan 4  59.99\n",
              "3   14   Super Smash Bros  49.99"
            ]
          },
          "execution_count": 89,
          "metadata": {},
          "output_type": "execute_result"
        }
      ],
      "source": [
        "query_V2 = db.games_V2.find({},\n",
        "                            {'game_name': 1, 'price': 1}\n",
        "                           ) \n",
        "MongoDB_to_DataFrame(query_V2)"
      ]
    },
    {
      "cell_type": "code",
      "execution_count": null,
      "metadata": {
        "id": "HHw2oaTKGhAO",
        "outputId": "9f442a56-4b44-419d-efa0-2ebb3da8c67f"
      },
      "outputs": [
        {
          "data": {
            "text/html": [
              "<div>\n",
              "<style scoped>\n",
              "    .dataframe tbody tr th:only-of-type {\n",
              "        vertical-align: middle;\n",
              "    }\n",
              "\n",
              "    .dataframe tbody tr th {\n",
              "        vertical-align: top;\n",
              "    }\n",
              "\n",
              "    .dataframe thead th {\n",
              "        text-align: right;\n",
              "    }\n",
              "</style>\n",
              "<table border=\"1\" class=\"dataframe\">\n",
              "  <thead>\n",
              "    <tr style=\"text-align: right;\">\n",
              "      <th></th>\n",
              "      <th>_id</th>\n",
              "      <th>game_name</th>\n",
              "      <th>price</th>\n",
              "    </tr>\n",
              "  </thead>\n",
              "  <tbody>\n",
              "    <tr>\n",
              "      <th>0</th>\n",
              "      <td>6262e82e6616b35169253973</td>\n",
              "      <td>Pokemon Red</td>\n",
              "      <td>29.99</td>\n",
              "    </tr>\n",
              "    <tr>\n",
              "      <th>1</th>\n",
              "      <td>6262e82e6616b35169253974</td>\n",
              "      <td>Dake Soul Red III</td>\n",
              "      <td>59.99</td>\n",
              "    </tr>\n",
              "    <tr>\n",
              "      <th>2</th>\n",
              "      <td>6262e82e6616b35169253975</td>\n",
              "      <td>RayMan 4</td>\n",
              "      <td>59.99</td>\n",
              "    </tr>\n",
              "    <tr>\n",
              "      <th>3</th>\n",
              "      <td>6262e82e6616b35169253976</td>\n",
              "      <td>Super Smash Bros</td>\n",
              "      <td>49.99</td>\n",
              "    </tr>\n",
              "  </tbody>\n",
              "</table>\n",
              "</div>"
            ],
            "text/plain": [
              "                        _id          game_name  price\n",
              "0  6262e82e6616b35169253973        Pokemon Red  29.99\n",
              "1  6262e82e6616b35169253974  Dake Soul Red III  59.99\n",
              "2  6262e82e6616b35169253975           RayMan 4  59.99\n",
              "3  6262e82e6616b35169253976   Super Smash Bros  49.99"
            ]
          },
          "execution_count": 90,
          "metadata": {},
          "output_type": "execute_result"
        }
      ],
      "source": [
        "query_V1 = db.games.find({},\n",
        "                            {'game_name': 1, 'price': 1}\n",
        "                           ) \n",
        "MongoDB_to_DataFrame(query_V1)"
      ]
    },
    {
      "cell_type": "code",
      "execution_count": null,
      "metadata": {
        "id": "Ta7x4XNZGhAO"
      },
      "outputs": [],
      "source": [
        "#db.games_V2.drop()"
      ]
    },
    {
      "cell_type": "markdown",
      "metadata": {
        "deletable": false,
        "editable": false,
        "id": "Suda4TB2GhAO"
      },
      "source": [
        "### Additional resources: \n",
        "\n",
        "[MongoDB documentation on MDB database design rules](https://www.mongodb.com/blog/post/6-rules-of-thumb-for-mongodb-schema-design-part-1) <br>\n",
        "[What is MongoDB _Object id_ and how to use it](https://orangematter.solarwinds.com/2019/12/22/what-is-mongodbs-id-field-and-how-to-use-it/) <br>"
      ]
    },
    {
      "cell_type": "code",
      "execution_count": null,
      "metadata": {
        "id": "t1H_rfjGGhAO"
      },
      "outputs": [],
      "source": [
        ""
      ]
    }
  ],
  "metadata": {
    "celltoolbar": "Éditer les Méta-Données",
    "kernelspec": {
      "display_name": "Python 3",
      "language": "python",
      "name": "python3"
    },
    "language_info": {
      "codemirror_mode": {
        "name": "ipython",
        "version": 3
      },
      "file_extension": ".py",
      "mimetype": "text/x-python",
      "name": "python",
      "nbconvert_exporter": "python",
      "pygments_lexer": "ipython3",
      "version": "3.8.8"
    },
    "colab": {
      "name": "Lab13Final_Exercise (1).ipynb",
      "provenance": []
    }
  },
  "nbformat": 4,
  "nbformat_minor": 0
}