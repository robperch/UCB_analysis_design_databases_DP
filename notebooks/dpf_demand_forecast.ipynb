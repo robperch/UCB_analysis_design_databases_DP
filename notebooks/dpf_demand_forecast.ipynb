{
 "cells": [
  {
   "cell_type": "markdown",
   "id": "82c1d7a8-d74e-45e1-8937-264331e6d38a",
   "metadata": {},
   "source": [
    "# Notebook to work with demand forecasting query\n",
    "---\n",
    "---"
   ]
  },
  {
   "cell_type": "markdown",
   "id": "eeee88a5-4f72-43b0-a979-4108e04247f0",
   "metadata": {},
   "source": [
    "### "
   ]
  },
  {
   "cell_type": "markdown",
   "id": "4154f37d-fde6-4cef-8617-114a3a2d7d8e",
   "metadata": {},
   "source": [
    "# Imports"
   ]
  },
  {
   "cell_type": "markdown",
   "id": "a98dbaa6-17e1-4b79-93f0-d142aedd0037",
   "metadata": {},
   "source": [
    "#### Standard library imports"
   ]
  },
  {
   "cell_type": "code",
   "execution_count": 1,
   "id": "63099808-51cd-453c-976a-f3060b8650aa",
   "metadata": {
    "execution": {
     "iopub.execute_input": "2023-05-04T23:27:07.701711Z",
     "iopub.status.busy": "2023-05-04T23:27:07.701045Z",
     "iopub.status.idle": "2023-05-04T23:27:07.715491Z",
     "shell.execute_reply": "2023-05-04T23:27:07.713710Z",
     "shell.execute_reply.started": "2023-05-04T23:27:07.701617Z"
    }
   },
   "outputs": [],
   "source": [
    "import sys\n",
    "sys.path.append(\"../\")\n",
    "\n",
    "import os"
   ]
  },
  {
   "cell_type": "markdown",
   "id": "b94ec94d-0d78-4ec3-a21c-353ccf52eec6",
   "metadata": {},
   "source": [
    "#### Third party imports"
   ]
  },
  {
   "cell_type": "code",
   "execution_count": 2,
   "id": "9e4989d0-ba3a-41cf-8ccb-44cade842a03",
   "metadata": {
    "execution": {
     "iopub.execute_input": "2023-05-04T23:27:07.717969Z",
     "iopub.status.busy": "2023-05-04T23:27:07.717424Z",
     "iopub.status.idle": "2023-05-04T23:27:08.611501Z",
     "shell.execute_reply": "2023-05-04T23:27:08.610601Z",
     "shell.execute_reply.started": "2023-05-04T23:27:07.717935Z"
    },
    "tags": []
   },
   "outputs": [],
   "source": [
    "import mysql.connector\n",
    "import pandas as pd\n",
    "from statsmodels.graphics.tsaplots import plot_pacf\n",
    "from statsmodels.graphics.tsaplots import plot_acf\n",
    "from statsmodels.tsa.statespace.sarimax import SARIMAX\n",
    "from statsmodels.tsa.holtwinters import ExponentialSmoothing\n",
    "from statsmodels.tsa.stattools import adfuller\n",
    "import matplotlib.pyplot as plt\n",
    "from tqdm import tqdm_notebook\n",
    "import numpy as np\n",
    "import pandas as pd\n",
    "from itertools import product\n",
    "import warnings\n",
    "warnings.filterwarnings('ignore')\n",
    "%matplotlib inline"
   ]
  },
  {
   "cell_type": "markdown",
   "id": "48755fa3-cba0-4508-9df2-18d50f60551b",
   "metadata": {},
   "source": [
    "#### Local application imports"
   ]
  },
  {
   "cell_type": "code",
   "execution_count": 3,
   "id": "a62e34a6-dea0-48d6-a3bc-c5dcdcdb1718",
   "metadata": {
    "execution": {
     "iopub.execute_input": "2023-05-04T23:27:08.614881Z",
     "iopub.status.busy": "2023-05-04T23:27:08.614351Z",
     "iopub.status.idle": "2023-05-04T23:27:09.116630Z",
     "shell.execute_reply": "2023-05-04T23:27:09.115669Z",
     "shell.execute_reply.started": "2023-05-04T23:27:08.614848Z"
    },
    "tags": []
   },
   "outputs": [],
   "source": [
    "%load_ext autoreload\n",
    "%autoreload 2\n",
    "\n",
    "from pkg_dir.config import *\n",
    "from pkg_dir.src.utils import *\n",
    "from pkg_dir.src.functions import *\n",
    "from pkg_dir.src.parameters import *"
   ]
  },
  {
   "cell_type": "markdown",
   "id": "d533fe5d-c902-4259-97ee-672d6f2363c6",
   "metadata": {},
   "source": [
    "### "
   ]
  },
  {
   "cell_type": "markdown",
   "id": "8e431b9f-e7d3-478c-936e-23ce830b8753",
   "metadata": {},
   "source": [
    "# Getting data"
   ]
  },
  {
   "cell_type": "markdown",
   "id": "47ca953c-e0eb-4324-b565-1471c10cebf7",
   "metadata": {},
   "source": [
    "##### Query data from MySQL and turn it into dataframe"
   ]
  },
  {
   "cell_type": "code",
   "execution_count": 14,
   "id": "82f2960d-43da-475e-b475-fa218991d504",
   "metadata": {
    "execution": {
     "iopub.execute_input": "2023-05-04T23:28:37.803200Z",
     "iopub.status.busy": "2023-05-04T23:28:37.802801Z",
     "iopub.status.idle": "2023-05-04T23:28:37.840601Z",
     "shell.execute_reply": "2023-05-04T23:28:37.839532Z",
     "shell.execute_reply.started": "2023-05-04T23:28:37.803170Z"
    },
    "tags": []
   },
   "outputs": [],
   "source": [
    "## Function parameters\n",
    "db_crds = 'mysql_dp'\n",
    "sql_files_path = '../pkg_dir/sql/queries/'\n",
    "sql_script = 'demand_forecast_data.sql'\n",
    "sql_params = sql_params_workhrs"
   ]
  },
  {
   "cell_type": "code",
   "execution_count": 15,
   "id": "2de6c519-f064-4330-b8b3-a97e419c839c",
   "metadata": {
    "execution": {
     "iopub.execute_input": "2023-05-04T23:28:37.843265Z",
     "iopub.status.busy": "2023-05-04T23:28:37.842886Z",
     "iopub.status.idle": "2023-05-04T23:28:37.953136Z",
     "shell.execute_reply": "2023-05-04T23:28:37.951197Z",
     "shell.execute_reply.started": "2023-05-04T23:28:37.843234Z"
    },
    "scrolled": true,
    "tags": []
   },
   "outputs": [
    {
     "name": "stderr",
     "output_type": "stream",
     "text": [
      "/Users/rp_mbp/Documents/educacion/maestria/berkeley_mba_meng/academics/2023_spring/analysis_and_design_databases/UCB_analysis_design_databases_DP/.venv/lib/python3.9/site-packages/pandas/io/sql.py:761: UserWarning: pandas only support SQLAlchemy connectable(engine/connection) ordatabase string URI or sqlite3 DBAPI2 connectionother DBAPI2 objects are not tested, please consider using SQLAlchemy\n",
      "  warnings.warn(\n"
     ]
    }
   ],
   "source": [
    "## Function execution\n",
    "dfx = sql_to_df(db_crds, sql_files_path, sql_script, sql_params)"
   ]
  },
  {
   "cell_type": "markdown",
   "id": "929cf856-42aa-4ae6-8749-59fea4ccba71",
   "metadata": {},
   "source": [
    "##### Formatting some fields"
   ]
  },
  {
   "cell_type": "code",
   "execution_count": 16,
   "id": "9c2ec67b-0f1b-41ac-9038-70d09afeb736",
   "metadata": {
    "execution": {
     "iopub.execute_input": "2023-05-04T23:28:37.955114Z",
     "iopub.status.busy": "2023-05-04T23:28:37.954663Z",
     "iopub.status.idle": "2023-05-04T23:28:38.001943Z",
     "shell.execute_reply": "2023-05-04T23:28:38.000849Z",
     "shell.execute_reply.started": "2023-05-04T23:28:37.955078Z"
    },
    "tags": []
   },
   "outputs": [],
   "source": [
    "dfx['Purchase_Date'] = pd.to_datetime(dfx['Purchase_Date'])"
   ]
  },
  {
   "cell_type": "markdown",
   "id": "89aa7dba-395a-454c-b857-54469c392807",
   "metadata": {},
   "source": [
    "### "
   ]
  },
  {
   "cell_type": "markdown",
   "id": "a21a2f4d-038f-4a7b-ae27-a3790cbf3468",
   "metadata": {},
   "source": [
    "# Exploration"
   ]
  },
  {
   "cell_type": "code",
   "execution_count": 23,
   "id": "7521035c-1959-40ff-a1ed-76c27b27e068",
   "metadata": {
    "execution": {
     "iopub.execute_input": "2023-05-04T23:31:03.062094Z",
     "iopub.status.busy": "2023-05-04T23:31:03.061660Z",
     "iopub.status.idle": "2023-05-04T23:31:03.121465Z",
     "shell.execute_reply": "2023-05-04T23:31:03.120444Z",
     "shell.execute_reply.started": "2023-05-04T23:31:03.062058Z"
    },
    "tags": []
   },
   "outputs": [
    {
     "data": {
      "text/html": [
       "<div>\n",
       "<style scoped>\n",
       "    .dataframe tbody tr th:only-of-type {\n",
       "        vertical-align: middle;\n",
       "    }\n",
       "\n",
       "    .dataframe tbody tr th {\n",
       "        vertical-align: top;\n",
       "    }\n",
       "\n",
       "    .dataframe thead th {\n",
       "        text-align: right;\n",
       "    }\n",
       "</style>\n",
       "<table border=\"1\" class=\"dataframe\">\n",
       "  <thead>\n",
       "    <tr style=\"text-align: right;\">\n",
       "      <th></th>\n",
       "      <th></th>\n",
       "      <th></th>\n",
       "      <th>count</th>\n",
       "      <th>revenue</th>\n",
       "    </tr>\n",
       "    <tr>\n",
       "      <th>Year</th>\n",
       "      <th>Month</th>\n",
       "      <th>Category</th>\n",
       "      <th></th>\n",
       "      <th></th>\n",
       "    </tr>\n",
       "  </thead>\n",
       "  <tbody>\n",
       "    <tr>\n",
       "      <th rowspan=\"5\" valign=\"top\">2022</th>\n",
       "      <th>4</th>\n",
       "      <th>dress</th>\n",
       "      <td>8</td>\n",
       "      <td>140</td>\n",
       "    </tr>\n",
       "    <tr>\n",
       "      <th>5</th>\n",
       "      <th>dress</th>\n",
       "      <td>7</td>\n",
       "      <td>75</td>\n",
       "    </tr>\n",
       "    <tr>\n",
       "      <th>9</th>\n",
       "      <th>coat</th>\n",
       "      <td>7</td>\n",
       "      <td>180</td>\n",
       "    </tr>\n",
       "    <tr>\n",
       "      <th>10</th>\n",
       "      <th>coat</th>\n",
       "      <td>4</td>\n",
       "      <td>130</td>\n",
       "    </tr>\n",
       "    <tr>\n",
       "      <th>12</th>\n",
       "      <th>coat</th>\n",
       "      <td>2</td>\n",
       "      <td>40</td>\n",
       "    </tr>\n",
       "    <tr>\n",
       "      <th rowspan=\"2\" valign=\"top\">2023</th>\n",
       "      <th>3</th>\n",
       "      <th>dress</th>\n",
       "      <td>6</td>\n",
       "      <td>45</td>\n",
       "    </tr>\n",
       "    <tr>\n",
       "      <th>4</th>\n",
       "      <th>dress</th>\n",
       "      <td>6</td>\n",
       "      <td>10</td>\n",
       "    </tr>\n",
       "  </tbody>\n",
       "</table>\n",
       "</div>"
      ],
      "text/plain": [
       "                     count  revenue\n",
       "Year Month Category                \n",
       "2022 4     dress         8      140\n",
       "     5     dress         7       75\n",
       "     9     coat          7      180\n",
       "     10    coat          4      130\n",
       "     12    coat          2       40\n",
       "2023 3     dress         6       45\n",
       "     4     dress         6       10"
      ]
     },
     "execution_count": 23,
     "metadata": {},
     "output_type": "execute_result"
    }
   ],
   "source": [
    "## Monthly sales per category\n",
    "dfx.groupby(\n",
    "    [\n",
    "        dfx['Purchase_Date'].rename('Year').dt.year,\n",
    "        dfx['Purchase_Date'].rename('Month').dt.month,\n",
    "        'Category'\n",
    "    ]\n",
    ").agg(\n",
    "    count=('Prod_ID', 'sum'),\n",
    "    revenue=('List_Price', 'sum'),\n",
    ")"
   ]
  },
  {
   "cell_type": "markdown",
   "id": "2897522d-6929-44fc-8d7c-e2d99cc0ad5d",
   "metadata": {},
   "source": [
    "### "
   ]
  },
  {
   "cell_type": "markdown",
   "id": "ab456000-1bfd-44c7-a4ce-1c68f519ad61",
   "metadata": {},
   "source": [
    "# SARIMA model"
   ]
  },
  {
   "cell_type": "code",
   "execution_count": null,
   "id": "25c40ee9-d3de-4e6b-bb26-d9189b6e31c0",
   "metadata": {},
   "outputs": [],
   "source": []
  },
  {
   "cell_type": "code",
   "execution_count": null,
   "id": "a0bb7be2-1fc7-4ebb-b4c6-dbc75dc900cc",
   "metadata": {},
   "outputs": [],
   "source": []
  },
  {
   "cell_type": "markdown",
   "id": "0a5e770f-7808-40b4-86f3-4dbda35daff1",
   "metadata": {},
   "source": [
    "### "
   ]
  },
  {
   "cell_type": "markdown",
   "id": "40327f6f-9314-4fe3-89af-f3673fb99e24",
   "metadata": {},
   "source": [
    "# Header"
   ]
  },
  {
   "cell_type": "markdown",
   "id": "69a8e22e-eed6-4eac-a5b2-6ce6174d08a8",
   "metadata": {},
   "source": [
    "### "
   ]
  },
  {
   "cell_type": "markdown",
   "id": "784be4db-1c06-43e0-a4da-86b1bbcde318",
   "metadata": {},
   "source": [
    "# *Notes*"
   ]
  },
  {
   "cell_type": "markdown",
   "id": "e370b01d-1dc8-40c0-bfed-d7f7ccdb2406",
   "metadata": {},
   "source": [
    "##### References\n",
    "- https://towardsdatascience.com/time-series-forecasting-with-sarima-in-python-cda5b793977b"
   ]
  },
  {
   "cell_type": "markdown",
   "id": "b34c662c-f724-412f-86d7-75647d9b5448",
   "metadata": {},
   "source": [
    "---"
   ]
  },
  {
   "cell_type": "markdown",
   "id": "168089c7-257b-4b61-9a65-803e32753196",
   "metadata": {},
   "source": [
    "---"
   ]
  }
 ],
 "metadata": {
  "kernelspec": {
   "display_name": "Python 3 (ipykernel)",
   "language": "python",
   "name": "python3"
  },
  "language_info": {
   "codemirror_mode": {
    "name": "ipython",
    "version": 3
   },
   "file_extension": ".py",
   "mimetype": "text/x-python",
   "name": "python",
   "nbconvert_exporter": "python",
   "pygments_lexer": "ipython3",
   "version": "3.9.1"
  },
  "toc-autonumbering": true
 },
 "nbformat": 4,
 "nbformat_minor": 5
}
