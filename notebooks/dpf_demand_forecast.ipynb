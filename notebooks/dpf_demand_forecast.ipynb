{
 "cells": [
  {
   "cell_type": "markdown",
   "id": "82c1d7a8-d74e-45e1-8937-264331e6d38a",
   "metadata": {},
   "source": [
    "# Notebook to work with demand forecasting query\n",
    "- "
   ]
  },
  {
   "cell_type": "markdown",
   "id": "eeee88a5-4f72-43b0-a979-4108e04247f0",
   "metadata": {},
   "source": [
    "### "
   ]
  },
  {
   "cell_type": "markdown",
   "id": "4154f37d-fde6-4cef-8617-114a3a2d7d8e",
   "metadata": {},
   "source": [
    "# Imports"
   ]
  },
  {
   "cell_type": "markdown",
   "id": "a98dbaa6-17e1-4b79-93f0-d142aedd0037",
   "metadata": {},
   "source": [
    "#### Standard library imports"
   ]
  },
  {
   "cell_type": "code",
   "execution_count": 1,
   "id": "63099808-51cd-453c-976a-f3060b8650aa",
   "metadata": {
    "execution": {
     "iopub.execute_input": "2023-05-04T22:42:44.002134Z",
     "iopub.status.busy": "2023-05-04T22:42:44.001693Z",
     "iopub.status.idle": "2023-05-04T22:42:44.012725Z",
     "shell.execute_reply": "2023-05-04T22:42:44.011407Z",
     "shell.execute_reply.started": "2023-05-04T22:42:44.002057Z"
    }
   },
   "outputs": [],
   "source": [
    "import sys\n",
    "sys.path.append(\"../\")\n",
    "\n",
    "import os"
   ]
  },
  {
   "cell_type": "markdown",
   "id": "b94ec94d-0d78-4ec3-a21c-353ccf52eec6",
   "metadata": {},
   "source": [
    "#### Third party imports"
   ]
  },
  {
   "cell_type": "code",
   "execution_count": 2,
   "id": "9e4989d0-ba3a-41cf-8ccb-44cade842a03",
   "metadata": {
    "execution": {
     "iopub.execute_input": "2023-05-04T22:42:44.015558Z",
     "iopub.status.busy": "2023-05-04T22:42:44.015200Z",
     "iopub.status.idle": "2023-05-04T22:42:44.197337Z",
     "shell.execute_reply": "2023-05-04T22:42:44.196284Z",
     "shell.execute_reply.started": "2023-05-04T22:42:44.015528Z"
    }
   },
   "outputs": [],
   "source": [
    "import mysql.connector"
   ]
  },
  {
   "cell_type": "markdown",
   "id": "48755fa3-cba0-4508-9df2-18d50f60551b",
   "metadata": {},
   "source": [
    "#### Local application imports"
   ]
  },
  {
   "cell_type": "code",
   "execution_count": 6,
   "id": "a62e34a6-dea0-48d6-a3bc-c5dcdcdb1718",
   "metadata": {
    "execution": {
     "iopub.execute_input": "2023-05-04T22:43:04.854086Z",
     "iopub.status.busy": "2023-05-04T22:43:04.853669Z",
     "iopub.status.idle": "2023-05-04T22:43:04.902057Z",
     "shell.execute_reply": "2023-05-04T22:43:04.900359Z",
     "shell.execute_reply.started": "2023-05-04T22:43:04.854051Z"
    },
    "tags": []
   },
   "outputs": [
    {
     "name": "stdout",
     "output_type": "stream",
     "text": [
      "The autoreload extension is already loaded. To reload it, use:\n",
      "  %reload_ext autoreload\n"
     ]
    }
   ],
   "source": [
    "%load_ext autoreload\n",
    "%autoreload 2\n",
    "\n",
    "from pkg_dir.config import *\n",
    "from pkg_dir.src.utils import *\n",
    "from pkg_dir.src.functions import *\n",
    "from pkg_dir.src.parameters import *"
   ]
  },
  {
   "cell_type": "markdown",
   "id": "d533fe5d-c902-4259-97ee-672d6f2363c6",
   "metadata": {},
   "source": [
    "### "
   ]
  },
  {
   "cell_type": "markdown",
   "id": "8e431b9f-e7d3-478c-936e-23ce830b8753",
   "metadata": {},
   "source": [
    "# Getting the data"
   ]
  },
  {
   "cell_type": "markdown",
   "id": "47ca953c-e0eb-4324-b565-1471c10cebf7",
   "metadata": {},
   "source": [
    "##### Converting the mysql tables into dataframes"
   ]
  },
  {
   "cell_type": "code",
   "execution_count": 7,
   "id": "8c902027-62eb-4744-acad-96733d482f73",
   "metadata": {
    "execution": {
     "iopub.execute_input": "2023-05-04T22:43:05.905529Z",
     "iopub.status.busy": "2023-05-04T22:43:05.905147Z",
     "iopub.status.idle": "2023-05-04T22:43:06.004342Z",
     "shell.execute_reply": "2023-05-04T22:43:06.003394Z",
     "shell.execute_reply.started": "2023-05-04T22:43:05.905500Z"
    },
    "tags": []
   },
   "outputs": [
    {
     "data": {
      "text/html": [
       "<div>\n",
       "<style scoped>\n",
       "    .dataframe tbody tr th:only-of-type {\n",
       "        vertical-align: middle;\n",
       "    }\n",
       "\n",
       "    .dataframe tbody tr th {\n",
       "        vertical-align: top;\n",
       "    }\n",
       "\n",
       "    .dataframe thead th {\n",
       "        text-align: right;\n",
       "    }\n",
       "</style>\n",
       "<table border=\"1\" class=\"dataframe\">\n",
       "  <thead>\n",
       "    <tr style=\"text-align: right;\">\n",
       "      <th></th>\n",
       "      <th>Inv_ID</th>\n",
       "      <th>Prod_ID</th>\n",
       "      <th>Item_condition</th>\n",
       "      <th>Size</th>\n",
       "      <th>Color</th>\n",
       "      <th>List_Price</th>\n",
       "      <th>Signed_Date</th>\n",
       "      <th>Purchase_ID</th>\n",
       "      <th>Boutique</th>\n",
       "      <th>Appraiser_ID</th>\n",
       "      <th>Consignor_ID</th>\n",
       "      <th>Commission_Rate</th>\n",
       "      <th>Discount</th>\n",
       "    </tr>\n",
       "  </thead>\n",
       "  <tbody>\n",
       "    <tr>\n",
       "      <th>0</th>\n",
       "      <td>1</td>\n",
       "      <td>1</td>\n",
       "      <td>Good</td>\n",
       "      <td>M</td>\n",
       "      <td>Navy Blue</td>\n",
       "      <td>80</td>\n",
       "      <td>2023-03-25</td>\n",
       "      <td>3.0</td>\n",
       "      <td>1</td>\n",
       "      <td>1</td>\n",
       "      <td>1</td>\n",
       "      <td>0.8</td>\n",
       "      <td>NaN</td>\n",
       "    </tr>\n",
       "    <tr>\n",
       "      <th>1</th>\n",
       "      <td>2</td>\n",
       "      <td>1</td>\n",
       "      <td>Fair</td>\n",
       "      <td>L</td>\n",
       "      <td>Navy Blue</td>\n",
       "      <td>50</td>\n",
       "      <td>2023-04-26</td>\n",
       "      <td>NaN</td>\n",
       "      <td>2</td>\n",
       "      <td>3</td>\n",
       "      <td>2</td>\n",
       "      <td>0.5</td>\n",
       "      <td>NaN</td>\n",
       "    </tr>\n",
       "    <tr>\n",
       "      <th>2</th>\n",
       "      <td>3</td>\n",
       "      <td>1</td>\n",
       "      <td>Excellent</td>\n",
       "      <td>S</td>\n",
       "      <td>Pink</td>\n",
       "      <td>100</td>\n",
       "      <td>2023-02-23</td>\n",
       "      <td>4.0</td>\n",
       "      <td>3</td>\n",
       "      <td>8</td>\n",
       "      <td>3</td>\n",
       "      <td>0.8</td>\n",
       "      <td>NaN</td>\n",
       "    </tr>\n",
       "    <tr>\n",
       "      <th>3</th>\n",
       "      <td>4</td>\n",
       "      <td>2</td>\n",
       "      <td>Excellent</td>\n",
       "      <td>S</td>\n",
       "      <td>Green</td>\n",
       "      <td>90</td>\n",
       "      <td>2022-05-25</td>\n",
       "      <td>NaN</td>\n",
       "      <td>3</td>\n",
       "      <td>8</td>\n",
       "      <td>4</td>\n",
       "      <td>0.8</td>\n",
       "      <td>NaN</td>\n",
       "    </tr>\n",
       "    <tr>\n",
       "      <th>4</th>\n",
       "      <td>5</td>\n",
       "      <td>2</td>\n",
       "      <td>Fair</td>\n",
       "      <td>XL</td>\n",
       "      <td>Green</td>\n",
       "      <td>40</td>\n",
       "      <td>2022-01-12</td>\n",
       "      <td>5.0</td>\n",
       "      <td>2</td>\n",
       "      <td>4</td>\n",
       "      <td>5</td>\n",
       "      <td>0.6</td>\n",
       "      <td>NaN</td>\n",
       "    </tr>\n",
       "    <tr>\n",
       "      <th>5</th>\n",
       "      <td>6</td>\n",
       "      <td>2</td>\n",
       "      <td>Very Good</td>\n",
       "      <td>M</td>\n",
       "      <td>Black</td>\n",
       "      <td>60</td>\n",
       "      <td>2022-06-13</td>\n",
       "      <td>6.0</td>\n",
       "      <td>2</td>\n",
       "      <td>4</td>\n",
       "      <td>6</td>\n",
       "      <td>0.8</td>\n",
       "      <td>NaN</td>\n",
       "    </tr>\n",
       "    <tr>\n",
       "      <th>6</th>\n",
       "      <td>7</td>\n",
       "      <td>3</td>\n",
       "      <td>Fair</td>\n",
       "      <td>L</td>\n",
       "      <td>Black</td>\n",
       "      <td>35</td>\n",
       "      <td>2022-07-18</td>\n",
       "      <td>NaN</td>\n",
       "      <td>2</td>\n",
       "      <td>5</td>\n",
       "      <td>7</td>\n",
       "      <td>0.7</td>\n",
       "      <td>NaN</td>\n",
       "    </tr>\n",
       "    <tr>\n",
       "      <th>7</th>\n",
       "      <td>8</td>\n",
       "      <td>3</td>\n",
       "      <td>Fair</td>\n",
       "      <td>S</td>\n",
       "      <td>White</td>\n",
       "      <td>30</td>\n",
       "      <td>2022-05-07</td>\n",
       "      <td>7.0</td>\n",
       "      <td>2</td>\n",
       "      <td>5</td>\n",
       "      <td>8</td>\n",
       "      <td>0.5</td>\n",
       "      <td>NaN</td>\n",
       "    </tr>\n",
       "    <tr>\n",
       "      <th>8</th>\n",
       "      <td>9</td>\n",
       "      <td>3</td>\n",
       "      <td>Fair</td>\n",
       "      <td>XS</td>\n",
       "      <td>White</td>\n",
       "      <td>20</td>\n",
       "      <td>2023-03-02</td>\n",
       "      <td>NaN</td>\n",
       "      <td>1</td>\n",
       "      <td>1</td>\n",
       "      <td>9</td>\n",
       "      <td>0.5</td>\n",
       "      <td>0.5</td>\n",
       "    </tr>\n",
       "    <tr>\n",
       "      <th>9</th>\n",
       "      <td>10</td>\n",
       "      <td>4</td>\n",
       "      <td>Fair</td>\n",
       "      <td>L</td>\n",
       "      <td>White</td>\n",
       "      <td>40</td>\n",
       "      <td>2023-02-04</td>\n",
       "      <td>8.0</td>\n",
       "      <td>1</td>\n",
       "      <td>1</td>\n",
       "      <td>10</td>\n",
       "      <td>0.6</td>\n",
       "      <td>0.5</td>\n",
       "    </tr>\n",
       "  </tbody>\n",
       "</table>\n",
       "</div>"
      ],
      "text/plain": [
       "   Inv_ID  Prod_ID Item_condition Size      Color  List_Price Signed_Date  \\\n",
       "0       1        1           Good    M  Navy Blue          80  2023-03-25   \n",
       "1       2        1           Fair    L  Navy Blue          50  2023-04-26   \n",
       "2       3        1      Excellent    S       Pink         100  2023-02-23   \n",
       "3       4        2      Excellent    S      Green          90  2022-05-25   \n",
       "4       5        2           Fair   XL      Green          40  2022-01-12   \n",
       "5       6        2      Very Good    M      Black          60  2022-06-13   \n",
       "6       7        3           Fair    L      Black          35  2022-07-18   \n",
       "7       8        3           Fair    S      White          30  2022-05-07   \n",
       "8       9        3           Fair   XS      White          20  2023-03-02   \n",
       "9      10        4           Fair    L      White          40  2023-02-04   \n",
       "\n",
       "   Purchase_ID  Boutique  Appraiser_ID  Consignor_ID  Commission_Rate  \\\n",
       "0          3.0         1             1             1              0.8   \n",
       "1          NaN         2             3             2              0.5   \n",
       "2          4.0         3             8             3              0.8   \n",
       "3          NaN         3             8             4              0.8   \n",
       "4          5.0         2             4             5              0.6   \n",
       "5          6.0         2             4             6              0.8   \n",
       "6          NaN         2             5             7              0.7   \n",
       "7          7.0         2             5             8              0.5   \n",
       "8          NaN         1             1             9              0.5   \n",
       "9          8.0         1             1            10              0.6   \n",
       "\n",
       "   Discount  \n",
       "0       NaN  \n",
       "1       NaN  \n",
       "2       NaN  \n",
       "3       NaN  \n",
       "4       NaN  \n",
       "5       NaN  \n",
       "6       NaN  \n",
       "7       NaN  \n",
       "8       0.5  \n",
       "9       0.5  "
      ]
     },
     "execution_count": 7,
     "metadata": {},
     "output_type": "execute_result"
    }
   ],
   "source": [
    "## Function parameters\n",
    "db_crds = 'mysql_dp'\n",
    "sql_files_path = '../pkg_dir/sql/queries/'\n",
    "sql_script = 'demand_forecast_data.sql'\n",
    "sql_params = sql_params_workhrs\n",
    "\n",
    "## Function execution\n",
    "sql_to_df(db_crds, sql_files_path, sql_script, sql_params)"
   ]
  },
  {
   "cell_type": "code",
   "execution_count": null,
   "id": "75cd6639-8a65-4bf7-86f3-7628423c1717",
   "metadata": {},
   "outputs": [],
   "source": []
  },
  {
   "cell_type": "code",
   "execution_count": null,
   "id": "37413b37-8325-4208-a32f-6c1be2ae4e66",
   "metadata": {},
   "outputs": [],
   "source": []
  },
  {
   "cell_type": "markdown",
   "id": "1b769580-38dd-4914-beeb-9643584d0a4c",
   "metadata": {},
   "source": [
    "### "
   ]
  },
  {
   "cell_type": "markdown",
   "id": "434a2e99-324f-41d2-8c5e-0bd5388e320c",
   "metadata": {},
   "source": [
    "# Header"
   ]
  },
  {
   "cell_type": "markdown",
   "id": "2897522d-6929-44fc-8d7c-e2d99cc0ad5d",
   "metadata": {},
   "source": [
    "### "
   ]
  },
  {
   "cell_type": "markdown",
   "id": "784be4db-1c06-43e0-a4da-86b1bbcde318",
   "metadata": {},
   "source": [
    "# *Notes*"
   ]
  },
  {
   "cell_type": "markdown",
   "id": "b34c662c-f724-412f-86d7-75647d9b5448",
   "metadata": {},
   "source": [
    "---"
   ]
  },
  {
   "cell_type": "markdown",
   "id": "168089c7-257b-4b61-9a65-803e32753196",
   "metadata": {},
   "source": [
    "---"
   ]
  }
 ],
 "metadata": {
  "kernelspec": {
   "display_name": "Python 3 (ipykernel)",
   "language": "python",
   "name": "python3"
  },
  "language_info": {
   "codemirror_mode": {
    "name": "ipython",
    "version": 3
   },
   "file_extension": ".py",
   "mimetype": "text/x-python",
   "name": "python",
   "nbconvert_exporter": "python",
   "pygments_lexer": "ipython3",
   "version": "3.9.1"
  },
  "toc-autonumbering": true
 },
 "nbformat": 4,
 "nbformat_minor": 5
}
