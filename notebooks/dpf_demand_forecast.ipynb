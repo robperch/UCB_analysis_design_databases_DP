{
 "cells": [
  {
   "cell_type": "markdown",
   "id": "82c1d7a8-d74e-45e1-8937-264331e6d38a",
   "metadata": {},
   "source": [
    "# Notebook to work with demand forecasting query\n",
    "---\n",
    "---"
   ]
  },
  {
   "cell_type": "markdown",
   "id": "eeee88a5-4f72-43b0-a979-4108e04247f0",
   "metadata": {},
   "source": [
    "### "
   ]
  },
  {
   "cell_type": "markdown",
   "id": "4154f37d-fde6-4cef-8617-114a3a2d7d8e",
   "metadata": {},
   "source": [
    "# Imports"
   ]
  },
  {
   "cell_type": "markdown",
   "id": "a98dbaa6-17e1-4b79-93f0-d142aedd0037",
   "metadata": {},
   "source": [
    "#### Standard library imports"
   ]
  },
  {
   "cell_type": "code",
   "execution_count": 1,
   "id": "63099808-51cd-453c-976a-f3060b8650aa",
   "metadata": {
    "execution": {
     "iopub.execute_input": "2023-05-04T23:27:07.701711Z",
     "iopub.status.busy": "2023-05-04T23:27:07.701045Z",
     "iopub.status.idle": "2023-05-04T23:27:07.715491Z",
     "shell.execute_reply": "2023-05-04T23:27:07.713710Z",
     "shell.execute_reply.started": "2023-05-04T23:27:07.701617Z"
    }
   },
   "outputs": [],
   "source": [
    "import sys\n",
    "sys.path.append(\"../\")\n",
    "\n",
    "import os"
   ]
  },
  {
   "cell_type": "markdown",
   "id": "b94ec94d-0d78-4ec3-a21c-353ccf52eec6",
   "metadata": {},
   "source": [
    "#### Third party imports"
   ]
  },
  {
   "cell_type": "code",
   "execution_count": 25,
   "id": "9e4989d0-ba3a-41cf-8ccb-44cade842a03",
   "metadata": {
    "execution": {
     "iopub.execute_input": "2023-05-04T23:55:08.269328Z",
     "iopub.status.busy": "2023-05-04T23:55:08.268854Z",
     "iopub.status.idle": "2023-05-04T23:55:15.065321Z",
     "shell.execute_reply": "2023-05-04T23:55:15.064346Z",
     "shell.execute_reply.started": "2023-05-04T23:55:08.269291Z"
    },
    "tags": []
   },
   "outputs": [],
   "source": [
    "import mysql.connector\n",
    "import pandas as pd\n",
    "from statsmodels.graphics.tsaplots import plot_pacf\n",
    "from statsmodels.graphics.tsaplots import plot_acf\n",
    "from statsmodels.tsa.statespace.sarimax import SARIMAX\n",
    "from statsmodels.tsa.holtwinters import ExponentialSmoothing\n",
    "from statsmodels.tsa.stattools import adfuller\n",
    "import matplotlib.pyplot as plt\n",
    "from tqdm import tqdm_notebook\n",
    "import numpy as np\n",
    "import pandas as pd\n",
    "from itertools import product\n",
    "import warnings\n",
    "warnings.filterwarnings('ignore')\n",
    "%matplotlib inline"
   ]
  },
  {
   "cell_type": "markdown",
   "id": "48755fa3-cba0-4508-9df2-18d50f60551b",
   "metadata": {},
   "source": [
    "#### Local application imports"
   ]
  },
  {
   "cell_type": "code",
   "execution_count": 3,
   "id": "a62e34a6-dea0-48d6-a3bc-c5dcdcdb1718",
   "metadata": {
    "execution": {
     "iopub.execute_input": "2023-05-04T23:27:08.614881Z",
     "iopub.status.busy": "2023-05-04T23:27:08.614351Z",
     "iopub.status.idle": "2023-05-04T23:27:09.116630Z",
     "shell.execute_reply": "2023-05-04T23:27:09.115669Z",
     "shell.execute_reply.started": "2023-05-04T23:27:08.614848Z"
    },
    "tags": []
   },
   "outputs": [],
   "source": [
    "%load_ext autoreload\n",
    "%autoreload 2\n",
    "\n",
    "from pkg_dir.config import *\n",
    "from pkg_dir.src.utils import *\n",
    "from pkg_dir.src.functions import *\n",
    "from pkg_dir.src.parameters import *"
   ]
  },
  {
   "cell_type": "markdown",
   "id": "d533fe5d-c902-4259-97ee-672d6f2363c6",
   "metadata": {},
   "source": [
    "### "
   ]
  },
  {
   "cell_type": "markdown",
   "id": "8e431b9f-e7d3-478c-936e-23ce830b8753",
   "metadata": {},
   "source": [
    "# Getting data"
   ]
  },
  {
   "cell_type": "markdown",
   "id": "47ca953c-e0eb-4324-b565-1471c10cebf7",
   "metadata": {},
   "source": [
    "##### Query data from MySQL and turn it into dataframe"
   ]
  },
  {
   "cell_type": "code",
   "execution_count": 14,
   "id": "82f2960d-43da-475e-b475-fa218991d504",
   "metadata": {
    "execution": {
     "iopub.execute_input": "2023-05-04T23:28:37.803200Z",
     "iopub.status.busy": "2023-05-04T23:28:37.802801Z",
     "iopub.status.idle": "2023-05-04T23:28:37.840601Z",
     "shell.execute_reply": "2023-05-04T23:28:37.839532Z",
     "shell.execute_reply.started": "2023-05-04T23:28:37.803170Z"
    },
    "tags": []
   },
   "outputs": [],
   "source": [
    "## Function parameters\n",
    "db_crds = 'mysql_dp'\n",
    "sql_files_path = '../pkg_dir/sql/queries/'\n",
    "sql_script = 'demand_forecast_data.sql'\n",
    "sql_params = sql_params_workhrs"
   ]
  },
  {
   "cell_type": "code",
   "execution_count": 15,
   "id": "2de6c519-f064-4330-b8b3-a97e419c839c",
   "metadata": {
    "execution": {
     "iopub.execute_input": "2023-05-04T23:28:37.843265Z",
     "iopub.status.busy": "2023-05-04T23:28:37.842886Z",
     "iopub.status.idle": "2023-05-04T23:28:37.953136Z",
     "shell.execute_reply": "2023-05-04T23:28:37.951197Z",
     "shell.execute_reply.started": "2023-05-04T23:28:37.843234Z"
    },
    "scrolled": true,
    "tags": []
   },
   "outputs": [
    {
     "name": "stderr",
     "output_type": "stream",
     "text": [
      "/Users/rp_mbp/Documents/educacion/maestria/berkeley_mba_meng/academics/2023_spring/analysis_and_design_databases/UCB_analysis_design_databases_DP/.venv/lib/python3.9/site-packages/pandas/io/sql.py:761: UserWarning: pandas only support SQLAlchemy connectable(engine/connection) ordatabase string URI or sqlite3 DBAPI2 connectionother DBAPI2 objects are not tested, please consider using SQLAlchemy\n",
      "  warnings.warn(\n"
     ]
    }
   ],
   "source": [
    "## Function execution\n",
    "dfx = sql_to_df(db_crds, sql_files_path, sql_script, sql_params)"
   ]
  },
  {
   "cell_type": "markdown",
   "id": "929cf856-42aa-4ae6-8749-59fea4ccba71",
   "metadata": {},
   "source": [
    "##### Formatting some fields"
   ]
  },
  {
   "cell_type": "code",
   "execution_count": 16,
   "id": "9c2ec67b-0f1b-41ac-9038-70d09afeb736",
   "metadata": {
    "execution": {
     "iopub.execute_input": "2023-05-04T23:28:37.955114Z",
     "iopub.status.busy": "2023-05-04T23:28:37.954663Z",
     "iopub.status.idle": "2023-05-04T23:28:38.001943Z",
     "shell.execute_reply": "2023-05-04T23:28:38.000849Z",
     "shell.execute_reply.started": "2023-05-04T23:28:37.955078Z"
    },
    "tags": []
   },
   "outputs": [],
   "source": [
    "dfx['Purchase_Date'] = pd.to_datetime(dfx['Purchase_Date'])"
   ]
  },
  {
   "cell_type": "markdown",
   "id": "89aa7dba-395a-454c-b857-54469c392807",
   "metadata": {},
   "source": [
    "### "
   ]
  },
  {
   "cell_type": "markdown",
   "id": "a21a2f4d-038f-4a7b-ae27-a3790cbf3468",
   "metadata": {},
   "source": [
    "# Exploration"
   ]
  },
  {
   "cell_type": "markdown",
   "id": "015a8b9f-e381-4f56-9147-bb2504ad6744",
   "metadata": {},
   "source": [
    "##### Generate grouped dataframe"
   ]
  },
  {
   "cell_type": "code",
   "execution_count": 79,
   "id": "bf98ee23-aa47-414c-a7ad-c25abdd444d9",
   "metadata": {
    "execution": {
     "iopub.execute_input": "2023-05-05T00:11:16.441597Z",
     "iopub.status.busy": "2023-05-05T00:11:16.441117Z",
     "iopub.status.idle": "2023-05-05T00:11:16.506304Z",
     "shell.execute_reply": "2023-05-05T00:11:16.505040Z",
     "shell.execute_reply.started": "2023-05-05T00:11:16.441557Z"
    },
    "tags": []
   },
   "outputs": [],
   "source": [
    "## Monthly sales per category\n",
    "dfp = dfx.groupby(\n",
    "    [\n",
    "        dfx['Purchase_Date'].rename('Year').dt.year,\n",
    "        dfx['Purchase_Date'].rename('Month').dt.month,\n",
    "        'Category'\n",
    "    ],\n",
    ").agg(\n",
    "    count=('Prod_ID', 'sum'),\n",
    "    revenue=('List_Price', 'sum'),\n",
    ")\n",
    "\n",
    "## Resetting index\n",
    "dfp.reset_index(inplace=True)\n",
    "\n",
    "## Creating date column with same day\n",
    "dfp['Date'] = pd.to_datetime(dfp['Year'].astype('str') + '-' + dfp['Month'].astype('str'))\n",
    "dfp.drop(['Year', 'Month'], axis=1, inplace=True)"
   ]
  },
  {
   "cell_type": "code",
   "execution_count": 80,
   "id": "defe5377-b546-4c85-be5b-9ea28d5b910d",
   "metadata": {
    "execution": {
     "iopub.execute_input": "2023-05-05T00:11:16.987103Z",
     "iopub.status.busy": "2023-05-05T00:11:16.986613Z",
     "iopub.status.idle": "2023-05-05T00:11:17.081272Z",
     "shell.execute_reply": "2023-05-05T00:11:17.079936Z",
     "shell.execute_reply.started": "2023-05-05T00:11:16.987066Z"
    },
    "tags": []
   },
   "outputs": [
    {
     "data": {
      "text/html": [
       "<div>\n",
       "<style scoped>\n",
       "    .dataframe tbody tr th:only-of-type {\n",
       "        vertical-align: middle;\n",
       "    }\n",
       "\n",
       "    .dataframe tbody tr th {\n",
       "        vertical-align: top;\n",
       "    }\n",
       "\n",
       "    .dataframe thead th {\n",
       "        text-align: right;\n",
       "    }\n",
       "</style>\n",
       "<table border=\"1\" class=\"dataframe\">\n",
       "  <thead>\n",
       "    <tr style=\"text-align: right;\">\n",
       "      <th></th>\n",
       "      <th>Category</th>\n",
       "      <th>count</th>\n",
       "      <th>revenue</th>\n",
       "      <th>Date</th>\n",
       "    </tr>\n",
       "  </thead>\n",
       "  <tbody>\n",
       "    <tr>\n",
       "      <th>0</th>\n",
       "      <td>dress</td>\n",
       "      <td>8</td>\n",
       "      <td>140</td>\n",
       "      <td>2022-04-01</td>\n",
       "    </tr>\n",
       "    <tr>\n",
       "      <th>1</th>\n",
       "      <td>dress</td>\n",
       "      <td>7</td>\n",
       "      <td>75</td>\n",
       "      <td>2022-05-01</td>\n",
       "    </tr>\n",
       "    <tr>\n",
       "      <th>2</th>\n",
       "      <td>coat</td>\n",
       "      <td>7</td>\n",
       "      <td>180</td>\n",
       "      <td>2022-09-01</td>\n",
       "    </tr>\n",
       "    <tr>\n",
       "      <th>3</th>\n",
       "      <td>coat</td>\n",
       "      <td>4</td>\n",
       "      <td>130</td>\n",
       "      <td>2022-10-01</td>\n",
       "    </tr>\n",
       "    <tr>\n",
       "      <th>4</th>\n",
       "      <td>coat</td>\n",
       "      <td>2</td>\n",
       "      <td>40</td>\n",
       "      <td>2022-12-01</td>\n",
       "    </tr>\n",
       "    <tr>\n",
       "      <th>5</th>\n",
       "      <td>dress</td>\n",
       "      <td>6</td>\n",
       "      <td>45</td>\n",
       "      <td>2023-03-01</td>\n",
       "    </tr>\n",
       "    <tr>\n",
       "      <th>6</th>\n",
       "      <td>dress</td>\n",
       "      <td>6</td>\n",
       "      <td>10</td>\n",
       "      <td>2023-04-01</td>\n",
       "    </tr>\n",
       "  </tbody>\n",
       "</table>\n",
       "</div>"
      ],
      "text/plain": [
       "  Category  count  revenue       Date\n",
       "0    dress      8      140 2022-04-01\n",
       "1    dress      7       75 2022-05-01\n",
       "2     coat      7      180 2022-09-01\n",
       "3     coat      4      130 2022-10-01\n",
       "4     coat      2       40 2022-12-01\n",
       "5    dress      6       45 2023-03-01\n",
       "6    dress      6       10 2023-04-01"
      ]
     },
     "execution_count": 80,
     "metadata": {},
     "output_type": "execute_result"
    }
   ],
   "source": [
    "dfp"
   ]
  },
  {
   "cell_type": "markdown",
   "id": "2897522d-6929-44fc-8d7c-e2d99cc0ad5d",
   "metadata": {},
   "source": [
    "### "
   ]
  },
  {
   "cell_type": "markdown",
   "id": "ab456000-1bfd-44c7-a4ce-1c68f519ad61",
   "metadata": {},
   "source": [
    "# SARIMA model"
   ]
  },
  {
   "cell_type": "code",
   "execution_count": 85,
   "id": "25c40ee9-d3de-4e6b-bb26-d9189b6e31c0",
   "metadata": {
    "execution": {
     "iopub.execute_input": "2023-05-05T00:11:56.985171Z",
     "iopub.status.busy": "2023-05-05T00:11:56.984661Z",
     "iopub.status.idle": "2023-05-05T00:11:57.042552Z",
     "shell.execute_reply": "2023-05-05T00:11:57.041189Z",
     "shell.execute_reply.started": "2023-05-05T00:11:56.985129Z"
    },
    "tags": []
   },
   "outputs": [],
   "source": [
    "def optimize_SARIMA(parameters_list, d, D, s, exog):\n",
    "    \"\"\"\n",
    "        Return dataframe with parameters, corresponding AIC and SSE\n",
    "        \n",
    "        parameters_list - list with (p, q, P, Q) tuples\n",
    "        d - integration order\n",
    "        D - seasonal integration order\n",
    "        s - length of season\n",
    "        exog - the exogenous variable\n",
    "    \"\"\"\n",
    "    \n",
    "    results = []\n",
    "    \n",
    "    for param in tqdm_notebook(parameters_list):\n",
    "        try: \n",
    "            model = SARIMAX(exog, order=(param[0], d, param[1]), seasonal_order=(param[2], D, param[3], s)).fit(disp=-1)\n",
    "        except:\n",
    "            continue\n",
    "            \n",
    "        aic = model.aic\n",
    "        results.append([param, aic])\n",
    "        \n",
    "    result_df = pd.DataFrame(results)\n",
    "    result_df.columns = ['(p,q)x(P,Q)', 'AIC']\n",
    "    #Sort in ascending order, lower AIC is better\n",
    "    result_df = result_df.sort_values(by='AIC', ascending=True).reset_index(drop=True)\n",
    "    \n",
    "    return result_df"
   ]
  },
  {
   "cell_type": "code",
   "execution_count": 86,
   "id": "e1944f3a-f05b-423d-bb68-d709280dbbca",
   "metadata": {
    "execution": {
     "iopub.execute_input": "2023-05-05T00:11:57.045197Z",
     "iopub.status.busy": "2023-05-05T00:11:57.044707Z",
     "iopub.status.idle": "2023-05-05T00:11:57.096796Z",
     "shell.execute_reply": "2023-05-05T00:11:57.095665Z",
     "shell.execute_reply.started": "2023-05-05T00:11:57.045158Z"
    },
    "tags": []
   },
   "outputs": [
    {
     "name": "stdout",
     "output_type": "stream",
     "text": [
      "256\n"
     ]
    }
   ],
   "source": [
    "p = range(0, 4, 1)\n",
    "d = 1\n",
    "q = range(0, 4, 1)\n",
    "P = range(0, 4, 1)\n",
    "D = 1\n",
    "Q = range(0, 4, 1)\n",
    "s = 4\n",
    "\n",
    "parameters = product(p, q, P, Q)\n",
    "parameters_list = list(parameters)\n",
    "print(len(parameters_list))"
   ]
  },
  {
   "cell_type": "code",
   "execution_count": 87,
   "id": "9824c51d-9b0b-48f8-a863-46f674401e02",
   "metadata": {
    "execution": {
     "iopub.execute_input": "2023-05-05T00:12:00.879857Z",
     "iopub.status.busy": "2023-05-05T00:12:00.879407Z",
     "iopub.status.idle": "2023-05-05T00:12:00.998094Z",
     "shell.execute_reply": "2023-05-05T00:12:00.996620Z",
     "shell.execute_reply.started": "2023-05-05T00:12:00.879821Z"
    },
    "scrolled": true,
    "tags": []
   },
   "outputs": [
    {
     "ename": "ImportError",
     "evalue": "IProgress not found. Please update jupyter and ipywidgets. See https://ipywidgets.readthedocs.io/en/stable/user_install.html",
     "output_type": "error",
     "traceback": [
      "\u001b[0;31m---------------------------------------------------------------------------\u001b[0m",
      "\u001b[0;31mImportError\u001b[0m                               Traceback (most recent call last)",
      "Input \u001b[0;32mIn [87]\u001b[0m, in \u001b[0;36m<cell line: 1>\u001b[0;34m()\u001b[0m\n\u001b[0;32m----> 1\u001b[0m result_df \u001b[38;5;241m=\u001b[39m \u001b[43moptimize_SARIMA\u001b[49m\u001b[43m(\u001b[49m\u001b[43mparameters_list\u001b[49m\u001b[43m,\u001b[49m\u001b[43m \u001b[49m\u001b[38;5;241;43m1\u001b[39;49m\u001b[43m,\u001b[49m\u001b[43m \u001b[49m\u001b[38;5;241;43m1\u001b[39;49m\u001b[43m,\u001b[49m\u001b[43m \u001b[49m\u001b[38;5;241;43m4\u001b[39;49m\u001b[43m,\u001b[49m\u001b[43m \u001b[49m\u001b[43mdfp\u001b[49m\u001b[43m[\u001b[49m\u001b[38;5;124;43m'\u001b[39;49m\u001b[38;5;124;43mcount\u001b[39;49m\u001b[38;5;124;43m'\u001b[39;49m\u001b[43m]\u001b[49m\u001b[43m)\u001b[49m\n\u001b[1;32m      2\u001b[0m result_df\n",
      "Input \u001b[0;32mIn [85]\u001b[0m, in \u001b[0;36moptimize_SARIMA\u001b[0;34m(parameters_list, d, D, s, exog)\u001b[0m\n\u001b[1;32m      2\u001b[0m \u001b[38;5;124;03m\"\"\"\u001b[39;00m\n\u001b[1;32m      3\u001b[0m \u001b[38;5;124;03m    Return dataframe with parameters, corresponding AIC and SSE\u001b[39;00m\n\u001b[1;32m      4\u001b[0m \u001b[38;5;124;03m    \u001b[39;00m\n\u001b[0;32m   (...)\u001b[0m\n\u001b[1;32m      9\u001b[0m \u001b[38;5;124;03m    exog - the exogenous variable\u001b[39;00m\n\u001b[1;32m     10\u001b[0m \u001b[38;5;124;03m\"\"\"\u001b[39;00m\n\u001b[1;32m     12\u001b[0m results \u001b[38;5;241m=\u001b[39m []\n\u001b[0;32m---> 14\u001b[0m \u001b[38;5;28;01mfor\u001b[39;00m param \u001b[38;5;129;01min\u001b[39;00m \u001b[43mtqdm_notebook\u001b[49m\u001b[43m(\u001b[49m\u001b[43mparameters_list\u001b[49m\u001b[43m)\u001b[49m:\n\u001b[1;32m     15\u001b[0m     \u001b[38;5;28;01mtry\u001b[39;00m: \n\u001b[1;32m     16\u001b[0m         model \u001b[38;5;241m=\u001b[39m SARIMAX(exog, order\u001b[38;5;241m=\u001b[39m(param[\u001b[38;5;241m0\u001b[39m], d, param[\u001b[38;5;241m1\u001b[39m]), seasonal_order\u001b[38;5;241m=\u001b[39m(param[\u001b[38;5;241m2\u001b[39m], D, param[\u001b[38;5;241m3\u001b[39m], s))\u001b[38;5;241m.\u001b[39mfit(disp\u001b[38;5;241m=\u001b[39m\u001b[38;5;241m-\u001b[39m\u001b[38;5;241m1\u001b[39m)\n",
      "File \u001b[0;32m~/Documents/educacion/maestria/berkeley_mba_meng/academics/2023_spring/analysis_and_design_databases/UCB_analysis_design_databases_DP/.venv/lib/python3.9/site-packages/tqdm/__init__.py:28\u001b[0m, in \u001b[0;36mtqdm_notebook\u001b[0;34m(*args, **kwargs)\u001b[0m\n\u001b[1;32m     24\u001b[0m \u001b[38;5;28;01mfrom\u001b[39;00m \u001b[38;5;21;01m.\u001b[39;00m\u001b[38;5;21;01mnotebook\u001b[39;00m \u001b[38;5;28;01mimport\u001b[39;00m tqdm \u001b[38;5;28;01mas\u001b[39;00m _tqdm_notebook\n\u001b[1;32m     25\u001b[0m warn(\u001b[38;5;124m\"\u001b[39m\u001b[38;5;124mThis function will be removed in tqdm==5.0.0\u001b[39m\u001b[38;5;130;01m\\n\u001b[39;00m\u001b[38;5;124m\"\u001b[39m\n\u001b[1;32m     26\u001b[0m      \u001b[38;5;124m\"\u001b[39m\u001b[38;5;124mPlease use `tqdm.notebook.tqdm` instead of `tqdm.tqdm_notebook`\u001b[39m\u001b[38;5;124m\"\u001b[39m,\n\u001b[1;32m     27\u001b[0m      TqdmDeprecationWarning, stacklevel\u001b[38;5;241m=\u001b[39m\u001b[38;5;241m2\u001b[39m)\n\u001b[0;32m---> 28\u001b[0m \u001b[38;5;28;01mreturn\u001b[39;00m \u001b[43m_tqdm_notebook\u001b[49m\u001b[43m(\u001b[49m\u001b[38;5;241;43m*\u001b[39;49m\u001b[43margs\u001b[49m\u001b[43m,\u001b[49m\u001b[43m \u001b[49m\u001b[38;5;241;43m*\u001b[39;49m\u001b[38;5;241;43m*\u001b[39;49m\u001b[43mkwargs\u001b[49m\u001b[43m)\u001b[49m\n",
      "File \u001b[0;32m~/Documents/educacion/maestria/berkeley_mba_meng/academics/2023_spring/analysis_and_design_databases/UCB_analysis_design_databases_DP/.venv/lib/python3.9/site-packages/tqdm/notebook.py:242\u001b[0m, in \u001b[0;36mtqdm_notebook.__init__\u001b[0;34m(self, *args, **kwargs)\u001b[0m\n\u001b[1;32m    240\u001b[0m unit_scale \u001b[38;5;241m=\u001b[39m \u001b[38;5;241m1\u001b[39m \u001b[38;5;28;01mif\u001b[39;00m \u001b[38;5;28mself\u001b[39m\u001b[38;5;241m.\u001b[39munit_scale \u001b[38;5;129;01mis\u001b[39;00m \u001b[38;5;28;01mTrue\u001b[39;00m \u001b[38;5;28;01melse\u001b[39;00m \u001b[38;5;28mself\u001b[39m\u001b[38;5;241m.\u001b[39munit_scale \u001b[38;5;129;01mor\u001b[39;00m \u001b[38;5;241m1\u001b[39m\n\u001b[1;32m    241\u001b[0m total \u001b[38;5;241m=\u001b[39m \u001b[38;5;28mself\u001b[39m\u001b[38;5;241m.\u001b[39mtotal \u001b[38;5;241m*\u001b[39m unit_scale \u001b[38;5;28;01mif\u001b[39;00m \u001b[38;5;28mself\u001b[39m\u001b[38;5;241m.\u001b[39mtotal \u001b[38;5;28;01melse\u001b[39;00m \u001b[38;5;28mself\u001b[39m\u001b[38;5;241m.\u001b[39mtotal\n\u001b[0;32m--> 242\u001b[0m \u001b[38;5;28mself\u001b[39m\u001b[38;5;241m.\u001b[39mcontainer \u001b[38;5;241m=\u001b[39m \u001b[38;5;28;43mself\u001b[39;49m\u001b[38;5;241;43m.\u001b[39;49m\u001b[43mstatus_printer\u001b[49m\u001b[43m(\u001b[49m\u001b[38;5;28;43mself\u001b[39;49m\u001b[38;5;241;43m.\u001b[39;49m\u001b[43mfp\u001b[49m\u001b[43m,\u001b[49m\u001b[43m \u001b[49m\u001b[43mtotal\u001b[49m\u001b[43m,\u001b[49m\u001b[43m \u001b[49m\u001b[38;5;28;43mself\u001b[39;49m\u001b[38;5;241;43m.\u001b[39;49m\u001b[43mdesc\u001b[49m\u001b[43m,\u001b[49m\u001b[43m \u001b[49m\u001b[38;5;28;43mself\u001b[39;49m\u001b[38;5;241;43m.\u001b[39;49m\u001b[43mncols\u001b[49m\u001b[43m)\u001b[49m\n\u001b[1;32m    243\u001b[0m \u001b[38;5;28mself\u001b[39m\u001b[38;5;241m.\u001b[39mcontainer\u001b[38;5;241m.\u001b[39mpbar \u001b[38;5;241m=\u001b[39m proxy(\u001b[38;5;28mself\u001b[39m)\n\u001b[1;32m    244\u001b[0m \u001b[38;5;28mself\u001b[39m\u001b[38;5;241m.\u001b[39mdisplayed \u001b[38;5;241m=\u001b[39m \u001b[38;5;28;01mFalse\u001b[39;00m\n",
      "File \u001b[0;32m~/Documents/educacion/maestria/berkeley_mba_meng/academics/2023_spring/analysis_and_design_databases/UCB_analysis_design_databases_DP/.venv/lib/python3.9/site-packages/tqdm/notebook.py:118\u001b[0m, in \u001b[0;36mtqdm_notebook.status_printer\u001b[0;34m(_, total, desc, ncols)\u001b[0m\n\u001b[1;32m    109\u001b[0m \u001b[38;5;66;03m# Fallback to text bar if there's no total\u001b[39;00m\n\u001b[1;32m    110\u001b[0m \u001b[38;5;66;03m# DEPRECATED: replaced with an 'info' style bar\u001b[39;00m\n\u001b[1;32m    111\u001b[0m \u001b[38;5;66;03m# if not total:\u001b[39;00m\n\u001b[0;32m   (...)\u001b[0m\n\u001b[1;32m    115\u001b[0m \n\u001b[1;32m    116\u001b[0m \u001b[38;5;66;03m# Prepare IPython progress bar\u001b[39;00m\n\u001b[1;32m    117\u001b[0m \u001b[38;5;28;01mif\u001b[39;00m IProgress \u001b[38;5;129;01mis\u001b[39;00m \u001b[38;5;28;01mNone\u001b[39;00m:  \u001b[38;5;66;03m# #187 #451 #558 #872\u001b[39;00m\n\u001b[0;32m--> 118\u001b[0m     \u001b[38;5;28;01mraise\u001b[39;00m \u001b[38;5;167;01mImportError\u001b[39;00m(WARN_NOIPYW)\n\u001b[1;32m    119\u001b[0m \u001b[38;5;28;01mif\u001b[39;00m total:\n\u001b[1;32m    120\u001b[0m     pbar \u001b[38;5;241m=\u001b[39m IProgress(\u001b[38;5;28mmin\u001b[39m\u001b[38;5;241m=\u001b[39m\u001b[38;5;241m0\u001b[39m, \u001b[38;5;28mmax\u001b[39m\u001b[38;5;241m=\u001b[39mtotal)\n",
      "\u001b[0;31mImportError\u001b[0m: IProgress not found. Please update jupyter and ipywidgets. See https://ipywidgets.readthedocs.io/en/stable/user_install.html"
     ]
    }
   ],
   "source": [
    "result_df = optimize_SARIMA(parameters_list, 1, 1, 4, dfp['count'])\n",
    "result_dff"
   ]
  },
  {
   "cell_type": "code",
   "execution_count": null,
   "id": "ebc9e0a0-ba43-4193-9739-3db7a93dbfac",
   "metadata": {},
   "outputs": [],
   "source": [
    "best_model = SARIMAX(dfp['count'], order=(0, 1, 2), seasonal_order=(0, 1, 2, 4)).fit(dis=-1)\n",
    "print(best_model.summary())"
   ]
  },
  {
   "cell_type": "code",
   "execution_count": null,
   "id": "a0bb7be2-1fc7-4ebb-b4c6-dbc75dc900cc",
   "metadata": {},
   "outputs": [],
   "source": [
    "data['arima_model'] = best_model.fittedvalues\n",
    "data['arima_model'][:4+1] = np.NaN\n",
    "forecast = best_model.predict(start=data.shape[0], end=data.shape[0] + 8)\n",
    "forecast = data['arima_model'].append(forecast)\n",
    "plt.figure(figsize=(15, 7.5))\n",
    "plt.plot(forecast, color='r', label='model')\n",
    "plt.axvspan(data.index[-1], forecast.index[-1], alpha=0.5, color='lightgrey')\n",
    "plt.plot(dfp['count'], label='actual')\n",
    "plt.legend()\n",
    "plt.show()"
   ]
  },
  {
   "cell_type": "markdown",
   "id": "0a5e770f-7808-40b4-86f3-4dbda35daff1",
   "metadata": {},
   "source": [
    "### "
   ]
  },
  {
   "cell_type": "markdown",
   "id": "40327f6f-9314-4fe3-89af-f3673fb99e24",
   "metadata": {},
   "source": [
    "# Header"
   ]
  },
  {
   "cell_type": "markdown",
   "id": "69a8e22e-eed6-4eac-a5b2-6ce6174d08a8",
   "metadata": {},
   "source": [
    "### "
   ]
  },
  {
   "cell_type": "markdown",
   "id": "784be4db-1c06-43e0-a4da-86b1bbcde318",
   "metadata": {},
   "source": [
    "# *Notes*"
   ]
  },
  {
   "cell_type": "markdown",
   "id": "e370b01d-1dc8-40c0-bfed-d7f7ccdb2406",
   "metadata": {},
   "source": [
    "##### References\n",
    "- https://towardsdatascience.com/time-series-forecasting-with-sarima-in-python-cda5b793977b"
   ]
  },
  {
   "cell_type": "markdown",
   "id": "b34c662c-f724-412f-86d7-75647d9b5448",
   "metadata": {},
   "source": [
    "---"
   ]
  },
  {
   "cell_type": "markdown",
   "id": "168089c7-257b-4b61-9a65-803e32753196",
   "metadata": {},
   "source": [
    "---"
   ]
  }
 ],
 "metadata": {
  "kernelspec": {
   "display_name": "Python 3 (ipykernel)",
   "language": "python",
   "name": "python3"
  },
  "language_info": {
   "codemirror_mode": {
    "name": "ipython",
    "version": 3
   },
   "file_extension": ".py",
   "mimetype": "text/x-python",
   "name": "python",
   "nbconvert_exporter": "python",
   "pygments_lexer": "ipython3",
   "version": "3.9.1"
  },
  "toc-autonumbering": true
 },
 "nbformat": 4,
 "nbformat_minor": 5
}
