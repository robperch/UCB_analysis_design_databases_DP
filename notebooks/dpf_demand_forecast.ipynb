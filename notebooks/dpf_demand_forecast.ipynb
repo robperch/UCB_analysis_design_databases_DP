{
 "cells": [
  {
   "cell_type": "markdown",
   "id": "82c1d7a8-d74e-45e1-8937-264331e6d38a",
   "metadata": {},
   "source": [
    "# Notebook to work with demand forecasting query\n",
    "---\n",
    "---"
   ]
  },
  {
   "cell_type": "markdown",
   "id": "eeee88a5-4f72-43b0-a979-4108e04247f0",
   "metadata": {},
   "source": [
    "### "
   ]
  },
  {
   "cell_type": "markdown",
   "id": "4154f37d-fde6-4cef-8617-114a3a2d7d8e",
   "metadata": {},
   "source": [
    "# Imports"
   ]
  },
  {
   "cell_type": "markdown",
   "id": "a98dbaa6-17e1-4b79-93f0-d142aedd0037",
   "metadata": {},
   "source": [
    "#### Standard library imports"
   ]
  },
  {
   "cell_type": "code",
   "execution_count": 1,
   "id": "63099808-51cd-453c-976a-f3060b8650aa",
   "metadata": {
    "execution": {
     "iopub.execute_input": "2023-05-04T22:42:44.002134Z",
     "iopub.status.busy": "2023-05-04T22:42:44.001693Z",
     "iopub.status.idle": "2023-05-04T22:42:44.012725Z",
     "shell.execute_reply": "2023-05-04T22:42:44.011407Z",
     "shell.execute_reply.started": "2023-05-04T22:42:44.002057Z"
    }
   },
   "outputs": [],
   "source": [
    "import sys\n",
    "sys.path.append(\"../\")\n",
    "\n",
    "import os"
   ]
  },
  {
   "cell_type": "markdown",
   "id": "b94ec94d-0d78-4ec3-a21c-353ccf52eec6",
   "metadata": {},
   "source": [
    "#### Third party imports"
   ]
  },
  {
   "cell_type": "code",
   "execution_count": 2,
   "id": "9e4989d0-ba3a-41cf-8ccb-44cade842a03",
   "metadata": {
    "execution": {
     "iopub.execute_input": "2023-05-04T22:42:44.015558Z",
     "iopub.status.busy": "2023-05-04T22:42:44.015200Z",
     "iopub.status.idle": "2023-05-04T22:42:44.197337Z",
     "shell.execute_reply": "2023-05-04T22:42:44.196284Z",
     "shell.execute_reply.started": "2023-05-04T22:42:44.015528Z"
    }
   },
   "outputs": [],
   "source": [
    "import mysql.connector"
   ]
  },
  {
   "cell_type": "markdown",
   "id": "48755fa3-cba0-4508-9df2-18d50f60551b",
   "metadata": {},
   "source": [
    "#### Local application imports"
   ]
  },
  {
   "cell_type": "code",
   "execution_count": 6,
   "id": "a62e34a6-dea0-48d6-a3bc-c5dcdcdb1718",
   "metadata": {
    "execution": {
     "iopub.execute_input": "2023-05-04T22:43:04.854086Z",
     "iopub.status.busy": "2023-05-04T22:43:04.853669Z",
     "iopub.status.idle": "2023-05-04T22:43:04.902057Z",
     "shell.execute_reply": "2023-05-04T22:43:04.900359Z",
     "shell.execute_reply.started": "2023-05-04T22:43:04.854051Z"
    },
    "tags": []
   },
   "outputs": [
    {
     "name": "stdout",
     "output_type": "stream",
     "text": [
      "The autoreload extension is already loaded. To reload it, use:\n",
      "  %reload_ext autoreload\n"
     ]
    }
   ],
   "source": [
    "%load_ext autoreload\n",
    "%autoreload 2\n",
    "\n",
    "from pkg_dir.config import *\n",
    "from pkg_dir.src.utils import *\n",
    "from pkg_dir.src.functions import *\n",
    "from pkg_dir.src.parameters import *"
   ]
  },
  {
   "cell_type": "markdown",
   "id": "d533fe5d-c902-4259-97ee-672d6f2363c6",
   "metadata": {},
   "source": [
    "### "
   ]
  },
  {
   "cell_type": "markdown",
   "id": "8e431b9f-e7d3-478c-936e-23ce830b8753",
   "metadata": {},
   "source": [
    "# Getting data"
   ]
  },
  {
   "cell_type": "markdown",
   "id": "47ca953c-e0eb-4324-b565-1471c10cebf7",
   "metadata": {},
   "source": [
    "##### Converting the mysql tables into dataframes"
   ]
  },
  {
   "cell_type": "code",
   "execution_count": 7,
   "id": "82f2960d-43da-475e-b475-fa218991d504",
   "metadata": {
    "execution": {
     "iopub.execute_input": "2023-05-04T22:43:05.905529Z",
     "iopub.status.busy": "2023-05-04T22:43:05.905147Z",
     "iopub.status.idle": "2023-05-04T22:43:06.004342Z",
     "shell.execute_reply": "2023-05-04T22:43:06.003394Z",
     "shell.execute_reply.started": "2023-05-04T22:43:05.905500Z"
    },
    "tags": []
   },
   "outputs": [],
   "source": [
    "## Function parameters\n",
    "db_crds = 'mysql_dp'\n",
    "sql_files_path = '../pkg_dir/sql/queries/'\n",
    "sql_script = 'demand_forecast_data.sql'\n",
    "sql_params = sql_params_workhrs"
   ]
  },
  {
   "cell_type": "code",
   "execution_count": 10,
   "id": "2de6c519-f064-4330-b8b3-a97e419c839c",
   "metadata": {
    "execution": {
     "iopub.execute_input": "2023-05-04T22:46:34.647350Z",
     "iopub.status.busy": "2023-05-04T22:46:34.633048Z",
     "iopub.status.idle": "2023-05-04T22:46:34.921655Z",
     "shell.execute_reply": "2023-05-04T22:46:34.920035Z",
     "shell.execute_reply.started": "2023-05-04T22:46:34.646311Z"
    },
    "scrolled": true,
    "tags": []
   },
   "outputs": [
    {
     "name": "stderr",
     "output_type": "stream",
     "text": [
      "/Users/rp_mbp/Documents/educacion/maestria/berkeley_mba_meng/academics/2023_spring/analysis_and_design_databases/UCB_analysis_design_databases_DP/.venv/lib/python3.9/site-packages/pandas/io/sql.py:761: UserWarning: pandas only support SQLAlchemy connectable(engine/connection) ordatabase string URI or sqlite3 DBAPI2 connectionother DBAPI2 objects are not tested, please consider using SQLAlchemy\n",
      "  warnings.warn(\n"
     ]
    }
   ],
   "source": [
    "## Function execution\n",
    "dfx = sql_to_df(db_crds, sql_files_path, sql_script, sql_params)"
   ]
  },
  {
   "cell_type": "markdown",
   "id": "89aa7dba-395a-454c-b857-54469c392807",
   "metadata": {},
   "source": [
    "### "
   ]
  },
  {
   "cell_type": "markdown",
   "id": "434a2e99-324f-41d2-8c5e-0bd5388e320c",
   "metadata": {},
   "source": [
    "# Header"
   ]
  },
  {
   "cell_type": "markdown",
   "id": "2897522d-6929-44fc-8d7c-e2d99cc0ad5d",
   "metadata": {},
   "source": [
    "### "
   ]
  },
  {
   "cell_type": "markdown",
   "id": "784be4db-1c06-43e0-a4da-86b1bbcde318",
   "metadata": {},
   "source": [
    "# *Notes*"
   ]
  },
  {
   "cell_type": "markdown",
   "id": "b34c662c-f724-412f-86d7-75647d9b5448",
   "metadata": {},
   "source": [
    "---"
   ]
  },
  {
   "cell_type": "markdown",
   "id": "168089c7-257b-4b61-9a65-803e32753196",
   "metadata": {},
   "source": [
    "---"
   ]
  }
 ],
 "metadata": {
  "kernelspec": {
   "display_name": "Python 3 (ipykernel)",
   "language": "python",
   "name": "python3"
  },
  "language_info": {
   "codemirror_mode": {
    "name": "ipython",
    "version": 3
   },
   "file_extension": ".py",
   "mimetype": "text/x-python",
   "name": "python",
   "nbconvert_exporter": "python",
   "pygments_lexer": "ipython3",
   "version": "3.9.1"
  },
  "toc-autonumbering": true
 },
 "nbformat": 4,
 "nbformat_minor": 5
}
