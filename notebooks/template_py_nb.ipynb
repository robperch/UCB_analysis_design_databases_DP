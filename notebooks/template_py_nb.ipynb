{
 "cells": [
  {
   "cell_type": "markdown",
   "id": "82c1d7a8-d74e-45e1-8937-264331e6d38a",
   "metadata": {},
   "source": [
    "# Base notebook\n",
    "- This is a notebook template"
   ]
  },
  {
   "cell_type": "markdown",
   "id": "4154f37d-fde6-4cef-8617-114a3a2d7d8e",
   "metadata": {},
   "source": [
    "# Imports"
   ]
  },
  {
   "cell_type": "markdown",
   "id": "a98dbaa6-17e1-4b79-93f0-d142aedd0037",
   "metadata": {},
   "source": [
    "#### Standard library imports"
   ]
  },
  {
   "cell_type": "code",
   "execution_count": 1,
   "id": "63099808-51cd-453c-976a-f3060b8650aa",
   "metadata": {},
   "outputs": [],
   "source": [
    "import sys\n",
    "sys.path.append(\"../\")\n",
    "\n",
    "import os"
   ]
  },
  {
   "cell_type": "markdown",
   "id": "b94ec94d-0d78-4ec3-a21c-353ccf52eec6",
   "metadata": {},
   "source": [
    "#### Third party imports"
   ]
  },
  {
   "cell_type": "code",
   "execution_count": null,
   "id": "9e4989d0-ba3a-41cf-8ccb-44cade842a03",
   "metadata": {},
   "outputs": [],
   "source": []
  },
  {
   "cell_type": "markdown",
   "id": "48755fa3-cba0-4508-9df2-18d50f60551b",
   "metadata": {},
   "source": [
    "#### Local application imports"
   ]
  },
  {
   "cell_type": "code",
   "execution_count": null,
   "id": "a62e34a6-dea0-48d6-a3bc-c5dcdcdb1718",
   "metadata": {},
   "outputs": [],
   "source": [
    "%load_ext autoreload\n",
    "%autoreload 2\n",
    "\n",
    "from pkg_dir.config import *\n",
    "from pkg_dir.src.utils import *\n",
    "from pkg_dir.src.functions import *\n",
    "from pkg_dir.src.parameters import *"
   ]
  },
  {
   "cell_type": "markdown",
   "id": "d533fe5d-c902-4259-97ee-672d6f2363c6",
   "metadata": {},
   "source": [
    "# Header"
   ]
  },
  {
   "cell_type": "markdown",
   "id": "784be4db-1c06-43e0-a4da-86b1bbcde318",
   "metadata": {},
   "source": [
    "# *Notes*"
   ]
  },
  {
   "cell_type": "markdown",
   "id": "b34c662c-f724-412f-86d7-75647d9b5448",
   "metadata": {},
   "source": [
    "---"
   ]
  },
  {
   "cell_type": "markdown",
   "id": "168089c7-257b-4b61-9a65-803e32753196",
   "metadata": {},
   "source": [
    "---"
   ]
  }
 ],
 "metadata": {
  "kernelspec": {
   "display_name": "Python 3 (ipykernel)",
   "language": "python",
   "name": "python3"
  },
  "language_info": {
   "codemirror_mode": {
    "name": "ipython",
    "version": 3
   },
   "file_extension": ".py",
   "mimetype": "text/x-python",
   "name": "python",
   "nbconvert_exporter": "python",
   "pygments_lexer": "ipython3",
   "version": "3.9.1"
  },
  "toc-autonumbering": true
 },
 "nbformat": 4,
 "nbformat_minor": 5
}
